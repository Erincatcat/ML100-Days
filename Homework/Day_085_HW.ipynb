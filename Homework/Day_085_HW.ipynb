{
  "nbformat": 4,
  "nbformat_minor": 0,
  "metadata": {
    "colab": {
      "name": "Day_085_HW.ipynb",
      "version": "0.3.2",
      "provenance": [],
      "collapsed_sections": []
    },
    "kernelspec": {
      "name": "python3",
      "display_name": "Python 3"
    }
  },
  "cells": [
    {
      "cell_type": "markdown",
      "metadata": {
        "id": "dCdFM7DWUTlu",
        "colab_type": "text"
      },
      "source": [
        "# 作業 \n",
        "試改變 monitor \"Validation Accuracy\" 並比較結果  \n",
        "調整 earlystop 的等待次數至 10, 25 並比較結果"
      ]
    },
    {
      "cell_type": "code",
      "metadata": {
        "id": "SsOynZJaSlLg",
        "colab_type": "code",
        "colab": {}
      },
      "source": [
        "import os\n",
        "import keras\n",
        "import matplotlib.pyplot as plt\n",
        "%matplotlib inline\n",
        "\n",
        "\n",
        "# Disable GPU\n",
        "os.environ[\"CUDA_VISIBLE_DEVICES\"] = \"\""
      ],
      "execution_count": 0,
      "outputs": []
    },
    {
      "cell_type": "code",
      "metadata": {
        "id": "tycSjVyWSqSZ",
        "colab_type": "code",
        "colab": {}
      },
      "source": [
        "train, test = keras.datasets.cifar10.load_data()"
      ],
      "execution_count": 0,
      "outputs": []
    },
    {
      "cell_type": "code",
      "metadata": {
        "id": "UNolgKv5SqaV",
        "colab_type": "code",
        "colab": {}
      },
      "source": [
        "## 資料前處理\n",
        "def preproc_x(x, flatten=True):\n",
        "    x = x / 255.\n",
        "    if flatten:\n",
        "        x = x.reshape((len(x), -1))\n",
        "    return x\n",
        "\n",
        "def preproc_y(y, num_classes=10):\n",
        "    if y.shape[-1] == 1:\n",
        "        y = keras.utils.to_categorical(y, num_classes)\n",
        "    return y    "
      ],
      "execution_count": 0,
      "outputs": []
    },
    {
      "cell_type": "code",
      "metadata": {
        "id": "nBJZQ74OSqis",
        "colab_type": "code",
        "colab": {}
      },
      "source": [
        "x_train, y_train = train\n",
        "x_test, y_test = test\n",
        "\n",
        "# Preproc the inputs\n",
        "x_train = preproc_x(x_train)\n",
        "x_test = preproc_x(x_test)\n",
        "\n",
        "# Preprc the outputs\n",
        "y_train = preproc_y(y_train)\n",
        "y_test = preproc_y(y_test)"
      ],
      "execution_count": 0,
      "outputs": []
    },
    {
      "cell_type": "code",
      "metadata": {
        "id": "U29yFtRmUwV0",
        "colab_type": "code",
        "colab": {}
      },
      "source": [
        "from keras.layers import BatchNormalization\n",
        "def build_mlp(input_shape, output_units=10, num_neurons=[521,256,128]):\n",
        "    input_layer = keras.layers.Input(input_shape)\n",
        "    \n",
        "    for i, n_units in enumerate(num_neurons):\n",
        "        if i == 0:\n",
        "            x = keras.layers.Dense(units=n_units, \n",
        "                                   activation=\"relu\", \n",
        "                                   name=\"hidden_layer\"+str(i+1))(input_layer)\n",
        "            x = BatchNormalization()(x)\n",
        "        else:\n",
        "            x = keras.layers.Dense(units=n_units, \n",
        "                                   activation=\"relu\", \n",
        "                                   name=\"hidden_layer\"+str(i+1))(x)\n",
        "            x = BatchNormalization()(x)\n",
        "    \n",
        "    out = keras.layers.Dense(units=output_units, activation=\"softmax\", name=\"output\")(x)\n",
        "    \n",
        "    model = keras.models.Model(inputs=[input_layer], outputs=[out])\n",
        "    return model"
      ],
      "execution_count": 0,
      "outputs": []
    },
    {
      "cell_type": "code",
      "metadata": {
        "id": "yjCmzVo2UwbU",
        "colab_type": "code",
        "colab": {}
      },
      "source": [
        "#設定超參數\n",
        "LEARNING_RATE = 1e-3\n",
        "EPOCHS = 50\n",
        "BATCH_SIZE = 1024\n",
        "MOMENTUM = 0.95\n"
      ],
      "execution_count": 0,
      "outputs": []
    },
    {
      "cell_type": "markdown",
      "metadata": {
        "id": "drsDMohjbaa7",
        "colab_type": "text"
      },
      "source": [
        "### earlystop 的等待次數 = 10"
      ]
    },
    {
      "cell_type": "code",
      "metadata": {
        "id": "tUuCAFF-Uwfm",
        "colab_type": "code",
        "colab": {}
      },
      "source": [
        "# 載入 Callbacks\n",
        "from keras.callbacks import EarlyStopping\n",
        "earlystop = EarlyStopping(monitor=\"val_acc\",   #monitor = Validation Accuracy \n",
        "                          patience=10, \n",
        "                          verbose=1\n",
        "                          )"
      ],
      "execution_count": 0,
      "outputs": []
    },
    {
      "cell_type": "code",
      "metadata": {
        "id": "tTe2OUjxbDF2",
        "colab_type": "code",
        "colab": {
          "base_uri": "https://localhost:8080/",
          "height": 1000
        },
        "outputId": "237013d4-5a5b-4312-b8ea-70816546fb9c"
      },
      "source": [
        "model = build_mlp(input_shape=x_train.shape[1:])\n",
        "model.summary()\n",
        "optimizer = keras.optimizers.SGD(lr=LEARNING_RATE, nesterov=True, momentum=MOMENTUM)\n",
        "model.compile(loss=\"categorical_crossentropy\", metrics=[\"accuracy\"], optimizer=optimizer)\n",
        "\n",
        "model.fit(x_train, y_train, \n",
        "          epochs=EPOCHS, \n",
        "          batch_size=BATCH_SIZE, \n",
        "          validation_data=(x_test, y_test), \n",
        "          shuffle=True,\n",
        "          callbacks=[earlystop]\n",
        "         )\n",
        "\n",
        "# Collect results\n",
        "train_loss = model.history.history[\"loss\"]\n",
        "valid_loss = model.history.history[\"val_loss\"]\n",
        "train_acc = model.history.history[\"acc\"]\n",
        "valid_acc = model.history.history[\"val_acc\"]"
      ],
      "execution_count": 23,
      "outputs": [
        {
          "output_type": "stream",
          "text": [
            "_________________________________________________________________\n",
            "Layer (type)                 Output Shape              Param #   \n",
            "=================================================================\n",
            "input_2 (InputLayer)         (None, 3072)              0         \n",
            "_________________________________________________________________\n",
            "hidden_layer1 (Dense)        (None, 521)               1601033   \n",
            "_________________________________________________________________\n",
            "batch_normalization_4 (Batch (None, 521)               2084      \n",
            "_________________________________________________________________\n",
            "hidden_layer2 (Dense)        (None, 256)               133632    \n",
            "_________________________________________________________________\n",
            "batch_normalization_5 (Batch (None, 256)               1024      \n",
            "_________________________________________________________________\n",
            "hidden_layer3 (Dense)        (None, 128)               32896     \n",
            "_________________________________________________________________\n",
            "batch_normalization_6 (Batch (None, 128)               512       \n",
            "_________________________________________________________________\n",
            "output (Dense)               (None, 10)                1290      \n",
            "=================================================================\n",
            "Total params: 1,772,471\n",
            "Trainable params: 1,770,661\n",
            "Non-trainable params: 1,810\n",
            "_________________________________________________________________\n",
            "Train on 50000 samples, validate on 10000 samples\n",
            "Epoch 1/50\n",
            "50000/50000 [==============================] - 11s 217us/step - loss: 2.1667 - acc: 0.2725 - val_loss: 2.1179 - val_acc: 0.3099\n",
            "Epoch 2/50\n",
            "50000/50000 [==============================] - 10s 200us/step - loss: 1.7375 - acc: 0.3926 - val_loss: 1.8272 - val_acc: 0.3724\n",
            "Epoch 3/50\n",
            "50000/50000 [==============================] - 10s 201us/step - loss: 1.6183 - acc: 0.4339 - val_loss: 1.7214 - val_acc: 0.4034\n",
            "Epoch 4/50\n",
            "50000/50000 [==============================] - 10s 199us/step - loss: 1.5472 - acc: 0.4587 - val_loss: 1.6523 - val_acc: 0.4191\n",
            "Epoch 5/50\n",
            "50000/50000 [==============================] - 10s 199us/step - loss: 1.4939 - acc: 0.4787 - val_loss: 1.5943 - val_acc: 0.4441\n",
            "Epoch 6/50\n",
            "50000/50000 [==============================] - 10s 200us/step - loss: 1.4484 - acc: 0.4945 - val_loss: 1.5816 - val_acc: 0.4529\n",
            "Epoch 7/50\n",
            "50000/50000 [==============================] - 10s 201us/step - loss: 1.4105 - acc: 0.5093 - val_loss: 1.5471 - val_acc: 0.4619\n",
            "Epoch 8/50\n",
            "50000/50000 [==============================] - 10s 201us/step - loss: 1.3716 - acc: 0.5217 - val_loss: 1.5211 - val_acc: 0.4687\n",
            "Epoch 9/50\n",
            "50000/50000 [==============================] - 10s 201us/step - loss: 1.3392 - acc: 0.5348 - val_loss: 1.5122 - val_acc: 0.4730\n",
            "Epoch 10/50\n",
            "50000/50000 [==============================] - 10s 198us/step - loss: 1.3112 - acc: 0.5438 - val_loss: 1.5063 - val_acc: 0.4775\n",
            "Epoch 11/50\n",
            "50000/50000 [==============================] - 10s 199us/step - loss: 1.2835 - acc: 0.5539 - val_loss: 1.4863 - val_acc: 0.4829\n",
            "Epoch 12/50\n",
            "50000/50000 [==============================] - 10s 200us/step - loss: 1.2545 - acc: 0.5642 - val_loss: 1.4787 - val_acc: 0.4802\n",
            "Epoch 13/50\n",
            "50000/50000 [==============================] - 10s 203us/step - loss: 1.2292 - acc: 0.5752 - val_loss: 1.4824 - val_acc: 0.4820\n",
            "Epoch 14/50\n",
            "50000/50000 [==============================] - 10s 199us/step - loss: 1.2045 - acc: 0.5833 - val_loss: 1.4656 - val_acc: 0.4870\n",
            "Epoch 15/50\n",
            "50000/50000 [==============================] - 10s 198us/step - loss: 1.1831 - acc: 0.5925 - val_loss: 1.4701 - val_acc: 0.4818\n",
            "Epoch 16/50\n",
            "50000/50000 [==============================] - 10s 198us/step - loss: 1.1584 - acc: 0.6026 - val_loss: 1.4578 - val_acc: 0.4905\n",
            "Epoch 17/50\n",
            "50000/50000 [==============================] - 10s 199us/step - loss: 1.1363 - acc: 0.6107 - val_loss: 1.4760 - val_acc: 0.4844\n",
            "Epoch 18/50\n",
            "50000/50000 [==============================] - 10s 201us/step - loss: 1.1135 - acc: 0.6191 - val_loss: 1.4552 - val_acc: 0.4942\n",
            "Epoch 19/50\n",
            "50000/50000 [==============================] - 10s 200us/step - loss: 1.0907 - acc: 0.6267 - val_loss: 1.4581 - val_acc: 0.4943\n",
            "Epoch 20/50\n",
            "50000/50000 [==============================] - 10s 199us/step - loss: 1.0713 - acc: 0.6368 - val_loss: 1.4452 - val_acc: 0.4934\n",
            "Epoch 21/50\n",
            "50000/50000 [==============================] - 10s 198us/step - loss: 1.0486 - acc: 0.6437 - val_loss: 1.4466 - val_acc: 0.4948\n",
            "Epoch 22/50\n",
            "50000/50000 [==============================] - 10s 197us/step - loss: 1.0288 - acc: 0.6507 - val_loss: 1.4542 - val_acc: 0.4982\n",
            "Epoch 23/50\n",
            "50000/50000 [==============================] - 10s 198us/step - loss: 1.0078 - acc: 0.6576 - val_loss: 1.4447 - val_acc: 0.5009\n",
            "Epoch 24/50\n",
            "50000/50000 [==============================] - 10s 199us/step - loss: 0.9865 - acc: 0.6671 - val_loss: 1.4522 - val_acc: 0.5013\n",
            "Epoch 25/50\n",
            "50000/50000 [==============================] - 10s 199us/step - loss: 0.9681 - acc: 0.6753 - val_loss: 1.4579 - val_acc: 0.5001\n",
            "Epoch 26/50\n",
            "50000/50000 [==============================] - 10s 200us/step - loss: 0.9472 - acc: 0.6827 - val_loss: 1.4551 - val_acc: 0.4984\n",
            "Epoch 27/50\n",
            "50000/50000 [==============================] - 10s 199us/step - loss: 0.9255 - acc: 0.6929 - val_loss: 1.4523 - val_acc: 0.5030\n",
            "Epoch 28/50\n",
            "50000/50000 [==============================] - 10s 199us/step - loss: 0.9062 - acc: 0.6985 - val_loss: 1.4623 - val_acc: 0.5016\n",
            "Epoch 29/50\n",
            "50000/50000 [==============================] - 10s 200us/step - loss: 0.8858 - acc: 0.7063 - val_loss: 1.4703 - val_acc: 0.4967\n",
            "Epoch 30/50\n",
            "50000/50000 [==============================] - 10s 200us/step - loss: 0.8654 - acc: 0.7157 - val_loss: 1.4819 - val_acc: 0.4955\n",
            "Epoch 31/50\n",
            "50000/50000 [==============================] - 10s 201us/step - loss: 0.8468 - acc: 0.7229 - val_loss: 1.5049 - val_acc: 0.4955\n",
            "Epoch 32/50\n",
            "50000/50000 [==============================] - 10s 200us/step - loss: 0.8288 - acc: 0.7292 - val_loss: 1.4902 - val_acc: 0.4966\n",
            "Epoch 33/50\n",
            "50000/50000 [==============================] - 10s 200us/step - loss: 0.8080 - acc: 0.7366 - val_loss: 1.4942 - val_acc: 0.4944\n",
            "Epoch 34/50\n",
            "50000/50000 [==============================] - 10s 200us/step - loss: 0.7890 - acc: 0.7461 - val_loss: 1.5098 - val_acc: 0.4961\n",
            "Epoch 35/50\n",
            "50000/50000 [==============================] - 10s 199us/step - loss: 0.7712 - acc: 0.7513 - val_loss: 1.5178 - val_acc: 0.4991\n",
            "Epoch 36/50\n",
            "50000/50000 [==============================] - 10s 200us/step - loss: 0.7518 - acc: 0.7599 - val_loss: 1.5109 - val_acc: 0.4984\n",
            "Epoch 37/50\n",
            "50000/50000 [==============================] - 10s 202us/step - loss: 0.7321 - acc: 0.7690 - val_loss: 1.5109 - val_acc: 0.4960\n",
            "Epoch 00037: early stopping\n"
          ],
          "name": "stdout"
        }
      ]
    },
    {
      "cell_type": "code",
      "metadata": {
        "id": "FDxtQyTnUwi6",
        "colab_type": "code",
        "colab": {
          "base_uri": "https://localhost:8080/",
          "height": 545
        },
        "outputId": "76547f53-aedf-4b85-d755-6a97616e594b"
      },
      "source": [
        "import matplotlib.pyplot as plt\n",
        "%matplotlib inline\n",
        "\n",
        "plt.plot(range(len(train_loss)), train_loss, label=\"train loss\")\n",
        "plt.plot(range(len(valid_loss)), valid_loss, label=\"valid loss\")\n",
        "plt.legend()\n",
        "plt.title(\"Loss\")\n",
        "plt.show()\n",
        "\n",
        "plt.plot(range(len(train_acc)), train_acc, label=\"train accuracy\")\n",
        "plt.plot(range(len(valid_acc)), valid_acc, label=\"valid accuracy\")\n",
        "plt.legend()\n",
        "plt.title(\"Accuracy\")\n",
        "plt.show()"
      ],
      "execution_count": 24,
      "outputs": [
        {
          "output_type": "display_data",
          "data": {
            "image/png": "[encoded data removed]",
            "text/plain": [
              "<Figure size 432x288 with 1 Axes>"
            ]
          },
          "metadata": {
            "tags": []
          }
        },
        {
          "output_type": "display_data",
          "data": {
            "image/png": "[encoded data removed]",
            "text/plain": [
              "<Figure size 432x288 with 1 Axes>"
            ]
          },
          "metadata": {
            "tags": []
          }
        }
      ]
    },
    {
      "cell_type": "markdown",
      "metadata": {
        "id": "oAxITil0bkjL",
        "colab_type": "text"
      },
      "source": [
        "### earlystop 的等待次數 = 25"
      ]
    },
    {
      "cell_type": "code",
      "metadata": {
        "id": "0xgUnyYTUwnU",
        "colab_type": "code",
        "colab": {}
      },
      "source": [
        "earlystop = EarlyStopping(monitor=\"val_acc\", \n",
        "                          patience=25, \n",
        "                          verbose=1\n",
        "                          )"
      ],
      "execution_count": 0,
      "outputs": []
    },
    {
      "cell_type": "code",
      "metadata": {
        "id": "y_Xas570Uwrl",
        "colab_type": "code",
        "colab": {
          "base_uri": "https://localhost:8080/",
          "height": 1000
        },
        "outputId": "2dc75dcc-fefc-44d6-feea-768b9dec8cbd"
      },
      "source": [
        "model = build_mlp(input_shape=x_train.shape[1:])\n",
        "model.summary()\n",
        "optimizer = keras.optimizers.SGD(lr=LEARNING_RATE, nesterov=True, momentum=MOMENTUM)\n",
        "model.compile(loss=\"categorical_crossentropy\", metrics=[\"accuracy\"], optimizer=optimizer)\n",
        "\n",
        "model.fit(x_train, y_train, \n",
        "          epochs=EPOCHS, \n",
        "          batch_size=BATCH_SIZE, \n",
        "          validation_data=(x_test, y_test), \n",
        "          shuffle=True,\n",
        "          callbacks=[earlystop]\n",
        "         )\n",
        "\n",
        "# Collect results\n",
        "train_loss = model.history.history[\"loss\"]\n",
        "valid_loss = model.history.history[\"val_loss\"]\n",
        "train_acc = model.history.history[\"acc\"]\n",
        "valid_acc = model.history.history[\"val_acc\"]"
      ],
      "execution_count": 26,
      "outputs": [
        {
          "output_type": "stream",
          "text": [
            "_________________________________________________________________\n",
            "Layer (type)                 Output Shape              Param #   \n",
            "=================================================================\n",
            "input_3 (InputLayer)         (None, 3072)              0         \n",
            "_________________________________________________________________\n",
            "hidden_layer1 (Dense)        (None, 521)               1601033   \n",
            "_________________________________________________________________\n",
            "batch_normalization_7 (Batch (None, 521)               2084      \n",
            "_________________________________________________________________\n",
            "hidden_layer2 (Dense)        (None, 256)               133632    \n",
            "_________________________________________________________________\n",
            "batch_normalization_8 (Batch (None, 256)               1024      \n",
            "_________________________________________________________________\n",
            "hidden_layer3 (Dense)        (None, 128)               32896     \n",
            "_________________________________________________________________\n",
            "batch_normalization_9 (Batch (None, 128)               512       \n",
            "_________________________________________________________________\n",
            "output (Dense)               (None, 10)                1290      \n",
            "=================================================================\n",
            "Total params: 1,772,471\n",
            "Trainable params: 1,770,661\n",
            "Non-trainable params: 1,810\n",
            "_________________________________________________________________\n",
            "Train on 50000 samples, validate on 10000 samples\n",
            "Epoch 1/50\n",
            "50000/50000 [==============================] - 11s 213us/step - loss: 2.1898 - acc: 0.2745 - val_loss: 2.0950 - val_acc: 0.3212\n",
            "Epoch 2/50\n",
            "50000/50000 [==============================] - 9s 190us/step - loss: 1.7394 - acc: 0.3915 - val_loss: 1.7829 - val_acc: 0.3815\n",
            "Epoch 3/50\n",
            "50000/50000 [==============================] - 9s 190us/step - loss: 1.6182 - acc: 0.4326 - val_loss: 1.6751 - val_acc: 0.4165\n",
            "Epoch 4/50\n",
            "50000/50000 [==============================] - 9s 188us/step - loss: 1.5458 - acc: 0.4608 - val_loss: 1.6479 - val_acc: 0.4207\n",
            "Epoch 5/50\n",
            "50000/50000 [==============================] - 9s 190us/step - loss: 1.4922 - acc: 0.4804 - val_loss: 1.5899 - val_acc: 0.4358\n",
            "Epoch 6/50\n",
            "50000/50000 [==============================] - 10s 190us/step - loss: 1.4476 - acc: 0.4977 - val_loss: 1.5615 - val_acc: 0.4541\n",
            "Epoch 7/50\n",
            "50000/50000 [==============================] - 10s 192us/step - loss: 1.4058 - acc: 0.5118 - val_loss: 1.5773 - val_acc: 0.4455\n",
            "Epoch 8/50\n",
            "50000/50000 [==============================] - 9s 190us/step - loss: 1.3734 - acc: 0.5226 - val_loss: 1.5233 - val_acc: 0.4624\n",
            "Epoch 9/50\n",
            "50000/50000 [==============================] - 9s 188us/step - loss: 1.3395 - acc: 0.5348 - val_loss: 1.5039 - val_acc: 0.4684\n",
            "Epoch 10/50\n",
            "50000/50000 [==============================] - 9s 189us/step - loss: 1.3114 - acc: 0.5448 - val_loss: 1.4950 - val_acc: 0.4737\n",
            "Epoch 11/50\n",
            "50000/50000 [==============================] - 9s 189us/step - loss: 1.2822 - acc: 0.5571 - val_loss: 1.4788 - val_acc: 0.4740\n",
            "Epoch 12/50\n",
            "50000/50000 [==============================] - 10s 191us/step - loss: 1.2548 - acc: 0.5676 - val_loss: 1.4739 - val_acc: 0.4825\n",
            "Epoch 13/50\n",
            "50000/50000 [==============================] - 9s 190us/step - loss: 1.2309 - acc: 0.5731 - val_loss: 1.4656 - val_acc: 0.4835\n",
            "Epoch 14/50\n",
            "50000/50000 [==============================] - 9s 189us/step - loss: 1.2039 - acc: 0.5844 - val_loss: 1.4562 - val_acc: 0.4852\n",
            "Epoch 15/50\n",
            "50000/50000 [==============================] - 9s 190us/step - loss: 1.1813 - acc: 0.5934 - val_loss: 1.4567 - val_acc: 0.4857\n",
            "Epoch 16/50\n",
            "50000/50000 [==============================] - 9s 189us/step - loss: 1.1583 - acc: 0.6018 - val_loss: 1.4658 - val_acc: 0.4850\n",
            "Epoch 17/50\n",
            "50000/50000 [==============================] - 9s 189us/step - loss: 1.1346 - acc: 0.6114 - val_loss: 1.4564 - val_acc: 0.4873\n",
            "Epoch 18/50\n",
            "50000/50000 [==============================] - 10s 190us/step - loss: 1.1127 - acc: 0.6197 - val_loss: 1.4628 - val_acc: 0.4855\n",
            "Epoch 19/50\n",
            "50000/50000 [==============================] - 10s 191us/step - loss: 1.0910 - acc: 0.6269 - val_loss: 1.4501 - val_acc: 0.4880\n",
            "Epoch 20/50\n",
            "50000/50000 [==============================] - 10s 191us/step - loss: 1.0697 - acc: 0.6370 - val_loss: 1.4450 - val_acc: 0.4920\n",
            "Epoch 21/50\n",
            "50000/50000 [==============================] - 10s 190us/step - loss: 1.0482 - acc: 0.6453 - val_loss: 1.4613 - val_acc: 0.4887\n",
            "Epoch 22/50\n",
            "50000/50000 [==============================] - 9s 190us/step - loss: 1.0270 - acc: 0.6543 - val_loss: 1.4462 - val_acc: 0.4945\n",
            "Epoch 23/50\n",
            "50000/50000 [==============================] - 9s 189us/step - loss: 1.0062 - acc: 0.6619 - val_loss: 1.4537 - val_acc: 0.4930\n",
            "Epoch 24/50\n",
            "50000/50000 [==============================] - 10s 190us/step - loss: 0.9863 - acc: 0.6696 - val_loss: 1.4600 - val_acc: 0.4969\n",
            "Epoch 25/50\n",
            "50000/50000 [==============================] - 10s 191us/step - loss: 0.9651 - acc: 0.6774 - val_loss: 1.4605 - val_acc: 0.4870\n",
            "Epoch 26/50\n",
            "50000/50000 [==============================] - 9s 189us/step - loss: 0.9461 - acc: 0.6834 - val_loss: 1.4635 - val_acc: 0.4899\n",
            "Epoch 27/50\n",
            "50000/50000 [==============================] - 9s 188us/step - loss: 0.9242 - acc: 0.6921 - val_loss: 1.4641 - val_acc: 0.4939\n",
            "Epoch 28/50\n",
            "50000/50000 [==============================] - 9s 189us/step - loss: 0.9044 - acc: 0.7011 - val_loss: 1.4661 - val_acc: 0.4990\n",
            "Epoch 29/50\n",
            "50000/50000 [==============================] - 9s 189us/step - loss: 0.8862 - acc: 0.7067 - val_loss: 1.4711 - val_acc: 0.4944\n",
            "Epoch 30/50\n",
            "50000/50000 [==============================] - 9s 190us/step - loss: 0.8640 - acc: 0.7155 - val_loss: 1.4780 - val_acc: 0.4965\n",
            "Epoch 31/50\n",
            "50000/50000 [==============================] - 10s 191us/step - loss: 0.8469 - acc: 0.7240 - val_loss: 1.4803 - val_acc: 0.4975\n",
            "Epoch 32/50\n",
            "50000/50000 [==============================] - 10s 191us/step - loss: 0.8286 - acc: 0.7300 - val_loss: 1.4930 - val_acc: 0.4965\n",
            "Epoch 33/50\n",
            "50000/50000 [==============================] - 9s 190us/step - loss: 0.8115 - acc: 0.7349 - val_loss: 1.5051 - val_acc: 0.4964\n",
            "Epoch 34/50\n",
            "50000/50000 [==============================] - 10s 190us/step - loss: 0.7901 - acc: 0.7451 - val_loss: 1.5105 - val_acc: 0.4897\n",
            "Epoch 35/50\n",
            "50000/50000 [==============================] - 10s 191us/step - loss: 0.7709 - acc: 0.7517 - val_loss: 1.5178 - val_acc: 0.4921\n",
            "Epoch 36/50\n",
            "50000/50000 [==============================] - 10s 191us/step - loss: 0.7528 - acc: 0.7587 - val_loss: 1.5244 - val_acc: 0.4911\n",
            "Epoch 37/50\n",
            "50000/50000 [==============================] - 10s 190us/step - loss: 0.7334 - acc: 0.7664 - val_loss: 1.5317 - val_acc: 0.4922\n",
            "Epoch 38/50\n",
            "50000/50000 [==============================] - 10s 190us/step - loss: 0.7139 - acc: 0.7760 - val_loss: 1.5437 - val_acc: 0.4880\n",
            "Epoch 39/50\n",
            "50000/50000 [==============================] - 10s 191us/step - loss: 0.6949 - acc: 0.7822 - val_loss: 1.5471 - val_acc: 0.4961\n",
            "Epoch 40/50\n",
            "50000/50000 [==============================] - 10s 190us/step - loss: 0.6770 - acc: 0.7883 - val_loss: 1.5720 - val_acc: 0.4845\n",
            "Epoch 41/50\n",
            "50000/50000 [==============================] - 9s 190us/step - loss: 0.6577 - acc: 0.7984 - val_loss: 1.5560 - val_acc: 0.4921\n",
            "Epoch 42/50\n",
            "50000/50000 [==============================] - 10s 190us/step - loss: 0.6419 - acc: 0.8025 - val_loss: 1.5906 - val_acc: 0.4898\n",
            "Epoch 43/50\n",
            "50000/50000 [==============================] - 10s 190us/step - loss: 0.6215 - acc: 0.8112 - val_loss: 1.5803 - val_acc: 0.4900\n",
            "Epoch 44/50\n",
            "50000/50000 [==============================] - 10s 191us/step - loss: 0.6050 - acc: 0.8179 - val_loss: 1.6160 - val_acc: 0.4840\n",
            "Epoch 45/50\n",
            "50000/50000 [==============================] - 10s 191us/step - loss: 0.5863 - acc: 0.8259 - val_loss: 1.6083 - val_acc: 0.4859\n",
            "Epoch 46/50\n",
            "50000/50000 [==============================] - 10s 190us/step - loss: 0.5712 - acc: 0.8317 - val_loss: 1.6247 - val_acc: 0.4883\n",
            "Epoch 47/50\n",
            "50000/50000 [==============================] - 9s 190us/step - loss: 0.5546 - acc: 0.8377 - val_loss: 1.6715 - val_acc: 0.4820\n",
            "Epoch 48/50\n",
            "50000/50000 [==============================] - 9s 190us/step - loss: 0.5370 - acc: 0.8454 - val_loss: 1.6606 - val_acc: 0.4828\n",
            "Epoch 49/50\n",
            "50000/50000 [==============================] - 9s 190us/step - loss: 0.5196 - acc: 0.8526 - val_loss: 1.6731 - val_acc: 0.4840\n",
            "Epoch 50/50\n",
            "50000/50000 [==============================] - 10s 191us/step - loss: 0.5055 - acc: 0.8581 - val_loss: 1.6805 - val_acc: 0.4858\n"
          ],
          "name": "stdout"
        }
      ]
    },
    {
      "cell_type": "code",
      "metadata": {
        "id": "4qYooSJiSqok",
        "colab_type": "code",
        "colab": {
          "base_uri": "https://localhost:8080/",
          "height": 545
        },
        "outputId": "fa7ed3cc-be87-4f8b-bf86-aad51f1aa676"
      },
      "source": [
        "plt.plot(range(len(train_loss)), train_loss, label=\"train loss\")\n",
        "plt.plot(range(len(valid_loss)), valid_loss, label=\"valid loss\")\n",
        "plt.legend()\n",
        "plt.title(\"Loss\")\n",
        "plt.show()\n",
        "\n",
        "plt.plot(range(len(train_acc)), train_acc, label=\"train accuracy\")\n",
        "plt.plot(range(len(valid_acc)), valid_acc, label=\"valid accuracy\")\n",
        "plt.legend()\n",
        "plt.title(\"Accuracy\")\n",
        "plt.show()"
      ],
      "execution_count": 27,
      "outputs": [
        {
          "output_type": "display_data",
          "data": {
            "image/png": "[encoded data removed]",
            "text/plain": [
              "<Figure size 432x288 with 1 Axes>"
            ]
          },
          "metadata": {
            "tags": []
          }
        },
        {
          "output_type": "display_data",
          "data": {
            "image/png": "[encoded data removed]",
            "text/plain": [
              "<Figure size 432x288 with 1 Axes>"
            ]
          },
          "metadata": {
            "tags": []
          }
        }
      ]
    },
    {
      "cell_type": "code",
      "metadata": {
        "id": "e2reDaaUbrX4",
        "colab_type": "code",
        "colab": {}
      },
      "source": [
        ""
      ],
      "execution_count": 0,
      "outputs": []
    },
    {
      "cell_type": "markdown",
      "metadata": {
        "id": "1ip-bWNPTZkO",
        "colab_type": "text"
      },
      "source": [
        "# 範例重點\n",
        "學習如何在 keras 中加入 EarlyStop  \n",
        "知道如何設定監控目標  \n",
        "比較有無 earlystopping 對 validation 的影響"
      ]
    },
    {
      "cell_type": "code",
      "metadata": {
        "id": "1vhHTd9JSqs8",
        "colab_type": "code",
        "outputId": "93121d97-122f-4d80-9e0a-1a88a7a04726",
        "colab": {
          "base_uri": "https://localhost:8080/",
          "height": 34
        }
      },
      "source": [
        "import os\n",
        "import keras\n",
        "\n",
        "# 本範例不需使用 GPU, 將 GPU 設定為 \"無\"\n",
        "os.environ[\"CUDA_VISIBLE_DEVICES\"] = \"\""
      ],
      "execution_count": 0,
      "outputs": [
        {
          "output_type": "stream",
          "text": [
            "Using TensorFlow backend.\n"
          ],
          "name": "stderr"
        }
      ]
    },
    {
      "cell_type": "code",
      "metadata": {
        "id": "vbZ-YFyVSqyG",
        "colab_type": "code",
        "outputId": "84370b28-1ae6-46fd-c408-f8044c42d6ab",
        "colab": {
          "base_uri": "https://localhost:8080/",
          "height": 51
        }
      },
      "source": [
        "train, test = keras.datasets.cifar10.load_data()"
      ],
      "execution_count": 0,
      "outputs": [
        {
          "output_type": "stream",
          "text": [
            "Downloading data from https://www.cs.toronto.edu/~kriz/cifar-10-python.tar.gz\n",
            "170500096/170498071 [==============================] - 4s 0us/step\n"
          ],
          "name": "stdout"
        }
      ]
    },
    {
      "cell_type": "code",
      "metadata": {
        "id": "ZeMLtsAlTlpE",
        "colab_type": "code",
        "colab": {}
      },
      "source": [
        "## 資料前處理\n",
        "def preproc_x(x, flatten=True):\n",
        "    x = x / 255.\n",
        "    if flatten:\n",
        "        x = x.reshape((len(x), -1))\n",
        "    return x\n",
        "\n",
        "def preproc_y(y, num_classes=10):\n",
        "    if y.shape[-1] == 1:\n",
        "        y = keras.utils.to_categorical(y, num_classes)\n",
        "    return y    "
      ],
      "execution_count": 0,
      "outputs": []
    },
    {
      "cell_type": "code",
      "metadata": {
        "id": "e9pQxpu2TlwF",
        "colab_type": "code",
        "colab": {}
      },
      "source": [
        "x_train, y_train = train\n",
        "x_test, y_test = test\n",
        "\n",
        "# 資料前處理 - X 標準化\n",
        "x_train = preproc_x(x_train)\n",
        "x_test = preproc_x(x_test)\n",
        "\n",
        "# 資料前處理 -Y 轉成 onehot\n",
        "y_train = preproc_y(y_train)\n",
        "y_test = preproc_y(y_test)"
      ],
      "execution_count": 0,
      "outputs": []
    },
    {
      "cell_type": "code",
      "metadata": {
        "id": "4oW1MqnhTl3O",
        "colab_type": "code",
        "colab": {}
      },
      "source": [
        "from keras.layers import BatchNormalization\n",
        "\n",
        "\"\"\"\n",
        "建立神經網路，並加入 BN layer\n",
        "\"\"\"\n",
        "def build_mlp(input_shape, output_units=10, num_neurons=[512, 256, 128]):\n",
        "    input_layer = keras.layers.Input(input_shape)\n",
        "    \n",
        "    for i, n_units in enumerate(num_neurons):\n",
        "        if i == 0:\n",
        "            x = keras.layers.Dense(units=n_units, \n",
        "                                   activation=\"relu\", \n",
        "                                   name=\"hidden_layer\"+str(i+1))(input_layer)\n",
        "            x = BatchNormalization()(x)\n",
        "        else:\n",
        "            x = keras.layers.Dense(units=n_units, \n",
        "                                   activation=\"relu\", \n",
        "                                   name=\"hidden_layer\"+str(i+1))(x)\n",
        "            x = BatchNormalization()(x)\n",
        "    \n",
        "    out = keras.layers.Dense(units=output_units, activation=\"softmax\", name=\"output\")(x)\n",
        "    \n",
        "    model = keras.models.Model(inputs=[input_layer], outputs=[out])\n",
        "    return model"
      ],
      "execution_count": 0,
      "outputs": []
    },
    {
      "cell_type": "code",
      "metadata": {
        "id": "eONyoMEVTl8s",
        "colab_type": "code",
        "colab": {}
      },
      "source": [
        "## 超參數設定\n",
        "LEARNING_RATE = 1e-3\n",
        "EPOCHS = 50\n",
        "BATCH_SIZE = 1024\n",
        "MOMENTUM = 0.95"
      ],
      "execution_count": 0,
      "outputs": []
    },
    {
      "cell_type": "code",
      "metadata": {
        "id": "gg6HkJsmTmCG",
        "colab_type": "code",
        "colab": {}
      },
      "source": [
        "\"\"\"\n",
        "# 載入 Callbacks, 並將 monitor 設定為監控 validation loss\n",
        "\"\"\"\n",
        "from keras.callbacks import EarlyStopping\n",
        "\n",
        "earlystop = EarlyStopping(monitor=\"val_loss\", \n",
        "                          patience=5, \n",
        "                          verbose=1\n",
        "                          )"
      ],
      "execution_count": 0,
      "outputs": []
    },
    {
      "cell_type": "code",
      "metadata": {
        "id": "sKjPEgWATmHY",
        "colab_type": "code",
        "outputId": "14aa62a1-7bf8-452b-9374-72ab1f6abebc",
        "colab": {
          "base_uri": "https://localhost:8080/",
          "height": 1000
        }
      },
      "source": [
        "model = build_mlp(input_shape=x_train.shape[1:])\n",
        "model.summary()\n",
        "optimizer = keras.optimizers.SGD(lr=LEARNING_RATE, nesterov=True, momentum=MOMENTUM)\n",
        "model.compile(loss=\"categorical_crossentropy\", metrics=[\"accuracy\"], optimizer=optimizer)\n",
        "\n",
        "model.fit(x_train, y_train, \n",
        "          epochs=EPOCHS, \n",
        "          batch_size=BATCH_SIZE, \n",
        "          validation_data=(x_test, y_test), \n",
        "          shuffle=True,\n",
        "          callbacks=[earlystop]\n",
        "         )\n",
        "\n",
        "# Collect results\n",
        "train_loss = model.history.history[\"loss\"]\n",
        "valid_loss = model.history.history[\"val_loss\"]\n",
        "train_acc = model.history.history[\"acc\"]\n",
        "valid_acc = model.history.history[\"val_acc\"]"
      ],
      "execution_count": 0,
      "outputs": [
        {
          "output_type": "stream",
          "text": [
            "WARNING: Logging before flag parsing goes to stderr.\n",
            "W0812 14:50:33.876848 140348772214656 deprecation_wrapper.py:119] From /usr/local/lib/python3.6/dist-packages/keras/backend/tensorflow_backend.py:74: The name tf.get_default_graph is deprecated. Please use tf.compat.v1.get_default_graph instead.\n",
            "\n",
            "W0812 14:50:33.914655 140348772214656 deprecation_wrapper.py:119] From /usr/local/lib/python3.6/dist-packages/keras/backend/tensorflow_backend.py:517: The name tf.placeholder is deprecated. Please use tf.compat.v1.placeholder instead.\n",
            "\n",
            "W0812 14:50:33.922648 140348772214656 deprecation_wrapper.py:119] From /usr/local/lib/python3.6/dist-packages/keras/backend/tensorflow_backend.py:4138: The name tf.random_uniform is deprecated. Please use tf.random.uniform instead.\n",
            "\n",
            "W0812 14:50:34.054158 140348772214656 deprecation_wrapper.py:119] From /usr/local/lib/python3.6/dist-packages/keras/backend/tensorflow_backend.py:133: The name tf.placeholder_with_default is deprecated. Please use tf.compat.v1.placeholder_with_default instead.\n",
            "\n",
            "W0812 14:50:34.459958 140348772214656 deprecation_wrapper.py:119] From /usr/local/lib/python3.6/dist-packages/keras/optimizers.py:790: The name tf.train.Optimizer is deprecated. Please use tf.compat.v1.train.Optimizer instead.\n",
            "\n",
            "W0812 14:50:34.470118 140348772214656 deprecation_wrapper.py:119] From /usr/local/lib/python3.6/dist-packages/keras/backend/tensorflow_backend.py:3295: The name tf.log is deprecated. Please use tf.math.log instead.\n",
            "\n",
            "W0812 14:50:34.594459 140348772214656 deprecation.py:323] From /usr/local/lib/python3.6/dist-packages/tensorflow/python/ops/math_grad.py:1250: add_dispatch_support.<locals>.wrapper (from tensorflow.python.ops.array_ops) is deprecated and will be removed in a future version.\n",
            "Instructions for updating:\n",
            "Use tf.where in 2.0, which has the same broadcast rule as np.where\n"
          ],
          "name": "stderr"
        },
        {
          "output_type": "stream",
          "text": [
            "_________________________________________________________________\n",
            "Layer (type)                 Output Shape              Param #   \n",
            "=================================================================\n",
            "input_1 (InputLayer)         (None, 3072)              0         \n",
            "_________________________________________________________________\n",
            "hidden_layer1 (Dense)        (None, 512)               1573376   \n",
            "_________________________________________________________________\n",
            "batch_normalization_1 (Batch (None, 512)               2048      \n",
            "_________________________________________________________________\n",
            "hidden_layer2 (Dense)        (None, 256)               131328    \n",
            "_________________________________________________________________\n",
            "batch_normalization_2 (Batch (None, 256)               1024      \n",
            "_________________________________________________________________\n",
            "hidden_layer3 (Dense)        (None, 128)               32896     \n",
            "_________________________________________________________________\n",
            "batch_normalization_3 (Batch (None, 128)               512       \n",
            "_________________________________________________________________\n",
            "output (Dense)               (None, 10)                1290      \n",
            "=================================================================\n",
            "Total params: 1,742,474\n",
            "Trainable params: 1,740,682\n",
            "Non-trainable params: 1,792\n",
            "_________________________________________________________________\n",
            "Train on 50000 samples, validate on 10000 samples\n",
            "Epoch 1/50\n",
            "50000/50000 [==============================] - 10s 209us/step - loss: 2.1981 - acc: 0.2727 - val_loss: 2.0331 - val_acc: 0.3373\n",
            "Epoch 2/50\n",
            "50000/50000 [==============================] - 9s 182us/step - loss: 1.7404 - acc: 0.3926 - val_loss: 1.8106 - val_acc: 0.3865\n",
            "Epoch 3/50\n",
            "50000/50000 [==============================] - 9s 182us/step - loss: 1.6175 - acc: 0.4327 - val_loss: 1.6997 - val_acc: 0.4010\n",
            "Epoch 4/50\n",
            "50000/50000 [==============================] - 9s 182us/step - loss: 1.5459 - acc: 0.4570 - val_loss: 1.6325 - val_acc: 0.4243\n",
            "Epoch 5/50\n",
            "50000/50000 [==============================] - 9s 182us/step - loss: 1.4917 - acc: 0.4774 - val_loss: 1.5978 - val_acc: 0.4346\n",
            "Epoch 6/50\n",
            "50000/50000 [==============================] - 9s 181us/step - loss: 1.4461 - acc: 0.4940 - val_loss: 1.5649 - val_acc: 0.4490\n",
            "Epoch 7/50\n",
            "50000/50000 [==============================] - 9s 181us/step - loss: 1.4081 - acc: 0.5074 - val_loss: 1.5410 - val_acc: 0.4573\n",
            "Epoch 8/50\n",
            "50000/50000 [==============================] - 9s 182us/step - loss: 1.3716 - acc: 0.5211 - val_loss: 1.5514 - val_acc: 0.4566\n",
            "Epoch 9/50\n",
            "50000/50000 [==============================] - 9s 182us/step - loss: 1.3410 - acc: 0.5326 - val_loss: 1.5153 - val_acc: 0.4624\n",
            "Epoch 10/50\n",
            "50000/50000 [==============================] - 9s 183us/step - loss: 1.3124 - acc: 0.5442 - val_loss: 1.5107 - val_acc: 0.4692\n",
            "Epoch 11/50\n",
            "50000/50000 [==============================] - 9s 183us/step - loss: 1.2838 - acc: 0.5542 - val_loss: 1.4970 - val_acc: 0.4746\n",
            "Epoch 12/50\n",
            "50000/50000 [==============================] - 9s 183us/step - loss: 1.2560 - acc: 0.5645 - val_loss: 1.4943 - val_acc: 0.4753\n",
            "Epoch 13/50\n",
            "50000/50000 [==============================] - 9s 181us/step - loss: 1.2315 - acc: 0.5753 - val_loss: 1.4772 - val_acc: 0.4821\n",
            "Epoch 14/50\n",
            "50000/50000 [==============================] - 9s 182us/step - loss: 1.2078 - acc: 0.5840 - val_loss: 1.4683 - val_acc: 0.4812\n",
            "Epoch 15/50\n",
            "50000/50000 [==============================] - 9s 184us/step - loss: 1.1816 - acc: 0.5936 - val_loss: 1.4648 - val_acc: 0.4790\n",
            "Epoch 16/50\n",
            "50000/50000 [==============================] - 9s 182us/step - loss: 1.1574 - acc: 0.6030 - val_loss: 1.4648 - val_acc: 0.4838\n",
            "Epoch 17/50\n",
            "50000/50000 [==============================] - 9s 183us/step - loss: 1.1347 - acc: 0.6105 - val_loss: 1.4571 - val_acc: 0.4868\n",
            "Epoch 18/50\n",
            "50000/50000 [==============================] - 9s 184us/step - loss: 1.1117 - acc: 0.6208 - val_loss: 1.4708 - val_acc: 0.4796\n",
            "Epoch 19/50\n",
            "50000/50000 [==============================] - 9s 182us/step - loss: 1.0901 - acc: 0.6277 - val_loss: 1.4535 - val_acc: 0.4915\n",
            "Epoch 20/50\n",
            "50000/50000 [==============================] - 9s 182us/step - loss: 1.0686 - acc: 0.6348 - val_loss: 1.4499 - val_acc: 0.4933\n",
            "Epoch 21/50\n",
            "50000/50000 [==============================] - 9s 182us/step - loss: 1.0473 - acc: 0.6453 - val_loss: 1.4538 - val_acc: 0.4911\n",
            "Epoch 22/50\n",
            "50000/50000 [==============================] - 9s 181us/step - loss: 1.0270 - acc: 0.6529 - val_loss: 1.4491 - val_acc: 0.4934\n",
            "Epoch 23/50\n",
            "50000/50000 [==============================] - 9s 182us/step - loss: 1.0056 - acc: 0.6596 - val_loss: 1.4679 - val_acc: 0.4872\n",
            "Epoch 24/50\n",
            "50000/50000 [==============================] - 9s 182us/step - loss: 0.9846 - acc: 0.6670 - val_loss: 1.4569 - val_acc: 0.4926\n",
            "Epoch 25/50\n",
            "50000/50000 [==============================] - 9s 183us/step - loss: 0.9659 - acc: 0.6739 - val_loss: 1.4635 - val_acc: 0.4942\n",
            "Epoch 26/50\n",
            "50000/50000 [==============================] - 9s 183us/step - loss: 0.9445 - acc: 0.6848 - val_loss: 1.4666 - val_acc: 0.4884\n",
            "Epoch 27/50\n",
            "50000/50000 [==============================] - 9s 182us/step - loss: 0.9236 - acc: 0.6922 - val_loss: 1.4708 - val_acc: 0.4974\n",
            "Epoch 00027: early stopping\n"
          ],
          "name": "stdout"
        }
      ]
    },
    {
      "cell_type": "code",
      "metadata": {
        "id": "ign0byHxTmMi",
        "colab_type": "code",
        "outputId": "5b0ed016-1208-443c-afc8-1fa660908bd4",
        "colab": {
          "base_uri": "https://localhost:8080/",
          "height": 545
        }
      },
      "source": [
        "import matplotlib.pyplot as plt\n",
        "%matplotlib inline\n",
        "\n",
        "plt.plot(range(len(train_loss)), train_loss, label=\"train loss\")\n",
        "plt.plot(range(len(valid_loss)), valid_loss, label=\"valid loss\")\n",
        "plt.legend()\n",
        "plt.title(\"Loss\")\n",
        "plt.show()\n",
        "\n",
        "plt.plot(range(len(train_acc)), train_acc, label=\"train accuracy\")\n",
        "plt.plot(range(len(valid_acc)), valid_acc, label=\"valid accuracy\")\n",
        "plt.legend()\n",
        "plt.title(\"Accuracy\")\n",
        "plt.show()"
      ],
      "execution_count": 0,
      "outputs": [
        {
          "output_type": "display_data",
          "data": {
            "image/png": "[encoded data removed]",
            "text/plain": [
              "<Figure size 432x288 with 1 Axes>"
            ]
          },
          "metadata": {
            "tags": []
          }
        },
        {
          "output_type": "display_data",
          "data": {
            "image/png": "[encoded data removed]",
            "text/plain": [
              "<Figure size 432x288 with 1 Axes>"
            ]
          },
          "metadata": {
            "tags": []
          }
        }
      ]
    },
    {
      "cell_type": "code",
      "metadata": {
        "id": "4iYlQq4sTmRm",
        "colab_type": "code",
        "colab": {}
      },
      "source": [
        ""
      ],
      "execution_count": 0,
      "outputs": []
    },
    {
      "cell_type": "code",
      "metadata": {
        "id": "NgceBRzLTmWP",
        "colab_type": "code",
        "colab": {}
      },
      "source": [
        ""
      ],
      "execution_count": 0,
      "outputs": []
    },
    {
      "cell_type": "code",
      "metadata": {
        "id": "fUuVdUciTmZv",
        "colab_type": "code",
        "colab": {}
      },
      "source": [
        ""
      ],
      "execution_count": 0,
      "outputs": []
    },
    {
      "cell_type": "code",
      "metadata": {
        "id": "Ig93zupWSq5J",
        "colab_type": "code",
        "colab": {}
      },
      "source": [
        ""
      ],
      "execution_count": 0,
      "outputs": []
    },
    {
      "cell_type": "markdown",
      "metadata": {
        "id": "Z62A-EayTd8E",
        "colab_type": "text"
      },
      "source": [
        "參考資料\n",
        "\n",
        "- [Keras 的 EarlyStopping callbacks的使用與技巧 – CSND blog](https://blog.csdn.net/silent56_th/article/details/72845912)"
      ]
    },
    {
      "cell_type": "code",
      "metadata": {
        "id": "4pSAzERRTiOg",
        "colab_type": "code",
        "colab": {}
      },
      "source": [
        ""
      ],
      "execution_count": 0,
      "outputs": []
    }
  ]
}