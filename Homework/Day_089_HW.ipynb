{
  "nbformat": 4,
  "nbformat_minor": 0,
  "metadata": {
    "colab": {
      "name": "Day_089_HW.ipynb",
      "version": "0.3.2",
      "provenance": [],
      "collapsed_sections": []
    },
    "kernelspec": {
      "name": "python3",
      "display_name": "Python 3"
    }
  },
  "cells": [
    {
      "cell_type": "markdown",
      "metadata": {
        "id": "LOudWx9tAQ3m",
        "colab_type": "text"
      },
      "source": [
        "# 作業 \n",
        "請自行定義一個 loss function, 為 0.3 * focal loss + 0.7 cross-entropy，訓練並比較結果"
      ]
    },
    {
      "cell_type": "code",
      "metadata": {
        "id": "ECr5v8Lq6sSk",
        "colab_type": "code",
        "colab": {
          "base_uri": "https://localhost:8080/",
          "height": 34
        },
        "outputId": "70adc3a1-352b-4d63-ef08-a94011b7ecda"
      },
      "source": [
        "import os\n",
        "import keras\n",
        "\n",
        "# Disable GPU\n",
        "os.environ[\"CUDA_VISIBLE_DEVICES\"] = \"\""
      ],
      "execution_count": 1,
      "outputs": [
        {
          "output_type": "stream",
          "text": [
            "Using TensorFlow backend.\n"
          ],
          "name": "stderr"
        }
      ]
    },
    {
      "cell_type": "code",
      "metadata": {
        "id": "qdDs3_1P6teA",
        "colab_type": "code",
        "colab": {
          "base_uri": "https://localhost:8080/",
          "height": 51
        },
        "outputId": "0033ed46-6791-40f7-8435-d0d438755eda"
      },
      "source": [
        "train, test = keras.datasets.cifar10.load_data()"
      ],
      "execution_count": 2,
      "outputs": [
        {
          "output_type": "stream",
          "text": [
            "Downloading data from https://www.cs.toronto.edu/~kriz/cifar-10-python.tar.gz\n",
            "170500096/170498071 [==============================] - 2s 0us/step\n"
          ],
          "name": "stdout"
        }
      ]
    },
    {
      "cell_type": "code",
      "metadata": {
        "id": "QSIjXmdm6tiq",
        "colab_type": "code",
        "colab": {}
      },
      "source": [
        "## 資料前處理\n",
        "def preproc_x(x, flatten=True):\n",
        "    x = x / 255.\n",
        "    if flatten:\n",
        "        x = x.reshape((len(x), -1))\n",
        "    return x\n",
        "\n",
        "def preproc_y(y, num_classes=10):\n",
        "    if y.shape[-1] == 1:\n",
        "        y = keras.utils.to_categorical(y, num_classes)\n",
        "    return y    "
      ],
      "execution_count": 0,
      "outputs": []
    },
    {
      "cell_type": "code",
      "metadata": {
        "id": "c1ERB8PQ6trW",
        "colab_type": "code",
        "colab": {}
      },
      "source": [
        "x_train, y_train = train\n",
        "x_test, y_test = test\n",
        "\n",
        "# Preproc the inputs\n",
        "x_train = preproc_x(x_train)\n",
        "x_test = preproc_x(x_test)\n",
        "\n",
        "# Preprc the outputs\n",
        "y_train = preproc_y(y_train)\n",
        "y_test = preproc_y(y_test)"
      ],
      "execution_count": 0,
      "outputs": []
    },
    {
      "cell_type": "code",
      "metadata": {
        "id": "YaMZiGwgAau3",
        "colab_type": "code",
        "colab": {}
      },
      "source": [
        "from keras.layers import BatchNormalization\n",
        "def build_mlp(input_shape, output_units=10, num_neurons=[512, 256, 128]):\n",
        "    input_layer = keras.layers.Input(input_shape)\n",
        "    \n",
        "    for i, n_units in enumerate(num_neurons):\n",
        "        if i == 0:\n",
        "            x = keras.layers.Dense(units=n_units, \n",
        "                                   activation=\"relu\", \n",
        "                                   name=\"hidden_layer\"+str(i+1))(input_layer)\n",
        "            x = BatchNormalization()(x)\n",
        "        else:\n",
        "            x = keras.layers.Dense(units=n_units, \n",
        "                                   activation=\"relu\", \n",
        "                                   name=\"hidden_layer\"+str(i+1))(x)\n",
        "            x = BatchNormalization()(x)\n",
        "    \n",
        "    out = keras.layers.Dense(units=output_units, activation=\"softmax\", name=\"output\")(x)\n",
        "    \n",
        "    model = keras.models.Model(inputs=[input_layer], outputs=[out])\n",
        "    return model"
      ],
      "execution_count": 0,
      "outputs": []
    },
    {
      "cell_type": "code",
      "metadata": {
        "id": "iYB7BO6IAaqr",
        "colab_type": "code",
        "colab": {}
      },
      "source": [
        "## 超參數設定\n",
        "LEARNING_RATE = 1e-3\n",
        "EPOCHS = 25\n",
        "BATCH_SIZE = 1024\n",
        "MOMENTUM = 0.95"
      ],
      "execution_count": 0,
      "outputs": []
    },
    {
      "cell_type": "code",
      "metadata": {
        "id": "zNoxQuG4AamR",
        "colab_type": "code",
        "colab": {}
      },
      "source": [
        "import tensorflow as tf\n",
        "import keras.backend as K\n",
        "\n",
        "def focal_loss(y_true, y_pred,gamma=2., alpha=4.):  #⼀個損失函數必須有 y_true 與 y_pred 兩個輸入\n",
        "    gamma = float(gamma)\n",
        "    alpha = float(alpha)\n",
        "    epsilon = 1e-8\n",
        "    y_true = tf.convert_to_tensor(y_true, tf.float32)\n",
        "    y_pred = tf.convert_to_tensor(y_pred, tf.float32)\n",
        "\n",
        "    model_out = tf.add(y_pred, epsilon)\n",
        "    ce = tf.multiply(y_true, -tf.log(model_out))\n",
        "    weight = tf.multiply(y_true, tf.pow(tf.subtract(1., model_out), gamma))\n",
        "    fl = tf.multiply(alpha, tf.multiply(weight, ce))\n",
        "    reduced_fl = tf.reduce_max(fl, axis=1)\n",
        "    return tf.reduce_mean(reduced_fl)\n",
        "\n",
        "def cross_entropy(y_true, y_pred):\n",
        "    y_true = tf.convert_to_tensor(y_true, tf.float32)\n",
        "    y_pred = tf.convert_to_tensor(y_pred, tf.float32)\n",
        "    cross_en = tf.nn.softmax_cross_entropy_with_logits(labels= y_true,logits=y_pred)\n",
        "    return tf.reduce_mean(cross_en)\n",
        "    \n",
        "def combined_loss(p1= 0.3, p2=0.7):                #自行定義一個 loss function, 為 0.3 * focal loss + 0.7 cross-entropy\n",
        "    def combined_loss_fixed(y_true, y_pred):\n",
        "        f_loss = focal_loss(y_true, y_pred)\n",
        "        cross_en = cross_entropy(y_true,y_pred)\n",
        "        c_loss = f_loss * p1 + cross_en * p2\n",
        "        return c_loss\n",
        "    return combined_loss_fixed\n",
        "\n",
        "ce_weights_list = [0., 0.3, 0.5, 0.7, 1]"
      ],
      "execution_count": 0,
      "outputs": []
    },
    {
      "cell_type": "code",
      "metadata": {
        "id": "GOF26PK-Aahk",
        "colab_type": "code",
        "outputId": "592aef20-3bf8-4e67-8c74-eb970632f892",
        "colab": {
          "base_uri": "https://localhost:8080/",
          "height": 1000
        }
      },
      "source": [
        "import itertools\n",
        "results = {}\n",
        "\n",
        "for i, ce_w in enumerate(ce_weights_list):\n",
        "    print(\"Numbers of exp: %i, ce_weight: %.2f\" % (i, ce_w))\n",
        "\n",
        "    model = build_mlp(input_shape=x_train.shape[1:])\n",
        "    model.summary()\n",
        "    optimizer = keras.optimizers.SGD(lr=LEARNING_RATE, nesterov=True, momentum=MOMENTUM)\n",
        "    model.compile(loss=combined_loss(), optimizer=optimizer, metrics=['accuracy'])\n",
        "\n",
        "    model.fit(x_train, y_train, \n",
        "              epochs=EPOCHS, \n",
        "              batch_size=BATCH_SIZE, \n",
        "              validation_data=(x_test, y_test), \n",
        "              shuffle=True\n",
        "             )\n",
        "    \n",
        "    # Collect results\n",
        "    exp_name_tag = (\"exp-%s\" % (i))\n",
        "    results[exp_name_tag] = {'train-loss': model.history.history[\"loss\"],\n",
        "                             'valid-loss': model.history.history[\"val_loss\"],\n",
        "                             'train-acc': model.history.history[\"acc\"],\n",
        "                             'valid-acc': model.history.history[\"val_acc\"]}"
      ],
      "execution_count": 8,
      "outputs": [
        {
          "output_type": "stream",
          "text": [
            "WARNING: Logging before flag parsing goes to stderr.\n",
            "W0831 13:53:37.080093 140281656452992 deprecation_wrapper.py:119] From /usr/local/lib/python3.6/dist-packages/keras/backend/tensorflow_backend.py:66: The name tf.get_default_graph is deprecated. Please use tf.compat.v1.get_default_graph instead.\n",
            "\n",
            "W0831 13:53:37.120453 140281656452992 deprecation_wrapper.py:119] From /usr/local/lib/python3.6/dist-packages/keras/backend/tensorflow_backend.py:541: The name tf.placeholder is deprecated. Please use tf.compat.v1.placeholder instead.\n",
            "\n",
            "W0831 13:53:37.127185 140281656452992 deprecation_wrapper.py:119] From /usr/local/lib/python3.6/dist-packages/keras/backend/tensorflow_backend.py:4432: The name tf.random_uniform is deprecated. Please use tf.random.uniform instead.\n",
            "\n",
            "W0831 13:53:37.236930 140281656452992 deprecation_wrapper.py:119] From /usr/local/lib/python3.6/dist-packages/keras/backend/tensorflow_backend.py:148: The name tf.placeholder_with_default is deprecated. Please use tf.compat.v1.placeholder_with_default instead.\n",
            "\n"
          ],
          "name": "stderr"
        },
        {
          "output_type": "stream",
          "text": [
            "Numbers of exp: 0, ce_weight: 0.00\n"
          ],
          "name": "stdout"
        },
        {
          "output_type": "stream",
          "text": [
            "W0831 13:53:37.549207 140281656452992 deprecation_wrapper.py:119] From /usr/local/lib/python3.6/dist-packages/keras/optimizers.py:793: The name tf.train.Optimizer is deprecated. Please use tf.compat.v1.train.Optimizer instead.\n",
            "\n",
            "W0831 13:53:37.562419 140281656452992 deprecation.py:323] From <ipython-input-7-2dcb297fa5b6>:21: softmax_cross_entropy_with_logits (from tensorflow.python.ops.nn_ops) is deprecated and will be removed in a future version.\n",
            "Instructions for updating:\n",
            "\n",
            "Future major versions of TensorFlow will allow gradients to flow\n",
            "into the labels input on backprop by default.\n",
            "\n",
            "See `tf.nn.softmax_cross_entropy_with_logits_v2`.\n",
            "\n"
          ],
          "name": "stderr"
        },
        {
          "output_type": "stream",
          "text": [
            "Model: \"model_1\"\n",
            "_________________________________________________________________\n",
            "Layer (type)                 Output Shape              Param #   \n",
            "=================================================================\n",
            "input_1 (InputLayer)         (None, 3072)              0         \n",
            "_________________________________________________________________\n",
            "hidden_layer1 (Dense)        (None, 512)               1573376   \n",
            "_________________________________________________________________\n",
            "batch_normalization_1 (Batch (None, 512)               2048      \n",
            "_________________________________________________________________\n",
            "hidden_layer2 (Dense)        (None, 256)               131328    \n",
            "_________________________________________________________________\n",
            "batch_normalization_2 (Batch (None, 256)               1024      \n",
            "_________________________________________________________________\n",
            "hidden_layer3 (Dense)        (None, 128)               32896     \n",
            "_________________________________________________________________\n",
            "batch_normalization_3 (Batch (None, 128)               512       \n",
            "_________________________________________________________________\n",
            "output (Dense)               (None, 10)                1290      \n",
            "=================================================================\n",
            "Total params: 1,742,474\n",
            "Trainable params: 1,740,682\n",
            "Non-trainable params: 1,792\n",
            "_________________________________________________________________\n"
          ],
          "name": "stdout"
        },
        {
          "output_type": "stream",
          "text": [
            "W0831 13:53:37.744217 140281656452992 deprecation.py:323] From /usr/local/lib/python3.6/dist-packages/tensorflow/python/ops/math_grad.py:1205: add_dispatch_support.<locals>.wrapper (from tensorflow.python.ops.array_ops) is deprecated and will be removed in a future version.\n",
            "Instructions for updating:\n",
            "Use tf.where in 2.0, which has the same broadcast rule as np.where\n",
            "W0831 13:53:38.132460 140281656452992 deprecation_wrapper.py:119] From /usr/local/lib/python3.6/dist-packages/keras/backend/tensorflow_backend.py:1033: The name tf.assign_add is deprecated. Please use tf.compat.v1.assign_add instead.\n",
            "\n"
          ],
          "name": "stderr"
        },
        {
          "output_type": "stream",
          "text": [
            "Train on 50000 samples, validate on 10000 samples\n",
            "Epoch 1/25\n",
            "50000/50000 [==============================] - 10s 206us/step - loss: 3.5750 - acc: 0.2938 - val_loss: 3.5898 - val_acc: 0.3029\n",
            "Epoch 2/25\n",
            "50000/50000 [==============================] - 9s 184us/step - loss: 2.9614 - acc: 0.4119 - val_loss: 3.0769 - val_acc: 0.3810\n",
            "Epoch 3/25\n",
            "50000/50000 [==============================] - 9s 183us/step - loss: 2.7969 - acc: 0.4517 - val_loss: 2.9312 - val_acc: 0.4164\n",
            "Epoch 4/25\n",
            "50000/50000 [==============================] - 9s 183us/step - loss: 2.6993 - acc: 0.4782 - val_loss: 2.8691 - val_acc: 0.4301\n",
            "Epoch 5/25\n",
            "50000/50000 [==============================] - 9s 183us/step - loss: 2.6304 - acc: 0.4995 - val_loss: 2.8009 - val_acc: 0.4522\n",
            "Epoch 6/25\n",
            "50000/50000 [==============================] - 9s 183us/step - loss: 2.5656 - acc: 0.5168 - val_loss: 2.7671 - val_acc: 0.4471\n",
            "Epoch 7/25\n",
            "50000/50000 [==============================] - 9s 183us/step - loss: 2.5162 - acc: 0.5307 - val_loss: 2.7413 - val_acc: 0.4668\n",
            "Epoch 8/25\n",
            "50000/50000 [==============================] - 9s 183us/step - loss: 2.4668 - acc: 0.5455 - val_loss: 2.7196 - val_acc: 0.4710\n",
            "Epoch 9/25\n",
            "50000/50000 [==============================] - 9s 183us/step - loss: 2.4233 - acc: 0.5574 - val_loss: 2.6733 - val_acc: 0.4761\n",
            "Epoch 10/25\n",
            "50000/50000 [==============================] - 9s 183us/step - loss: 2.3820 - acc: 0.5683 - val_loss: 2.6772 - val_acc: 0.4780\n",
            "Epoch 11/25\n",
            "50000/50000 [==============================] - 9s 182us/step - loss: 2.3438 - acc: 0.5801 - val_loss: 2.6631 - val_acc: 0.4859\n",
            "Epoch 12/25\n",
            "50000/50000 [==============================] - 9s 183us/step - loss: 2.3058 - acc: 0.5917 - val_loss: 2.6559 - val_acc: 0.4874\n",
            "Epoch 13/25\n",
            "50000/50000 [==============================] - 9s 182us/step - loss: 2.2742 - acc: 0.6013 - val_loss: 2.6737 - val_acc: 0.4834\n",
            "Epoch 14/25\n",
            "50000/50000 [==============================] - 9s 182us/step - loss: 2.2408 - acc: 0.6123 - val_loss: 2.6723 - val_acc: 0.4862\n",
            "Epoch 15/25\n",
            "50000/50000 [==============================] - 9s 184us/step - loss: 2.2082 - acc: 0.6225 - val_loss: 2.6504 - val_acc: 0.4886\n",
            "Epoch 16/25\n",
            "50000/50000 [==============================] - 9s 181us/step - loss: 2.1753 - acc: 0.6317 - val_loss: 2.6670 - val_acc: 0.4886\n",
            "Epoch 17/25\n",
            "50000/50000 [==============================] - 9s 182us/step - loss: 2.1457 - acc: 0.6406 - val_loss: 2.6631 - val_acc: 0.4836\n",
            "Epoch 18/25\n",
            "50000/50000 [==============================] - 9s 182us/step - loss: 2.1141 - acc: 0.6520 - val_loss: 2.6523 - val_acc: 0.4913\n",
            "Epoch 19/25\n",
            "50000/50000 [==============================] - 9s 183us/step - loss: 2.0832 - acc: 0.6608 - val_loss: 2.6652 - val_acc: 0.4878\n",
            "Epoch 20/25\n",
            "50000/50000 [==============================] - 9s 183us/step - loss: 2.0558 - acc: 0.6710 - val_loss: 2.6492 - val_acc: 0.4944\n",
            "Epoch 21/25\n",
            "50000/50000 [==============================] - 9s 183us/step - loss: 2.0243 - acc: 0.6801 - val_loss: 2.6709 - val_acc: 0.4888\n",
            "Epoch 22/25\n",
            "50000/50000 [==============================] - 9s 183us/step - loss: 1.9961 - acc: 0.6924 - val_loss: 2.6704 - val_acc: 0.4926\n",
            "Epoch 23/25\n",
            "50000/50000 [==============================] - 9s 183us/step - loss: 1.9684 - acc: 0.6997 - val_loss: 2.6914 - val_acc: 0.4907\n",
            "Epoch 24/25\n",
            "50000/50000 [==============================] - 9s 182us/step - loss: 1.9391 - acc: 0.7089 - val_loss: 2.6759 - val_acc: 0.4934\n",
            "Epoch 25/25\n",
            "50000/50000 [==============================] - 9s 183us/step - loss: 1.9144 - acc: 0.7160 - val_loss: 2.6928 - val_acc: 0.4902\n",
            "Numbers of exp: 1, ce_weight: 0.30\n",
            "Model: \"model_2\"\n",
            "_________________________________________________________________\n",
            "Layer (type)                 Output Shape              Param #   \n",
            "=================================================================\n",
            "input_2 (InputLayer)         (None, 3072)              0         \n",
            "_________________________________________________________________\n",
            "hidden_layer1 (Dense)        (None, 512)               1573376   \n",
            "_________________________________________________________________\n",
            "batch_normalization_4 (Batch (None, 512)               2048      \n",
            "_________________________________________________________________\n",
            "hidden_layer2 (Dense)        (None, 256)               131328    \n",
            "_________________________________________________________________\n",
            "batch_normalization_5 (Batch (None, 256)               1024      \n",
            "_________________________________________________________________\n",
            "hidden_layer3 (Dense)        (None, 128)               32896     \n",
            "_________________________________________________________________\n",
            "batch_normalization_6 (Batch (None, 128)               512       \n",
            "_________________________________________________________________\n",
            "output (Dense)               (None, 10)                1290      \n",
            "=================================================================\n",
            "Total params: 1,742,474\n",
            "Trainable params: 1,740,682\n",
            "Non-trainable params: 1,792\n",
            "_________________________________________________________________\n",
            "Train on 50000 samples, validate on 10000 samples\n",
            "Epoch 1/25\n",
            "50000/50000 [==============================] - 10s 202us/step - loss: 3.6326 - acc: 0.2831 - val_loss: 3.5121 - val_acc: 0.3328\n",
            "Epoch 2/25\n",
            "50000/50000 [==============================] - 9s 185us/step - loss: 2.9814 - acc: 0.4020 - val_loss: 3.0999 - val_acc: 0.3741\n",
            "Epoch 3/25\n",
            "50000/50000 [==============================] - 9s 185us/step - loss: 2.8237 - acc: 0.4434 - val_loss: 2.9623 - val_acc: 0.3956\n",
            "Epoch 4/25\n",
            "50000/50000 [==============================] - 9s 187us/step - loss: 2.7291 - acc: 0.4702 - val_loss: 2.8890 - val_acc: 0.4273\n",
            "Epoch 5/25\n",
            "50000/50000 [==============================] - 9s 182us/step - loss: 2.6569 - acc: 0.4893 - val_loss: 2.8294 - val_acc: 0.4392\n",
            "Epoch 6/25\n",
            "50000/50000 [==============================] - 9s 181us/step - loss: 2.5946 - acc: 0.5058 - val_loss: 2.7951 - val_acc: 0.4444\n",
            "Epoch 7/25\n",
            "50000/50000 [==============================] - 9s 181us/step - loss: 2.5411 - acc: 0.5203 - val_loss: 2.7768 - val_acc: 0.4556\n",
            "Epoch 8/25\n",
            "50000/50000 [==============================] - 9s 181us/step - loss: 2.4939 - acc: 0.5349 - val_loss: 2.7496 - val_acc: 0.4562\n",
            "Epoch 9/25\n",
            "50000/50000 [==============================] - 9s 181us/step - loss: 2.4505 - acc: 0.5486 - val_loss: 2.7449 - val_acc: 0.4558\n",
            "Epoch 10/25\n",
            "50000/50000 [==============================] - 9s 182us/step - loss: 2.4124 - acc: 0.5599 - val_loss: 2.7173 - val_acc: 0.4664\n",
            "Epoch 11/25\n",
            "50000/50000 [==============================] - 9s 183us/step - loss: 2.3723 - acc: 0.5704 - val_loss: 2.7034 - val_acc: 0.4703\n",
            "Epoch 12/25\n",
            "50000/50000 [==============================] - 9s 181us/step - loss: 2.3363 - acc: 0.5830 - val_loss: 2.7041 - val_acc: 0.4730\n",
            "Epoch 13/25\n",
            "50000/50000 [==============================] - 9s 181us/step - loss: 2.3036 - acc: 0.5927 - val_loss: 2.7010 - val_acc: 0.4708\n",
            "Epoch 14/25\n",
            "50000/50000 [==============================] - 9s 181us/step - loss: 2.2695 - acc: 0.6027 - val_loss: 2.6891 - val_acc: 0.4787\n",
            "Epoch 15/25\n",
            "50000/50000 [==============================] - 9s 182us/step - loss: 2.2330 - acc: 0.6141 - val_loss: 2.6844 - val_acc: 0.4771\n",
            "Epoch 16/25\n",
            "50000/50000 [==============================] - 9s 183us/step - loss: 2.2029 - acc: 0.6253 - val_loss: 2.6876 - val_acc: 0.4818\n",
            "Epoch 17/25\n",
            "50000/50000 [==============================] - 9s 184us/step - loss: 2.1718 - acc: 0.6334 - val_loss: 2.6743 - val_acc: 0.4842\n",
            "Epoch 18/25\n",
            "50000/50000 [==============================] - 9s 185us/step - loss: 2.1406 - acc: 0.6437 - val_loss: 2.6742 - val_acc: 0.4768\n",
            "Epoch 19/25\n",
            "50000/50000 [==============================] - 9s 185us/step - loss: 2.1103 - acc: 0.6526 - val_loss: 2.6704 - val_acc: 0.4852\n",
            "Epoch 20/25\n",
            "50000/50000 [==============================] - 9s 185us/step - loss: 2.0804 - acc: 0.6624 - val_loss: 2.6820 - val_acc: 0.4846\n",
            "Epoch 21/25\n",
            "50000/50000 [==============================] - 9s 183us/step - loss: 2.0516 - acc: 0.6724 - val_loss: 2.6757 - val_acc: 0.4860\n",
            "Epoch 22/25\n",
            "50000/50000 [==============================] - 9s 184us/step - loss: 2.0248 - acc: 0.6822 - val_loss: 2.7103 - val_acc: 0.4772\n",
            "Epoch 23/25\n",
            "50000/50000 [==============================] - 9s 187us/step - loss: 1.9981 - acc: 0.6891 - val_loss: 2.7077 - val_acc: 0.4805\n",
            "Epoch 24/25\n",
            "50000/50000 [==============================] - 9s 186us/step - loss: 1.9672 - acc: 0.7009 - val_loss: 2.6948 - val_acc: 0.4882\n",
            "Epoch 25/25\n",
            "50000/50000 [==============================] - 9s 185us/step - loss: 1.9419 - acc: 0.7091 - val_loss: 2.6928 - val_acc: 0.4909\n",
            "Numbers of exp: 2, ce_weight: 0.50\n",
            "Model: \"model_3\"\n",
            "_________________________________________________________________\n",
            "Layer (type)                 Output Shape              Param #   \n",
            "=================================================================\n",
            "input_3 (InputLayer)         (None, 3072)              0         \n",
            "_________________________________________________________________\n",
            "hidden_layer1 (Dense)        (None, 512)               1573376   \n",
            "_________________________________________________________________\n",
            "batch_normalization_7 (Batch (None, 512)               2048      \n",
            "_________________________________________________________________\n",
            "hidden_layer2 (Dense)        (None, 256)               131328    \n",
            "_________________________________________________________________\n",
            "batch_normalization_8 (Batch (None, 256)               1024      \n",
            "_________________________________________________________________\n",
            "hidden_layer3 (Dense)        (None, 128)               32896     \n",
            "_________________________________________________________________\n",
            "batch_normalization_9 (Batch (None, 128)               512       \n",
            "_________________________________________________________________\n",
            "output (Dense)               (None, 10)                1290      \n",
            "=================================================================\n",
            "Total params: 1,742,474\n",
            "Trainable params: 1,740,682\n",
            "Non-trainable params: 1,792\n",
            "_________________________________________________________________\n",
            "Train on 50000 samples, validate on 10000 samples\n",
            "Epoch 1/25\n",
            "50000/50000 [==============================] - 10s 204us/step - loss: 3.6061 - acc: 0.2829 - val_loss: 3.5387 - val_acc: 0.3248\n",
            "Epoch 2/25\n",
            "50000/50000 [==============================] - 9s 184us/step - loss: 2.9752 - acc: 0.4047 - val_loss: 3.1244 - val_acc: 0.3764\n",
            "Epoch 3/25\n",
            "50000/50000 [==============================] - 9s 184us/step - loss: 2.8154 - acc: 0.4451 - val_loss: 2.9359 - val_acc: 0.4230\n",
            "Epoch 4/25\n",
            "50000/50000 [==============================] - 9s 183us/step - loss: 2.7195 - acc: 0.4730 - val_loss: 2.8457 - val_acc: 0.4351\n",
            "Epoch 5/25\n",
            "50000/50000 [==============================] - 9s 183us/step - loss: 2.6479 - acc: 0.4934 - val_loss: 2.8458 - val_acc: 0.4355\n",
            "Epoch 6/25\n",
            "50000/50000 [==============================] - 9s 183us/step - loss: 2.5853 - acc: 0.5101 - val_loss: 2.7438 - val_acc: 0.4623\n",
            "Epoch 7/25\n",
            "50000/50000 [==============================] - 9s 184us/step - loss: 2.5330 - acc: 0.5252 - val_loss: 2.7396 - val_acc: 0.4620\n",
            "Epoch 8/25\n",
            "50000/50000 [==============================] - 9s 184us/step - loss: 2.4867 - acc: 0.5381 - val_loss: 2.7151 - val_acc: 0.4676\n",
            "Epoch 9/25\n",
            "50000/50000 [==============================] - 9s 183us/step - loss: 2.4415 - acc: 0.5514 - val_loss: 2.6923 - val_acc: 0.4716\n",
            "Epoch 10/25\n",
            "50000/50000 [==============================] - 9s 184us/step - loss: 2.3989 - acc: 0.5648 - val_loss: 2.6784 - val_acc: 0.4778\n",
            "Epoch 11/25\n",
            "50000/50000 [==============================] - 9s 184us/step - loss: 2.3601 - acc: 0.5758 - val_loss: 2.6692 - val_acc: 0.4840\n",
            "Epoch 12/25\n",
            "50000/50000 [==============================] - 9s 184us/step - loss: 2.3234 - acc: 0.5891 - val_loss: 2.6465 - val_acc: 0.4872\n",
            "Epoch 13/25\n",
            "50000/50000 [==============================] - 9s 187us/step - loss: 2.2893 - acc: 0.5947 - val_loss: 2.6516 - val_acc: 0.4847\n",
            "Epoch 14/25\n",
            "50000/50000 [==============================] - 9s 185us/step - loss: 2.2556 - acc: 0.6063 - val_loss: 2.6613 - val_acc: 0.4849\n",
            "Epoch 15/25\n",
            "50000/50000 [==============================] - 9s 185us/step - loss: 2.2223 - acc: 0.6173 - val_loss: 2.6434 - val_acc: 0.4891\n",
            "Epoch 16/25\n",
            "50000/50000 [==============================] - 9s 184us/step - loss: 2.1889 - acc: 0.6273 - val_loss: 2.6632 - val_acc: 0.4858\n",
            "Epoch 17/25\n",
            "50000/50000 [==============================] - 9s 185us/step - loss: 2.1614 - acc: 0.6372 - val_loss: 2.6568 - val_acc: 0.4915\n",
            "Epoch 18/25\n",
            "50000/50000 [==============================] - 9s 186us/step - loss: 2.1285 - acc: 0.6455 - val_loss: 2.6472 - val_acc: 0.4868\n",
            "Epoch 19/25\n",
            "50000/50000 [==============================] - 9s 184us/step - loss: 2.1012 - acc: 0.6560 - val_loss: 2.6327 - val_acc: 0.4938\n",
            "Epoch 20/25\n",
            "50000/50000 [==============================] - 9s 184us/step - loss: 2.0685 - acc: 0.6665 - val_loss: 2.6536 - val_acc: 0.4922\n",
            "Epoch 21/25\n",
            "50000/50000 [==============================] - 9s 185us/step - loss: 2.0401 - acc: 0.6761 - val_loss: 2.6488 - val_acc: 0.4947\n",
            "Epoch 22/25\n",
            "50000/50000 [==============================] - 9s 184us/step - loss: 2.0126 - acc: 0.6829 - val_loss: 2.6694 - val_acc: 0.4906\n",
            "Epoch 23/25\n",
            "50000/50000 [==============================] - 9s 185us/step - loss: 1.9827 - acc: 0.6943 - val_loss: 2.6886 - val_acc: 0.4837\n",
            "Epoch 24/25\n",
            "50000/50000 [==============================] - 9s 185us/step - loss: 1.9572 - acc: 0.7030 - val_loss: 2.6822 - val_acc: 0.4966\n",
            "Epoch 25/25\n",
            "50000/50000 [==============================] - 9s 185us/step - loss: 1.9279 - acc: 0.7126 - val_loss: 2.6777 - val_acc: 0.4947\n",
            "Numbers of exp: 3, ce_weight: 0.70\n",
            "Model: \"model_4\"\n",
            "_________________________________________________________________\n",
            "Layer (type)                 Output Shape              Param #   \n",
            "=================================================================\n",
            "input_4 (InputLayer)         (None, 3072)              0         \n",
            "_________________________________________________________________\n",
            "hidden_layer1 (Dense)        (None, 512)               1573376   \n",
            "_________________________________________________________________\n",
            "batch_normalization_10 (Batc (None, 512)               2048      \n",
            "_________________________________________________________________\n",
            "hidden_layer2 (Dense)        (None, 256)               131328    \n",
            "_________________________________________________________________\n",
            "batch_normalization_11 (Batc (None, 256)               1024      \n",
            "_________________________________________________________________\n",
            "hidden_layer3 (Dense)        (None, 128)               32896     \n",
            "_________________________________________________________________\n",
            "batch_normalization_12 (Batc (None, 128)               512       \n",
            "_________________________________________________________________\n",
            "output (Dense)               (None, 10)                1290      \n",
            "=================================================================\n",
            "Total params: 1,742,474\n",
            "Trainable params: 1,740,682\n",
            "Non-trainable params: 1,792\n",
            "_________________________________________________________________\n",
            "Train on 50000 samples, validate on 10000 samples\n",
            "Epoch 1/25\n",
            "50000/50000 [==============================] - 11s 214us/step - loss: 3.5958 - acc: 0.2865 - val_loss: 3.4134 - val_acc: 0.3374\n",
            "Epoch 2/25\n",
            "50000/50000 [==============================] - 9s 183us/step - loss: 2.9865 - acc: 0.4020 - val_loss: 3.1306 - val_acc: 0.3771\n",
            "Epoch 3/25\n",
            "50000/50000 [==============================] - 9s 182us/step - loss: 2.8245 - acc: 0.4448 - val_loss: 2.9665 - val_acc: 0.4008\n",
            "Epoch 4/25\n",
            "50000/50000 [==============================] - 9s 180us/step - loss: 2.7248 - acc: 0.4707 - val_loss: 2.8510 - val_acc: 0.4295\n",
            "Epoch 5/25\n",
            "50000/50000 [==============================] - 9s 181us/step - loss: 2.6504 - acc: 0.4913 - val_loss: 2.8113 - val_acc: 0.4394\n",
            "Epoch 6/25\n",
            "50000/50000 [==============================] - 9s 186us/step - loss: 2.5882 - acc: 0.5089 - val_loss: 2.7874 - val_acc: 0.4412\n",
            "Epoch 7/25\n",
            "50000/50000 [==============================] - 9s 182us/step - loss: 2.5341 - acc: 0.5242 - val_loss: 2.7643 - val_acc: 0.4508\n",
            "Epoch 8/25\n",
            "50000/50000 [==============================] - 9s 182us/step - loss: 2.4879 - acc: 0.5395 - val_loss: 2.7284 - val_acc: 0.4680\n",
            "Epoch 9/25\n",
            "50000/50000 [==============================] - 9s 183us/step - loss: 2.4468 - acc: 0.5507 - val_loss: 2.7009 - val_acc: 0.4689\n",
            "Epoch 10/25\n",
            "50000/50000 [==============================] - 9s 183us/step - loss: 2.4059 - acc: 0.5642 - val_loss: 2.7077 - val_acc: 0.4642\n",
            "Epoch 11/25\n",
            "50000/50000 [==============================] - 9s 183us/step - loss: 2.3679 - acc: 0.5725 - val_loss: 2.7043 - val_acc: 0.4708\n",
            "Epoch 12/25\n",
            "50000/50000 [==============================] - 9s 183us/step - loss: 2.3321 - acc: 0.5841 - val_loss: 2.6926 - val_acc: 0.4715\n",
            "Epoch 13/25\n",
            "50000/50000 [==============================] - 9s 183us/step - loss: 2.2998 - acc: 0.5937 - val_loss: 2.6824 - val_acc: 0.4730\n",
            "Epoch 14/25\n",
            "50000/50000 [==============================] - 9s 184us/step - loss: 2.2672 - acc: 0.6017 - val_loss: 2.6660 - val_acc: 0.4891\n",
            "Epoch 15/25\n",
            "50000/50000 [==============================] - 9s 184us/step - loss: 2.2316 - acc: 0.6167 - val_loss: 2.6545 - val_acc: 0.4856\n",
            "Epoch 16/25\n",
            "50000/50000 [==============================] - 9s 183us/step - loss: 2.1989 - acc: 0.6251 - val_loss: 2.6476 - val_acc: 0.4836\n",
            "Epoch 17/25\n",
            "50000/50000 [==============================] - 9s 184us/step - loss: 2.1708 - acc: 0.6329 - val_loss: 2.6570 - val_acc: 0.4857\n",
            "Epoch 18/25\n",
            "50000/50000 [==============================] - 9s 186us/step - loss: 2.1399 - acc: 0.6446 - val_loss: 2.6548 - val_acc: 0.4846\n",
            "Epoch 19/25\n",
            "50000/50000 [==============================] - 9s 186us/step - loss: 2.1091 - acc: 0.6555 - val_loss: 2.6512 - val_acc: 0.4877\n",
            "Epoch 20/25\n",
            "50000/50000 [==============================] - 9s 185us/step - loss: 2.0818 - acc: 0.6611 - val_loss: 2.6564 - val_acc: 0.4896\n",
            "Epoch 21/25\n",
            "50000/50000 [==============================] - 9s 187us/step - loss: 2.0537 - acc: 0.6710 - val_loss: 2.6482 - val_acc: 0.4934\n",
            "Epoch 22/25\n",
            "50000/50000 [==============================] - 9s 187us/step - loss: 2.0250 - acc: 0.6813 - val_loss: 2.6672 - val_acc: 0.4894\n",
            "Epoch 23/25\n",
            "50000/50000 [==============================] - 9s 183us/step - loss: 1.9970 - acc: 0.6916 - val_loss: 2.6646 - val_acc: 0.4923\n",
            "Epoch 24/25\n",
            "50000/50000 [==============================] - 9s 183us/step - loss: 1.9660 - acc: 0.7013 - val_loss: 2.6762 - val_acc: 0.4948\n",
            "Epoch 25/25\n",
            "50000/50000 [==============================] - 9s 182us/step - loss: 1.9439 - acc: 0.7093 - val_loss: 2.6735 - val_acc: 0.4947\n",
            "Numbers of exp: 4, ce_weight: 1.00\n",
            "Model: \"model_5\"\n",
            "_________________________________________________________________\n",
            "Layer (type)                 Output Shape              Param #   \n",
            "=================================================================\n",
            "input_5 (InputLayer)         (None, 3072)              0         \n",
            "_________________________________________________________________\n",
            "hidden_layer1 (Dense)        (None, 512)               1573376   \n",
            "_________________________________________________________________\n",
            "batch_normalization_13 (Batc (None, 512)               2048      \n",
            "_________________________________________________________________\n",
            "hidden_layer2 (Dense)        (None, 256)               131328    \n",
            "_________________________________________________________________\n",
            "batch_normalization_14 (Batc (None, 256)               1024      \n",
            "_________________________________________________________________\n",
            "hidden_layer3 (Dense)        (None, 128)               32896     \n",
            "_________________________________________________________________\n",
            "batch_normalization_15 (Batc (None, 128)               512       \n",
            "_________________________________________________________________\n",
            "output (Dense)               (None, 10)                1290      \n",
            "=================================================================\n",
            "Total params: 1,742,474\n",
            "Trainable params: 1,740,682\n",
            "Non-trainable params: 1,792\n",
            "_________________________________________________________________\n",
            "Train on 50000 samples, validate on 10000 samples\n",
            "Epoch 1/25\n",
            "50000/50000 [==============================] - 11s 210us/step - loss: 3.5805 - acc: 0.2918 - val_loss: 3.5069 - val_acc: 0.3243\n",
            "Epoch 2/25\n",
            "50000/50000 [==============================] - 9s 181us/step - loss: 2.9718 - acc: 0.4051 - val_loss: 3.0703 - val_acc: 0.3961\n",
            "Epoch 3/25\n",
            "50000/50000 [==============================] - 9s 181us/step - loss: 2.8120 - acc: 0.4464 - val_loss: 2.9343 - val_acc: 0.4163\n",
            "Epoch 4/25\n",
            "50000/50000 [==============================] - 9s 183us/step - loss: 2.7180 - acc: 0.4718 - val_loss: 2.8686 - val_acc: 0.4331\n",
            "Epoch 5/25\n",
            "50000/50000 [==============================] - 9s 183us/step - loss: 2.6441 - acc: 0.4927 - val_loss: 2.8017 - val_acc: 0.4461\n",
            "Epoch 6/25\n",
            "50000/50000 [==============================] - 9s 185us/step - loss: 2.5821 - acc: 0.5095 - val_loss: 2.7867 - val_acc: 0.4538\n",
            "Epoch 7/25\n",
            "50000/50000 [==============================] - 9s 185us/step - loss: 2.5319 - acc: 0.5243 - val_loss: 2.7577 - val_acc: 0.4500\n",
            "Epoch 8/25\n",
            "50000/50000 [==============================] - 9s 185us/step - loss: 2.4838 - acc: 0.5382 - val_loss: 2.7467 - val_acc: 0.4485\n",
            "Epoch 9/25\n",
            "50000/50000 [==============================] - 9s 183us/step - loss: 2.4405 - acc: 0.5548 - val_loss: 2.7152 - val_acc: 0.4663\n",
            "Epoch 10/25\n",
            "50000/50000 [==============================] - 9s 185us/step - loss: 2.3981 - acc: 0.5658 - val_loss: 2.7294 - val_acc: 0.4627\n",
            "Epoch 11/25\n",
            "50000/50000 [==============================] - 9s 183us/step - loss: 2.3596 - acc: 0.5777 - val_loss: 2.6959 - val_acc: 0.4686\n",
            "Epoch 12/25\n",
            "50000/50000 [==============================] - 9s 183us/step - loss: 2.3241 - acc: 0.5868 - val_loss: 2.7027 - val_acc: 0.4676\n",
            "Epoch 13/25\n",
            "50000/50000 [==============================] - 9s 184us/step - loss: 2.2875 - acc: 0.5973 - val_loss: 2.6949 - val_acc: 0.4731\n",
            "Epoch 14/25\n",
            "50000/50000 [==============================] - 9s 189us/step - loss: 2.2543 - acc: 0.6097 - val_loss: 2.6903 - val_acc: 0.4755\n",
            "Epoch 15/25\n",
            "50000/50000 [==============================] - 9s 185us/step - loss: 2.2222 - acc: 0.6183 - val_loss: 2.6638 - val_acc: 0.4824\n",
            "Epoch 16/25\n",
            "50000/50000 [==============================] - 9s 184us/step - loss: 2.1898 - acc: 0.6281 - val_loss: 2.7039 - val_acc: 0.4692\n",
            "Epoch 17/25\n",
            "50000/50000 [==============================] - 9s 185us/step - loss: 2.1601 - acc: 0.6384 - val_loss: 2.6912 - val_acc: 0.4832\n",
            "Epoch 18/25\n",
            "50000/50000 [==============================] - 9s 185us/step - loss: 2.1273 - acc: 0.6495 - val_loss: 2.6616 - val_acc: 0.4859\n",
            "Epoch 19/25\n",
            "50000/50000 [==============================] - 9s 183us/step - loss: 2.0992 - acc: 0.6569 - val_loss: 2.6780 - val_acc: 0.4829\n",
            "Epoch 20/25\n",
            "50000/50000 [==============================] - 9s 183us/step - loss: 2.0667 - acc: 0.6692 - val_loss: 2.6726 - val_acc: 0.4885\n",
            "Epoch 21/25\n",
            "50000/50000 [==============================] - 9s 185us/step - loss: 2.0385 - acc: 0.6759 - val_loss: 2.6930 - val_acc: 0.4795\n",
            "Epoch 22/25\n",
            "50000/50000 [==============================] - 9s 184us/step - loss: 2.0101 - acc: 0.6863 - val_loss: 2.6721 - val_acc: 0.4903\n",
            "Epoch 23/25\n",
            "50000/50000 [==============================] - 9s 184us/step - loss: 1.9798 - acc: 0.6975 - val_loss: 2.6865 - val_acc: 0.4925\n",
            "Epoch 24/25\n",
            "50000/50000 [==============================] - 9s 184us/step - loss: 1.9532 - acc: 0.7051 - val_loss: 2.7125 - val_acc: 0.4841\n",
            "Epoch 25/25\n",
            "50000/50000 [==============================] - 9s 184us/step - loss: 1.9258 - acc: 0.7141 - val_loss: 2.6966 - val_acc: 0.4880\n"
          ],
          "name": "stdout"
        }
      ]
    },
    {
      "cell_type": "code",
      "metadata": {
        "id": "R2b75S5jAacf",
        "colab_type": "code",
        "colab": {
          "base_uri": "https://localhost:8080/",
          "height": 763
        },
        "outputId": "7d99cc02-9d55-4a1f-f3f9-504a6aad45ef"
      },
      "source": [
        "import matplotlib.pyplot as plt\n",
        "import matplotlib.cm as mplcm\n",
        "import matplotlib.colors as colors\n",
        "%matplotlib inline\n",
        "NUM_COLORS = len(results.keys())\n",
        "\n",
        "cm = plt.get_cmap('gist_rainbow')\n",
        "cNorm  = colors.Normalize(vmin=0, vmax=NUM_COLORS-1)\n",
        "scalarMap = mplcm.ScalarMappable(norm=cNorm, cmap=cm)\n",
        "color_bar = [scalarMap.to_rgba(i) for i in range(NUM_COLORS)]\n",
        "\n",
        "plt.figure(figsize=(8,6))\n",
        "for i, cond in enumerate(results.keys()):\n",
        "    plt.plot(range(len(results[cond]['train-loss'])),results[cond]['train-loss'], '-', label=cond, color=color_bar[i])\n",
        "    plt.plot(range(len(results[cond]['valid-loss'])),results[cond]['valid-loss'], '--', label=cond, color=color_bar[i])\n",
        "plt.title(\"Loss\")\n",
        "plt.legend(loc='center left', bbox_to_anchor=(1, 0.5))\n",
        "plt.show()\n",
        "\n",
        "plt.figure(figsize=(8,6))\n",
        "for i, cond in enumerate(results.keys()):\n",
        "    plt.plot(range(len(results[cond]['train-acc'])),results[cond]['train-acc'], '-', label=cond, color=color_bar[i])\n",
        "    plt.plot(range(len(results[cond]['valid-acc'])),results[cond]['valid-acc'], '--', label=cond, color=color_bar[i])\n",
        "plt.title(\"Accuracy\")\n",
        "plt.legend(loc='center left', bbox_to_anchor=(1, 0.5))\n",
        "plt.show()"
      ],
      "execution_count": 9,
      "outputs": [
        {
          "output_type": "display_data",
          "data": {
            "image/png": "[encoded data removed]",
            "text/plain": [
              "<Figure size 576x432 with 1 Axes>"
            ]
          },
          "metadata": {
            "tags": []
          }
        },
        {
          "output_type": "display_data",
          "data": {
            "image/png": "[encoded data removed]",
            "text/plain": [
              "<Figure size 576x432 with 1 Axes>"
            ]
          },
          "metadata": {
            "tags": []
          }
        }
      ]
    },
    {
      "cell_type": "code",
      "metadata": {
        "id": "o9xdVPjk__i3",
        "colab_type": "code",
        "colab": {}
      },
      "source": [
        ""
      ],
      "execution_count": 0,
      "outputs": []
    },
    {
      "cell_type": "markdown",
      "metadata": {
        "id": "9csjUuTRAVh4",
        "colab_type": "text"
      },
      "source": [
        "# 範例 "
      ]
    },
    {
      "cell_type": "code",
      "metadata": {
        "id": "Qm5FmuMN__o-",
        "colab_type": "code",
        "outputId": "fde7e4f2-7fc9-4e19-fb7b-2e56f37ef256",
        "colab": {
          "base_uri": "https://localhost:8080/",
          "height": 34
        }
      },
      "source": [
        "import os\n",
        "import keras\n",
        "\n",
        "# Disable GPU\n",
        "os.environ[\"CUDA_VISIBLE_DEVICES\"] = \"\""
      ],
      "execution_count": 0,
      "outputs": [
        {
          "output_type": "stream",
          "text": [
            "Using TensorFlow backend.\n"
          ],
          "name": "stderr"
        }
      ]
    },
    {
      "cell_type": "code",
      "metadata": {
        "id": "IxEZ6XpE__ul",
        "colab_type": "code",
        "outputId": "c450a501-4a3e-406f-ff90-639a21de3e85",
        "colab": {
          "base_uri": "https://localhost:8080/",
          "height": 51
        }
      },
      "source": [
        "train, test = keras.datasets.cifar10.load_data()"
      ],
      "execution_count": 0,
      "outputs": [
        {
          "output_type": "stream",
          "text": [
            "Downloading data from https://www.cs.toronto.edu/~kriz/cifar-10-python.tar.gz\n",
            "170500096/170498071 [==============================] - 4s 0us/step\n"
          ],
          "name": "stdout"
        }
      ]
    },
    {
      "cell_type": "code",
      "metadata": {
        "id": "Vx5iCSGJ__zI",
        "colab_type": "code",
        "colab": {}
      },
      "source": [
        "## 資料前處理\n",
        "def preproc_x(x, flatten=True):\n",
        "    x = x / 255.\n",
        "    if flatten:\n",
        "        x = x.reshape((len(x), -1))\n",
        "    return x\n",
        "\n",
        "def preproc_y(y, num_classes=10):\n",
        "    if y.shape[-1] == 1:\n",
        "        y = keras.utils.to_categorical(y, num_classes)\n",
        "    return y    "
      ],
      "execution_count": 0,
      "outputs": []
    },
    {
      "cell_type": "code",
      "metadata": {
        "id": "rrGgItqO__3v",
        "colab_type": "code",
        "colab": {}
      },
      "source": [
        "x_train, y_train = train\n",
        "x_test, y_test = test\n",
        "\n",
        "# Preproc the inputs\n",
        "x_train = preproc_x(x_train)\n",
        "x_test = preproc_x(x_test)\n",
        "\n",
        "# Preprc the outputs\n",
        "y_train = preproc_y(y_train)\n",
        "y_test = preproc_y(y_test)"
      ],
      "execution_count": 0,
      "outputs": []
    },
    {
      "cell_type": "code",
      "metadata": {
        "id": "vxU6dC6F__9R",
        "colab_type": "code",
        "colab": {}
      },
      "source": [
        "from keras.layers import BatchNormalization\n",
        "def build_mlp(input_shape, output_units=10, num_neurons=[512, 256, 128]):\n",
        "    input_layer = keras.layers.Input(input_shape)\n",
        "    \n",
        "    for i, n_units in enumerate(num_neurons):\n",
        "        if i == 0:\n",
        "            x = keras.layers.Dense(units=n_units, \n",
        "                                   activation=\"relu\", \n",
        "                                   name=\"hidden_layer\"+str(i+1))(input_layer)\n",
        "            x = BatchNormalization()(x)\n",
        "        else:\n",
        "            x = keras.layers.Dense(units=n_units, \n",
        "                                   activation=\"relu\", \n",
        "                                   name=\"hidden_layer\"+str(i+1))(x)\n",
        "            x = BatchNormalization()(x)\n",
        "    \n",
        "    out = keras.layers.Dense(units=output_units, activation=\"softmax\", name=\"output\")(x)\n",
        "    \n",
        "    model = keras.models.Model(inputs=[input_layer], outputs=[out])\n",
        "    return model"
      ],
      "execution_count": 0,
      "outputs": []
    },
    {
      "cell_type": "code",
      "metadata": {
        "id": "UPACb89fAACs",
        "colab_type": "code",
        "colab": {}
      },
      "source": [
        "## 超參數設定\n",
        "LEARNING_RATE = 1e-3\n",
        "EPOCHS = 50\n",
        "BATCH_SIZE = 1024\n",
        "MOMENTUM = 0.95"
      ],
      "execution_count": 0,
      "outputs": []
    },
    {
      "cell_type": "code",
      "metadata": {
        "id": "qw3JVKYm6tut",
        "colab_type": "code",
        "colab": {}
      },
      "source": [
        "import tensorflow as tf\n",
        "import keras.backend as K\n",
        "\n",
        "def focal_loss(gamma=2., alpha=4.):\n",
        "    gamma = float(gamma)\n",
        "    alpha = float(alpha)\n",
        "    def focal_loss_fixed(y_true, y_pred):\n",
        "        \"\"\"Focal loss for multi-classification\n",
        "        FL(p_t)=-alpha(1-p_t)^{gamma}ln(p_t)\n",
        "        \"\"\"\n",
        "        epsilon = 1e-8\n",
        "        y_true = tf.convert_to_tensor(y_true, tf.float32)\n",
        "        y_pred = tf.convert_to_tensor(y_pred, tf.float32)\n",
        "\n",
        "        model_out = tf.add(y_pred, epsilon)\n",
        "        ce = tf.multiply(y_true, -tf.log(model_out))\n",
        "        weight = tf.multiply(y_true, tf.pow(tf.subtract(1., model_out), gamma))\n",
        "        fl = tf.multiply(alpha, tf.multiply(weight, ce))\n",
        "        reduced_fl = tf.reduce_max(fl, axis=1)\n",
        "        return tf.reduce_mean(reduced_fl)\n",
        "    return focal_loss_fixed"
      ],
      "execution_count": 0,
      "outputs": []
    },
    {
      "cell_type": "code",
      "metadata": {
        "id": "sAb6QjG36tn6",
        "colab_type": "code",
        "outputId": "9f8d9a97-08f0-4ab2-c6fc-d27c36ec5472",
        "colab": {
          "base_uri": "https://localhost:8080/",
          "height": 1000
        }
      },
      "source": [
        "model = build_mlp(input_shape=x_train.shape[1:])\n",
        "model.summary()\n",
        "optimizer = keras.optimizers.SGD(lr=LEARNING_RATE, nesterov=True, momentum=MOMENTUM)\n",
        "model.compile(loss=focal_loss(), metrics=[\"accuracy\"], optimizer=optimizer)\n",
        "\n",
        "model.fit(x_train, y_train, \n",
        "          epochs=EPOCHS, \n",
        "          batch_size=BATCH_SIZE, \n",
        "          validation_data=(x_test, y_test), \n",
        "          shuffle=True\n",
        "         )\n",
        "\n",
        "# Collect results\n",
        "train_loss = model.history.history[\"loss\"]\n",
        "valid_loss = model.history.history[\"val_loss\"]\n",
        "train_acc = model.history.history[\"acc\"]\n",
        "valid_acc = model.history.history[\"val_acc\"]"
      ],
      "execution_count": 0,
      "outputs": [
        {
          "output_type": "stream",
          "text": [
            "WARNING: Logging before flag parsing goes to stderr.\n",
            "W0829 15:31:22.957332 139644809963392 deprecation_wrapper.py:119] From /usr/local/lib/python3.6/dist-packages/keras/backend/tensorflow_backend.py:74: The name tf.get_default_graph is deprecated. Please use tf.compat.v1.get_default_graph instead.\n",
            "\n",
            "W0829 15:31:22.998891 139644809963392 deprecation_wrapper.py:119] From /usr/local/lib/python3.6/dist-packages/keras/backend/tensorflow_backend.py:517: The name tf.placeholder is deprecated. Please use tf.compat.v1.placeholder instead.\n",
            "\n",
            "W0829 15:31:23.006784 139644809963392 deprecation_wrapper.py:119] From /usr/local/lib/python3.6/dist-packages/keras/backend/tensorflow_backend.py:4138: The name tf.random_uniform is deprecated. Please use tf.random.uniform instead.\n",
            "\n",
            "W0829 15:31:23.137542 139644809963392 deprecation_wrapper.py:119] From /usr/local/lib/python3.6/dist-packages/keras/backend/tensorflow_backend.py:133: The name tf.placeholder_with_default is deprecated. Please use tf.compat.v1.placeholder_with_default instead.\n",
            "\n",
            "W0829 15:31:23.525357 139644809963392 deprecation_wrapper.py:119] From /usr/local/lib/python3.6/dist-packages/keras/optimizers.py:790: The name tf.train.Optimizer is deprecated. Please use tf.compat.v1.train.Optimizer instead.\n",
            "\n",
            "W0829 15:31:23.673365 139644809963392 deprecation.py:323] From /usr/local/lib/python3.6/dist-packages/tensorflow/python/ops/math_grad.py:1205: add_dispatch_support.<locals>.wrapper (from tensorflow.python.ops.array_ops) is deprecated and will be removed in a future version.\n",
            "Instructions for updating:\n",
            "Use tf.where in 2.0, which has the same broadcast rule as np.where\n"
          ],
          "name": "stderr"
        },
        {
          "output_type": "stream",
          "text": [
            "_________________________________________________________________\n",
            "Layer (type)                 Output Shape              Param #   \n",
            "=================================================================\n",
            "input_1 (InputLayer)         (None, 3072)              0         \n",
            "_________________________________________________________________\n",
            "hidden_layer1 (Dense)        (None, 512)               1573376   \n",
            "_________________________________________________________________\n",
            "batch_normalization_1 (Batch (None, 512)               2048      \n",
            "_________________________________________________________________\n",
            "hidden_layer2 (Dense)        (None, 256)               131328    \n",
            "_________________________________________________________________\n",
            "batch_normalization_2 (Batch (None, 256)               1024      \n",
            "_________________________________________________________________\n",
            "hidden_layer3 (Dense)        (None, 128)               32896     \n",
            "_________________________________________________________________\n",
            "batch_normalization_3 (Batch (None, 128)               512       \n",
            "_________________________________________________________________\n",
            "output (Dense)               (None, 10)                1290      \n",
            "=================================================================\n",
            "Total params: 1,742,474\n",
            "Trainable params: 1,740,682\n",
            "Non-trainable params: 1,792\n",
            "_________________________________________________________________\n"
          ],
          "name": "stdout"
        },
        {
          "output_type": "stream",
          "text": [
            "W0829 15:31:24.108590 139644809963392 deprecation_wrapper.py:119] From /usr/local/lib/python3.6/dist-packages/keras/backend/tensorflow_backend.py:986: The name tf.assign_add is deprecated. Please use tf.compat.v1.assign_add instead.\n",
            "\n"
          ],
          "name": "stderr"
        },
        {
          "output_type": "stream",
          "text": [
            "Train on 50000 samples, validate on 10000 samples\n",
            "Epoch 1/50\n",
            "50000/50000 [==============================] - 11s 211us/step - loss: 6.0075 - acc: 0.3302 - val_loss: 6.3928 - val_acc: 0.3069\n",
            "Epoch 2/50\n",
            "50000/50000 [==============================] - 9s 184us/step - loss: 4.4002 - acc: 0.4405 - val_loss: 4.8640 - val_acc: 0.4053\n",
            "Epoch 3/50\n",
            "50000/50000 [==============================] - 9s 183us/step - loss: 3.9690 - acc: 0.4831 - val_loss: 4.6748 - val_acc: 0.4133\n",
            "Epoch 4/50\n",
            "50000/50000 [==============================] - 9s 183us/step - loss: 3.6909 - acc: 0.5107 - val_loss: 4.2603 - val_acc: 0.4539\n",
            "Epoch 5/50\n",
            "50000/50000 [==============================] - 9s 183us/step - loss: 3.4761 - acc: 0.5326 - val_loss: 4.2068 - val_acc: 0.4572\n",
            "Epoch 6/50\n",
            "50000/50000 [==============================] - 9s 186us/step - loss: 3.3002 - acc: 0.5500 - val_loss: 4.0625 - val_acc: 0.4694\n",
            "Epoch 7/50\n",
            "50000/50000 [==============================] - 9s 183us/step - loss: 3.1304 - acc: 0.5666 - val_loss: 4.0894 - val_acc: 0.4704\n",
            "Epoch 8/50\n",
            "50000/50000 [==============================] - 9s 182us/step - loss: 2.9719 - acc: 0.5836 - val_loss: 3.9843 - val_acc: 0.4786\n",
            "Epoch 9/50\n",
            "50000/50000 [==============================] - 9s 182us/step - loss: 2.8311 - acc: 0.5997 - val_loss: 4.0146 - val_acc: 0.4756\n",
            "Epoch 10/50\n",
            "50000/50000 [==============================] - 9s 182us/step - loss: 2.6841 - acc: 0.6147 - val_loss: 3.8570 - val_acc: 0.4906\n",
            "Epoch 11/50\n",
            "50000/50000 [==============================] - 9s 182us/step - loss: 2.5495 - acc: 0.6293 - val_loss: 3.9073 - val_acc: 0.4878\n",
            "Epoch 12/50\n",
            "50000/50000 [==============================] - 9s 182us/step - loss: 2.4223 - acc: 0.6444 - val_loss: 3.9896 - val_acc: 0.4897\n",
            "Epoch 13/50\n",
            "50000/50000 [==============================] - 9s 182us/step - loss: 2.2978 - acc: 0.6590 - val_loss: 3.9920 - val_acc: 0.4802\n",
            "Epoch 14/50\n",
            "50000/50000 [==============================] - 9s 182us/step - loss: 2.1661 - acc: 0.6736 - val_loss: 4.0358 - val_acc: 0.4898\n",
            "Epoch 15/50\n",
            "50000/50000 [==============================] - 9s 181us/step - loss: 2.0548 - acc: 0.6876 - val_loss: 3.9934 - val_acc: 0.4875\n",
            "Epoch 16/50\n",
            "50000/50000 [==============================] - 9s 181us/step - loss: 1.9333 - acc: 0.7036 - val_loss: 4.0593 - val_acc: 0.4834\n",
            "Epoch 17/50\n",
            "50000/50000 [==============================] - 9s 181us/step - loss: 1.8209 - acc: 0.7130 - val_loss: 4.2799 - val_acc: 0.4734\n",
            "Epoch 18/50\n",
            "50000/50000 [==============================] - 9s 180us/step - loss: 1.7213 - acc: 0.7272 - val_loss: 4.1465 - val_acc: 0.4874\n",
            "Epoch 19/50\n",
            "50000/50000 [==============================] - 9s 182us/step - loss: 1.6144 - acc: 0.7419 - val_loss: 4.3009 - val_acc: 0.4882\n",
            "Epoch 20/50\n",
            "50000/50000 [==============================] - 9s 184us/step - loss: 1.5020 - acc: 0.7568 - val_loss: 4.2154 - val_acc: 0.4846\n",
            "Epoch 21/50\n",
            "50000/50000 [==============================] - 9s 182us/step - loss: 1.3965 - acc: 0.7734 - val_loss: 4.3055 - val_acc: 0.4799\n",
            "Epoch 22/50\n",
            "50000/50000 [==============================] - 9s 182us/step - loss: 1.3068 - acc: 0.7838 - val_loss: 4.6168 - val_acc: 0.4770\n",
            "Epoch 23/50\n",
            "50000/50000 [==============================] - 9s 182us/step - loss: 1.2287 - acc: 0.7951 - val_loss: 4.3991 - val_acc: 0.4957\n",
            "Epoch 24/50\n",
            "50000/50000 [==============================] - 9s 181us/step - loss: 1.1249 - acc: 0.8093 - val_loss: 4.5632 - val_acc: 0.4788\n",
            "Epoch 25/50\n",
            "50000/50000 [==============================] - 9s 181us/step - loss: 1.0318 - acc: 0.8239 - val_loss: 4.7436 - val_acc: 0.4776\n",
            "Epoch 26/50\n",
            "50000/50000 [==============================] - 9s 182us/step - loss: 0.9555 - acc: 0.8355 - val_loss: 4.7731 - val_acc: 0.4859\n",
            "Epoch 27/50\n",
            "50000/50000 [==============================] - 9s 183us/step - loss: 0.8777 - acc: 0.8490 - val_loss: 4.8029 - val_acc: 0.4793\n",
            "Epoch 28/50\n",
            "50000/50000 [==============================] - 9s 181us/step - loss: 0.8116 - acc: 0.8574 - val_loss: 4.8900 - val_acc: 0.4749\n",
            "Epoch 29/50\n",
            "50000/50000 [==============================] - 9s 180us/step - loss: 0.7382 - acc: 0.8704 - val_loss: 5.1530 - val_acc: 0.4705\n",
            "Epoch 30/50\n",
            "50000/50000 [==============================] - 9s 180us/step - loss: 0.6724 - acc: 0.8825 - val_loss: 5.1302 - val_acc: 0.4768\n",
            "Epoch 31/50\n",
            "50000/50000 [==============================] - 9s 181us/step - loss: 0.6206 - acc: 0.8909 - val_loss: 5.2260 - val_acc: 0.4801\n",
            "Epoch 32/50\n",
            "50000/50000 [==============================] - 9s 182us/step - loss: 0.5514 - acc: 0.9032 - val_loss: 5.1176 - val_acc: 0.4826\n",
            "Epoch 33/50\n",
            "50000/50000 [==============================] - 9s 182us/step - loss: 0.5062 - acc: 0.9125 - val_loss: 5.2710 - val_acc: 0.4839\n",
            "Epoch 34/50\n",
            "50000/50000 [==============================] - 9s 181us/step - loss: 0.4689 - acc: 0.9186 - val_loss: 5.4022 - val_acc: 0.4794\n",
            "Epoch 35/50\n",
            "50000/50000 [==============================] - 9s 181us/step - loss: 0.4256 - acc: 0.9268 - val_loss: 5.4872 - val_acc: 0.4807\n",
            "Epoch 36/50\n",
            "50000/50000 [==============================] - 9s 182us/step - loss: 0.3763 - acc: 0.9373 - val_loss: 5.7506 - val_acc: 0.4626\n",
            "Epoch 37/50\n",
            "50000/50000 [==============================] - 9s 183us/step - loss: 0.3380 - acc: 0.9450 - val_loss: 5.4985 - val_acc: 0.4753\n",
            "Epoch 38/50\n",
            "50000/50000 [==============================] - 9s 182us/step - loss: 0.3001 - acc: 0.9499 - val_loss: 5.5985 - val_acc: 0.4848\n",
            "Epoch 39/50\n",
            "50000/50000 [==============================] - 9s 182us/step - loss: 0.2756 - acc: 0.9565 - val_loss: 5.8574 - val_acc: 0.4718\n",
            "Epoch 40/50\n",
            "50000/50000 [==============================] - 9s 182us/step - loss: 0.2496 - acc: 0.9609 - val_loss: 5.8636 - val_acc: 0.4739\n",
            "Epoch 41/50\n",
            "50000/50000 [==============================] - 9s 181us/step - loss: 0.2297 - acc: 0.9639 - val_loss: 5.8192 - val_acc: 0.4865\n",
            "Epoch 42/50\n",
            "50000/50000 [==============================] - 9s 182us/step - loss: 0.1996 - acc: 0.9713 - val_loss: 6.1511 - val_acc: 0.4759\n",
            "Epoch 43/50\n",
            "50000/50000 [==============================] - 9s 182us/step - loss: 0.1829 - acc: 0.9738 - val_loss: 6.0853 - val_acc: 0.4839\n",
            "Epoch 44/50\n",
            "50000/50000 [==============================] - 9s 183us/step - loss: 0.1644 - acc: 0.9784 - val_loss: 6.0668 - val_acc: 0.4736\n",
            "Epoch 45/50\n",
            "50000/50000 [==============================] - 9s 182us/step - loss: 0.1481 - acc: 0.9803 - val_loss: 6.1475 - val_acc: 0.4843\n",
            "Epoch 46/50\n",
            "50000/50000 [==============================] - 9s 182us/step - loss: 0.1316 - acc: 0.9849 - val_loss: 6.1438 - val_acc: 0.4815\n",
            "Epoch 47/50\n",
            "50000/50000 [==============================] - 9s 181us/step - loss: 0.1161 - acc: 0.9874 - val_loss: 6.2935 - val_acc: 0.4778\n",
            "Epoch 48/50\n",
            "50000/50000 [==============================] - 9s 182us/step - loss: 0.1070 - acc: 0.9895 - val_loss: 6.2784 - val_acc: 0.4797\n",
            "Epoch 49/50\n",
            "50000/50000 [==============================] - 9s 181us/step - loss: 0.0923 - acc: 0.9918 - val_loss: 6.3634 - val_acc: 0.4831\n",
            "Epoch 50/50\n",
            "50000/50000 [==============================] - 9s 180us/step - loss: 0.0847 - acc: 0.9924 - val_loss: 6.3858 - val_acc: 0.4808\n"
          ],
          "name": "stdout"
        }
      ]
    },
    {
      "cell_type": "code",
      "metadata": {
        "id": "ademnmcGAJKw",
        "colab_type": "code",
        "outputId": "6b0e8102-817c-4f6a-9a3f-425d4a5dadb5",
        "colab": {
          "base_uri": "https://localhost:8080/",
          "height": 545
        }
      },
      "source": [
        "import matplotlib.pyplot as plt\n",
        "%matplotlib inline\n",
        "\n",
        "plt.plot(range(len(train_loss)), train_loss, label=\"train loss\")\n",
        "plt.plot(range(len(valid_loss)), valid_loss, label=\"valid loss\")\n",
        "plt.legend()\n",
        "plt.title(\"Loss\")\n",
        "plt.show()\n",
        "\n",
        "plt.plot(range(len(train_acc)), train_acc, label=\"train accuracy\")\n",
        "plt.plot(range(len(valid_acc)), valid_acc, label=\"valid accuracy\")\n",
        "plt.legend()\n",
        "plt.title(\"Accuracy\")\n",
        "plt.show()"
      ],
      "execution_count": 0,
      "outputs": [
        {
          "output_type": "display_data",
          "data": {
            "image/png": "[encoded data removed]",
            "text/plain": [
              "<Figure size 432x288 with 1 Axes>"
            ]
          },
          "metadata": {
            "tags": []
          }
        },
        {
          "output_type": "display_data",
          "data": {
            "image/png": "[encoded data removed]",
            "text/plain": [
              "<Figure size 432x288 with 1 Axes>"
            ]
          },
          "metadata": {
            "tags": []
          }
        }
      ]
    },
    {
      "cell_type": "code",
      "metadata": {
        "id": "Dw3eELq7AJb9",
        "colab_type": "code",
        "colab": {}
      },
      "source": [
        ""
      ],
      "execution_count": 0,
      "outputs": []
    },
    {
      "cell_type": "markdown",
      "metadata": {
        "id": "lhX_qINt_zLU",
        "colab_type": "text"
      },
      "source": [
        "參考資料\n",
        "\n",
        "- [如何自定義損失函數 – CSDN blog](https://blog.csdn.net/A_a_ron/article/details/79050204)  \n",
        "- [How to use a custom objective function for a model – keras github](https://github.com/keras-team/keras/issues/369)  \n",
        "- [Issue for load model if using custom loss function – keras issue](https://github.com/keras-team/keras/issues/3977)"
      ]
    },
    {
      "cell_type": "code",
      "metadata": {
        "id": "S_OjKILQ_8mq",
        "colab_type": "code",
        "colab": {}
      },
      "source": [
        ""
      ],
      "execution_count": 0,
      "outputs": []
    }
  ]
}