{
  "nbformat": 4,
  "nbformat_minor": 0,
  "metadata": {
    "colab": {
      "name": "Day_093_HW.ipynb",
      "provenance": [],
      "collapsed_sections": []
    },
    "kernelspec": {
      "name": "python3",
      "display_name": "Python 3"
    }
  },
  "cells": [
    {
      "cell_type": "markdown",
      "metadata": {
        "id": "g4k9HdYQWoEY",
        "colab_type": "text"
      },
      "source": [
        "# 目標:  \n",
        "運用 Keras 模組建構CNN, 了解 CNN 的架構"
      ]
    },
    {
      "cell_type": "markdown",
      "metadata": {
        "id": "MpLQW5KcW_N4",
        "colab_type": "text"
      },
      "source": [
        "# 作業\n",
        "(1)嘗試比對 Dense 與 layers.Conv2D 架構NN 的差異\n",
        "\n",
        "(2)有沒有Pooling layer, 對於參數量的差異\n",
        "\n",
        "注意: input_shape 請勿修改"
      ]
    },
    {
      "cell_type": "markdown",
      "metadata": {
        "id": "0BJBUdWsvGvH",
        "colab_type": "text"
      },
      "source": [
        "(1)嘗試比對 Dense 與 layers.Conv2D 架構NN 的差異"
      ]
    },
    {
      "cell_type": "code",
      "metadata": {
        "id": "V9edUySPJHMH",
        "colab_type": "code",
        "colab": {
          "base_uri": "https://localhost:8080/",
          "height": 323
        },
        "outputId": "d0d80e57-3cc9-44aa-9e95-778205dfa029"
      },
      "source": [
        "#導入相關模組\n",
        "import keras\n",
        "from keras import layers\n",
        "from keras import models\n",
        "from keras.models import Sequential\n",
        "from keras.layers import Conv2D, Activation, MaxPooling2D, Flatten, Dense\n",
        "\n",
        "model = Sequential([\n",
        "    Dense(32, input_shape=(784,)),\n",
        "    Dense(32),\n",
        "    Activation('relu'),\n",
        "    Dense(10),\n",
        "    Activation('softmax'),\n",
        "])\n",
        "model.summary()\n"
      ],
      "execution_count": 23,
      "outputs": [
        {
          "output_type": "stream",
          "text": [
            "Model: \"sequential_6\"\n",
            "_________________________________________________________________\n",
            "Layer (type)                 Output Shape              Param #   \n",
            "=================================================================\n",
            "dense_12 (Dense)             (None, 32)                25120     \n",
            "_________________________________________________________________\n",
            "dense_13 (Dense)             (None, 32)                1056      \n",
            "_________________________________________________________________\n",
            "activation_9 (Activation)    (None, 32)                0         \n",
            "_________________________________________________________________\n",
            "dense_14 (Dense)             (None, 10)                330       \n",
            "_________________________________________________________________\n",
            "activation_10 (Activation)   (None, 10)                0         \n",
            "=================================================================\n",
            "Total params: 26,506\n",
            "Trainable params: 26,506\n",
            "Non-trainable params: 0\n",
            "_________________________________________________________________\n"
          ],
          "name": "stdout"
        }
      ]
    },
    {
      "cell_type": "markdown",
      "metadata": {
        "id": "3qKinyheXWY4",
        "colab_type": "text"
      },
      "source": [
        "## layers.Conv2D 模型, 用作比對"
      ]
    },
    {
      "cell_type": "code",
      "metadata": {
        "id": "n4C5lZGuT0tZ",
        "colab_type": "code",
        "colab": {
          "base_uri": "https://localhost:8080/",
          "height": 391
        },
        "outputId": "03272dd5-ab28-4aec-c3bd-29bc9f3435f9"
      },
      "source": [
        "#建立一個序列模型\n",
        "model = models.Sequential()\n",
        "#建立兩個卷積層, 32 個內核, 內核大小 3x3, \n",
        "#輸入影像大小 28x28x1\n",
        "model.add(layers.Conv2D(32, (3, 3), input_shape=(28, 28, 1)))\n",
        "model.add(layers.Conv2D(25, (3, 3)))\n",
        "model.add(Flatten())\n",
        "\n",
        "#建立一個全連接層\n",
        "model.add(Dense(units=100))\n",
        "model.add(Activation('relu'))\n",
        "\n",
        "#建立一個輸出層, 並採用softmax\n",
        "model.add(Dense(units=10))\n",
        "model.add(Activation('softmax'))\n",
        "\n",
        "model.summary()"
      ],
      "execution_count": 24,
      "outputs": [
        {
          "output_type": "stream",
          "text": [
            "Model: \"sequential_7\"\n",
            "_________________________________________________________________\n",
            "Layer (type)                 Output Shape              Param #   \n",
            "=================================================================\n",
            "conv2d_4 (Conv2D)            (None, 26, 26, 32)        320       \n",
            "_________________________________________________________________\n",
            "conv2d_5 (Conv2D)            (None, 24, 24, 25)        7225      \n",
            "_________________________________________________________________\n",
            "flatten_2 (Flatten)          (None, 14400)             0         \n",
            "_________________________________________________________________\n",
            "dense_15 (Dense)             (None, 100)               1440100   \n",
            "_________________________________________________________________\n",
            "activation_11 (Activation)   (None, 100)               0         \n",
            "_________________________________________________________________\n",
            "dense_16 (Dense)             (None, 10)                1010      \n",
            "_________________________________________________________________\n",
            "activation_12 (Activation)   (None, 10)                0         \n",
            "=================================================================\n",
            "Total params: 1,448,655\n",
            "Trainable params: 1,448,655\n",
            "Non-trainable params: 0\n",
            "_________________________________________________________________\n"
          ],
          "name": "stdout"
        }
      ]
    },
    {
      "cell_type": "markdown",
      "metadata": {
        "id": "RWtm7tJAvRZ4",
        "colab_type": "text"
      },
      "source": [
        "(2)有沒有Pooling layer, 對於參數量的差異"
      ]
    },
    {
      "cell_type": "code",
      "metadata": {
        "id": "2so5R2I6T0xk",
        "colab_type": "code",
        "colab": {
          "base_uri": "https://localhost:8080/",
          "height": 459
        },
        "outputId": "041b655b-9567-476b-8d61-107e31fb5191"
      },
      "source": [
        "#建立一個序列模型\n",
        "model = models.Sequential()\n",
        "#建立兩個卷積層, 32 個內核, 內核大小 3x3, \n",
        "#輸入影像大小 28x28x1\n",
        "model.add(layers.Conv2D(32, (3, 3), input_shape=(28, 28, 1)))\n",
        "\n",
        "model.add(MaxPooling2D(2,2))            #Pooling layer \n",
        "\n",
        "model.add(layers.Conv2D(25, (3, 3)))\n",
        "\n",
        "model.add(MaxPooling2D(2,2))            #Pooling layer\n",
        "\n",
        "model.add(Flatten())\n",
        "\n",
        "#建立一個全連接層\n",
        "model.add(Dense(units=100))\n",
        "model.add(Activation('relu'))\n",
        "\n",
        "#建立一個輸出層, 並採用softmax\n",
        "model.add(Dense(units=10))\n",
        "model.add(Activation('softmax'))\n",
        "\n",
        "model.summary()"
      ],
      "execution_count": 25,
      "outputs": [
        {
          "output_type": "stream",
          "text": [
            "Model: \"sequential_8\"\n",
            "_________________________________________________________________\n",
            "Layer (type)                 Output Shape              Param #   \n",
            "=================================================================\n",
            "conv2d_6 (Conv2D)            (None, 26, 26, 32)        320       \n",
            "_________________________________________________________________\n",
            "max_pooling2d_4 (MaxPooling2 (None, 13, 13, 32)        0         \n",
            "_________________________________________________________________\n",
            "conv2d_7 (Conv2D)            (None, 11, 11, 25)        7225      \n",
            "_________________________________________________________________\n",
            "max_pooling2d_5 (MaxPooling2 (None, 5, 5, 25)          0         \n",
            "_________________________________________________________________\n",
            "flatten_3 (Flatten)          (None, 625)               0         \n",
            "_________________________________________________________________\n",
            "dense_17 (Dense)             (None, 100)               62600     \n",
            "_________________________________________________________________\n",
            "activation_13 (Activation)   (None, 100)               0         \n",
            "_________________________________________________________________\n",
            "dense_18 (Dense)             (None, 10)                1010      \n",
            "_________________________________________________________________\n",
            "activation_14 (Activation)   (None, 10)                0         \n",
            "=================================================================\n",
            "Total params: 71,155\n",
            "Trainable params: 71,155\n",
            "Non-trainable params: 0\n",
            "_________________________________________________________________\n"
          ],
          "name": "stdout"
        }
      ]
    },
    {
      "cell_type": "markdown",
      "metadata": {
        "id": "ALhtQaDkwniK",
        "colab_type": "text"
      },
      "source": [
        "以總參數量來說： \n",
        " - layers.Conv2D：1,448,655\n",
        " - layers.Conv2D + Pooling layer：71,155\n",
        "參數量明顯下降很多，因為池化層的功能是降維並保留重要特徵。 \n"
      ]
    },
    {
      "cell_type": "code",
      "metadata": {
        "id": "nrFpKeOFT08w",
        "colab_type": "code",
        "colab": {}
      },
      "source": [
        ""
      ],
      "execution_count": 0,
      "outputs": []
    },
    {
      "cell_type": "markdown",
      "metadata": {
        "id": "MFjj0NbDWqzA",
        "colab_type": "text"
      },
      "source": [
        "# 範例重點\n",
        "CNN 模型必要的: Convolution, Pooling, Flatten, Fully connection, Output, "
      ]
    },
    {
      "cell_type": "code",
      "metadata": {
        "id": "rA8bFyHTT0_-",
        "colab_type": "code",
        "colab": {
          "base_uri": "https://localhost:8080/",
          "height": 51
        },
        "outputId": "aba3de4d-7388-4c92-f6e8-9b1318805c8c"
      },
      "source": [
        "#導入相關模組\n",
        "import keras\n",
        "from keras import layers\n",
        "from keras import models\n",
        "from keras.models import Sequential\n",
        "from keras.layers import Conv2D, Activation, MaxPooling2D, Flatten, Dense\n",
        "\n",
        "#確認keras 版本\n",
        "print(keras.__version__)"
      ],
      "execution_count": 11,
      "outputs": [
        {
          "output_type": "stream",
          "text": [
            "Using TensorFlow backend.\n"
          ],
          "name": "stderr"
        },
        {
          "output_type": "stream",
          "text": [
            "2.2.5\n"
          ],
          "name": "stdout"
        }
      ]
    },
    {
      "cell_type": "code",
      "metadata": {
        "id": "ONkXat-9T1DZ",
        "colab_type": "code",
        "colab": {}
      },
      "source": [
        "#建立一個序列模型\n",
        "model = models.Sequential()\n",
        "#建立一個卷積層, 32 個內核, 內核大小 3x3, \n",
        "#輸入影像大小 28x28x1\n",
        "model.add(layers.Conv2D(32, (3, 3), input_shape=(28, 28, 1)))"
      ],
      "execution_count": 0,
      "outputs": []
    },
    {
      "cell_type": "code",
      "metadata": {
        "id": "4x5EMzfIT1Gq",
        "colab_type": "code",
        "colab": {}
      },
      "source": [
        "#新增一池化層, 採用maxpooling\n",
        "model.add(MaxPooling2D(2,2))"
      ],
      "execution_count": 0,
      "outputs": []
    },
    {
      "cell_type": "code",
      "metadata": {
        "id": "fjXl-QKWT1PO",
        "colab_type": "code",
        "colab": {}
      },
      "source": [
        "#建立第二個卷積層, 池化層, \n",
        "#請注意, 不需要再輸入 input_shape\n",
        "model.add(layers.Conv2D(25, (3, 3)))\n",
        "model.add(MaxPooling2D(2,2))"
      ],
      "execution_count": 0,
      "outputs": []
    },
    {
      "cell_type": "code",
      "metadata": {
        "id": "zJv-fSwlW0dK",
        "colab_type": "code",
        "colab": {}
      },
      "source": [
        "#新增平坦層\n",
        "model.add(Flatten())"
      ],
      "execution_count": 0,
      "outputs": []
    },
    {
      "cell_type": "code",
      "metadata": {
        "id": "gclJCohcW0hp",
        "colab_type": "code",
        "colab": {}
      },
      "source": [
        "#建立一個全連接層\n",
        "model.add(Dense(units=100))\n",
        "model.add(Activation('relu'))\n",
        "\n",
        "#建立一個輸出層, 並採用softmax\n",
        "model.add(Dense(units=10))\n",
        "model.add(Activation('softmax'))"
      ],
      "execution_count": 0,
      "outputs": []
    },
    {
      "cell_type": "code",
      "metadata": {
        "id": "mLbMtHu4W0lT",
        "colab_type": "code",
        "colab": {
          "base_uri": "https://localhost:8080/",
          "height": 493
        },
        "outputId": "7a2b5c8c-1531-43eb-d3a7-d0fd28314db8"
      },
      "source": [
        "#輸出模型的堆疊\n",
        "model.summary()"
      ],
      "execution_count": 19,
      "outputs": [
        {
          "output_type": "stream",
          "text": [
            "Model: \"sequential_2\"\n",
            "_________________________________________________________________\n",
            "Layer (type)                 Output Shape              Param #   \n",
            "=================================================================\n",
            "conv2d_2 (Conv2D)            (None, 26, 26, 32)        320       \n",
            "_________________________________________________________________\n",
            "max_pooling2d_1 (MaxPooling2 (None, 13, 13, 32)        0         \n",
            "_________________________________________________________________\n",
            "max_pooling2d_2 (MaxPooling2 (None, 6, 6, 32)          0         \n",
            "_________________________________________________________________\n",
            "conv2d_3 (Conv2D)            (None, 4, 4, 25)          7225      \n",
            "_________________________________________________________________\n",
            "max_pooling2d_3 (MaxPooling2 (None, 2, 2, 25)          0         \n",
            "_________________________________________________________________\n",
            "flatten_1 (Flatten)          (None, 100)               0         \n",
            "_________________________________________________________________\n",
            "dense_1 (Dense)              (None, 100)               10100     \n",
            "_________________________________________________________________\n",
            "activation_1 (Activation)    (None, 100)               0         \n",
            "_________________________________________________________________\n",
            "dense_2 (Dense)              (None, 10)                1010      \n",
            "_________________________________________________________________\n",
            "activation_2 (Activation)    (None, 10)                0         \n",
            "=================================================================\n",
            "Total params: 18,655\n",
            "Trainable params: 18,655\n",
            "Non-trainable params: 0\n",
            "_________________________________________________________________\n"
          ],
          "name": "stdout"
        }
      ]
    },
    {
      "cell_type": "code",
      "metadata": {
        "id": "XgA7fM67W0t1",
        "colab_type": "code",
        "colab": {}
      },
      "source": [
        ""
      ],
      "execution_count": 0,
      "outputs": []
    },
    {
      "cell_type": "markdown",
      "metadata": {
        "id": "2P873l2gT1um",
        "colab_type": "text"
      },
      "source": [
        "參考資料  \n",
        "- [3x3 convolution kernels with online demo](http://matlabtricks.com/post-5/3x3-convolution-kernels-with-online-demo#demo)\n"
      ]
    },
    {
      "cell_type": "code",
      "metadata": {
        "id": "933k1VGeUD6r",
        "colab_type": "code",
        "colab": {
          "base_uri": "https://localhost:8080/",
          "height": 687
        },
        "outputId": "e6209cff-04cd-49b4-da92-81bc00592054"
      },
      "source": [
        "Image(url= \"https://ai100-fileentity.cupoy.com/homework/D93/1554705748766/large\")"
      ],
      "execution_count": 8,
      "outputs": [
        {
          "output_type": "execute_result",
          "data": {
            "text/html": [
              "<img src=\"https://ai100-fileentity.cupoy.com/homework/D93/1554705748766/large\"/>"
            ],
            "text/plain": [
              "<IPython.core.display.Image object>"
            ]
          },
          "metadata": {
            "tags": []
          },
          "execution_count": 8
        }
      ]
    },
    {
      "cell_type": "markdown",
      "metadata": {
        "id": "-7jcgj4uV1A6",
        "colab_type": "text"
      },
      "source": [
        "- Kernel Array 幾個應用範例的效果"
      ]
    },
    {
      "cell_type": "code",
      "metadata": {
        "id": "bH64c_3-UXl4",
        "colab_type": "code",
        "colab": {
          "base_uri": "https://localhost:8080/",
          "height": 809
        },
        "outputId": "c9b5aa1f-f06f-4949-ec47-b59edb164c63"
      },
      "source": [
        "Image(url= \"https://ai100-fileentity.cupoy.com/homework/D93/1554705820755/large\")"
      ],
      "execution_count": 9,
      "outputs": [
        {
          "output_type": "execute_result",
          "data": {
            "text/html": [
              "<img src=\"https://ai100-fileentity.cupoy.com/homework/D93/1554705820755/large\"/>"
            ],
            "text/plain": [
              "<IPython.core.display.Image object>"
            ]
          },
          "metadata": {
            "tags": []
          },
          "execution_count": 9
        }
      ]
    },
    {
      "cell_type": "markdown",
      "metadata": {
        "id": "QMGXJaIzV4no",
        "colab_type": "text"
      },
      "source": [
        "- CNN 工作模型"
      ]
    },
    {
      "cell_type": "code",
      "metadata": {
        "id": "Y3rjznPbV5Ep",
        "colab_type": "code",
        "colab": {
          "base_uri": "https://localhost:8080/",
          "height": 655
        },
        "outputId": "e7232004-2b18-43ea-e763-d0e525af48ce"
      },
      "source": [
        "Image(url= \"https://ai100-fileentity.cupoy.com/homework/D93/1554705976760/large\")"
      ],
      "execution_count": 10,
      "outputs": [
        {
          "output_type": "execute_result",
          "data": {
            "text/html": [
              "<img src=\"https://ai100-fileentity.cupoy.com/homework/D93/1554705976760/large\"/>"
            ],
            "text/plain": [
              "<IPython.core.display.Image object>"
            ]
          },
          "metadata": {
            "tags": []
          },
          "execution_count": 10
        }
      ]
    },
    {
      "cell_type": "code",
      "metadata": {
        "id": "iVxaOzE8WFT_",
        "colab_type": "code",
        "colab": {}
      },
      "source": [
        ""
      ],
      "execution_count": 0,
      "outputs": []
    }
  ]
}