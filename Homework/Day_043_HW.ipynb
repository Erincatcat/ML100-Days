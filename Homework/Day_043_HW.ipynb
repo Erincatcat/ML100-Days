{
 "cells": [
  {
   "cell_type": "markdown",
   "metadata": {},
   "source": [
    "# 作業\n",
    "閱讀以下兩篇文獻，了解隨機森林原理，並試著回答後續的思考問題  \n",
    "\n",
    "[隨機森林 (random forest) - 中文](http://hhtucode.blogspot.com/2013/06/ml-random-forest.html)  \n",
    "[how random forest works - 英文](https://medium.com/@Synced/how-random-forest-algorithm-works-in-machine-learning-3c0fe15b6674)  "
   ]
  },
  {
   "cell_type": "markdown",
   "metadata": {},
   "source": [
    "**隨機森林中的每一棵樹，是希望能夠  \n",
    "    -沒有任何限制，讓樹可以持續生長 (讓樹生成很深，讓模型變得複雜)  \n",
    "    -不要過度生長，避免 Overfitting**\n",
    "\n",
    "→雖然隨機森林可以改善決策樹的缺點，避免overfitting。但是還是要針對隨機森林的個別樹木做超參數調整，找出最適合的超參數，避免讓模型太複雜。"
   ]
  },
  {
   "cell_type": "markdown",
   "metadata": {},
   "source": [
    "**假設總共有 N 筆資料，每棵樹用取後放回的方式抽了總共 N 筆資料生成，請問這棵樹大約使用了多少 % 不重複的原資料生成?\n",
    "hint: 0.632 bootstrap**\n",
    "\n",
    "→63.2%  \n",
    "\n",
    "抽一次，被抽中機率 = $\\frac{1}{N}$ ，沒被抽中機率 = $1-\\frac{1}{N}$  \n",
    "抽了N次後，都沒被抽中機率 = $(1-\\frac{1}{N})^N$   \n",
    "樣本大時，都沒被抽中機率為 = $lim_{N \\to \\infty} (1-\\frac{1}{N})^N \\approx \\frac{1}{e}$   \n",
    "因此，N筆資料中，大約有$1-\\frac{1}{e} \\approx 1-\\frac{1}{2.71828} = 0.632$ ，也就是63.2%的資料有被抽過。 \n",
    "  \n",
    "  \n",
    "\n"
   ]
  },
  {
   "cell_type": "code",
   "execution_count": null,
   "metadata": {},
   "outputs": [],
   "source": []
  }
 ],
 "metadata": {
  "kernelspec": {
   "display_name": "Python 3",
   "language": "python",
   "name": "python3"
  },
  "language_info": {
   "codemirror_mode": {
    "name": "ipython",
    "version": 3
   },
   "file_extension": ".py",
   "mimetype": "text/x-python",
   "name": "python",
   "nbconvert_exporter": "python",
   "pygments_lexer": "ipython3",
   "version": "3.7.0"
  },
  "toc": {
   "base_numbering": 1,
   "nav_menu": {},
   "number_sections": true,
   "sideBar": true,
   "skip_h1_title": false,
   "title_cell": "Table of Contents",
   "title_sidebar": "Contents",
   "toc_cell": false,
   "toc_position": {},
   "toc_section_display": true,
   "toc_window_display": false
  },
  "varInspector": {
   "cols": {
    "lenName": 16,
    "lenType": 16,
    "lenVar": 40
   },
   "kernels_config": {
    "python": {
     "delete_cmd_postfix": "",
     "delete_cmd_prefix": "del ",
     "library": "var_list.py",
     "varRefreshCmd": "print(var_dic_list())"
    },
    "r": {
     "delete_cmd_postfix": ") ",
     "delete_cmd_prefix": "rm(",
     "library": "var_list.r",
     "varRefreshCmd": "cat(var_dic_list()) "
    }
   },
   "types_to_exclude": [
    "module",
    "function",
    "builtin_function_or_method",
    "instance",
    "_Feature"
   ],
   "window_display": false
  }
 },
 "nbformat": 4,
 "nbformat_minor": 2
}
