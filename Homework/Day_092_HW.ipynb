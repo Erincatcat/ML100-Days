{
  "nbformat": 4,
  "nbformat_minor": 0,
  "metadata": {
    "colab": {
      "name": "Day_092_HW.ipynb",
      "provenance": [],
      "collapsed_sections": []
    },
    "kernelspec": {
      "name": "python3",
      "display_name": "Python 3"
    }
  },
  "cells": [
    {
      "cell_type": "markdown",
      "metadata": {
        "id": "Op_-vRSUzYuX",
        "colab_type": "text"
      },
      "source": [
        "請閱讀以下文獻，理解 CNN 原理後回答問題\n",
        "\n",
        "- [卷積神經網路原理 - 中文](https://brohrer.mcknote.com/zh-Hant/how_machine_learning_works/how_convolutional_neural_networks_work.html)    \n",
        "- [CNN for beginner’s guide](https://adeshpande3.github.io/A-Beginner%27s-Guide-To-Understanding-Convolutional-Neural-Networks/)  \n",
        "\n",
        "1. 若使用總共 128 個濾波器 (filters)，對一張 256x256 的影像做完卷積後，共會得到幾張特徵圖 (feature maps)？  \n",
        "\n",
        "2. 卷積神經網路中，濾波器的大小 (3x3 or 5x5) 與內部數字的值 (value) 是怎麼決定的呢？"
      ]
    },
    {
      "cell_type": "markdown",
      "metadata": {
        "id": "zvTjxTKL1QbH",
        "colab_type": "text"
      },
      "source": [
        "1. 每個filter會產生一張feature map，128個filters共得到128張feature maps.\n",
        "2. \n",
        "  - 濾波器的大小是超參數，可自行決定  \n",
        "   \n",
        "  - 內部數字的值是透過反向傳遞而習得的"
      ]
    },
    {
      "cell_type": "code",
      "metadata": {
        "id": "ABAUKnZIzOmr",
        "colab_type": "code",
        "colab": {}
      },
      "source": [
        ""
      ],
      "execution_count": 0,
      "outputs": []
    }
  ]
}