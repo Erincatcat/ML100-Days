{
  "nbformat": 4,
  "nbformat_minor": 0,
  "metadata": {
    "colab": {
      "name": "Day_088_HW.ipynb",
      "version": "0.3.2",
      "provenance": [],
      "collapsed_sections": []
    },
    "kernelspec": {
      "name": "python3",
      "display_name": "Python 3"
    }
  },
  "cells": [
    {
      "cell_type": "markdown",
      "metadata": {
        "id": "T2VZSWhkuKng",
        "colab_type": "text"
      },
      "source": [
        "# 作業 \n",
        "請嘗試寫一個 callback 用來記錄各類別在訓練過程中，對驗證集的 True Positive 與 True Negative"
      ]
    },
    {
      "cell_type": "code",
      "metadata": {
        "id": "EWPEPvIgO3N5",
        "colab_type": "code",
        "colab": {}
      },
      "source": [
        "import os\n",
        "import keras\n",
        "\n",
        "# Disable GPU\n",
        "os.environ[\"CUDA_VISIBLE_DEVICES\"] = \"\""
      ],
      "execution_count": 0,
      "outputs": []
    },
    {
      "cell_type": "code",
      "metadata": {
        "id": "5OjPnwgwO47_",
        "colab_type": "code",
        "colab": {}
      },
      "source": [
        "train, test = keras.datasets.cifar10.load_data()"
      ],
      "execution_count": 0,
      "outputs": []
    },
    {
      "cell_type": "code",
      "metadata": {
        "id": "Ju1jo2eBO5C1",
        "colab_type": "code",
        "colab": {}
      },
      "source": [
        "## 資料前處理\n",
        "def preproc_x(x, flatten=True):\n",
        "    x = x / 255.\n",
        "    if flatten:\n",
        "        x = x.reshape((len(x), -1))\n",
        "    return x\n",
        "\n",
        "def preproc_y(y, num_classes=10):\n",
        "    if y.shape[-1] == 1:\n",
        "        y = keras.utils.to_categorical(y, num_classes)\n",
        "    return y    "
      ],
      "execution_count": 0,
      "outputs": []
    },
    {
      "cell_type": "code",
      "metadata": {
        "id": "DuSuUNhnO5Id",
        "colab_type": "code",
        "colab": {}
      },
      "source": [
        "x_train, y_train = train\n",
        "x_test, y_test = test\n",
        "\n",
        "# Preproc the inputs\n",
        "x_train = preproc_x(x_train)\n",
        "x_test = preproc_x(x_test)\n",
        "\n",
        "# Preprc the outputs\n",
        "y_train = preproc_y(y_train)\n",
        "y_test = preproc_y(y_test)"
      ],
      "execution_count": 0,
      "outputs": []
    },
    {
      "cell_type": "code",
      "metadata": {
        "id": "tfwzcndVO5Nm",
        "colab_type": "code",
        "colab": {}
      },
      "source": [
        "from keras.layers import BatchNormalization\n",
        "def build_mlp(input_shape, output_units=10, num_neurons=[512, 256, 128]):\n",
        "    input_layer = keras.layers.Input(input_shape)\n",
        "    \n",
        "    for i, n_units in enumerate(num_neurons):\n",
        "        if i == 0:\n",
        "            x = keras.layers.Dense(units=n_units, \n",
        "                                   activation=\"relu\", \n",
        "                                   name=\"hidden_layer\"+str(i+1))(input_layer)\n",
        "            x = BatchNormalization()(x)\n",
        "        else:\n",
        "            x = keras.layers.Dense(units=n_units, \n",
        "                                   activation=\"relu\", \n",
        "                                   name=\"hidden_layer\"+str(i+1))(x)\n",
        "            x = BatchNormalization()(x)\n",
        "    \n",
        "    out = keras.layers.Dense(units=output_units, activation=\"softmax\", name=\"output\")(x)\n",
        "    \n",
        "    model = keras.models.Model(inputs=[input_layer], outputs=[out])\n",
        "    return model"
      ],
      "execution_count": 0,
      "outputs": []
    },
    {
      "cell_type": "code",
      "metadata": {
        "id": "pPHz_0D0uVKR",
        "colab_type": "code",
        "colab": {}
      },
      "source": [
        "## 超參數設定\n",
        "LEARNING_RATE = 1e-3\n",
        "EPOCHS = 25\n",
        "BATCH_SIZE = 1024\n",
        "MOMENTUM = 0.95"
      ],
      "execution_count": 0,
      "outputs": []
    },
    {
      "cell_type": "code",
      "metadata": {
        "id": "_254EN1nuVTD",
        "colab_type": "code",
        "colab": {}
      },
      "source": [
        "# 載入 Callbacks\n",
        "from keras.callbacks import Callback\n",
        "\n",
        "# Record_fp_tp\n",
        "class Record_tp_tn(Callback):\n",
        "    def on_train_begin(self, epoch, logs = {}):\n",
        "        logs = logs or {}\n",
        "        record_items = [\"val_auc\", \"val_f1sc\", \"val_fp\", \"val_fn\", \"val_tp\", \"val_tn\"]\n",
        "        for i in record_items:\n",
        "            if i not in self.params['metrics']:\n",
        "                self.params['metrics'].append(i)\n",
        "    def on_epoch_end(self, epoch, logs = {}, thres=0.5):\n",
        "        logs = logs or {}\n",
        "        y_true = self.validation_data[1].argmax(axis = 1)\n",
        "        y_pred = self.model.predict(self.validation_data[0])\n",
        "        y_pred = (y_pred[:, 1] >= thres) * 1\n",
        "        \n",
        "        cm = confusion_matrix(y_true, y_pred)\n",
        "        logs['Val_TP'] = cm[0][0]\n",
        "        logs['Val_TN'] = cm[1][1]\n",
        "           \n",
        "rec_tptn = Record_tp_tn()"
      ],
      "execution_count": 0,
      "outputs": []
    },
    {
      "cell_type": "code",
      "metadata": {
        "id": "-c8J9d7PuVbB",
        "colab_type": "code",
        "colab": {
          "base_uri": "https://localhost:8080/",
          "height": 1000
        },
        "outputId": "6fbe671a-1083-444a-b352-5d5288d9d9b7"
      },
      "source": [
        "from sklearn.metrics import confusion_matrix\n",
        "\n",
        "model = build_mlp(input_shape=x_train.shape[1:])\n",
        "model.summary()\n",
        "optimizer = keras.optimizers.SGD(lr=LEARNING_RATE, nesterov=True, momentum=MOMENTUM)\n",
        "model.compile(loss=\"categorical_crossentropy\", metrics=[\"accuracy\"], optimizer=optimizer)\n",
        "\n",
        "# Fit the model with rec_tptn callback_fn\n",
        "model.fit(x_train, y_train, \n",
        "          epochs=EPOCHS, \n",
        "          batch_size=BATCH_SIZE, \n",
        "          validation_data=(x_test, y_test), \n",
        "          shuffle=True,\n",
        "          callbacks=[rec_tptn])\n",
        "\n",
        "# Collect results\n",
        "train_loss = model.history.history[\"loss\"]\n",
        "valid_loss = model.history.history[\"val_loss\"]\n",
        "train_acc = model.history.history[\"acc\"]\n",
        "valid_acc = model.history.history[\"val_acc\"]\n",
        "\n",
        "#Collect tp/tn from model history\n",
        "valid_tp = model.history.history['Val_TP']\n",
        "valid_tn = model.history.history['Val_TN']"
      ],
      "execution_count": 19,
      "outputs": [
        {
          "output_type": "stream",
          "text": [
            "_________________________________________________________________\n",
            "Layer (type)                 Output Shape              Param #   \n",
            "=================================================================\n",
            "input_3 (InputLayer)         (None, 3072)              0         \n",
            "_________________________________________________________________\n",
            "hidden_layer1 (Dense)        (None, 512)               1573376   \n",
            "_________________________________________________________________\n",
            "batch_normalization_7 (Batch (None, 512)               2048      \n",
            "_________________________________________________________________\n",
            "hidden_layer2 (Dense)        (None, 256)               131328    \n",
            "_________________________________________________________________\n",
            "batch_normalization_8 (Batch (None, 256)               1024      \n",
            "_________________________________________________________________\n",
            "hidden_layer3 (Dense)        (None, 128)               32896     \n",
            "_________________________________________________________________\n",
            "batch_normalization_9 (Batch (None, 128)               512       \n",
            "_________________________________________________________________\n",
            "output (Dense)               (None, 10)                1290      \n",
            "=================================================================\n",
            "Total params: 1,742,474\n",
            "Trainable params: 1,740,682\n",
            "Non-trainable params: 1,792\n",
            "_________________________________________________________________\n",
            "Train on 50000 samples, validate on 10000 samples\n",
            "Epoch 1/25\n",
            "50000/50000 [==============================] - 10s 204us/step - loss: 2.1848 - acc: 0.2780 - val_loss: 2.0909 - val_acc: 0.3365\n",
            "Epoch 2/25\n",
            "50000/50000 [==============================] - 9s 187us/step - loss: 1.7264 - acc: 0.4007 - val_loss: 1.7990 - val_acc: 0.3900\n",
            "Epoch 3/25\n",
            "50000/50000 [==============================] - 9s 185us/step - loss: 1.6095 - acc: 0.4385 - val_loss: 1.7028 - val_acc: 0.4177\n",
            "Epoch 4/25\n",
            "50000/50000 [==============================] - 9s 186us/step - loss: 1.5404 - acc: 0.4628 - val_loss: 1.6229 - val_acc: 0.4383\n",
            "Epoch 5/25\n",
            "50000/50000 [==============================] - 9s 186us/step - loss: 1.4884 - acc: 0.4791 - val_loss: 1.6023 - val_acc: 0.4442\n",
            "Epoch 6/25\n",
            "50000/50000 [==============================] - 9s 185us/step - loss: 1.4437 - acc: 0.4924 - val_loss: 1.5578 - val_acc: 0.4558\n",
            "Epoch 7/25\n",
            "50000/50000 [==============================] - 9s 184us/step - loss: 1.4037 - acc: 0.5091 - val_loss: 1.5531 - val_acc: 0.4597\n",
            "Epoch 8/25\n",
            "50000/50000 [==============================] - 9s 184us/step - loss: 1.3694 - acc: 0.5212 - val_loss: 1.5297 - val_acc: 0.4648\n",
            "Epoch 9/25\n",
            "50000/50000 [==============================] - 9s 184us/step - loss: 1.3394 - acc: 0.5311 - val_loss: 1.5213 - val_acc: 0.4699\n",
            "Epoch 10/25\n",
            "50000/50000 [==============================] - 9s 186us/step - loss: 1.3079 - acc: 0.5427 - val_loss: 1.5095 - val_acc: 0.4737\n",
            "Epoch 11/25\n",
            "50000/50000 [==============================] - 9s 185us/step - loss: 1.2793 - acc: 0.5550 - val_loss: 1.4978 - val_acc: 0.4763\n",
            "Epoch 12/25\n",
            "50000/50000 [==============================] - 9s 184us/step - loss: 1.2527 - acc: 0.5631 - val_loss: 1.4943 - val_acc: 0.4807\n",
            "Epoch 13/25\n",
            "50000/50000 [==============================] - 9s 183us/step - loss: 1.2275 - acc: 0.5759 - val_loss: 1.4866 - val_acc: 0.4797\n",
            "Epoch 14/25\n",
            "50000/50000 [==============================] - 9s 184us/step - loss: 1.2021 - acc: 0.5848 - val_loss: 1.4752 - val_acc: 0.4883\n",
            "Epoch 15/25\n",
            "50000/50000 [==============================] - 9s 183us/step - loss: 1.1769 - acc: 0.5951 - val_loss: 1.4734 - val_acc: 0.4891\n",
            "Epoch 16/25\n",
            "50000/50000 [==============================] - 9s 183us/step - loss: 1.1525 - acc: 0.6032 - val_loss: 1.4784 - val_acc: 0.4887\n",
            "Epoch 17/25\n",
            "50000/50000 [==============================] - 9s 184us/step - loss: 1.1312 - acc: 0.6123 - val_loss: 1.4712 - val_acc: 0.4868\n",
            "Epoch 18/25\n",
            "50000/50000 [==============================] - 9s 185us/step - loss: 1.1078 - acc: 0.6220 - val_loss: 1.4677 - val_acc: 0.4913\n",
            "Epoch 19/25\n",
            "50000/50000 [==============================] - 9s 185us/step - loss: 1.0849 - acc: 0.6282 - val_loss: 1.4776 - val_acc: 0.4872\n",
            "Epoch 20/25\n",
            "50000/50000 [==============================] - 9s 186us/step - loss: 1.0621 - acc: 0.6374 - val_loss: 1.4702 - val_acc: 0.4913\n",
            "Epoch 21/25\n",
            "50000/50000 [==============================] - 9s 185us/step - loss: 1.0437 - acc: 0.6432 - val_loss: 1.4726 - val_acc: 0.4887\n",
            "Epoch 22/25\n",
            "50000/50000 [==============================] - 9s 184us/step - loss: 1.0203 - acc: 0.6547 - val_loss: 1.4630 - val_acc: 0.4940\n",
            "Epoch 23/25\n",
            "50000/50000 [==============================] - 9s 184us/step - loss: 0.9998 - acc: 0.6631 - val_loss: 1.4758 - val_acc: 0.4904\n",
            "Epoch 24/25\n",
            "50000/50000 [==============================] - 9s 184us/step - loss: 0.9801 - acc: 0.6693 - val_loss: 1.4702 - val_acc: 0.4921\n",
            "Epoch 25/25\n",
            "50000/50000 [==============================] - 9s 185us/step - loss: 0.9570 - acc: 0.6781 - val_loss: 1.4722 - val_acc: 0.4943\n"
          ],
          "name": "stdout"
        }
      ]
    },
    {
      "cell_type": "code",
      "metadata": {
        "id": "ph7iAkYFuVh3",
        "colab_type": "code",
        "colab": {
          "base_uri": "https://localhost:8080/",
          "height": 809
        },
        "outputId": "b5ffa33d-d88a-4103-d817-70bd9309c065"
      },
      "source": [
        "import matplotlib.pyplot as plt\n",
        "%matplotlib inline\n",
        "\n",
        "plt.plot(range(len(train_loss)), train_loss, label=\"train loss\")\n",
        "plt.plot(range(len(valid_loss)), valid_loss, label=\"valid loss\")\n",
        "plt.legend()\n",
        "plt.title(\"Loss\")\n",
        "plt.show()\n",
        "\n",
        "plt.plot(range(len(train_acc)), train_acc, label=\"train accuracy\")\n",
        "plt.plot(range(len(valid_acc)), valid_acc, label=\"valid accuracy\")\n",
        "plt.legend()\n",
        "plt.title(\"Accuracy\")\n",
        "plt.show()\n",
        "\n",
        "plt.plot(range(len(valid_tp)), valid_tp, label=\"valid tp\", color=\"navy\")\n",
        "plt.plot(range(len(valid_tn)), valid_tn, label=\"valid tn\", color=\"red\")\n",
        "plt.legend()\n",
        "plt.title(\"True positives and True Negatives\")\n",
        "plt.show()"
      ],
      "execution_count": 20,
      "outputs": [
        {
          "output_type": "display_data",
          "data": {
            "image/png": "[encoded data removed]",
            "text/plain": [
              "<Figure size 432x288 with 1 Axes>"
            ]
          },
          "metadata": {
            "tags": []
          }
        },
        {
          "output_type": "display_data",
          "data": {
            "image/png": "[encoded data removed]",
            "text/plain": [
              "<Figure size 432x288 with 1 Axes>"
            ]
          },
          "metadata": {
            "tags": []
          }
        },
        {
          "output_type": "display_data",
          "data": {
            "image/png": "[encoded data removed]",
            "text/plain": [
              "<Figure size 432x288 with 1 Axes>"
            ]
          },
          "metadata": {
            "tags": []
          }
        }
      ]
    },
    {
      "cell_type": "code",
      "metadata": {
        "id": "3KhQIpsZuVoa",
        "colab_type": "code",
        "colab": {}
      },
      "source": [
        ""
      ],
      "execution_count": 0,
      "outputs": []
    },
    {
      "cell_type": "markdown",
      "metadata": {
        "id": "m6fef2S4uRJY",
        "colab_type": "text"
      },
      "source": [
        "# 範例 "
      ]
    },
    {
      "cell_type": "code",
      "metadata": {
        "id": "dHRh1IDYO5SP",
        "colab_type": "code",
        "colab": {
          "base_uri": "https://localhost:8080/",
          "height": 34
        },
        "outputId": "fc56e284-e3ab-4b11-b269-9e4795cb7bf3"
      },
      "source": [
        "import os\n",
        "import keras\n",
        "\n",
        "# Disable GPU\n",
        "os.environ[\"CUDA_VISIBLE_DEVICES\"] = \"\""
      ],
      "execution_count": 1,
      "outputs": [
        {
          "output_type": "stream",
          "text": [
            "Using TensorFlow backend.\n"
          ],
          "name": "stderr"
        }
      ]
    },
    {
      "cell_type": "code",
      "metadata": {
        "id": "Lx0StC8EP67f",
        "colab_type": "code",
        "colab": {}
      },
      "source": [
        "train, test = keras.datasets.cifar10.load_data()"
      ],
      "execution_count": 0,
      "outputs": []
    },
    {
      "cell_type": "code",
      "metadata": {
        "id": "O7ZUOQRiP7B_",
        "colab_type": "code",
        "colab": {}
      },
      "source": [
        "## 資料前處理\n",
        "def preproc_x(x, flatten=True):\n",
        "    x = x / 255.\n",
        "    if flatten:\n",
        "        x = x.reshape((len(x), -1))\n",
        "    return x\n",
        "\n",
        "def preproc_y(y, num_classes=10):\n",
        "    if y.shape[-1] == 1:\n",
        "        y = keras.utils.to_categorical(y, num_classes)\n",
        "    return y    "
      ],
      "execution_count": 0,
      "outputs": []
    },
    {
      "cell_type": "code",
      "metadata": {
        "id": "PHUE3FAxP7I3",
        "colab_type": "code",
        "colab": {}
      },
      "source": [
        "x_train, y_train = train\n",
        "x_test, y_test = test\n",
        "\n",
        "# Preproc the inputs\n",
        "x_train = preproc_x(x_train)\n",
        "x_test = preproc_x(x_test)\n",
        "\n",
        "# Preprc the outputs\n",
        "y_train = preproc_y(y_train)\n",
        "y_test = preproc_y(y_test)"
      ],
      "execution_count": 0,
      "outputs": []
    },
    {
      "cell_type": "code",
      "metadata": {
        "id": "tzYaKnO3P7Od",
        "colab_type": "code",
        "colab": {}
      },
      "source": [
        "from keras.layers import BatchNormalization\n",
        "def build_mlp(input_shape, output_units=10, num_neurons=[512, 256, 128]):\n",
        "    input_layer = keras.layers.Input(input_shape)\n",
        "    \n",
        "    for i, n_units in enumerate(num_neurons):\n",
        "        if i == 0:\n",
        "            x = keras.layers.Dense(units=n_units, \n",
        "                                   activation=\"relu\", \n",
        "                                   name=\"hidden_layer\"+str(i+1))(input_layer)\n",
        "            x = BatchNormalization()(x)\n",
        "        else:\n",
        "            x = keras.layers.Dense(units=n_units, \n",
        "                                   activation=\"relu\", \n",
        "                                   name=\"hidden_layer\"+str(i+1))(x)\n",
        "            x = BatchNormalization()(x)\n",
        "    \n",
        "    out = keras.layers.Dense(units=output_units, activation=\"softmax\", name=\"output\")(x)\n",
        "    \n",
        "    model = keras.models.Model(inputs=[input_layer], outputs=[out])\n",
        "    return model"
      ],
      "execution_count": 0,
      "outputs": []
    },
    {
      "cell_type": "code",
      "metadata": {
        "id": "0gq9khDXQWRj",
        "colab_type": "code",
        "colab": {}
      },
      "source": [
        "## 超參數設定\n",
        "LEARNING_RATE = 1e-3\n",
        "EPOCHS = 50\n",
        "BATCH_SIZE = 1024\n",
        "MOMENTUM = 0.95"
      ],
      "execution_count": 0,
      "outputs": []
    },
    {
      "cell_type": "code",
      "metadata": {
        "id": "P59fFtDuQWY3",
        "colab_type": "code",
        "colab": {}
      },
      "source": [
        "# 載入 Callbacks\n",
        "from keras.callbacks import Callback\n",
        "from sklearn.metrics import f1_score\n",
        "\n",
        "class f1sc(Callback):\n",
        "    def on_train_begin(self, epoch, logs = {}):\n",
        "        logs = logs or {}\n",
        "        record_items = [\"val_auc\", \"val_f1sc\", \"val_fp\", \"val_fn\", \"val_tp\", \"val_tn\"]\n",
        "        for i in record_items:\n",
        "            if i not in self.params['metrics']:\n",
        "                self.params['metrics'].append(i)\n",
        "    \n",
        "    def on_epoch_end(self, epoch, logs = {}, thres=0.5):\n",
        "        logs = logs or {}\n",
        "        y_true = self.validation_data[1].argmax(axis = 1)\n",
        "        y_pred = self.model.predict(self.validation_data[0])\n",
        "        y_pred = (y_pred[:, 1] >= thres) * 1\n",
        "        \n",
        "        logs[\"val_f1sc\"] = f1_score(y_true = y_true, y_pred = y_pred, average=\"weighted\")\n",
        "        \n",
        "log_f1sc = f1sc()"
      ],
      "execution_count": 0,
      "outputs": []
    },
    {
      "cell_type": "code",
      "metadata": {
        "id": "0xoR538dQWeY",
        "colab_type": "code",
        "colab": {
          "base_uri": "https://localhost:8080/",
          "height": 1000
        },
        "outputId": "b67f5aab-06ed-4e24-b600-346f576802cd"
      },
      "source": [
        "model = build_mlp(input_shape=x_train.shape[1:])\n",
        "model.summary()\n",
        "optimizer = keras.optimizers.SGD(lr=LEARNING_RATE, nesterov=True, momentum=MOMENTUM)\n",
        "model.compile(loss=\"categorical_crossentropy\", metrics=[\"accuracy\"], optimizer=optimizer)\n",
        "\n",
        "model.fit(x_train, y_train, \n",
        "          epochs=EPOCHS, \n",
        "          batch_size=BATCH_SIZE, \n",
        "          validation_data=(x_test, y_test), \n",
        "          shuffle=True,\n",
        "          callbacks=[log_f1sc]\n",
        "         )\n",
        "\n",
        "# Collect results\n",
        "train_loss = model.history.history[\"loss\"]\n",
        "valid_loss = model.history.history[\"val_loss\"]\n",
        "train_acc = model.history.history[\"acc\"]\n",
        "valid_acc = model.history.history[\"val_acc\"]\n",
        "\n",
        "valid_f1sc = model.history.history['val_f1sc']"
      ],
      "execution_count": 8,
      "outputs": [
        {
          "output_type": "stream",
          "text": [
            "WARNING: Logging before flag parsing goes to stderr.\n",
            "W0822 12:17:02.837427 140008592967552 deprecation_wrapper.py:119] From /usr/local/lib/python3.6/dist-packages/keras/backend/tensorflow_backend.py:74: The name tf.get_default_graph is deprecated. Please use tf.compat.v1.get_default_graph instead.\n",
            "\n",
            "W0822 12:17:02.881513 140008592967552 deprecation_wrapper.py:119] From /usr/local/lib/python3.6/dist-packages/keras/backend/tensorflow_backend.py:517: The name tf.placeholder is deprecated. Please use tf.compat.v1.placeholder instead.\n",
            "\n",
            "W0822 12:17:02.889815 140008592967552 deprecation_wrapper.py:119] From /usr/local/lib/python3.6/dist-packages/keras/backend/tensorflow_backend.py:4138: The name tf.random_uniform is deprecated. Please use tf.random.uniform instead.\n",
            "\n",
            "W0822 12:17:03.028779 140008592967552 deprecation_wrapper.py:119] From /usr/local/lib/python3.6/dist-packages/keras/backend/tensorflow_backend.py:133: The name tf.placeholder_with_default is deprecated. Please use tf.compat.v1.placeholder_with_default instead.\n",
            "\n",
            "W0822 12:17:03.459539 140008592967552 deprecation_wrapper.py:119] From /usr/local/lib/python3.6/dist-packages/keras/optimizers.py:790: The name tf.train.Optimizer is deprecated. Please use tf.compat.v1.train.Optimizer instead.\n",
            "\n",
            "W0822 12:17:03.485841 140008592967552 deprecation_wrapper.py:119] From /usr/local/lib/python3.6/dist-packages/keras/backend/tensorflow_backend.py:3295: The name tf.log is deprecated. Please use tf.math.log instead.\n",
            "\n"
          ],
          "name": "stderr"
        },
        {
          "output_type": "stream",
          "text": [
            "_________________________________________________________________\n",
            "Layer (type)                 Output Shape              Param #   \n",
            "=================================================================\n",
            "input_1 (InputLayer)         (None, 3072)              0         \n",
            "_________________________________________________________________\n",
            "hidden_layer1 (Dense)        (None, 512)               1573376   \n",
            "_________________________________________________________________\n",
            "batch_normalization_1 (Batch (None, 512)               2048      \n",
            "_________________________________________________________________\n",
            "hidden_layer2 (Dense)        (None, 256)               131328    \n",
            "_________________________________________________________________\n",
            "batch_normalization_2 (Batch (None, 256)               1024      \n",
            "_________________________________________________________________\n",
            "hidden_layer3 (Dense)        (None, 128)               32896     \n",
            "_________________________________________________________________\n",
            "batch_normalization_3 (Batch (None, 128)               512       \n",
            "_________________________________________________________________\n",
            "output (Dense)               (None, 10)                1290      \n",
            "=================================================================\n",
            "Total params: 1,742,474\n",
            "Trainable params: 1,740,682\n",
            "Non-trainable params: 1,792\n",
            "_________________________________________________________________\n"
          ],
          "name": "stdout"
        },
        {
          "output_type": "stream",
          "text": [
            "W0822 12:17:03.660476 140008592967552 deprecation.py:323] From /usr/local/lib/python3.6/dist-packages/tensorflow/python/ops/math_grad.py:1250: add_dispatch_support.<locals>.wrapper (from tensorflow.python.ops.array_ops) is deprecated and will be removed in a future version.\n",
            "Instructions for updating:\n",
            "Use tf.where in 2.0, which has the same broadcast rule as np.where\n"
          ],
          "name": "stderr"
        },
        {
          "output_type": "stream",
          "text": [
            "Train on 50000 samples, validate on 10000 samples\n",
            "Epoch 1/50\n",
            "50000/50000 [==============================] - 19s 384us/step - loss: 2.2419 - acc: 0.2634 - val_loss: 2.1196 - val_acc: 0.3098\n"
          ],
          "name": "stdout"
        },
        {
          "output_type": "stream",
          "text": [
            "/usr/local/lib/python3.6/dist-packages/sklearn/metrics/classification.py:1437: UndefinedMetricWarning: F-score is ill-defined and being set to 0.0 in labels with no predicted samples.\n",
            "  'precision', 'predicted', average, warn_for)\n"
          ],
          "name": "stderr"
        },
        {
          "output_type": "stream",
          "text": [
            "Epoch 2/50\n",
            "50000/50000 [==============================] - 18s 350us/step - loss: 1.7444 - acc: 0.3937 - val_loss: 1.8004 - val_acc: 0.3748\n",
            "Epoch 3/50\n",
            "50000/50000 [==============================] - 17s 347us/step - loss: 1.6235 - acc: 0.4346 - val_loss: 1.7142 - val_acc: 0.4022\n",
            "Epoch 4/50\n",
            "50000/50000 [==============================] - 17s 346us/step - loss: 1.5493 - acc: 0.4608 - val_loss: 1.6461 - val_acc: 0.4245\n",
            "Epoch 5/50\n",
            "50000/50000 [==============================] - 17s 344us/step - loss: 1.4931 - acc: 0.4818 - val_loss: 1.6102 - val_acc: 0.4363\n",
            "Epoch 6/50\n",
            "50000/50000 [==============================] - 17s 349us/step - loss: 1.4469 - acc: 0.4972 - val_loss: 1.5751 - val_acc: 0.4462\n",
            "Epoch 7/50\n",
            "50000/50000 [==============================] - 18s 352us/step - loss: 1.4061 - acc: 0.5100 - val_loss: 1.5584 - val_acc: 0.4504\n",
            "Epoch 8/50\n",
            "50000/50000 [==============================] - 18s 352us/step - loss: 1.3713 - acc: 0.5235 - val_loss: 1.5289 - val_acc: 0.4628\n",
            "Epoch 9/50\n",
            "50000/50000 [==============================] - 17s 350us/step - loss: 1.3366 - acc: 0.5355 - val_loss: 1.5308 - val_acc: 0.4597\n",
            "Epoch 10/50\n",
            "50000/50000 [==============================] - 17s 349us/step - loss: 1.3082 - acc: 0.5472 - val_loss: 1.5114 - val_acc: 0.4704\n",
            "Epoch 11/50\n",
            "50000/50000 [==============================] - 17s 349us/step - loss: 1.2791 - acc: 0.5572 - val_loss: 1.4889 - val_acc: 0.4767\n",
            "Epoch 12/50\n",
            "50000/50000 [==============================] - 18s 352us/step - loss: 1.2523 - acc: 0.5663 - val_loss: 1.4803 - val_acc: 0.4795\n",
            "Epoch 13/50\n",
            "50000/50000 [==============================] - 17s 349us/step - loss: 1.2260 - acc: 0.5760 - val_loss: 1.4798 - val_acc: 0.4807\n",
            "Epoch 14/50\n",
            "50000/50000 [==============================] - 18s 352us/step - loss: 1.2024 - acc: 0.5850 - val_loss: 1.4676 - val_acc: 0.4895\n",
            "Epoch 15/50\n",
            "50000/50000 [==============================] - 18s 353us/step - loss: 1.1779 - acc: 0.5953 - val_loss: 1.4683 - val_acc: 0.4841\n",
            "Epoch 16/50\n",
            "50000/50000 [==============================] - 17s 346us/step - loss: 1.1563 - acc: 0.6023 - val_loss: 1.4654 - val_acc: 0.4885\n",
            "Epoch 17/50\n",
            "50000/50000 [==============================] - 18s 350us/step - loss: 1.1320 - acc: 0.6119 - val_loss: 1.4540 - val_acc: 0.4893\n",
            "Epoch 18/50\n",
            "50000/50000 [==============================] - 17s 348us/step - loss: 1.1095 - acc: 0.6206 - val_loss: 1.4569 - val_acc: 0.4931\n",
            "Epoch 19/50\n",
            "50000/50000 [==============================] - 17s 348us/step - loss: 1.0882 - acc: 0.6288 - val_loss: 1.4519 - val_acc: 0.4943\n",
            "Epoch 20/50\n",
            "50000/50000 [==============================] - 18s 353us/step - loss: 1.0666 - acc: 0.6397 - val_loss: 1.4597 - val_acc: 0.4900\n",
            "Epoch 21/50\n",
            "50000/50000 [==============================] - 18s 352us/step - loss: 1.0446 - acc: 0.6483 - val_loss: 1.4602 - val_acc: 0.4969\n",
            "Epoch 22/50\n",
            "50000/50000 [==============================] - 17s 347us/step - loss: 1.0267 - acc: 0.6527 - val_loss: 1.4576 - val_acc: 0.4929\n",
            "Epoch 23/50\n",
            "50000/50000 [==============================] - 17s 340us/step - loss: 1.0061 - acc: 0.6616 - val_loss: 1.4690 - val_acc: 0.4948\n",
            "Epoch 24/50\n",
            "50000/50000 [==============================] - 17s 345us/step - loss: 0.9823 - acc: 0.6719 - val_loss: 1.4589 - val_acc: 0.5005\n",
            "Epoch 25/50\n",
            "50000/50000 [==============================] - 17s 348us/step - loss: 0.9621 - acc: 0.6789 - val_loss: 1.4648 - val_acc: 0.4912\n",
            "Epoch 26/50\n",
            "50000/50000 [==============================] - 18s 357us/step - loss: 0.9412 - acc: 0.6857 - val_loss: 1.4659 - val_acc: 0.4984\n",
            "Epoch 27/50\n",
            "50000/50000 [==============================] - 18s 352us/step - loss: 0.9233 - acc: 0.6934 - val_loss: 1.4783 - val_acc: 0.4963\n",
            "Epoch 28/50\n",
            "50000/50000 [==============================] - 18s 353us/step - loss: 0.8997 - acc: 0.7022 - val_loss: 1.4633 - val_acc: 0.4946\n",
            "Epoch 29/50\n",
            "50000/50000 [==============================] - 18s 354us/step - loss: 0.8817 - acc: 0.7095 - val_loss: 1.4871 - val_acc: 0.4972\n",
            "Epoch 30/50\n",
            "50000/50000 [==============================] - 18s 352us/step - loss: 0.8617 - acc: 0.7178 - val_loss: 1.4947 - val_acc: 0.4934\n",
            "Epoch 31/50\n",
            "50000/50000 [==============================] - 17s 348us/step - loss: 0.8426 - acc: 0.7263 - val_loss: 1.5037 - val_acc: 0.4907\n",
            "Epoch 32/50\n",
            "50000/50000 [==============================] - 17s 350us/step - loss: 0.8226 - acc: 0.7336 - val_loss: 1.4978 - val_acc: 0.4981\n",
            "Epoch 33/50\n",
            "50000/50000 [==============================] - 18s 356us/step - loss: 0.8041 - acc: 0.7404 - val_loss: 1.4963 - val_acc: 0.4917\n",
            "Epoch 34/50\n",
            "50000/50000 [==============================] - 18s 354us/step - loss: 0.7827 - acc: 0.7486 - val_loss: 1.5178 - val_acc: 0.4927\n",
            "Epoch 35/50\n",
            "50000/50000 [==============================] - 18s 354us/step - loss: 0.7634 - acc: 0.7566 - val_loss: 1.5028 - val_acc: 0.5021\n",
            "Epoch 36/50\n",
            "50000/50000 [==============================] - 17s 350us/step - loss: 0.7436 - acc: 0.7645 - val_loss: 1.5159 - val_acc: 0.5013\n",
            "Epoch 37/50\n",
            "50000/50000 [==============================] - 17s 348us/step - loss: 0.7255 - acc: 0.7707 - val_loss: 1.5287 - val_acc: 0.4961\n",
            "Epoch 38/50\n",
            "50000/50000 [==============================] - 18s 352us/step - loss: 0.7064 - acc: 0.7787 - val_loss: 1.5348 - val_acc: 0.4964\n",
            "Epoch 39/50\n",
            "50000/50000 [==============================] - 18s 353us/step - loss: 0.6862 - acc: 0.7869 - val_loss: 1.5539 - val_acc: 0.4908\n",
            "Epoch 40/50\n",
            "50000/50000 [==============================] - 18s 355us/step - loss: 0.6685 - acc: 0.7947 - val_loss: 1.5731 - val_acc: 0.4925\n",
            "Epoch 41/50\n",
            "50000/50000 [==============================] - 18s 351us/step - loss: 0.6507 - acc: 0.8019 - val_loss: 1.5580 - val_acc: 0.4982\n",
            "Epoch 42/50\n",
            "50000/50000 [==============================] - 18s 351us/step - loss: 0.6316 - acc: 0.8082 - val_loss: 1.5870 - val_acc: 0.4896\n",
            "Epoch 43/50\n",
            "50000/50000 [==============================] - 18s 350us/step - loss: 0.6139 - acc: 0.8150 - val_loss: 1.5773 - val_acc: 0.5001\n",
            "Epoch 44/50\n",
            "50000/50000 [==============================] - 17s 332us/step - loss: 0.5959 - acc: 0.8221 - val_loss: 1.5870 - val_acc: 0.4967\n",
            "Epoch 45/50\n",
            "50000/50000 [==============================] - 18s 352us/step - loss: 0.5765 - acc: 0.8314 - val_loss: 1.6031 - val_acc: 0.4953\n",
            "Epoch 46/50\n",
            "50000/50000 [==============================] - 18s 354us/step - loss: 0.5606 - acc: 0.8360 - val_loss: 1.6315 - val_acc: 0.4910\n",
            "Epoch 47/50\n",
            "50000/50000 [==============================] - 17s 350us/step - loss: 0.5432 - acc: 0.8445 - val_loss: 1.6303 - val_acc: 0.4883\n",
            "Epoch 48/50\n",
            "50000/50000 [==============================] - 17s 349us/step - loss: 0.5270 - acc: 0.8504 - val_loss: 1.6357 - val_acc: 0.4939\n",
            "Epoch 49/50\n",
            "50000/50000 [==============================] - 18s 353us/step - loss: 0.5082 - acc: 0.8568 - val_loss: 1.6808 - val_acc: 0.4864\n",
            "Epoch 50/50\n",
            "50000/50000 [==============================] - 18s 352us/step - loss: 0.4916 - acc: 0.8644 - val_loss: 1.6956 - val_acc: 0.4894\n"
          ],
          "name": "stdout"
        }
      ]
    },
    {
      "cell_type": "code",
      "metadata": {
        "id": "Y7jR7qRpQWke",
        "colab_type": "code",
        "colab": {
          "base_uri": "https://localhost:8080/",
          "height": 809
        },
        "outputId": "1bf1824b-2490-4049-f2fb-5e61fa05037f"
      },
      "source": [
        "import matplotlib.pyplot as plt\n",
        "%matplotlib inline\n",
        "\n",
        "plt.plot(range(len(train_loss)), train_loss, label=\"train loss\")\n",
        "plt.plot(range(len(valid_loss)), valid_loss, label=\"valid loss\")\n",
        "plt.legend()\n",
        "plt.title(\"Loss\")\n",
        "plt.show()\n",
        "\n",
        "plt.plot(range(len(train_acc)), train_acc, label=\"train accuracy\")\n",
        "plt.plot(range(len(valid_acc)), valid_acc, label=\"valid accuracy\")\n",
        "plt.legend()\n",
        "plt.title(\"Accuracy\")\n",
        "plt.show()\n",
        "\n",
        "plt.plot(range(len(valid_f1sc)), valid_f1sc, label=\"valid f1-score\")\n",
        "plt.legend()\n",
        "plt.title(\"F1-score\")\n",
        "plt.show()"
      ],
      "execution_count": 9,
      "outputs": [
        {
          "output_type": "display_data",
          "data": {
            "image/png": "[encoded data removed]",
            "text/plain": [
              "<Figure size 432x288 with 1 Axes>"
            ]
          },
          "metadata": {
            "tags": []
          }
        },
        {
          "output_type": "display_data",
          "data": {
            "image/png": "[encoded data removed]",
            "text/plain": [
              "<Figure size 432x288 with 1 Axes>"
            ]
          },
          "metadata": {
            "tags": []
          }
        },
        {
          "output_type": "display_data",
          "data": {
            "image/png": "[encoded data removed]",
            "text/plain": [
              "<Figure size 432x288 with 1 Axes>"
            ]
          },
          "metadata": {
            "tags": []
          }
        }
      ]
    },
    {
      "cell_type": "code",
      "metadata": {
        "id": "5_lZMff1QWp4",
        "colab_type": "code",
        "colab": {}
      },
      "source": [
        ""
      ],
      "execution_count": 0,
      "outputs": []
    },
    {
      "cell_type": "markdown",
      "metadata": {
        "id": "JX4x_E6ZP70x",
        "colab_type": "text"
      },
      "source": [
        "參考資料\n",
        "\n",
        "- [Keras 中保留 f1-score 最高的模型 – 知乎](https://zhuanlan.zhihu.com/p/51356820)  \n",
        "- [How easy is making custom Keras Callbacks](https://medium.com/@upu1994/how-easy-is-making-custom-keras-callbacks-c771091602da)  \n",
        "- [Keras Callbacks — Monitor and Improve Your Deep Learning](https://medium.com/singlestone/keras-callbacks-monitor-and-improve-your-deep-learning-205a8a27e91c)"
      ]
    },
    {
      "cell_type": "code",
      "metadata": {
        "id": "QQ_o1iydQH4b",
        "colab_type": "code",
        "colab": {}
      },
      "source": [
        ""
      ],
      "execution_count": 0,
      "outputs": []
    }
  ]
}