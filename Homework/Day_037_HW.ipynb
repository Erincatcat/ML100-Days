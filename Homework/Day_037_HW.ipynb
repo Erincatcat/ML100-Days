{
 "cells": [
  {
   "cell_type": "markdown",
   "metadata": {},
   "source": [
    "請閱讀以下相關文獻並試著回答以下2題 (本日知識點建議閱讀補充資料)\n",
    "\n",
    "[Linear Regression 詳細介紹](https://brohrer.mcknote.com/zh-Hant/how_machine_learning_works/how_linear_regression_works.html)  \n",
    "[Logistics Regression 詳細介紹](https://medium.com/jameslearningnote/%E8%B3%87%E6%96%99%E5%88%86%E6%9E%90-%E6%A9%9F%E5%99%A8%E5%AD%B8%E7%BF%92-%E7%AC%AC3-3%E8%AC%9B-%E7%B7%9A%E6%80%A7%E5%88%86%E9%A1%9E-%E9%82%8F%E8%BC%AF%E6%96%AF%E5%9B%9E%E6%AD%B8-logistic-regression-%E4%BB%8B%E7%B4%B9-a1a5f47017e5)  \n",
    "[你可能不知道的 Logistic Regression](https://taweihuang.hpd.io/2017/12/22/logreg101/)  \n"
   ]
  },
  {
   "cell_type": "markdown",
   "metadata": {},
   "source": [
    "1. 線性回歸模型能夠準確預測非線性關係的資料集嗎?"
   ]
  },
  {
   "cell_type": "markdown",
   "metadata": {},
   "source": [
    "既然稱之為線性回歸模型，面對非線性關係的資料預測的準確度一定會下降，一般不建議直接用線性迴歸模型預測非線性資料。  \n",
    "但可以透過將資料做變數變換，例如log等，將資料轉成線性型態，再以線性回歸模型預測，即使如此，也無法100%準確預測。\n"
   ]
  },
  {
   "cell_type": "markdown",
   "metadata": {},
   "source": [
    "2. 回歸模型是否對資料分布有基本假設?"
   ]
  },
  {
   "cell_type": "markdown",
   "metadata": {},
   "source": [
    "基本上回歸模型都有自己的基本假設，例如Linear regression的基本假設可歸納如下：   \n",
    "1. independent variable 與 dependent variable呈現線性的關係  \n",
    "2. Independence of the errors   \n",
    "3. homogeneity of variance  \n",
    "4. Normality of the error distribution  "
   ]
  },
  {
   "cell_type": "code",
   "execution_count": null,
   "metadata": {},
   "outputs": [],
   "source": []
  },
  {
   "cell_type": "markdown",
   "metadata": {},
   "source": [
    "課後補充:\n",
    "\n",
    "[超人氣 Stanford 教授 Andrew Ng 教你 Linear regression (強烈推薦觀看)](https://zh-tw.coursera.org/lecture/machine-learning/model-representation-db3jS)  \n",
    "[Logistic regression 數學原理](https://blog.csdn.net/qq_23269761/article/details/81778585)"
   ]
  }
 ],
 "metadata": {
  "kernelspec": {
   "display_name": "Python 3",
   "language": "python",
   "name": "python3"
  },
  "language_info": {
   "codemirror_mode": {
    "name": "ipython",
    "version": 3
   },
   "file_extension": ".py",
   "mimetype": "text/x-python",
   "name": "python",
   "nbconvert_exporter": "python",
   "pygments_lexer": "ipython3",
   "version": "3.7.0"
  }
 },
 "nbformat": 4,
 "nbformat_minor": 2
}
