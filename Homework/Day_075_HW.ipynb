{
  "nbformat": 4,
  "nbformat_minor": 0,
  "metadata": {
    "colab": {
      "name": "Day_075_HW.ipynb",
      "version": "0.3.2",
      "provenance": [],
      "collapsed_sections": []
    },
    "kernelspec": {
      "name": "python3",
      "display_name": "Python 3"
    },
    "accelerator": "GPU"
  },
  "cells": [
    {
      "cell_type": "markdown",
      "metadata": {
        "id": "gPTKVGsZoBpX",
        "colab_type": "text"
      },
      "source": [
        "# 作業目標:\n",
        "通過建立多層的神經網路, 了解權值矩陣更新\n",
        "# 作業重點:\n",
        "3 層神經網路\n",
        "\n",
        "通過增加更多的中間層，以對更多關係的組合進行建模\n",
        "\n",
        "syn1 權值矩陣將隱層的組合輸出映射到最終結果，\n",
        "\n",
        "而在更新 syn1 的同時，還需要更新 syn0 權值矩陣，\n",
        "\n",
        "以從輸入資料中更好地產生這些組合"
      ]
    },
    {
      "cell_type": "code",
      "metadata": {
        "id": "zhXccdORokYW",
        "colab_type": "code",
        "colab": {}
      },
      "source": [
        "import numpy as np\n",
        " \n",
        "# Sigmoid 函數可以將任何值都映射到一個位於 0 到  1 範圍內的值。通過它，我們可以將實數轉化為概率值\n",
        "def nonlin(x,deriv=False):\n",
        "    if(deriv==True):\n",
        "        return x*(1-x)\n",
        "    return 1/(1+np.exp(-x))\n",
        "\n",
        "X = np.array([  [0,0,1],\n",
        "                [0,1,1],\n",
        "                [1,0,1],\n",
        "                [1,1,1] ])  \n",
        "        \n",
        "# define y for output dataset \n",
        "y = np.array([[0,0,1,1]]).T\n"
      ],
      "execution_count": 0,
      "outputs": []
    },
    {
      "cell_type": "code",
      "metadata": {
        "id": "JUgMw_u-qqDP",
        "colab_type": "code",
        "colab": {}
      },
      "source": [
        "# seed random numbers to make calculation\n",
        "# deterministic (just a good practice)\n",
        "np.random.seed(1)\n",
        "#亂數設定產生種子得到的權重初始化集仍是隨機分佈的，\n",
        "#但每次開始訓練時，得到的權重初始集分佈都是完全一致的。\n",
        " \n",
        "# initialize weights randomly with mean 0\n",
        "syn0 = 2*np.random.random((3,2)) - 1\n",
        "# define syn1\n",
        "syn1 = 2*np.random.random((2,1)) - 1\n",
        "\n",
        "iter = 0\n",
        "#該神經網路權重矩陣的初始化操作。\n",
        "#用 “syn0” 來代指 (即“輸入層-第一層隱層”間權重矩陣）\n",
        "#用 “syn1” 來代指 (即“輸入層-第二層隱層”間權重矩陣）\n"
      ],
      "execution_count": 0,
      "outputs": []
    },
    {
      "cell_type": "markdown",
      "metadata": {
        "id": "GH8RG-ztoIM4",
        "colab_type": "text"
      },
      "source": [
        "神經網路訓練 for 迴圈反覆運算式地多次執行訓練代碼，使得我們的網路能更好地擬合訓練集"
      ]
    },
    {
      "cell_type": "code",
      "metadata": {
        "id": "aWRl7WpBqqFz",
        "colab_type": "code",
        "colab": {
          "base_uri": "https://localhost:8080/",
          "height": 221
        },
        "outputId": "a45b434e-2adc-41c4-8822-4bcab773f2c6"
      },
      "source": [
        "for iter in range(10000):\n",
        "    # forward propagation\n",
        "    l0 = X\n",
        "    l1 = nonlin(np.dot(l0,syn0))\n",
        "    l2 = nonlin(np.dot(l1,syn1))\n",
        "    \n",
        "    '''\n",
        "    新增\n",
        "    l2_error 該值說明了神經網路預測時“丟失”的數目。\n",
        "    l2_delta 該值為經確信度加權後的神經網路的誤差，除了確信誤差很小時，它近似等於預測誤差。\n",
        "    '''\n",
        " \n",
        "    l2_error = y - l2\n",
        "    l2_delta = l2_error * nonlin(l2,True)\n",
        "    \n",
        "    # update weights\n",
        "    syn1 += np.dot(l1.T,l2_delta)\n",
        "    \n",
        "    l1_error = y - l1\n",
        "    \n",
        " \n",
        "    # multiply how much we missed by the \n",
        "    # slope of the sigmoid at the values in l1\n",
        "    l1_delta = l1_error * nonlin(l1,True)\n",
        "    \n",
        "    # update weights\n",
        "    syn0 += np.dot(l0.T,l1_delta)\n",
        "     # syn1 update weights\n",
        "    \n",
        "print(\"Output After Training:\")\n",
        "print(l2)\n",
        "print(\"\\n\\n\")\n",
        "print(l1)"
      ],
      "execution_count": 23,
      "outputs": [
        {
          "output_type": "stream",
          "text": [
            "Output After Training:\n",
            "[[0.50505801]\n",
            " [0.50412072]\n",
            " [0.97443936]\n",
            " [0.974363  ]]\n",
            "\n",
            "\n",
            "\n",
            "[[0.00553721 0.0055365 ]\n",
            " [0.00451068 0.00451071]\n",
            " [0.99632087 0.99632075]\n",
            " [0.99548272 0.99548319]]\n"
          ],
          "name": "stdout"
        }
      ]
    },
    {
      "cell_type": "code",
      "metadata": {
        "id": "ZuyJpCcaoHAg",
        "colab_type": "code",
        "colab": {}
      },
      "source": [
        ""
      ],
      "execution_count": 0,
      "outputs": []
    },
    {
      "cell_type": "markdown",
      "metadata": {
        "id": "UC35roO8ne7C",
        "colab_type": "text"
      },
      "source": [
        "# 課程目標:\n",
        "了解反向傳播的原理與在神經網路推導過程中的作用\n",
        "# 範例重點:\n",
        "(1)自定義神經網路架構\n",
        "\n",
        "(2)初始值設定\n",
        "\n",
        "(3)使用範例"
      ]
    },
    {
      "cell_type": "code",
      "metadata": {
        "id": "eftVSbTOqqIc",
        "colab_type": "code",
        "colab": {}
      },
      "source": [
        "#定義並建立一神經網路\n",
        "class mul_layer():\n",
        "    def _ini_(self):\n",
        "        self.x = None\n",
        "        self.y = None\n",
        "    def forward(self, x, y):\n",
        "        self.x = x\n",
        "        self.y = y\n",
        "        out = x*y\n",
        "        return out\n",
        "    def backward(self, dout):\n",
        "        dx = dout * self.y\n",
        "        dy = dout * self.x\n",
        "        return dx, dy\n",
        "      \n",
        "# 初始值設定\n",
        "n_X = 2\n",
        "price_Y = 100\n",
        "b_TAX = 1.1\n",
        "\n",
        "# 指定Build _Network組合\n",
        "mul_fruit_layer = mul_layer()\n",
        "mul_tax_layer = mul_layer()"
      ],
      "execution_count": 0,
      "outputs": []
    },
    {
      "cell_type": "markdown",
      "metadata": {
        "id": "GteQlAqBnr4L",
        "colab_type": "text"
      },
      "source": [
        "**以購買水果為例:**  \n",
        "付費總價格是根據水果價格, 稅金變動而受影響\n",
        "\n",
        "水果價格是根據購買數量與單品價格而變動\n",
        "\n",
        "可以利用每一個cell (cell - 1: 水果價格; cell - 2: 付費總價格), 推導微分的結果"
      ]
    },
    {
      "cell_type": "code",
      "metadata": {
        "id": "xntb7ZbLnler",
        "colab_type": "code",
        "colab": {
          "base_uri": "https://localhost:8080/",
          "height": 51
        },
        "outputId": "58502541-28c6-4b80-afdf-3a481d579754"
      },
      "source": [
        "#forward \n",
        "fruit_price = mul_fruit_layer.forward(price_Y, n_X)\n",
        "total_price = mul_tax_layer.forward(fruit_price, b_TAX)\n",
        "\n",
        "#backward \n",
        "dtotal_price = 1 #this is linear function, which y=x, dy/dx=1\n",
        "d_fruit_price, d_b_TAX = mul_tax_layer.backward(dtotal_price)\n",
        "d_price_Y, d_n_X =  mul_tax_layer.backward(d_fruit_price)\n",
        "\n",
        "#result\n",
        "print(\"fruit price: %i\"%fruit_price)\n",
        "print(\"針對所有水果價格微分, 得到 TAX: %2f\" %d_fruit_price)"
      ],
      "execution_count": 3,
      "outputs": [
        {
          "output_type": "stream",
          "text": [
            "fruit price: 200\n",
            "針對所有水果價格微分, 得到 TAX: 1.100000\n"
          ],
          "name": "stdout"
        }
      ]
    },
    {
      "cell_type": "markdown",
      "metadata": {
        "id": "sMafhgidn0Yb",
        "colab_type": "text"
      },
      "source": [
        "# BP 演算法訓練的神經網路\n",
        "目標: 嘗試著用輸入去預測輸出, 了解權重的更新\n",
        "\n",
        "考慮以上情形： 給定三row輸入，試著去預測對應的一row輸出。\n",
        "\n",
        "我們可以通過簡單測量輸入與輸出值的資料來解決這一問題。\n",
        "\n",
        "最左邊的一 row 輸入值和輸出值是完美匹配/完全相關的。\n",
        "\n",
        "反向傳播演算法便是通過這種方式來衡量資料間統計關係進而得到模型的。\n",
        "\n",
        "# 參數定義\n",
        "X 輸入資料集，形式為矩陣，每 1 column 代表 1 個訓練樣本。\n",
        "\n",
        "y 輸出資料集，形式為矩陣，每 1 column 代表 1 個訓練樣本。\n",
        "\n",
        "l0 網路第 1 層，即網路輸入層。\n",
        "\n",
        "l1 網路第 2 層，常稱作隱藏層。\n",
        "\n",
        "syn0 第一層權值，突觸 0 ，連接 l0 層與 l1 層。\n",
        "\n",
        "逐元素相乘，故兩等長向量相乘等同於其對等元素分別相乘，結果為同等長度的向量。\n",
        "– 元素相減，故兩等長向量相減等同於其對等元素分別相減，結果為同等長度的向量。\n",
        "\n",
        "x.dot(y) 若 x 和 y 為向量，則進行點積操作；若均為矩陣，則進行矩陣相乘操作；若其中之一為矩陣，則進行向量與矩陣相乘操作。"
      ]
    },
    {
      "cell_type": "code",
      "metadata": {
        "id": "mU17w-x0nlhZ",
        "colab_type": "code",
        "colab": {}
      },
      "source": [
        "import numpy as np\n",
        " \n",
        "# Sigmoid 函數可以將任何值都映射到一個位於 0 到  1 範圍內的值。通過它，我們可以將實數轉化為概率值\n",
        "'''\n",
        "定義數學函數:\n",
        "y=f(x) = 1/(1+np.exp(-x));\n",
        "dy/dx = df = x*(1-x) \n",
        "\n",
        "為了計算方便, 這邊把 y=f(x) 與 dy/dx 放在同一function 裡面;\n",
        "利用 deriv (derivative)做變數, 來分別指定方程式\n",
        "\n",
        "'''    \n",
        "\n",
        "def nonlin(x,deriv=False):\n",
        "    if(deriv==True):\n",
        "        return x*(1-x)\n",
        "    return 1/(1+np.exp(-x))\n",
        "'''\n",
        "通過 “nonlin” 函數體還能得到 sigmod 函數的導數（當形參 deriv 為 True 時）。\n",
        "Sigmoid 函數優異特性之一，在於只用它的輸出值便可以得到其導數值。\n",
        "若 Sigmoid 的輸出值用變數 out 表示，則其導數值可簡單通過式子 out *(1-out) \n",
        "'''\n",
        "\n",
        "'''\n",
        "input dataset\n",
        "輸入資料集初始化為 numpy 中的矩陣。每一 column 為一個“訓練實例”，\n",
        "每一 row 的對應著一個輸入節點。這樣，我們的神經網路便有 3 個輸入節點，\n",
        "4 個訓練實例。\n",
        "'''\n",
        "X = np.array([  [0,0,1],\n",
        "                [0,1,1],\n",
        "                [1,0,1],\n",
        "                [1,1,1] ])  \n",
        "        \n",
        "# define output dataset \n",
        "y = np.array([[0,0,1,1]]).T\n",
        "\n",
        "'''\n",
        "輸出資料集進行初始化\n",
        ".T” 為轉置函數。經轉置後，該  y  矩陣便包含 4 column 1 row。\n",
        "同我們的輸入一致，每一 column 是一個訓練實例，而每一row（僅有一row）對應一個輸出節點。\n",
        "因此，我們的網路含有 3 個輸入， 1 個輸出\n",
        "'''\n",
        "\n",
        "# seed random numbers to make calculation\n",
        "# deterministic (just a good practice)\n",
        "np.random.seed(1)\n",
        "#亂數設定產生種子得到的權重初始化集仍是隨機分佈的，\n",
        "#但每次開始訓練時，得到的權重初始集分佈都是完全一致的。\n",
        " \n",
        "# initialize weights randomly with mean 0\n",
        "syn0 = 2*np.random.random((3,1)) - 1\n",
        "iter = 0\n",
        "\n",
        "syn0_history = [syn0]\n",
        "#該神經網路權重矩陣的初始化操作。\n",
        "#用 “syn0” 來代指 (即“輸入層-第一層隱層”間權重矩陣）"
      ],
      "execution_count": 0,
      "outputs": []
    },
    {
      "cell_type": "markdown",
      "metadata": {
        "id": "CcnI5J9in6uz",
        "colab_type": "text"
      },
      "source": [
        "# 神經網路訓練\n",
        "for 迴圈反覆運算式地多次執行訓練代碼，使得我們的網路能更好地擬合訓練集"
      ]
    },
    {
      "cell_type": "code",
      "metadata": {
        "id": "pckooe_VnlkV",
        "colab_type": "code",
        "colab": {
          "base_uri": "https://localhost:8080/",
          "height": 136
        },
        "outputId": "8e888eed-76df-45bd-ad34-02bb6d4e036c"
      },
      "source": [
        "for iter in range(10000):\n",
        "    # forward propagation\n",
        "    l0 = X\n",
        "    l1 = nonlin(np.dot(l0,syn0))\n",
        "    \n",
        "    '''\n",
        "    首先讓網路基於給定輸入“試著”去預測輸出。\n",
        "    以至於作出一些調整，使得在每次反覆運算過程中網路能夠表現地更好一點。\n",
        "    (4 x 3) dot (3 x 1) = (4 x 1)\n",
        "    此 column 代碼包含兩個步驟。首先，將 l0 與 syn0 進行矩陣相乘。\n",
        "    然後，將計算結果傳遞給 sigmoid 函數。具體考慮到各個矩陣的維度：\n",
        "    (4 x 3) dot (3 x 1) = (4 x 1)\n",
        "    '''\n",
        " \n",
        "    # how much did we miss?\n",
        "    l1_error = y - l1\n",
        " \n",
        "    # multiply how much we missed by the \n",
        "    # slope of the sigmoid at the values in l1\n",
        "    l1_delta = l1_error * nonlin(l1,True)\n",
        "    \n",
        "    '''\n",
        "    對於每一輸入，可知 l1 都有對應的一個“猜測”結果。那麼通過將真實的結果（y）與猜測結果（l1）作減，\n",
        "    就可以對比得到網路預測的效果怎麼樣。\n",
        "    l1_error 是一個有正數和負數組成的向量，它可以反映出網路的誤差有多大\n",
        "    '''\n",
        "    # update weights\n",
        "    syn0 += np.dot(l0.T,l1_delta)\n",
        "    \n",
        "print(\"Output After Training:\")\n",
        "print(\"\\n\")\n",
        "print(l1)"
      ],
      "execution_count": 5,
      "outputs": [
        {
          "output_type": "stream",
          "text": [
            "Output After Training:\n",
            "\n",
            "\n",
            "[[0.00966449]\n",
            " [0.00786506]\n",
            " [0.99358898]\n",
            " [0.99211957]]\n"
          ],
          "name": "stdout"
        }
      ]
    },
    {
      "cell_type": "code",
      "metadata": {
        "id": "1OOeO8yXnlnL",
        "colab_type": "code",
        "colab": {
          "base_uri": "https://localhost:8080/",
          "height": 289
        },
        "outputId": "a9d72b17-a7da-4a1b-ff29-855211075a1f"
      },
      "source": [
        "import matplotlib.pyplot as plt\n",
        "%matplotlib inline \n",
        "#適用於 Jupyter Notebook, 宣告直接在cell 內印出執行結果\n",
        "\n",
        "plt.plot(syn0_history[0], ms=3, lw=1.5, color='black')\n",
        "plt.xlabel(r'$L1$', fontsize=16)\n",
        "plt.show()"
      ],
      "execution_count": 6,
      "outputs": [
        {
          "output_type": "display_data",
          "data": {
            "image/png": "[encoded data removed]",
            "text/plain": [
              "<Figure size 432x288 with 1 Axes>"
            ]
          },
          "metadata": {
            "tags": []
          }
        }
      ]
    },
    {
      "cell_type": "code",
      "metadata": {
        "id": "a1RqtK6Anlp7",
        "colab_type": "code",
        "colab": {}
      },
      "source": [
        ""
      ],
      "execution_count": 0,
      "outputs": []
    },
    {
      "cell_type": "code",
      "metadata": {
        "id": "7n_cCzkonlss",
        "colab_type": "code",
        "colab": {}
      },
      "source": [
        ""
      ],
      "execution_count": 0,
      "outputs": []
    },
    {
      "cell_type": "code",
      "metadata": {
        "id": "KhUWJIymnlvk",
        "colab_type": "code",
        "colab": {}
      },
      "source": [
        ""
      ],
      "execution_count": 0,
      "outputs": []
    },
    {
      "cell_type": "markdown",
      "metadata": {
        "id": "JeYPkl37m7Wj",
        "colab_type": "text"
      },
      "source": [
        "參考資料\n",
        "\n",
        "\n",
        "**推薦閱讀**\n",
        "\n",
        "1.[ Backpropagation](https://en.wikipedia.org/wiki/Backpropagation)  \n",
        "2.[BP神經網絡的原理及Python實現](https://blog.csdn.net/conggova/article/details/77799464)  \n",
        "3.[完整的結構化代碼見於](https://github.com/conggova/SimpleBPNetwork)  \n",
        "4.[深度學習-BP神經網絡(python3代碼實現)](https://blog.csdn.net/weixin_41090915/article/details/79521161)  \n",
        "\n",
        "\n",
        "**延伸閱讀**\n",
        "\n",
        "把每個樣本的特徵作為輸入，每個樣本的特徵都加上權值和偏置進行運算之後得到輸出，這個輸出是三個分數，把這個三個分數再通過啟動函數即softmax函數映射為三個概率，這樣就得到了預測結果，把預測結果和真實情況作為輸入，通過損失函數算出預測結果和真實情況相差多少。把300樣本都這麼算一下，看看平均損失是多少。然後想辦法儘快降低這個損失。於是就得通過修改權值和偏置來使這個損失降低。\n",
        "https://ai100-fileentity.cupoy.com/homework/D75/1552889168754/large \n"
      ]
    },
    {
      "cell_type": "code",
      "metadata": {
        "id": "9S9ja3TGnYg_",
        "colab_type": "code",
        "colab": {}
      },
      "source": [
        ""
      ],
      "execution_count": 0,
      "outputs": []
    }
  ]
}