{
 "cells": [
  {
   "cell_type": "markdown",
   "metadata": {},
   "source": [
    "# 今日作業\n",
    "\n",
    "參考 Day 12 範例程式，離散化你覺得有興趣的欄位，並嘗試找出有趣的訊息\n"
   ]
  },
  {
   "cell_type": "code",
   "execution_count": 32,
   "metadata": {},
   "outputs": [],
   "source": [
    "# Import 需要的套件\n",
    "import os\n",
    "import numpy as np\n",
    "import pandas as pd\n",
    "import seaborn as sns  # 另一個繪圖的樣式套件\n",
    "\n",
    "import matplotlib.pyplot as plt\n",
    "%matplotlib inline"
   ]
  },
  {
   "cell_type": "markdown",
   "metadata": {},
   "source": [
    "**之前做過的處理**"
   ]
  },
  {
   "cell_type": "code",
   "execution_count": 2,
   "metadata": {},
   "outputs": [],
   "source": [
    "# 設定 data_path\n",
    "dir_data = './Data/'\n",
    "f_app_train = os.path.join(dir_data, 'application_train.csv')\n",
    "f_app_test = os.path.join(dir_data, 'application_test.csv')\n",
    "\n",
    "app_train = pd.read_csv(f_app_train)\n",
    "app_test = pd.read_csv(f_app_test)\n",
    "\n",
    "from sklearn.preprocessing import LabelEncoder\n",
    "\n",
    "# Create a label encoder object\n",
    "le = LabelEncoder()\n",
    "le_count = 0\n",
    "\n",
    "# Iterate through the columns\n",
    "for col in app_train:\n",
    "    if app_train[col].dtype == 'object':\n",
    "        # If 2 or fewer unique categories\n",
    "        if len(list(app_train[col].unique())) <= 2:\n",
    "            # Train on the training data\n",
    "            le.fit(app_train[col])\n",
    "            # Transform both training and testing data\n",
    "            app_train[col] = le.transform(app_train[col])\n",
    "            app_test[col] = le.transform(app_test[col])\n",
    "            \n",
    "            # Keep track of how many columns were label encoded\n",
    "            le_count += 1\n",
    "            \n",
    "app_train = pd.get_dummies(app_train)\n",
    "app_test = pd.get_dummies(app_test)\n",
    "\n",
    "# Create an anomalous flag column   處理異常值\n",
    "app_train['DAYS_EMPLOYED_ANOM'] = app_train[\"DAYS_EMPLOYED\"] == 365243 \n",
    "app_train['DAYS_EMPLOYED'].replace({365243: np.nan}, inplace = True)\n",
    "# also apply to testing dataset\n",
    "app_test['DAYS_EMPLOYED_ANOM'] = app_test[\"DAYS_EMPLOYED\"] == 365243\n",
    "app_test[\"DAYS_EMPLOYED\"].replace({365243: np.nan}, inplace = True)\n",
    "\n",
    "# absolute the value of DAYS_BIRTH  取絕對值\n",
    "app_train['DAYS_BIRTH'] = abs(app_train['DAYS_BIRTH'])\n",
    "app_test['DAYS_BIRTH'] = abs(app_test['DAYS_BIRTH'])"
   ]
  },
  {
   "cell_type": "code",
   "execution_count": 7,
   "metadata": {},
   "outputs": [
    {
     "data": {
      "text/plain": [
       "count    307511.000000\n",
       "mean         43.936973\n",
       "std          11.956133\n",
       "min          20.517808\n",
       "25%          34.008219\n",
       "50%          43.150685\n",
       "75%          53.923288\n",
       "max          69.120548\n",
       "Name: YEARS_BIRTH, dtype: float64"
      ]
     },
     "execution_count": 7,
     "metadata": {},
     "output_type": "execute_result"
    }
   ],
   "source": [
    "app_train[\"YEARS_BIRTH\"] = app_train['DAYS_BIRTH'] / 365  #將出生天數轉成年齡\n",
    "app_train[\"YEARS_BIRTH\"].describe() #知最小&最大等訊息"
   ]
  },
  {
   "cell_type": "code",
   "execution_count": 16,
   "metadata": {},
   "outputs": [
    {
     "name": "stdout",
     "output_type": "stream",
     "text": [
      "(20.469, 25.378]    13679\n",
      "(25.378, 30.238]    33127\n",
      "(30.238, 35.099]    38430\n",
      "(35.099, 39.959]    41758\n",
      "(39.959, 44.819]    40350\n",
      "(44.819, 49.679]    34311\n",
      "(49.679, 54.54]     33544\n",
      "(54.54, 59.4]       32650\n",
      "(59.4, 64.26]       27685\n",
      "(64.26, 69.121]     11977\n",
      "Name: YEARS_BIRTH, dtype: int64\n"
     ]
    }
   ],
   "source": [
    "print(pd.cut(app_train['YEARS_BIRTH'], bins = 10).value_counts().sort_index()) #以最小及最大切10等份"
   ]
  },
  {
   "cell_type": "code",
   "execution_count": 17,
   "metadata": {},
   "outputs": [
    {
     "name": "stdout",
     "output_type": "stream",
     "text": [
      "(20, 25]    12159\n",
      "(25, 30]    32862\n",
      "(30, 35]    39440\n",
      "(35, 40]    42868\n",
      "(40, 45]    41406\n",
      "(45, 50]    35135\n",
      "(50, 55]    34942\n",
      "(55, 60]    33120\n",
      "(60, 65]    27476\n",
      "(65, 70]     8103\n",
      "Name: YEARS_BIRTH, dtype: int64\n"
     ]
    }
   ],
   "source": [
    "print(pd.cut(app_train['YEARS_BIRTH'], bins = [20, 25, 30, 35, 40, 45, 50, 55, 60, 65, 70]).value_counts().sort_index()) #以5歲為一間距切分"
   ]
  },
  {
   "cell_type": "code",
   "execution_count": 19,
   "metadata": {},
   "outputs": [
    {
     "name": "stdout",
     "output_type": "stream",
     "text": [
      "(20.517, 28.175]    30752\n",
      "(28.175, 32.038]    30760\n",
      "(32.038, 36.0]      30745\n",
      "(36.0, 39.496]      30759\n",
      "(39.496, 43.151]    30745\n",
      "(43.151, 47.178]    30764\n",
      "(47.178, 51.74]     30733\n",
      "(51.74, 56.093]     30758\n",
      "(56.093, 60.77]     30757\n",
      "(60.77, 69.121]     30738\n",
      "Name: YEARS_BIRTH, dtype: int64\n"
     ]
    }
   ],
   "source": [
    "print(pd.qcut(app_train['YEARS_BIRTH'], 10).value_counts().sort_index()) #新增一欄位變數YEARS_BIRTH，將age切為10等份:讓每個bin的資料筆數差不多"
   ]
  },
  {
   "cell_type": "markdown",
   "metadata": {},
   "source": [
    "**以上為對訓練集做的，也可同時對測試集做唷**"
   ]
  },
  {
   "cell_type": "code",
   "execution_count": 23,
   "metadata": {},
   "outputs": [
    {
     "name": "stdout",
     "output_type": "stream",
     "text": [
      "(20.993, 25.836]    2516\n",
      "(25.836, 30.631]    5399\n",
      "(30.631, 35.426]    6102\n",
      "(35.426, 40.221]    6503\n",
      "(40.221, 45.016]    6308\n",
      "(45.016, 49.812]    5367\n",
      "(49.812, 54.607]    5305\n",
      "(54.607, 59.402]    4983\n",
      "(59.402, 64.197]    4311\n",
      "(64.197, 68.992]    1950\n",
      "Name: YEARS_BIRTH, dtype: int64\n",
      "(20, 25]    1949\n",
      "(25, 30]    5171\n",
      "(30, 35]    6388\n",
      "(35, 40]    6713\n",
      "(40, 45]    6592\n",
      "(45, 50]    5592\n",
      "(50, 55]    5590\n",
      "(55, 60]    5133\n",
      "(60, 65]    4313\n",
      "(65, 70]    1303\n",
      "Name: YEARS_BIRTH, dtype: int64\n",
      "(21.04, 28.192]     4876\n",
      "(28.192, 31.997]    4875\n",
      "(31.997, 35.899]    4874\n",
      "(35.899, 39.449]    4876\n",
      "(39.449, 43.084]    4871\n",
      "(43.084, 47.107]    4875\n",
      "(47.107, 51.66]     4876\n",
      "(51.66, 55.975]     4876\n",
      "(55.975, 60.764]    4875\n",
      "(60.764, 68.992]    4870\n",
      "Name: YEARS_BIRTH, dtype: int64\n"
     ]
    }
   ],
   "source": [
    "app_test[\"YEARS_BIRTH\"] = app_train['DAYS_BIRTH'] / 365\n",
    "print(pd.cut(app_test['YEARS_BIRTH'], bins = 10).value_counts().sort_index())\n",
    "print(pd.cut(app_test['YEARS_BIRTH'], bins = [20, 25, 30, 35, 40, 45, 50, 55, 60, 65, 70]).value_counts().sort_index())\n",
    "print(pd.qcut(app_test['YEARS_BIRTH'], 10).value_counts().sort_index())"
   ]
  },
  {
   "cell_type": "code",
   "execution_count": 37,
   "metadata": {},
   "outputs": [
    {
     "name": "stdout",
     "output_type": "stream",
     "text": [
      "(40995.0, 1380000.0]      294142\n",
      "(1380000.0, 2715000.0]     13325\n",
      "(2715000.0, 4050000.0]        44\n",
      "Name: AMT_CREDIT, dtype: int64\n",
      "AxesSubplot(0.125,0.125;0.775x0.755)\n"
     ]
    },
    {
     "data": {
      "image/png": "[encoded data removed]",
      "text/plain": [
       "<Figure size 432x288 with 1 Axes>"
      ]
     },
     "metadata": {
      "needs_background": "light"
     },
     "output_type": "display_data"
    }
   ],
   "source": [
    "A = pd.cut(app_train['AMT_CREDIT'], bins = 3).value_counts().sort_index()\n",
    "print(A)\n",
    "px = A.index\n",
    "py = A\n",
    "print(sns.barplot(px, py))"
   ]
  },
  {
   "cell_type": "code",
   "execution_count": 45,
   "metadata": {},
   "outputs": [
    {
     "name": "stdout",
     "output_type": "stream",
     "text": [
      "(44999.999, 118512.0]     2478\n",
      "(118512.0, 157500.0]      2433\n",
      "(157500.0, 207117.0]      2402\n",
      "(207117.0, 225000.0]      2572\n",
      "(225000.0, 260640.0]      2629\n",
      "(260640.0, 280170.0]      2172\n",
      "(280170.0, 312768.0]      2424\n",
      "(312768.0, 354469.5]      2395\n",
      "(354469.5, 398160.0]      2472\n",
      "(398160.0, 450000.0]      4084\n",
      "(450000.0, 468000.0]       753\n",
      "(468000.0, 509400.0]      2519\n",
      "(509400.0, 547344.0]      2431\n",
      "(547344.0, 599567.4]      2357\n",
      "(599567.4, 675000.0]      3476\n",
      "(675000.0, 746280.0]      1683\n",
      "(746280.0, 835164.0]      2156\n",
      "(835164.0, 965340.0]      2443\n",
      "(965340.0, 1258650.0]     2453\n",
      "(1258650.0, 2245500.0]    2412\n",
      "Name: AMT_CREDIT, dtype: int64\n",
      "AxesSubplot(0.125,0.125;0.775x0.755)\n"
     ]
    },
    {
     "data": {
      "image/png": "[encoded data removed]",
      "text/plain": [
       "<Figure size 432x288 with 1 Axes>"
      ]
     },
     "metadata": {
      "needs_background": "light"
     },
     "output_type": "display_data"
    }
   ],
   "source": [
    "A = pd.qcut(app_test['AMT_CREDIT'], 20).value_counts().sort_index()\n",
    "print(A)\n",
    "px = A.index\n",
    "py = A\n",
    "print(sns.barplot(px, py))"
   ]
  },
  {
   "cell_type": "code",
   "execution_count": null,
   "metadata": {},
   "outputs": [],
   "source": []
  }
 ],
 "metadata": {
  "kernelspec": {
   "display_name": "Python 3",
   "language": "python",
   "name": "python3"
  },
  "language_info": {
   "codemirror_mode": {
    "name": "ipython",
    "version": 3
   },
   "file_extension": ".py",
   "mimetype": "text/x-python",
   "name": "python",
   "nbconvert_exporter": "python",
   "pygments_lexer": "ipython3",
   "version": "3.7.0"
  }
 },
 "nbformat": 4,
 "nbformat_minor": 2
}
