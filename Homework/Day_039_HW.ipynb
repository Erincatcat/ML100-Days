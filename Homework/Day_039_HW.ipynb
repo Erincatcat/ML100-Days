{
 "cells": [
  {
   "cell_type": "markdown",
   "metadata": {},
   "source": [
    "# 作業\n",
    "請閱讀相關文獻，並回答下列問題  \n",
    "\n",
    "[脊回歸 (Ridge Regression) Linear, Ridge, Lasso Regression 本質區別](https://www.zhihu.com/question/38121173)  \n",
    "\n",
    "1. LASSO 回歸可以被用來作為 Feature selection 的工具，請了解 LASSO 模型為什麼可用來作 Feature selection。\n",
    "2. 當自變數 (X) 存在高度共線性時，Ridge Regression 可以處理這樣的問題嗎?"
   ]
  },
  {
   "cell_type": "markdown",
   "metadata": {},
   "source": [
    "1. 由於Lasso Regression解出的參數具有sparsity的特徵，使得特徵對應的參數趨近於0，因此就可以剔掉一些不重要也就是參數為0的特徵，達到feature selection的目的。  \n",
    "   LASSO模型是將目標函數 + L1正規化，用來懲罰模型的複雜度，避免overfitting的狀況。"
   ]
  },
  {
   "cell_type": "markdown",
   "metadata": {},
   "source": [
    "2. 由於Ridge Regression無法將參數逼近0，因此無法做Feature selection，但在自變數X有高度共線性的時候會導致參數w在數值上非常大，此時對noise非常敏感，因此可利用Ridge Regression的懲罰項來限制w的數值大小，進而處理w的問題。  \n",
    "   Ridge模型是將目標函數 + L2正規化，可減少共線性，避免overfitting的狀況。\n"
   ]
  },
  {
   "cell_type": "code",
   "execution_count": null,
   "metadata": {},
   "outputs": [],
   "source": []
  }
 ],
 "metadata": {
  "kernelspec": {
   "display_name": "Python 3",
   "language": "python",
   "name": "python3"
  },
  "language_info": {
   "codemirror_mode": {
    "name": "ipython",
    "version": 3
   },
   "file_extension": ".py",
   "mimetype": "text/x-python",
   "name": "python",
   "nbconvert_exporter": "python",
   "pygments_lexer": "ipython3",
   "version": "3.7.0"
  }
 },
 "nbformat": 4,
 "nbformat_minor": 2
}
