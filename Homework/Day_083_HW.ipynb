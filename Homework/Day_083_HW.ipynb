{
  "nbformat": 4,
  "nbformat_minor": 0,
  "metadata": {
    "colab": {
      "name": "Day_083_HW.ipynb",
      "version": "0.3.2",
      "provenance": [],
      "collapsed_sections": []
    },
    "kernelspec": {
      "name": "python3",
      "display_name": "Python 3"
    }
  },
  "cells": [
    {
      "cell_type": "markdown",
      "metadata": {
        "id": "JqQ0QYkKlW4g",
        "colab_type": "text"
      },
      "source": [
        "# 作業\n",
        "1. 試比較有 BN 在 Batch_size = 2, 16, 32, 128, 256 下的差異  \n",
        "2. 請嘗試將 BN 放在 Activation 之前，並比較訓練結果  \n",
        "3. 請於 BN 放在 Input Layer 後，並比較結果"
      ]
    },
    {
      "cell_type": "code",
      "metadata": {
        "id": "4RYTZVgyXaGJ",
        "colab_type": "code",
        "outputId": "4ef177ee-51c3-4cb5-9f6c-01b63f4d33fb",
        "colab": {
          "base_uri": "https://localhost:8080/",
          "height": 34
        }
      },
      "source": [
        "import os\n",
        "import keras\n",
        "import itertools\n",
        "# Disable GPU\n",
        "os.environ[\"CUDA_VISIBLE_DEVICES\"] = \"\""
      ],
      "execution_count": 1,
      "outputs": [
        {
          "output_type": "stream",
          "text": [
            "Using TensorFlow backend.\n"
          ],
          "name": "stderr"
        }
      ]
    },
    {
      "cell_type": "code",
      "metadata": {
        "id": "ETnLgR5SXdPj",
        "colab_type": "code",
        "colab": {
          "base_uri": "https://localhost:8080/",
          "height": 51
        },
        "outputId": "2a5393ed-5178-4dfd-9485-15aee8f2aac0"
      },
      "source": [
        "train, test = keras.datasets.cifar10.load_data()"
      ],
      "execution_count": 2,
      "outputs": [
        {
          "output_type": "stream",
          "text": [
            "Downloading data from https://www.cs.toronto.edu/~kriz/cifar-10-python.tar.gz\n",
            "170500096/170498071 [==============================] - 4s 0us/step\n"
          ],
          "name": "stdout"
        }
      ]
    },
    {
      "cell_type": "code",
      "metadata": {
        "id": "AoH063eTXdSz",
        "colab_type": "code",
        "colab": {}
      },
      "source": [
        "## 資料前處理\n",
        "def preproc_x(x, flatten=True):\n",
        "    x = x / 255.\n",
        "    if flatten:\n",
        "        x = x.reshape((len(x), -1))\n",
        "    return x\n",
        "\n",
        "def preproc_y(y, num_classes=10):\n",
        "    if y.shape[-1] == 1:\n",
        "        y = keras.utils.to_categorical(y, num_classes)\n",
        "    return y    "
      ],
      "execution_count": 0,
      "outputs": []
    },
    {
      "cell_type": "code",
      "metadata": {
        "id": "LtwetaVEXdVx",
        "colab_type": "code",
        "colab": {}
      },
      "source": [
        "x_train, y_train = train\n",
        "x_test, y_test = test\n",
        "\n",
        "# Preproc the inputs\n",
        "x_train = preproc_x(x_train)\n",
        "x_test = preproc_x(x_test)\n",
        "\n",
        "# Preprc the outputs\n",
        "y_train = preproc_y(y_train)\n",
        "y_test = preproc_y(y_test)"
      ],
      "execution_count": 0,
      "outputs": []
    },
    {
      "cell_type": "markdown",
      "metadata": {
        "id": "0dbEDpM4l8IN",
        "colab_type": "text"
      },
      "source": [
        "### 1. 試比較有 BN 在 Batch_size = 2, 16, 32, 128, 256 下的差異"
      ]
    },
    {
      "cell_type": "code",
      "metadata": {
        "id": "QEc3Lb2GlnMd",
        "colab_type": "code",
        "colab": {}
      },
      "source": [
        "from keras.layers import BatchNormalization\n",
        "def build_mlp_1(input_shape, output_units=10, num_neurons=[512, 256, 128]):\n",
        "    input_layer = keras.layers.Input(input_shape)\n",
        "    \n",
        "    for i, n_units in enumerate(num_neurons):\n",
        "        if i == 0:\n",
        "            x = keras.layers.Dense(units=n_units, \n",
        "                                   activation=\"relu\", \n",
        "                                   name=\"hidden_layer\"+str(i+1))(input_layer)\n",
        "            x = BatchNormalization()(x)\n",
        "        else:\n",
        "            x = keras.layers.Dense(units=n_units, \n",
        "                                   activation=\"relu\", \n",
        "                                   name=\"hidden_layer\"+str(i+1))(x)\n",
        "            x = BatchNormalization()(x)\n",
        "    \n",
        "    out = keras.layers.Dense(units=output_units, activation=\"softmax\", name=\"output\")(x)\n",
        "    \n",
        "    model = keras.models.Model(inputs=[input_layer], outputs=[out])\n",
        "    return model"
      ],
      "execution_count": 0,
      "outputs": []
    },
    {
      "cell_type": "code",
      "metadata": {
        "id": "47wQyefalnP-",
        "colab_type": "code",
        "colab": {}
      },
      "source": [
        "# 設定超參數\n",
        "LEARNING_RATE = 1e-3\n",
        "EPOCHS = 20 #batch size=2時跑很久，所以把epochs改成20...\n",
        "BATCH_SIZE = [2, 16, 32, 128, 256]\n",
        "MOMENTUM = 0.95"
      ],
      "execution_count": 0,
      "outputs": []
    },
    {
      "cell_type": "code",
      "metadata": {
        "id": "DXtqmpPilnT2",
        "colab_type": "code",
        "outputId": "349a6b14-3216-45fe-c758-caf7105edae2",
        "colab": {
          "base_uri": "https://localhost:8080/",
          "height": 1000
        }
      },
      "source": [
        "results = {}\n",
        "for bs in BATCH_SIZE:\n",
        "    model = build_mlp_1(input_shape=x_train.shape[1:])\n",
        "    model.summary()\n",
        "    optimizer = keras.optimizers.SGD(\n",
        "        lr=LEARNING_RATE, nesterov=True, momentum=MOMENTUM)\n",
        "    model.compile(\n",
        "        loss=\"categorical_crossentropy\", metrics=[\"acc\"], optimizer=optimizer)\n",
        "\n",
        "    model.fit(\n",
        "        x_train,\n",
        "        y_train,\n",
        "        epochs=EPOCHS,\n",
        "        batch_size=bs,\n",
        "        validation_data=(x_test, y_test),\n",
        "        shuffle=True)\n",
        "\n",
        "    # Collect results\n",
        "    train_loss = model.history.history[\"loss\"]\n",
        "    valid_loss = model.history.history[\"val_loss\"]\n",
        "    train_acc = model.history.history[\"acc\"]\n",
        "    valid_acc = model.history.history[\"val_acc\"]\n",
        "\n",
        "    exp_name_tag = \"Batch size-%s\" % str(bs)\n",
        "    results[exp_name_tag] = {\n",
        "        'train-loss': train_loss,\n",
        "        'valid-loss': valid_loss,\n",
        "        'train-acc': train_acc,\n",
        "        'valid-acc': valid_acc\n",
        "    }"
      ],
      "execution_count": 0,
      "outputs": [
        {
          "output_type": "stream",
          "text": [
            "_________________________________________________________________\n",
            "Layer (type)                 Output Shape              Param #   \n",
            "=================================================================\n",
            "input_3 (InputLayer)         (None, 3072)              0         \n",
            "_________________________________________________________________\n",
            "hidden_layer1 (Dense)        (None, 512)               1573376   \n",
            "_________________________________________________________________\n",
            "batch_normalization_4 (Batch (None, 512)               2048      \n",
            "_________________________________________________________________\n",
            "hidden_layer2 (Dense)        (None, 256)               131328    \n",
            "_________________________________________________________________\n",
            "batch_normalization_5 (Batch (None, 256)               1024      \n",
            "_________________________________________________________________\n",
            "hidden_layer3 (Dense)        (None, 128)               32896     \n",
            "_________________________________________________________________\n",
            "batch_normalization_6 (Batch (None, 128)               512       \n",
            "_________________________________________________________________\n",
            "output (Dense)               (None, 10)                1290      \n",
            "=================================================================\n",
            "Total params: 1,742,474\n",
            "Trainable params: 1,740,682\n",
            "Non-trainable params: 1,792\n",
            "_________________________________________________________________\n",
            "Train on 50000 samples, validate on 10000 samples\n",
            "Epoch 1/20\n",
            "50000/50000 [==============================] - 803s 16ms/step - loss: 2.3176 - acc: 0.1471 - val_loss: 2.1747 - val_acc: 0.2134\n",
            "Epoch 2/20\n",
            "50000/50000 [==============================] - 742s 15ms/step - loss: 2.2381 - acc: 0.1660 - val_loss: 2.1584 - val_acc: 0.2241\n",
            "Epoch 3/20\n",
            "50000/50000 [==============================] - 753s 15ms/step - loss: 2.2256 - acc: 0.1705 - val_loss: 2.1325 - val_acc: 0.2030\n",
            "Epoch 4/20\n",
            "50000/50000 [==============================] - 765s 15ms/step - loss: 2.2287 - acc: 0.1694 - val_loss: 2.3479 - val_acc: 0.1974\n",
            "Epoch 5/20\n",
            "50000/50000 [==============================] - 762s 15ms/step - loss: 2.2258 - acc: 0.1738 - val_loss: 2.3482 - val_acc: 0.1918\n",
            "Epoch 6/20\n",
            "50000/50000 [==============================] - 757s 15ms/step - loss: 2.2261 - acc: 0.1716 - val_loss: 2.1990 - val_acc: 0.2123\n",
            "Epoch 7/20\n",
            "50000/50000 [==============================] - 755s 15ms/step - loss: 2.2233 - acc: 0.1694 - val_loss: 2.2843 - val_acc: 0.2098\n",
            "Epoch 8/20\n",
            "50000/50000 [==============================] - 734s 15ms/step - loss: 2.2266 - acc: 0.1700 - val_loss: 2.7693 - val_acc: 0.2063\n",
            "Epoch 9/20\n",
            "50000/50000 [==============================] - 737s 15ms/step - loss: 2.2334 - acc: 0.1672 - val_loss: 2.5158 - val_acc: 0.2172\n",
            "Epoch 10/20\n",
            "50000/50000 [==============================] - 634s 13ms/step - loss: 2.2306 - acc: 0.1690 - val_loss: 2.7072 - val_acc: 0.1860\n",
            "Epoch 11/20\n",
            "50000/50000 [==============================] - 421s 8ms/step - loss: 2.2369 - acc: 0.1685 - val_loss: 2.6575 - val_acc: 0.2071\n",
            "Epoch 12/20\n",
            "50000/50000 [==============================] - 410s 8ms/step - loss: 2.2362 - acc: 0.1665 - val_loss: 2.6320 - val_acc: 0.1937\n",
            "Epoch 13/20\n",
            "50000/50000 [==============================] - 413s 8ms/step - loss: 2.2456 - acc: 0.1639 - val_loss: 2.6907 - val_acc: 0.2086\n",
            "Epoch 14/20\n",
            "50000/50000 [==============================] - 427s 9ms/step - loss: 2.2505 - acc: 0.1621 - val_loss: 2.9494 - val_acc: 0.2062\n",
            "Epoch 15/20\n",
            "50000/50000 [==============================] - 414s 8ms/step - loss: 2.2469 - acc: 0.1622 - val_loss: 3.1334 - val_acc: 0.1793\n",
            "Epoch 16/20\n",
            "50000/50000 [==============================] - 415s 8ms/step - loss: 2.2518 - acc: 0.1601 - val_loss: 2.9747 - val_acc: 0.1683\n",
            "Epoch 17/20\n",
            "50000/50000 [==============================] - 406s 8ms/step - loss: 2.2564 - acc: 0.1544 - val_loss: 3.6073 - val_acc: 0.1670\n",
            "Epoch 18/20\n",
            "50000/50000 [==============================] - 404s 8ms/step - loss: 2.2550 - acc: 0.1535 - val_loss: 3.4178 - val_acc: 0.1922\n",
            "Epoch 19/20\n",
            "50000/50000 [==============================] - 410s 8ms/step - loss: 2.2517 - acc: 0.1576 - val_loss: 3.9376 - val_acc: 0.1736\n",
            "Epoch 20/20\n",
            "50000/50000 [==============================] - 406s 8ms/step - loss: 2.2532 - acc: 0.1533 - val_loss: 3.7758 - val_acc: 0.1578\n",
            "_________________________________________________________________\n",
            "Layer (type)                 Output Shape              Param #   \n",
            "=================================================================\n",
            "input_4 (InputLayer)         (None, 3072)              0         \n",
            "_________________________________________________________________\n",
            "hidden_layer1 (Dense)        (None, 512)               1573376   \n",
            "_________________________________________________________________\n",
            "batch_normalization_7 (Batch (None, 512)               2048      \n",
            "_________________________________________________________________\n",
            "hidden_layer2 (Dense)        (None, 256)               131328    \n",
            "_________________________________________________________________\n",
            "batch_normalization_8 (Batch (None, 256)               1024      \n",
            "_________________________________________________________________\n",
            "hidden_layer3 (Dense)        (None, 128)               32896     \n",
            "_________________________________________________________________\n",
            "batch_normalization_9 (Batch (None, 128)               512       \n",
            "_________________________________________________________________\n",
            "output (Dense)               (None, 10)                1290      \n",
            "=================================================================\n",
            "Total params: 1,742,474\n",
            "Trainable params: 1,740,682\n",
            "Non-trainable params: 1,792\n",
            "_________________________________________________________________\n",
            "Train on 50000 samples, validate on 10000 samples\n",
            "Epoch 1/20\n",
            "50000/50000 [==============================] - 63s 1ms/step - loss: 1.8065 - acc: 0.3571 - val_loss: 1.6801 - val_acc: 0.3932\n",
            "Epoch 2/20\n",
            "50000/50000 [==============================] - 61s 1ms/step - loss: 1.6348 - acc: 0.4178 - val_loss: 1.5693 - val_acc: 0.4411\n",
            "Epoch 3/20\n",
            "50000/50000 [==============================] - 60s 1ms/step - loss: 1.5817 - acc: 0.4405 - val_loss: 1.5577 - val_acc: 0.4451\n",
            "Epoch 4/20\n",
            "50000/50000 [==============================] - 62s 1ms/step - loss: 1.5495 - acc: 0.4493 - val_loss: 1.5420 - val_acc: 0.4528\n",
            "Epoch 5/20\n",
            "50000/50000 [==============================] - 63s 1ms/step - loss: 1.5199 - acc: 0.4601 - val_loss: 1.4884 - val_acc: 0.4758\n",
            "Epoch 6/20\n",
            "50000/50000 [==============================] - 62s 1ms/step - loss: 1.4826 - acc: 0.4747 - val_loss: 1.4453 - val_acc: 0.4858\n",
            "Epoch 7/20\n",
            "50000/50000 [==============================] - 63s 1ms/step - loss: 1.4531 - acc: 0.4816 - val_loss: 1.4830 - val_acc: 0.4721\n",
            "Epoch 8/20\n",
            "50000/50000 [==============================] - 63s 1ms/step - loss: 1.4325 - acc: 0.4898 - val_loss: 1.4856 - val_acc: 0.4787\n",
            "Epoch 9/20\n",
            "50000/50000 [==============================] - 63s 1ms/step - loss: 1.4192 - acc: 0.4974 - val_loss: 1.5867 - val_acc: 0.4445\n",
            "Epoch 10/20\n",
            "50000/50000 [==============================] - 63s 1ms/step - loss: 1.4212 - acc: 0.4969 - val_loss: 1.4216 - val_acc: 0.4969\n",
            "Epoch 11/20\n",
            "50000/50000 [==============================] - 63s 1ms/step - loss: 1.3882 - acc: 0.5081 - val_loss: 1.4995 - val_acc: 0.4707\n",
            "Epoch 12/20\n",
            "50000/50000 [==============================] - 62s 1ms/step - loss: 1.3736 - acc: 0.5123 - val_loss: 1.4057 - val_acc: 0.4993\n",
            "Epoch 13/20\n",
            "50000/50000 [==============================] - 62s 1ms/step - loss: 1.3607 - acc: 0.5179 - val_loss: 1.4656 - val_acc: 0.4754\n",
            "Epoch 14/20\n",
            "50000/50000 [==============================] - 61s 1ms/step - loss: 1.3486 - acc: 0.5223 - val_loss: 1.3785 - val_acc: 0.5117\n",
            "Epoch 15/20\n",
            "50000/50000 [==============================] - 62s 1ms/step - loss: 1.3338 - acc: 0.5288 - val_loss: 1.3847 - val_acc: 0.5109\n",
            "Epoch 16/20\n",
            "50000/50000 [==============================] - 61s 1ms/step - loss: 1.3267 - acc: 0.5300 - val_loss: 1.3689 - val_acc: 0.5187\n",
            "Epoch 17/20\n",
            "50000/50000 [==============================] - 60s 1ms/step - loss: 1.3090 - acc: 0.5358 - val_loss: 1.3907 - val_acc: 0.5041\n",
            "Epoch 18/20\n",
            "50000/50000 [==============================] - 60s 1ms/step - loss: 1.2921 - acc: 0.5426 - val_loss: 1.4327 - val_acc: 0.4946\n",
            "Epoch 19/20\n",
            "50000/50000 [==============================] - 60s 1ms/step - loss: 1.2764 - acc: 0.5484 - val_loss: 1.4356 - val_acc: 0.4949\n",
            "Epoch 20/20\n",
            "50000/50000 [==============================] - 61s 1ms/step - loss: 1.2761 - acc: 0.5499 - val_loss: 1.3591 - val_acc: 0.5220\n",
            "_________________________________________________________________\n",
            "Layer (type)                 Output Shape              Param #   \n",
            "=================================================================\n",
            "input_5 (InputLayer)         (None, 3072)              0         \n",
            "_________________________________________________________________\n",
            "hidden_layer1 (Dense)        (None, 512)               1573376   \n",
            "_________________________________________________________________\n",
            "batch_normalization_10 (Batc (None, 512)               2048      \n",
            "_________________________________________________________________\n",
            "hidden_layer2 (Dense)        (None, 256)               131328    \n",
            "_________________________________________________________________\n",
            "batch_normalization_11 (Batc (None, 256)               1024      \n",
            "_________________________________________________________________\n",
            "hidden_layer3 (Dense)        (None, 128)               32896     \n",
            "_________________________________________________________________\n",
            "batch_normalization_12 (Batc (None, 128)               512       \n",
            "_________________________________________________________________\n",
            "output (Dense)               (None, 10)                1290      \n",
            "=================================================================\n",
            "Total params: 1,742,474\n",
            "Trainable params: 1,740,682\n",
            "Non-trainable params: 1,792\n",
            "_________________________________________________________________\n",
            "Train on 50000 samples, validate on 10000 samples\n",
            "Epoch 1/20\n",
            "50000/50000 [==============================] - 35s 707us/step - loss: 1.7294 - acc: 0.3910 - val_loss: 1.6446 - val_acc: 0.4116\n",
            "Epoch 2/20\n",
            "50000/50000 [==============================] - 34s 689us/step - loss: 1.5344 - acc: 0.4564 - val_loss: 1.5139 - val_acc: 0.4631\n",
            "Epoch 3/20\n",
            "50000/50000 [==============================] - 34s 688us/step - loss: 1.4604 - acc: 0.4821 - val_loss: 1.5165 - val_acc: 0.4615\n",
            "Epoch 4/20\n",
            "50000/50000 [==============================] - 39s 772us/step - loss: 1.4175 - acc: 0.4977 - val_loss: 1.5267 - val_acc: 0.4535\n",
            "Epoch 5/20\n",
            "50000/50000 [==============================] - 34s 687us/step - loss: 1.3833 - acc: 0.5071 - val_loss: 1.5535 - val_acc: 0.4522\n",
            "Epoch 6/20\n",
            "50000/50000 [==============================] - 35s 697us/step - loss: 1.3489 - acc: 0.5204 - val_loss: 1.4715 - val_acc: 0.4773\n",
            "Epoch 7/20\n",
            "50000/50000 [==============================] - 35s 693us/step - loss: 1.3125 - acc: 0.5334 - val_loss: 1.4790 - val_acc: 0.4698\n",
            "Epoch 8/20\n",
            "50000/50000 [==============================] - 35s 696us/step - loss: 1.2901 - acc: 0.5448 - val_loss: 1.4721 - val_acc: 0.4805\n",
            "Epoch 9/20\n",
            "50000/50000 [==============================] - 36s 711us/step - loss: 1.2642 - acc: 0.5518 - val_loss: 1.4482 - val_acc: 0.4848\n",
            "Epoch 10/20\n",
            "50000/50000 [==============================] - 36s 721us/step - loss: 1.2294 - acc: 0.5627 - val_loss: 1.4302 - val_acc: 0.4889\n",
            "Epoch 11/20\n",
            "50000/50000 [==============================] - 35s 694us/step - loss: 1.2154 - acc: 0.5678 - val_loss: 1.4298 - val_acc: 0.4985\n",
            "Epoch 12/20\n",
            "50000/50000 [==============================] - 35s 695us/step - loss: 1.2056 - acc: 0.5711 - val_loss: 1.4432 - val_acc: 0.4930\n",
            "Epoch 13/20\n",
            "50000/50000 [==============================] - 35s 704us/step - loss: 1.1791 - acc: 0.5803 - val_loss: 1.3898 - val_acc: 0.5102\n",
            "Epoch 14/20\n",
            "50000/50000 [==============================] - 36s 711us/step - loss: 1.1716 - acc: 0.5843 - val_loss: 1.4592 - val_acc: 0.4986\n",
            "Epoch 15/20\n",
            "50000/50000 [==============================] - 35s 703us/step - loss: 1.1360 - acc: 0.5954 - val_loss: 1.4061 - val_acc: 0.5045\n",
            "Epoch 16/20\n",
            "50000/50000 [==============================] - 35s 707us/step - loss: 1.1166 - acc: 0.6030 - val_loss: 1.4837 - val_acc: 0.4932\n",
            "Epoch 17/20\n",
            "50000/50000 [==============================] - 35s 702us/step - loss: 1.1014 - acc: 0.6064 - val_loss: 1.4250 - val_acc: 0.5041\n",
            "Epoch 18/20\n",
            "50000/50000 [==============================] - 35s 702us/step - loss: 1.0873 - acc: 0.6133 - val_loss: 1.4023 - val_acc: 0.5172\n",
            "Epoch 19/20\n",
            "50000/50000 [==============================] - 35s 691us/step - loss: 1.0780 - acc: 0.6177 - val_loss: 1.4489 - val_acc: 0.4915\n",
            "Epoch 20/20\n",
            "50000/50000 [==============================] - 35s 691us/step - loss: 1.0653 - acc: 0.6217 - val_loss: 1.4778 - val_acc: 0.4948\n",
            "_________________________________________________________________\n",
            "Layer (type)                 Output Shape              Param #   \n",
            "=================================================================\n",
            "input_6 (InputLayer)         (None, 3072)              0         \n",
            "_________________________________________________________________\n",
            "hidden_layer1 (Dense)        (None, 512)               1573376   \n",
            "_________________________________________________________________\n",
            "batch_normalization_13 (Batc (None, 512)               2048      \n",
            "_________________________________________________________________\n",
            "hidden_layer2 (Dense)        (None, 256)               131328    \n",
            "_________________________________________________________________\n",
            "batch_normalization_14 (Batc (None, 256)               1024      \n",
            "_________________________________________________________________\n",
            "hidden_layer3 (Dense)        (None, 128)               32896     \n",
            "_________________________________________________________________\n",
            "batch_normalization_15 (Batc (None, 128)               512       \n",
            "_________________________________________________________________\n",
            "output (Dense)               (None, 10)                1290      \n",
            "=================================================================\n",
            "Total params: 1,742,474\n",
            "Trainable params: 1,740,682\n",
            "Non-trainable params: 1,792\n",
            "_________________________________________________________________\n",
            "Train on 50000 samples, validate on 10000 samples\n",
            "Epoch 1/20\n",
            "50000/50000 [==============================] - 17s 332us/step - loss: 1.7720 - acc: 0.3826 - val_loss: 1.6408 - val_acc: 0.4229\n",
            "Epoch 2/20\n",
            "50000/50000 [==============================] - 15s 300us/step - loss: 1.4924 - acc: 0.4747 - val_loss: 1.5792 - val_acc: 0.4351\n",
            "Epoch 3/20\n",
            "50000/50000 [==============================] - 15s 300us/step - loss: 1.3883 - acc: 0.5118 - val_loss: 1.5711 - val_acc: 0.4382\n",
            "Epoch 4/20\n",
            "50000/50000 [==============================] - 15s 301us/step - loss: 1.3145 - acc: 0.5366 - val_loss: 1.5005 - val_acc: 0.4729\n",
            "Epoch 5/20\n",
            "50000/50000 [==============================] - 15s 301us/step - loss: 1.2565 - acc: 0.5581 - val_loss: 1.5935 - val_acc: 0.4453\n",
            "Epoch 6/20\n",
            "50000/50000 [==============================] - 15s 301us/step - loss: 1.2071 - acc: 0.5762 - val_loss: 1.4544 - val_acc: 0.4931\n",
            "Epoch 7/20\n",
            "50000/50000 [==============================] - 15s 303us/step - loss: 1.1683 - acc: 0.5906 - val_loss: 1.4649 - val_acc: 0.4844\n",
            "Epoch 8/20\n",
            "50000/50000 [==============================] - 15s 305us/step - loss: 1.1219 - acc: 0.6063 - val_loss: 1.4489 - val_acc: 0.4898\n",
            "Epoch 9/20\n",
            "50000/50000 [==============================] - 15s 302us/step - loss: 1.0861 - acc: 0.6192 - val_loss: 1.4973 - val_acc: 0.4749\n",
            "Epoch 10/20\n",
            "50000/50000 [==============================] - 15s 302us/step - loss: 1.0487 - acc: 0.6301 - val_loss: 1.5095 - val_acc: 0.4831\n",
            "Epoch 11/20\n",
            "50000/50000 [==============================] - 15s 305us/step - loss: 1.0135 - acc: 0.6453 - val_loss: 1.4541 - val_acc: 0.4992\n",
            "Epoch 12/20\n",
            "50000/50000 [==============================] - 15s 304us/step - loss: 0.9866 - acc: 0.6531 - val_loss: 1.6233 - val_acc: 0.4552\n",
            "Epoch 13/20\n",
            "50000/50000 [==============================] - 15s 302us/step - loss: 0.9551 - acc: 0.6631 - val_loss: 1.5011 - val_acc: 0.4811\n",
            "Epoch 14/20\n",
            "50000/50000 [==============================] - 15s 304us/step - loss: 0.9195 - acc: 0.6783 - val_loss: 1.6246 - val_acc: 0.4629\n",
            "Epoch 15/20\n",
            "50000/50000 [==============================] - 15s 306us/step - loss: 0.8906 - acc: 0.6891 - val_loss: 1.6044 - val_acc: 0.4725\n",
            "Epoch 16/20\n",
            "50000/50000 [==============================] - 15s 305us/step - loss: 0.8566 - acc: 0.7022 - val_loss: 1.5973 - val_acc: 0.4814\n",
            "Epoch 17/20\n",
            "50000/50000 [==============================] - 15s 301us/step - loss: 0.8330 - acc: 0.7086 - val_loss: 1.6371 - val_acc: 0.4817\n",
            "Epoch 18/20\n",
            "50000/50000 [==============================] - 15s 301us/step - loss: 0.8088 - acc: 0.7150 - val_loss: 1.7578 - val_acc: 0.4483\n",
            "Epoch 19/20\n",
            "50000/50000 [==============================] - 15s 303us/step - loss: 0.7778 - acc: 0.7286 - val_loss: 1.7590 - val_acc: 0.4525\n",
            "Epoch 20/20\n",
            "50000/50000 [==============================] - 15s 304us/step - loss: 0.7539 - acc: 0.7348 - val_loss: 1.6179 - val_acc: 0.4831\n",
            "_________________________________________________________________\n",
            "Layer (type)                 Output Shape              Param #   \n",
            "=================================================================\n",
            "input_7 (InputLayer)         (None, 3072)              0         \n",
            "_________________________________________________________________\n",
            "hidden_layer1 (Dense)        (None, 512)               1573376   \n",
            "_________________________________________________________________\n",
            "batch_normalization_16 (Batc (None, 512)               2048      \n",
            "_________________________________________________________________\n",
            "hidden_layer2 (Dense)        (None, 256)               131328    \n",
            "_________________________________________________________________\n",
            "batch_normalization_17 (Batc (None, 256)               1024      \n",
            "_________________________________________________________________\n",
            "hidden_layer3 (Dense)        (None, 128)               32896     \n",
            "_________________________________________________________________\n",
            "batch_normalization_18 (Batc (None, 128)               512       \n",
            "_________________________________________________________________\n",
            "output (Dense)               (None, 10)                1290      \n",
            "=================================================================\n",
            "Total params: 1,742,474\n",
            "Trainable params: 1,740,682\n",
            "Non-trainable params: 1,792\n",
            "_________________________________________________________________\n",
            "Train on 50000 samples, validate on 10000 samples\n",
            "Epoch 1/20\n",
            "50000/50000 [==============================] - 14s 285us/step - loss: 1.8600 - acc: 0.3625 - val_loss: 1.7614 - val_acc: 0.3920\n",
            "Epoch 2/20\n",
            "50000/50000 [==============================] - 13s 257us/step - loss: 1.5374 - acc: 0.4610 - val_loss: 1.5912 - val_acc: 0.4377\n",
            "Epoch 3/20\n",
            "50000/50000 [==============================] - 13s 256us/step - loss: 1.4360 - acc: 0.4981 - val_loss: 1.5580 - val_acc: 0.4467\n",
            "Epoch 4/20\n",
            "50000/50000 [==============================] - 13s 257us/step - loss: 1.3634 - acc: 0.5223 - val_loss: 1.5269 - val_acc: 0.4604\n",
            "Epoch 5/20\n",
            "50000/50000 [==============================] - 13s 257us/step - loss: 1.3017 - acc: 0.5463 - val_loss: 1.5364 - val_acc: 0.4547\n",
            "Epoch 6/20\n",
            "50000/50000 [==============================] - 13s 256us/step - loss: 1.2514 - acc: 0.5602 - val_loss: 1.4891 - val_acc: 0.4838\n",
            "Epoch 7/20\n",
            "50000/50000 [==============================] - 13s 258us/step - loss: 1.2045 - acc: 0.5794 - val_loss: 1.4712 - val_acc: 0.4859\n",
            "Epoch 8/20\n",
            "50000/50000 [==============================] - 13s 255us/step - loss: 1.1637 - acc: 0.5946 - val_loss: 1.4526 - val_acc: 0.4883\n",
            "Epoch 9/20\n",
            "50000/50000 [==============================] - 13s 255us/step - loss: 1.1202 - acc: 0.6106 - val_loss: 1.4739 - val_acc: 0.4873\n",
            "Epoch 10/20\n",
            "50000/50000 [==============================] - 13s 256us/step - loss: 1.0833 - acc: 0.6222 - val_loss: 1.5091 - val_acc: 0.4783\n",
            "Epoch 11/20\n",
            "50000/50000 [==============================] - 13s 254us/step - loss: 1.0420 - acc: 0.6378 - val_loss: 1.4283 - val_acc: 0.5021\n",
            "Epoch 12/20\n",
            "50000/50000 [==============================] - 13s 256us/step - loss: 1.0086 - acc: 0.6511 - val_loss: 1.5089 - val_acc: 0.4818\n",
            "Epoch 13/20\n",
            "50000/50000 [==============================] - 13s 258us/step - loss: 0.9777 - acc: 0.6607 - val_loss: 1.5406 - val_acc: 0.4815\n",
            "Epoch 14/20\n",
            "50000/50000 [==============================] - 13s 257us/step - loss: 0.9455 - acc: 0.6733 - val_loss: 1.5128 - val_acc: 0.4879\n",
            "Epoch 15/20\n",
            "50000/50000 [==============================] - 13s 256us/step - loss: 0.9098 - acc: 0.6870 - val_loss: 1.5328 - val_acc: 0.4832\n",
            "Epoch 16/20\n",
            "50000/50000 [==============================] - 13s 257us/step - loss: 0.8769 - acc: 0.6990 - val_loss: 1.5492 - val_acc: 0.4806\n",
            "Epoch 17/20\n",
            "50000/50000 [==============================] - 13s 258us/step - loss: 0.8423 - acc: 0.7111 - val_loss: 1.5674 - val_acc: 0.4829\n",
            "Epoch 18/20\n",
            "50000/50000 [==============================] - 13s 257us/step - loss: 0.8115 - acc: 0.7230 - val_loss: 1.5737 - val_acc: 0.4857\n",
            "Epoch 19/20\n",
            "50000/50000 [==============================] - 13s 261us/step - loss: 0.7875 - acc: 0.7295 - val_loss: 1.6115 - val_acc: 0.4807\n",
            "Epoch 20/20\n",
            "50000/50000 [==============================] - 13s 257us/step - loss: 0.7524 - acc: 0.7407 - val_loss: 1.6756 - val_acc: 0.4676\n"
          ],
          "name": "stdout"
        }
      ]
    },
    {
      "cell_type": "code",
      "metadata": {
        "id": "8G5CuQw3lncM",
        "colab_type": "code",
        "outputId": "20d65745-ffec-4441-915e-73039e239104",
        "colab": {
          "base_uri": "https://localhost:8080/",
          "height": 763
        }
      },
      "source": [
        "import matplotlib.pyplot as plt\n",
        "%matplotlib inline\n",
        "color_bar = [\"r\", \"g\", \"b\", \"y\", \"m\", \"k\"]\n",
        "\n",
        "plt.figure(figsize=(8,6))\n",
        "for i, cond in enumerate(results.keys()):\n",
        "    plt.plot(range(len(results[cond]['train-loss'])),results[cond]['train-loss'], '-', label=cond, color=color_bar[i])\n",
        "    plt.plot(range(len(results[cond]['valid-loss'])),results[cond]['valid-loss'], '--', label=cond, color=color_bar[i])\n",
        "plt.title(\"Loss\")\n",
        "plt.ylim([0, 5])\n",
        "plt.legend()\n",
        "plt.show()\n",
        "\n",
        "plt.figure(figsize=(8,6))\n",
        "for i, cond in enumerate(results.keys()):\n",
        "    plt.plot(range(len(results[cond]['train-acc'])),results[cond]['train-acc'], '-', label=cond, color=color_bar[i])\n",
        "    plt.plot(range(len(results[cond]['valid-acc'])),results[cond]['valid-acc'], '--', label=cond, color=color_bar[i])\n",
        "plt.title(\"Accuracy\")\n",
        "plt.legend()\n",
        "plt.show()"
      ],
      "execution_count": 0,
      "outputs": [
        {
          "output_type": "display_data",
          "data": {
            "image/png": "[encoded data removed]",
            "text/plain": [
              "<Figure size 576x432 with 1 Axes>"
            ]
          },
          "metadata": {
            "tags": []
          }
        },
        {
          "output_type": "display_data",
          "data": {
            "image/png": "[encoded data removed]",
            "text/plain": [
              "<Figure size 576x432 with 1 Axes>"
            ]
          },
          "metadata": {
            "tags": []
          }
        }
      ]
    },
    {
      "cell_type": "markdown",
      "metadata": {
        "id": "I0Qd-NWnncoj",
        "colab_type": "text"
      },
      "source": [
        "### 2.請嘗試將 BN 放在 Activation 之前，並比較訓練結果"
      ]
    },
    {
      "cell_type": "code",
      "metadata": {
        "id": "TNfT9zaBlnhm",
        "colab_type": "code",
        "colab": {}
      },
      "source": [
        "def build_mlp_2(input_shape, output_units=10, num_neurons=[512, 256, 128]):\n",
        "    input_layer = keras.layers.Input(input_shape)\n",
        "    \n",
        "    for i, n_units in enumerate(num_neurons):\n",
        "        if i == 0:\n",
        "            x = BatchNormalization()(input_layer)  # BN 放在 Activation 之前\n",
        "            x = keras.layers.Dense(units=n_units, \n",
        "                                   activation=\"relu\", \n",
        "                                   name=\"hidden_layer\"+str(i+1))(input_layer)\n",
        "        else:\n",
        "            x = BatchNormalization()(x)  # BN 放在 Activation 之前\n",
        "            x = keras.layers.Dense(units=n_units, \n",
        "                                   activation=\"relu\", \n",
        "                                   name=\"hidden_layer\"+str(i+1))(x)\n",
        "    \n",
        "    out = keras.layers.Dense(units=output_units, activation=\"softmax\", name=\"output\")(x)\n",
        "    \n",
        "    model = keras.models.Model(inputs=[input_layer], outputs=[out])\n",
        "    return model"
      ],
      "execution_count": 0,
      "outputs": []
    },
    {
      "cell_type": "code",
      "metadata": {
        "id": "v7_9je32iKPR",
        "colab_type": "code",
        "colab": {}
      },
      "source": [
        "# 設定超參數\n",
        "EPOCHS = 50  #改回50 \n",
        "BATCH_SIZE = 256"
      ],
      "execution_count": 0,
      "outputs": []
    },
    {
      "cell_type": "code",
      "metadata": {
        "id": "f1QMmerJXdY3",
        "colab_type": "code",
        "outputId": "6ff57495-a3d7-42fa-fe0f-621271adbd7a",
        "colab": {
          "base_uri": "https://localhost:8080/",
          "height": 1000
        }
      },
      "source": [
        "results = {}\n",
        "model = build_mlp_2(input_shape=x_train.shape[1:])\n",
        "model.summary()\n",
        "optimizer = keras.optimizers.SGD(\n",
        "    lr=LEARNING_RATE, \n",
        "    nesterov=True, \n",
        "    momentum=MOMENTUM)\n",
        "model.compile(\n",
        "    loss=\"categorical_crossentropy\", \n",
        "    metrics=[\"acc\"], \n",
        "    optimizer=optimizer)\n",
        "\n",
        "model.fit(\n",
        "    x_train,\n",
        "    y_train,\n",
        "    epochs=EPOCHS,\n",
        "    batch_size=BATCH_SIZE,\n",
        "    validation_data=(x_test, y_test),\n",
        "    shuffle=True)\n",
        "\n",
        "# Collect results\n",
        "train_loss = model.history.history[\"loss\"]\n",
        "valid_loss = model.history.history[\"val_loss\"]\n",
        "train_acc = model.history.history[\"acc\"]\n",
        "valid_acc = model.history.history[\"val_acc\"]"
      ],
      "execution_count": 10,
      "outputs": [
        {
          "output_type": "stream",
          "text": [
            "WARNING: Logging before flag parsing goes to stderr.\n",
            "W0811 02:42:16.617437 140260073842560 deprecation_wrapper.py:119] From /usr/local/lib/python3.6/dist-packages/keras/backend/tensorflow_backend.py:74: The name tf.get_default_graph is deprecated. Please use tf.compat.v1.get_default_graph instead.\n",
            "\n",
            "W0811 02:42:16.660753 140260073842560 deprecation_wrapper.py:119] From /usr/local/lib/python3.6/dist-packages/keras/backend/tensorflow_backend.py:517: The name tf.placeholder is deprecated. Please use tf.compat.v1.placeholder instead.\n",
            "\n",
            "W0811 02:42:16.785344 140260073842560 deprecation_wrapper.py:119] From /usr/local/lib/python3.6/dist-packages/keras/backend/tensorflow_backend.py:133: The name tf.placeholder_with_default is deprecated. Please use tf.compat.v1.placeholder_with_default instead.\n",
            "\n",
            "W0811 02:42:16.808773 140260073842560 deprecation_wrapper.py:119] From /usr/local/lib/python3.6/dist-packages/keras/backend/tensorflow_backend.py:4138: The name tf.random_uniform is deprecated. Please use tf.random.uniform instead.\n",
            "\n",
            "W0811 02:42:17.185422 140260073842560 deprecation_wrapper.py:119] From /usr/local/lib/python3.6/dist-packages/keras/optimizers.py:790: The name tf.train.Optimizer is deprecated. Please use tf.compat.v1.train.Optimizer instead.\n",
            "\n",
            "W0811 02:42:17.196070 140260073842560 deprecation_wrapper.py:119] From /usr/local/lib/python3.6/dist-packages/keras/backend/tensorflow_backend.py:3295: The name tf.log is deprecated. Please use tf.math.log instead.\n",
            "\n",
            "W0811 02:42:17.315732 140260073842560 deprecation.py:323] From /usr/local/lib/python3.6/dist-packages/tensorflow/python/ops/math_grad.py:1250: add_dispatch_support.<locals>.wrapper (from tensorflow.python.ops.array_ops) is deprecated and will be removed in a future version.\n",
            "Instructions for updating:\n",
            "Use tf.where in 2.0, which has the same broadcast rule as np.where\n"
          ],
          "name": "stderr"
        },
        {
          "output_type": "stream",
          "text": [
            "_________________________________________________________________\n",
            "Layer (type)                 Output Shape              Param #   \n",
            "=================================================================\n",
            "input_1 (InputLayer)         (None, 3072)              0         \n",
            "_________________________________________________________________\n",
            "hidden_layer1 (Dense)        (None, 512)               1573376   \n",
            "_________________________________________________________________\n",
            "batch_normalization_2 (Batch (None, 512)               2048      \n",
            "_________________________________________________________________\n",
            "hidden_layer2 (Dense)        (None, 256)               131328    \n",
            "_________________________________________________________________\n",
            "batch_normalization_3 (Batch (None, 256)               1024      \n",
            "_________________________________________________________________\n",
            "hidden_layer3 (Dense)        (None, 128)               32896     \n",
            "_________________________________________________________________\n",
            "output (Dense)               (None, 10)                1290      \n",
            "=================================================================\n",
            "Total params: 1,741,962\n",
            "Trainable params: 1,740,426\n",
            "Non-trainable params: 1,536\n",
            "_________________________________________________________________\n",
            "Train on 50000 samples, validate on 10000 samples\n",
            "Epoch 1/50\n",
            "50000/50000 [==============================] - 14s 272us/step - loss: 1.8449 - acc: 0.3528 - val_loss: 1.7461 - val_acc: 0.3797\n",
            "Epoch 2/50\n",
            "50000/50000 [==============================] - 12s 250us/step - loss: 1.5569 - acc: 0.4511 - val_loss: 1.6054 - val_acc: 0.4270\n",
            "Epoch 3/50\n",
            "50000/50000 [==============================] - 13s 252us/step - loss: 1.4515 - acc: 0.4906 - val_loss: 1.5468 - val_acc: 0.4549\n",
            "Epoch 4/50\n",
            "50000/50000 [==============================] - 13s 251us/step - loss: 1.3802 - acc: 0.5169 - val_loss: 1.5144 - val_acc: 0.4641\n",
            "Epoch 5/50\n",
            "50000/50000 [==============================] - 12s 249us/step - loss: 1.3231 - acc: 0.5370 - val_loss: 1.4800 - val_acc: 0.4778\n",
            "Epoch 6/50\n",
            "50000/50000 [==============================] - 13s 250us/step - loss: 1.2747 - acc: 0.5539 - val_loss: 1.4506 - val_acc: 0.4884\n",
            "Epoch 7/50\n",
            "50000/50000 [==============================] - 13s 252us/step - loss: 1.2301 - acc: 0.5723 - val_loss: 1.4537 - val_acc: 0.4880\n",
            "Epoch 8/50\n",
            "50000/50000 [==============================] - 13s 253us/step - loss: 1.1918 - acc: 0.5847 - val_loss: 1.4519 - val_acc: 0.4877\n",
            "Epoch 9/50\n",
            "50000/50000 [==============================] - 13s 251us/step - loss: 1.1537 - acc: 0.5999 - val_loss: 1.4535 - val_acc: 0.4920\n",
            "Epoch 10/50\n",
            "50000/50000 [==============================] - 13s 250us/step - loss: 1.1157 - acc: 0.6122 - val_loss: 1.4682 - val_acc: 0.4812\n",
            "Epoch 11/50\n",
            "50000/50000 [==============================] - 12s 249us/step - loss: 1.0842 - acc: 0.6244 - val_loss: 1.4138 - val_acc: 0.5033\n",
            "Epoch 12/50\n",
            "50000/50000 [==============================] - 13s 254us/step - loss: 1.0507 - acc: 0.6357 - val_loss: 1.4654 - val_acc: 0.4887\n",
            "Epoch 13/50\n",
            "50000/50000 [==============================] - 13s 252us/step - loss: 1.0147 - acc: 0.6513 - val_loss: 1.4644 - val_acc: 0.4887\n",
            "Epoch 14/50\n",
            "50000/50000 [==============================] - 15s 292us/step - loss: 0.9803 - acc: 0.6627 - val_loss: 1.4353 - val_acc: 0.5004\n",
            "Epoch 15/50\n",
            "50000/50000 [==============================] - 15s 294us/step - loss: 0.9483 - acc: 0.6731 - val_loss: 1.4705 - val_acc: 0.4984\n",
            "Epoch 16/50\n",
            "50000/50000 [==============================] - 13s 252us/step - loss: 0.9185 - acc: 0.6855 - val_loss: 1.4252 - val_acc: 0.5085\n",
            "Epoch 17/50\n",
            "50000/50000 [==============================] - 13s 252us/step - loss: 0.8893 - acc: 0.6962 - val_loss: 1.5376 - val_acc: 0.4808\n",
            "Epoch 18/50\n",
            "50000/50000 [==============================] - 12s 250us/step - loss: 0.8566 - acc: 0.7095 - val_loss: 1.4749 - val_acc: 0.4928\n",
            "Epoch 19/50\n",
            "50000/50000 [==============================] - 13s 251us/step - loss: 0.8231 - acc: 0.7210 - val_loss: 1.5466 - val_acc: 0.4931\n",
            "Epoch 20/50\n",
            "50000/50000 [==============================] - 13s 251us/step - loss: 0.7980 - acc: 0.7281 - val_loss: 1.5684 - val_acc: 0.5002\n",
            "Epoch 21/50\n",
            "50000/50000 [==============================] - 13s 252us/step - loss: 0.7693 - acc: 0.7408 - val_loss: 1.5576 - val_acc: 0.4919\n",
            "Epoch 22/50\n",
            "50000/50000 [==============================] - 13s 253us/step - loss: 0.7394 - acc: 0.7528 - val_loss: 1.5884 - val_acc: 0.4943\n",
            "Epoch 23/50\n",
            "50000/50000 [==============================] - 13s 252us/step - loss: 0.7164 - acc: 0.7597 - val_loss: 1.5987 - val_acc: 0.4849\n",
            "Epoch 24/50\n",
            "50000/50000 [==============================] - 12s 248us/step - loss: 0.6869 - acc: 0.7696 - val_loss: 1.7680 - val_acc: 0.4691\n",
            "Epoch 25/50\n",
            "50000/50000 [==============================] - 12s 246us/step - loss: 0.6624 - acc: 0.7788 - val_loss: 1.5735 - val_acc: 0.5018\n",
            "Epoch 26/50\n",
            "50000/50000 [==============================] - 13s 250us/step - loss: 0.6339 - acc: 0.7914 - val_loss: 1.6237 - val_acc: 0.4928\n",
            "Epoch 27/50\n",
            "50000/50000 [==============================] - 13s 254us/step - loss: 0.6067 - acc: 0.8003 - val_loss: 1.6692 - val_acc: 0.4826\n",
            "Epoch 28/50\n",
            "50000/50000 [==============================] - 13s 253us/step - loss: 0.5833 - acc: 0.8090 - val_loss: 1.6969 - val_acc: 0.4889\n",
            "Epoch 29/50\n",
            "50000/50000 [==============================] - 12s 250us/step - loss: 0.5618 - acc: 0.8169 - val_loss: 1.6728 - val_acc: 0.4962\n",
            "Epoch 30/50\n",
            "50000/50000 [==============================] - 12s 250us/step - loss: 0.5362 - acc: 0.8268 - val_loss: 1.7444 - val_acc: 0.4847\n",
            "Epoch 31/50\n",
            "50000/50000 [==============================] - 13s 251us/step - loss: 0.5165 - acc: 0.8344 - val_loss: 1.9734 - val_acc: 0.4397\n",
            "Epoch 32/50\n",
            "50000/50000 [==============================] - 13s 252us/step - loss: 0.4976 - acc: 0.8397 - val_loss: 1.8514 - val_acc: 0.4741\n",
            "Epoch 33/50\n",
            "50000/50000 [==============================] - 13s 252us/step - loss: 0.4729 - acc: 0.8496 - val_loss: 1.8931 - val_acc: 0.4771\n",
            "Epoch 34/50\n",
            "50000/50000 [==============================] - 13s 250us/step - loss: 0.4483 - acc: 0.8588 - val_loss: 2.0163 - val_acc: 0.4611\n",
            "Epoch 35/50\n",
            "50000/50000 [==============================] - 13s 251us/step - loss: 0.4279 - acc: 0.8663 - val_loss: 1.7796 - val_acc: 0.5027\n",
            "Epoch 36/50\n",
            "50000/50000 [==============================] - 13s 252us/step - loss: 0.4089 - acc: 0.8743 - val_loss: 1.8163 - val_acc: 0.4889\n",
            "Epoch 37/50\n",
            "50000/50000 [==============================] - 13s 250us/step - loss: 0.3870 - acc: 0.8827 - val_loss: 1.9143 - val_acc: 0.4849\n",
            "Epoch 38/50\n",
            "50000/50000 [==============================] - 13s 252us/step - loss: 0.3735 - acc: 0.8852 - val_loss: 1.8884 - val_acc: 0.4873\n",
            "Epoch 39/50\n",
            "50000/50000 [==============================] - 13s 252us/step - loss: 0.3561 - acc: 0.8922 - val_loss: 2.1085 - val_acc: 0.4557\n",
            "Epoch 40/50\n",
            "50000/50000 [==============================] - 13s 251us/step - loss: 0.3398 - acc: 0.8974 - val_loss: 2.0328 - val_acc: 0.4882\n",
            "Epoch 41/50\n",
            "50000/50000 [==============================] - 13s 251us/step - loss: 0.3192 - acc: 0.9058 - val_loss: 2.1364 - val_acc: 0.4693\n",
            "Epoch 42/50\n",
            "50000/50000 [==============================] - 13s 252us/step - loss: 0.3029 - acc: 0.9118 - val_loss: 2.0748 - val_acc: 0.4627\n",
            "Epoch 43/50\n",
            "50000/50000 [==============================] - 12s 250us/step - loss: 0.2928 - acc: 0.9144 - val_loss: 2.0988 - val_acc: 0.4690\n",
            "Epoch 44/50\n",
            "50000/50000 [==============================] - 12s 250us/step - loss: 0.2793 - acc: 0.9189 - val_loss: 2.1230 - val_acc: 0.4848\n",
            "Epoch 45/50\n",
            "50000/50000 [==============================] - 12s 250us/step - loss: 0.2662 - acc: 0.9241 - val_loss: 2.2006 - val_acc: 0.4723\n",
            "Epoch 46/50\n",
            "50000/50000 [==============================] - 12s 250us/step - loss: 0.2561 - acc: 0.9269 - val_loss: 2.1552 - val_acc: 0.4770\n",
            "Epoch 47/50\n",
            "50000/50000 [==============================] - 13s 250us/step - loss: 0.2390 - acc: 0.9327 - val_loss: 2.1672 - val_acc: 0.4783\n",
            "Epoch 48/50\n",
            "50000/50000 [==============================] - 13s 250us/step - loss: 0.2252 - acc: 0.9383 - val_loss: 2.2370 - val_acc: 0.4846\n",
            "Epoch 49/50\n",
            "50000/50000 [==============================] - 12s 249us/step - loss: 0.2158 - acc: 0.9413 - val_loss: 2.2699 - val_acc: 0.4816\n",
            "Epoch 50/50\n",
            "50000/50000 [==============================] - 12s 249us/step - loss: 0.2021 - acc: 0.9457 - val_loss: 2.2659 - val_acc: 0.4865\n"
          ],
          "name": "stdout"
        }
      ]
    },
    {
      "cell_type": "code",
      "metadata": {
        "id": "kfbCwWq2Xdfx",
        "colab_type": "code",
        "colab": {
          "base_uri": "https://localhost:8080/",
          "height": 545
        },
        "outputId": "bfe22e34-dbc2-46fb-8136-7cd4c292c127"
      },
      "source": [
        "import matplotlib.pyplot as plt\n",
        "%matplotlib inline\n",
        "plt.plot(range(len(train_loss)), train_loss, label=\"train loss\")\n",
        "plt.plot(range(len(valid_loss)), valid_loss, label=\"valid loss\")\n",
        "plt.legend()\n",
        "plt.title(\"Loss\")\n",
        "plt.show()\n",
        "\n",
        "plt.plot(range(len(train_acc)), train_acc, label=\"train accuracy\")\n",
        "plt.plot(range(len(valid_acc)), valid_acc, label=\"valid accuracy\")\n",
        "plt.legend()\n",
        "plt.title(\"Accuracy\")\n",
        "plt.show()"
      ],
      "execution_count": 12,
      "outputs": [
        {
          "output_type": "display_data",
          "data": {
            "image/png": "[encoded data removed]",
            "text/plain": [
              "<Figure size 432x288 with 1 Axes>"
            ]
          },
          "metadata": {
            "tags": []
          }
        },
        {
          "output_type": "display_data",
          "data": {
            "image/png": "[encoded data removed]",
            "text/plain": [
              "<Figure size 432x288 with 1 Axes>"
            ]
          },
          "metadata": {
            "tags": []
          }
        }
      ]
    },
    {
      "cell_type": "markdown",
      "metadata": {
        "id": "OzNValbqo4Sm",
        "colab_type": "text"
      },
      "source": [
        "### 3.請把 BN 放在 Input Layer 後，並比較結果"
      ]
    },
    {
      "cell_type": "code",
      "metadata": {
        "id": "_2Va6GE5n6Rk",
        "colab_type": "code",
        "colab": {}
      },
      "source": [
        "def build_mlp_3(input_shape, output_units=10, num_neurons=[512, 256, 128]):\n",
        "    input_layer = keras.layers.Input(input_shape)\n",
        "    x = BatchNormalization()(input_layer)   # BN 放在 Input Layer 後\n",
        "    \n",
        "    for i, n_units in enumerate(num_neurons):\n",
        "        if i == 0:\n",
        "            x = keras.layers.Dense(units=n_units, \n",
        "                                   activation=\"relu\", \n",
        "                                   name=\"hidden_layer\"+str(i+1))(input_layer)\n",
        "\n",
        "        else:\n",
        "            x = keras.layers.Dense(units=n_units, \n",
        "                                   activation=\"relu\", \n",
        "                                   name=\"hidden_layer\"+str(i+1))(x)\n",
        "            \n",
        "    \n",
        "    out = keras.layers.Dense(units=output_units, activation=\"softmax\", name=\"output\")(x)\n",
        "    \n",
        "    model = keras.models.Model(inputs=[input_layer], outputs=[out])\n",
        "    return model\n",
        "  "
      ],
      "execution_count": 0,
      "outputs": []
    },
    {
      "cell_type": "code",
      "metadata": {
        "id": "UAzwLCyTn6Vo",
        "colab_type": "code",
        "colab": {}
      },
      "source": [
        "# 設定超參數\n",
        "LEARNING_RATE = 1e-3\n",
        "BATCH_SIZE = 256\n",
        "MOMENTUM = 0.95"
      ],
      "execution_count": 0,
      "outputs": []
    },
    {
      "cell_type": "code",
      "metadata": {
        "id": "_RI9Fc8Wn6cR",
        "colab_type": "code",
        "colab": {
          "base_uri": "https://localhost:8080/",
          "height": 1000
        },
        "outputId": "b41c9d70-7814-4ae2-eec3-f4d9cc70dcc7"
      },
      "source": [
        "results = {}\n",
        "model = build_mlp_3(input_shape=x_train.shape[1:])\n",
        "model.summary()\n",
        "optimizer = keras.optimizers.SGD(\n",
        "    lr=LEARNING_RATE, nesterov=True, momentum=MOMENTUM)\n",
        "model.compile(\n",
        "    loss=\"categorical_crossentropy\", metrics=[\"acc\"], optimizer=optimizer)\n",
        "\n",
        "model.fit(\n",
        "    x_train,\n",
        "    y_train,\n",
        "    epochs=EPOCHS,\n",
        "    batch_size=BATCH_SIZE,\n",
        "    validation_data=(x_test, y_test),\n",
        "    shuffle=True)\n",
        "\n",
        "# Collect results\n",
        "train_loss = model.history.history[\"loss\"]\n",
        "valid_loss = model.history.history[\"val_loss\"]\n",
        "train_acc = model.history.history[\"acc\"]\n",
        "valid_acc = model.history.history[\"val_acc\"]"
      ],
      "execution_count": 16,
      "outputs": [
        {
          "output_type": "stream",
          "text": [
            "_________________________________________________________________\n",
            "Layer (type)                 Output Shape              Param #   \n",
            "=================================================================\n",
            "input_3 (InputLayer)         (None, 3072)              0         \n",
            "_________________________________________________________________\n",
            "hidden_layer1 (Dense)        (None, 512)               1573376   \n",
            "_________________________________________________________________\n",
            "hidden_layer2 (Dense)        (None, 256)               131328    \n",
            "_________________________________________________________________\n",
            "hidden_layer3 (Dense)        (None, 128)               32896     \n",
            "_________________________________________________________________\n",
            "output (Dense)               (None, 10)                1290      \n",
            "=================================================================\n",
            "Total params: 1,738,890\n",
            "Trainable params: 1,738,890\n",
            "Non-trainable params: 0\n",
            "_________________________________________________________________\n",
            "Train on 50000 samples, validate on 10000 samples\n",
            "Epoch 1/50\n",
            "50000/50000 [==============================] - 23s 466us/step - loss: 2.0395 - acc: 0.2730 - val_loss: 1.8642 - val_acc: 0.3525\n",
            "Epoch 2/50\n",
            "50000/50000 [==============================] - 22s 446us/step - loss: 1.8034 - acc: 0.3697 - val_loss: 1.7551 - val_acc: 0.3825\n",
            "Epoch 3/50\n",
            "50000/50000 [==============================] - 22s 438us/step - loss: 1.7157 - acc: 0.4009 - val_loss: 1.6836 - val_acc: 0.4119\n",
            "Epoch 4/50\n",
            "50000/50000 [==============================] - 22s 432us/step - loss: 1.6591 - acc: 0.4204 - val_loss: 1.6435 - val_acc: 0.4213\n",
            "Epoch 5/50\n",
            "50000/50000 [==============================] - 22s 440us/step - loss: 1.6125 - acc: 0.4362 - val_loss: 1.6037 - val_acc: 0.4325\n",
            "Epoch 6/50\n",
            "50000/50000 [==============================] - 22s 436us/step - loss: 1.5759 - acc: 0.4472 - val_loss: 1.5735 - val_acc: 0.4489\n",
            "Epoch 7/50\n",
            "50000/50000 [==============================] - 22s 433us/step - loss: 1.5422 - acc: 0.4592 - val_loss: 1.5542 - val_acc: 0.4493\n",
            "Epoch 8/50\n",
            "50000/50000 [==============================] - 22s 434us/step - loss: 1.5153 - acc: 0.4696 - val_loss: 1.5238 - val_acc: 0.4613\n",
            "Epoch 9/50\n",
            "50000/50000 [==============================] - 22s 439us/step - loss: 1.4904 - acc: 0.4765 - val_loss: 1.5311 - val_acc: 0.4555\n",
            "Epoch 10/50\n",
            "50000/50000 [==============================] - 22s 442us/step - loss: 1.4651 - acc: 0.4857 - val_loss: 1.4924 - val_acc: 0.4691\n",
            "Epoch 11/50\n",
            "50000/50000 [==============================] - 22s 440us/step - loss: 1.4434 - acc: 0.4933 - val_loss: 1.4689 - val_acc: 0.4796\n",
            "Epoch 12/50\n",
            "50000/50000 [==============================] - 22s 449us/step - loss: 1.4213 - acc: 0.5012 - val_loss: 1.4717 - val_acc: 0.4704\n",
            "Epoch 13/50\n",
            "50000/50000 [==============================] - 22s 443us/step - loss: 1.4026 - acc: 0.5077 - val_loss: 1.4644 - val_acc: 0.4774\n",
            "Epoch 14/50\n",
            "50000/50000 [==============================] - 22s 442us/step - loss: 1.3822 - acc: 0.5132 - val_loss: 1.4558 - val_acc: 0.4842\n",
            "Epoch 15/50\n",
            "50000/50000 [==============================] - 22s 447us/step - loss: 1.3609 - acc: 0.5218 - val_loss: 1.4169 - val_acc: 0.4967\n",
            "Epoch 16/50\n",
            "50000/50000 [==============================] - 21s 427us/step - loss: 1.3462 - acc: 0.5273 - val_loss: 1.4094 - val_acc: 0.4989\n",
            "Epoch 17/50\n",
            "50000/50000 [==============================] - 22s 443us/step - loss: 1.3290 - acc: 0.5304 - val_loss: 1.4109 - val_acc: 0.5040\n",
            "Epoch 18/50\n",
            "50000/50000 [==============================] - 22s 445us/step - loss: 1.3090 - acc: 0.5386 - val_loss: 1.3915 - val_acc: 0.5016\n",
            "Epoch 19/50\n",
            "50000/50000 [==============================] - 22s 444us/step - loss: 1.2929 - acc: 0.5453 - val_loss: 1.3852 - val_acc: 0.5100\n",
            "Epoch 20/50\n",
            "50000/50000 [==============================] - 22s 441us/step - loss: 1.2785 - acc: 0.5496 - val_loss: 1.3819 - val_acc: 0.5087\n",
            "Epoch 21/50\n",
            "50000/50000 [==============================] - 22s 439us/step - loss: 1.2618 - acc: 0.5561 - val_loss: 1.3796 - val_acc: 0.5084\n",
            "Epoch 22/50\n",
            "50000/50000 [==============================] - 22s 443us/step - loss: 1.2464 - acc: 0.5615 - val_loss: 1.3776 - val_acc: 0.5136\n",
            "Epoch 23/50\n",
            "50000/50000 [==============================] - 22s 438us/step - loss: 1.2315 - acc: 0.5647 - val_loss: 1.3987 - val_acc: 0.5014\n",
            "Epoch 24/50\n",
            "50000/50000 [==============================] - 22s 435us/step - loss: 1.2160 - acc: 0.5709 - val_loss: 1.3568 - val_acc: 0.5178\n",
            "Epoch 25/50\n",
            "50000/50000 [==============================] - 22s 439us/step - loss: 1.2009 - acc: 0.5789 - val_loss: 1.3751 - val_acc: 0.5097\n",
            "Epoch 26/50\n",
            "50000/50000 [==============================] - 22s 431us/step - loss: 1.1881 - acc: 0.5813 - val_loss: 1.3561 - val_acc: 0.5165\n",
            "Epoch 27/50\n",
            "50000/50000 [==============================] - 22s 435us/step - loss: 1.1739 - acc: 0.5859 - val_loss: 1.3391 - val_acc: 0.5263\n",
            "Epoch 28/50\n",
            "50000/50000 [==============================] - 22s 438us/step - loss: 1.1593 - acc: 0.5926 - val_loss: 1.4026 - val_acc: 0.5036\n",
            "Epoch 29/50\n",
            "50000/50000 [==============================] - 22s 439us/step - loss: 1.1471 - acc: 0.5965 - val_loss: 1.3433 - val_acc: 0.5249\n",
            "Epoch 30/50\n",
            "50000/50000 [==============================] - 22s 443us/step - loss: 1.1325 - acc: 0.6002 - val_loss: 1.3648 - val_acc: 0.5237\n",
            "Epoch 31/50\n",
            "50000/50000 [==============================] - 22s 439us/step - loss: 1.1198 - acc: 0.6045 - val_loss: 1.3813 - val_acc: 0.5148\n",
            "Epoch 32/50\n",
            "50000/50000 [==============================] - 22s 441us/step - loss: 1.1095 - acc: 0.6092 - val_loss: 1.3448 - val_acc: 0.5243\n",
            "Epoch 33/50\n",
            "50000/50000 [==============================] - 22s 442us/step - loss: 1.0948 - acc: 0.6142 - val_loss: 1.3969 - val_acc: 0.5111\n",
            "Epoch 34/50\n",
            "50000/50000 [==============================] - 22s 440us/step - loss: 1.0812 - acc: 0.6205 - val_loss: 1.3344 - val_acc: 0.5279\n",
            "Epoch 35/50\n",
            "50000/50000 [==============================] - 22s 443us/step - loss: 1.0667 - acc: 0.6252 - val_loss: 1.3773 - val_acc: 0.5210\n",
            "Epoch 36/50\n",
            "50000/50000 [==============================] - 22s 443us/step - loss: 1.0564 - acc: 0.6280 - val_loss: 1.3572 - val_acc: 0.5270\n",
            "Epoch 37/50\n",
            "50000/50000 [==============================] - 22s 441us/step - loss: 1.0455 - acc: 0.6312 - val_loss: 1.3655 - val_acc: 0.5202\n",
            "Epoch 38/50\n",
            "50000/50000 [==============================] - 22s 437us/step - loss: 1.0317 - acc: 0.6358 - val_loss: 1.3892 - val_acc: 0.5154\n",
            "Epoch 39/50\n",
            "50000/50000 [==============================] - 22s 437us/step - loss: 1.0159 - acc: 0.6421 - val_loss: 1.4393 - val_acc: 0.5063\n",
            "Epoch 40/50\n",
            "50000/50000 [==============================] - 22s 441us/step - loss: 1.0094 - acc: 0.6468 - val_loss: 1.3805 - val_acc: 0.5226\n",
            "Epoch 41/50\n",
            "50000/50000 [==============================] - 22s 437us/step - loss: 0.9948 - acc: 0.6508 - val_loss: 1.3503 - val_acc: 0.5329\n",
            "Epoch 42/50\n",
            "50000/50000 [==============================] - 22s 441us/step - loss: 0.9837 - acc: 0.6530 - val_loss: 1.4082 - val_acc: 0.5210\n",
            "Epoch 43/50\n",
            "50000/50000 [==============================] - 22s 445us/step - loss: 0.9716 - acc: 0.6583 - val_loss: 1.4685 - val_acc: 0.5102\n",
            "Epoch 44/50\n",
            "50000/50000 [==============================] - 22s 448us/step - loss: 0.9616 - acc: 0.6612 - val_loss: 1.3657 - val_acc: 0.5349\n",
            "Epoch 45/50\n",
            "50000/50000 [==============================] - 22s 439us/step - loss: 0.9485 - acc: 0.6669 - val_loss: 1.4495 - val_acc: 0.5138\n",
            "Epoch 46/50\n",
            "50000/50000 [==============================] - 22s 435us/step - loss: 0.9353 - acc: 0.6712 - val_loss: 1.3869 - val_acc: 0.5267\n",
            "Epoch 47/50\n",
            "50000/50000 [==============================] - 22s 433us/step - loss: 0.9223 - acc: 0.6730 - val_loss: 1.4098 - val_acc: 0.5280\n",
            "Epoch 48/50\n",
            "50000/50000 [==============================] - 22s 436us/step - loss: 0.9143 - acc: 0.6802 - val_loss: 1.4110 - val_acc: 0.5227\n",
            "Epoch 49/50\n",
            "50000/50000 [==============================] - 22s 442us/step - loss: 0.9017 - acc: 0.6840 - val_loss: 1.3622 - val_acc: 0.5353\n",
            "Epoch 50/50\n",
            "50000/50000 [==============================] - 22s 434us/step - loss: 0.8842 - acc: 0.6904 - val_loss: 1.4255 - val_acc: 0.5176\n"
          ],
          "name": "stdout"
        }
      ]
    },
    {
      "cell_type": "code",
      "metadata": {
        "id": "Jrl-wpRgn6iQ",
        "colab_type": "code",
        "colab": {
          "base_uri": "https://localhost:8080/",
          "height": 545
        },
        "outputId": "35a7ce5f-5185-4854-f0fe-d60a462577e6"
      },
      "source": [
        "import matplotlib.pyplot as plt\n",
        "%matplotlib inline\n",
        "plt.plot(range(len(train_loss)), train_loss, label=\"train loss\")\n",
        "plt.plot(range(len(valid_loss)), valid_loss, label=\"valid loss\")\n",
        "plt.legend()\n",
        "plt.title(\"Loss\")\n",
        "plt.show()\n",
        "\n",
        "plt.plot(range(len(train_acc)), train_acc, label=\"train accuracy\")\n",
        "plt.plot(range(len(valid_acc)), valid_acc, label=\"valid accuracy\")\n",
        "plt.legend()\n",
        "plt.title(\"Accuracy\")\n",
        "plt.show()"
      ],
      "execution_count": 17,
      "outputs": [
        {
          "output_type": "display_data",
          "data": {
            "image/png": "[encoded data removed]",
            "text/plain": [
              "<Figure size 432x288 with 1 Axes>"
            ]
          },
          "metadata": {
            "tags": []
          }
        },
        {
          "output_type": "display_data",
          "data": {
            "image/png": "[encoded data removed]",
            "text/plain": [
              "<Figure size 432x288 with 1 Axes>"
            ]
          },
          "metadata": {
            "tags": []
          }
        }
      ]
    },
    {
      "cell_type": "code",
      "metadata": {
        "id": "V-Q-72mOn6Zx",
        "colab_type": "code",
        "colab": {}
      },
      "source": [
        ""
      ],
      "execution_count": 0,
      "outputs": []
    },
    {
      "cell_type": "markdown",
      "metadata": {
        "id": "QjXPBz6jk7k9",
        "colab_type": "text"
      },
      "source": [
        "# 範例重點\n",
        "學習如何在 keras 中加入 BatchNorm  \n",
        "知道有無 BN 對訓練的影響  \n",
        "比較 BN 在不同 batch size 下的效果"
      ]
    },
    {
      "cell_type": "code",
      "metadata": {
        "id": "IR1c-K4vXdjC",
        "colab_type": "code",
        "colab": {}
      },
      "source": [
        "import os\n",
        "import keras\n",
        "\n",
        "# 本範例不需使用 GPU, 將 GPU 設定為 \"無\"\n",
        "os.environ[\"CUDA_VISIBLE_DEVICES\"] = \"\""
      ],
      "execution_count": 0,
      "outputs": []
    },
    {
      "cell_type": "code",
      "metadata": {
        "id": "q4peOIEIXdpg",
        "colab_type": "code",
        "colab": {}
      },
      "source": [
        "train, test = keras.datasets.cifar10.load_data()"
      ],
      "execution_count": 0,
      "outputs": []
    },
    {
      "cell_type": "code",
      "metadata": {
        "id": "awUOUnxSXdtS",
        "colab_type": "code",
        "colab": {}
      },
      "source": [
        "## 資料前處理\n",
        "def preproc_x(x, flatten=True):\n",
        "    x = x / 255.\n",
        "    if flatten:\n",
        "        x = x.reshape((len(x), -1))\n",
        "    return x\n",
        "\n",
        "def preproc_y(y, num_classes=10):\n",
        "    if y.shape[-1] == 1:\n",
        "        y = keras.utils.to_categorical(y, num_classes)\n",
        "    return y    "
      ],
      "execution_count": 0,
      "outputs": []
    },
    {
      "cell_type": "code",
      "metadata": {
        "id": "2v--sybVXdmS",
        "colab_type": "code",
        "colab": {}
      },
      "source": [
        "x_train, y_train = train\n",
        "x_test, y_test = test\n",
        "\n",
        "# 資料前處理 - X 標準化\n",
        "x_train = preproc_x(x_train)\n",
        "x_test = preproc_x(x_test)\n",
        "\n",
        "# 資料前處理 -Y 轉成 onehot\n",
        "y_train = preproc_y(y_train)\n",
        "y_test = preproc_y(y_test)"
      ],
      "execution_count": 0,
      "outputs": []
    },
    {
      "cell_type": "code",
      "metadata": {
        "id": "sMaYMAhEXdcl",
        "colab_type": "code",
        "colab": {}
      },
      "source": [
        "from keras.layers import BatchNormalization\n",
        "\n",
        "\"\"\"\n",
        "建立神經網路，並加入 BN layer\n",
        "\"\"\"\n",
        "def build_mlp(input_shape, output_units=10, num_neurons=[512, 256, 128]):\n",
        "    input_layer = keras.layers.Input(input_shape)\n",
        "    \n",
        "    for i, n_units in enumerate(num_neurons):\n",
        "        if i == 0:\n",
        "            x = keras.layers.Dense(units=n_units, \n",
        "                                   activation=\"relu\", \n",
        "                                   name=\"hidden_layer\"+str(i+1))(input_layer)\n",
        "            x = BatchNormalization()(x)\n",
        "        else:\n",
        "            x = keras.layers.Dense(units=n_units, \n",
        "                                   activation=\"relu\", \n",
        "                                   name=\"hidden_layer\"+str(i+1))(x)\n",
        "            x = BatchNormalization()(x)\n",
        "    \n",
        "    out = keras.layers.Dense(units=output_units, activation=\"softmax\", name=\"output\")(x)\n",
        "    \n",
        "    model = keras.models.Model(inputs=[input_layer], outputs=[out])\n",
        "    return model"
      ],
      "execution_count": 0,
      "outputs": []
    },
    {
      "cell_type": "code",
      "metadata": {
        "id": "W6ym0bDslB9x",
        "colab_type": "code",
        "colab": {}
      },
      "source": [
        "## 超參數設定\n",
        "LEARNING_RATE = 1e-3\n",
        "EPOCHS = 50\n",
        "BATCH_SIZE = 1024\n",
        "MOMENTUM = 0.95"
      ],
      "execution_count": 0,
      "outputs": []
    },
    {
      "cell_type": "code",
      "metadata": {
        "id": "qX5NGbwmlCCN",
        "colab_type": "code",
        "outputId": "585c1702-1a22-4f33-f683-462363ecebdd",
        "colab": {
          "base_uri": "https://localhost:8080/",
          "height": 1000
        }
      },
      "source": [
        "model = build_mlp(input_shape=x_train.shape[1:])\n",
        "model.summary()\n",
        "optimizer = keras.optimizers.SGD(lr=LEARNING_RATE, nesterov=True, momentum=MOMENTUM)\n",
        "model.compile(loss=\"categorical_crossentropy\", metrics=[\"accuracy\"], optimizer=optimizer)\n",
        "\n",
        "model.fit(x_train, y_train, \n",
        "          epochs=EPOCHS, \n",
        "          batch_size=BATCH_SIZE, \n",
        "          validation_data=(x_test, y_test), \n",
        "          shuffle=True)\n",
        "\n",
        "# Collect results\n",
        "train_loss = model.history.history[\"loss\"]\n",
        "valid_loss = model.history.history[\"val_loss\"]\n",
        "train_acc = model.history.history[\"acc\"]\n",
        "valid_acc = model.history.history[\"val_acc\"]"
      ],
      "execution_count": 0,
      "outputs": [
        {
          "output_type": "stream",
          "text": [
            "WARNING: Logging before flag parsing goes to stderr.\n",
            "W0809 08:52:38.596878 139984057603968 deprecation_wrapper.py:119] From /usr/local/lib/python3.6/dist-packages/keras/backend/tensorflow_backend.py:74: The name tf.get_default_graph is deprecated. Please use tf.compat.v1.get_default_graph instead.\n",
            "\n",
            "W0809 08:52:38.629398 139984057603968 deprecation_wrapper.py:119] From /usr/local/lib/python3.6/dist-packages/keras/backend/tensorflow_backend.py:517: The name tf.placeholder is deprecated. Please use tf.compat.v1.placeholder instead.\n",
            "\n",
            "W0809 08:52:38.638668 139984057603968 deprecation_wrapper.py:119] From /usr/local/lib/python3.6/dist-packages/keras/backend/tensorflow_backend.py:4138: The name tf.random_uniform is deprecated. Please use tf.random.uniform instead.\n",
            "\n",
            "W0809 08:52:38.959297 139984057603968 deprecation_wrapper.py:119] From /usr/local/lib/python3.6/dist-packages/keras/backend/tensorflow_backend.py:133: The name tf.placeholder_with_default is deprecated. Please use tf.compat.v1.placeholder_with_default instead.\n",
            "\n",
            "W0809 08:52:40.873125 139984057603968 deprecation_wrapper.py:119] From /usr/local/lib/python3.6/dist-packages/keras/optimizers.py:790: The name tf.train.Optimizer is deprecated. Please use tf.compat.v1.train.Optimizer instead.\n",
            "\n",
            "W0809 08:52:40.925789 139984057603968 deprecation_wrapper.py:119] From /usr/local/lib/python3.6/dist-packages/keras/backend/tensorflow_backend.py:3295: The name tf.log is deprecated. Please use tf.math.log instead.\n",
            "\n"
          ],
          "name": "stderr"
        },
        {
          "output_type": "stream",
          "text": [
            "_________________________________________________________________\n",
            "Layer (type)                 Output Shape              Param #   \n",
            "=================================================================\n",
            "input_1 (InputLayer)         (None, 3072)              0         \n",
            "_________________________________________________________________\n",
            "hidden_layer1 (Dense)        (None, 512)               1573376   \n",
            "_________________________________________________________________\n",
            "batch_normalization_1 (Batch (None, 512)               2048      \n",
            "_________________________________________________________________\n",
            "hidden_layer2 (Dense)        (None, 256)               131328    \n",
            "_________________________________________________________________\n",
            "batch_normalization_2 (Batch (None, 256)               1024      \n",
            "_________________________________________________________________\n",
            "hidden_layer3 (Dense)        (None, 128)               32896     \n",
            "_________________________________________________________________\n",
            "batch_normalization_3 (Batch (None, 128)               512       \n",
            "_________________________________________________________________\n",
            "output (Dense)               (None, 10)                1290      \n",
            "=================================================================\n",
            "Total params: 1,742,474\n",
            "Trainable params: 1,740,682\n",
            "Non-trainable params: 1,792\n",
            "_________________________________________________________________\n"
          ],
          "name": "stdout"
        },
        {
          "output_type": "stream",
          "text": [
            "W0809 08:52:41.640678 139984057603968 deprecation.py:323] From /usr/local/lib/python3.6/dist-packages/tensorflow/python/ops/math_grad.py:1250: add_dispatch_support.<locals>.wrapper (from tensorflow.python.ops.array_ops) is deprecated and will be removed in a future version.\n",
            "Instructions for updating:\n",
            "Use tf.where in 2.0, which has the same broadcast rule as np.where\n"
          ],
          "name": "stderr"
        },
        {
          "output_type": "stream",
          "text": [
            "Train on 50000 samples, validate on 10000 samples\n",
            "Epoch 1/50\n",
            "50000/50000 [==============================] - 33s 669us/step - loss: 2.2248 - acc: 0.2675 - val_loss: 2.2014 - val_acc: 0.3142\n",
            "Epoch 2/50\n",
            "50000/50000 [==============================] - 29s 587us/step - loss: 1.7500 - acc: 0.3923 - val_loss: 1.7961 - val_acc: 0.3899\n",
            "Epoch 3/50\n",
            "50000/50000 [==============================] - 30s 593us/step - loss: 1.6268 - acc: 0.4328 - val_loss: 1.7066 - val_acc: 0.4092\n",
            "Epoch 4/50\n",
            "50000/50000 [==============================] - 30s 600us/step - loss: 1.5525 - acc: 0.4566 - val_loss: 1.6444 - val_acc: 0.4212\n",
            "Epoch 5/50\n",
            "50000/50000 [==============================] - 30s 590us/step - loss: 1.4964 - acc: 0.4767 - val_loss: 1.6090 - val_acc: 0.4328\n",
            "Epoch 6/50\n",
            "50000/50000 [==============================] - 29s 575us/step - loss: 1.4509 - acc: 0.4931 - val_loss: 1.5937 - val_acc: 0.4354\n",
            "Epoch 7/50\n",
            "50000/50000 [==============================] - 29s 580us/step - loss: 1.4116 - acc: 0.5079 - val_loss: 1.5584 - val_acc: 0.4459\n",
            "Epoch 8/50\n",
            "50000/50000 [==============================] - 30s 596us/step - loss: 1.3758 - acc: 0.5214 - val_loss: 1.5297 - val_acc: 0.4594\n",
            "Epoch 9/50\n",
            "50000/50000 [==============================] - 30s 594us/step - loss: 1.3423 - acc: 0.5316 - val_loss: 1.5351 - val_acc: 0.4557\n",
            "Epoch 10/50\n",
            "50000/50000 [==============================] - 30s 597us/step - loss: 1.3128 - acc: 0.5431 - val_loss: 1.5110 - val_acc: 0.4639\n",
            "Epoch 11/50\n",
            "50000/50000 [==============================] - 30s 592us/step - loss: 1.2856 - acc: 0.5527 - val_loss: 1.5013 - val_acc: 0.4652\n",
            "Epoch 12/50\n",
            "50000/50000 [==============================] - 30s 598us/step - loss: 1.2592 - acc: 0.5633 - val_loss: 1.4937 - val_acc: 0.4690\n",
            "Epoch 13/50\n",
            "50000/50000 [==============================] - 30s 594us/step - loss: 1.2334 - acc: 0.5724 - val_loss: 1.4727 - val_acc: 0.4788\n",
            "Epoch 14/50\n",
            "50000/50000 [==============================] - 30s 593us/step - loss: 1.2084 - acc: 0.5839 - val_loss: 1.4659 - val_acc: 0.4842\n",
            "Epoch 15/50\n",
            "50000/50000 [==============================] - 29s 577us/step - loss: 1.1839 - acc: 0.5931 - val_loss: 1.4589 - val_acc: 0.4839\n",
            "Epoch 16/50\n",
            "50000/50000 [==============================] - 30s 595us/step - loss: 1.1618 - acc: 0.6009 - val_loss: 1.4743 - val_acc: 0.4789\n",
            "Epoch 17/50\n",
            "50000/50000 [==============================] - 30s 599us/step - loss: 1.1381 - acc: 0.6090 - val_loss: 1.4670 - val_acc: 0.4861\n",
            "Epoch 18/50\n",
            "50000/50000 [==============================] - 30s 592us/step - loss: 1.1163 - acc: 0.6197 - val_loss: 1.4523 - val_acc: 0.4834\n",
            "Epoch 19/50\n",
            "50000/50000 [==============================] - 30s 602us/step - loss: 1.0961 - acc: 0.6268 - val_loss: 1.4523 - val_acc: 0.4916\n",
            "Epoch 20/50\n",
            "50000/50000 [==============================] - 29s 589us/step - loss: 1.0732 - acc: 0.6357 - val_loss: 1.4553 - val_acc: 0.4888\n",
            "Epoch 21/50\n",
            "50000/50000 [==============================] - 30s 596us/step - loss: 1.0517 - acc: 0.6437 - val_loss: 1.4709 - val_acc: 0.4848\n",
            "Epoch 22/50\n",
            "50000/50000 [==============================] - 30s 595us/step - loss: 1.0314 - acc: 0.6525 - val_loss: 1.4460 - val_acc: 0.5007\n",
            "Epoch 23/50\n",
            "50000/50000 [==============================] - 30s 602us/step - loss: 1.0110 - acc: 0.6589 - val_loss: 1.4576 - val_acc: 0.4958\n",
            "Epoch 24/50\n",
            "50000/50000 [==============================] - 30s 606us/step - loss: 0.9889 - acc: 0.6675 - val_loss: 1.4628 - val_acc: 0.4924\n",
            "Epoch 25/50\n",
            "50000/50000 [==============================] - 29s 584us/step - loss: 0.9704 - acc: 0.6740 - val_loss: 1.4526 - val_acc: 0.4952\n",
            "Epoch 26/50\n",
            "50000/50000 [==============================] - 30s 595us/step - loss: 0.9505 - acc: 0.6813 - val_loss: 1.4575 - val_acc: 0.4936\n",
            "Epoch 27/50\n",
            "50000/50000 [==============================] - 30s 598us/step - loss: 0.9320 - acc: 0.6901 - val_loss: 1.4551 - val_acc: 0.4968\n",
            "Epoch 28/50\n",
            "50000/50000 [==============================] - 30s 590us/step - loss: 0.9109 - acc: 0.6973 - val_loss: 1.4677 - val_acc: 0.4958\n",
            "Epoch 29/50\n",
            "50000/50000 [==============================] - 29s 587us/step - loss: 0.8928 - acc: 0.7048 - val_loss: 1.4674 - val_acc: 0.4962\n",
            "Epoch 30/50\n",
            "50000/50000 [==============================] - 29s 584us/step - loss: 0.8739 - acc: 0.7133 - val_loss: 1.4844 - val_acc: 0.4925\n",
            "Epoch 31/50\n",
            "50000/50000 [==============================] - 29s 587us/step - loss: 0.8529 - acc: 0.7226 - val_loss: 1.4761 - val_acc: 0.5009\n",
            "Epoch 32/50\n",
            "50000/50000 [==============================] - 30s 600us/step - loss: 0.8340 - acc: 0.7292 - val_loss: 1.4925 - val_acc: 0.4916\n",
            "Epoch 33/50\n",
            "50000/50000 [==============================] - 30s 599us/step - loss: 0.8147 - acc: 0.7376 - val_loss: 1.5018 - val_acc: 0.4971\n",
            "Epoch 34/50\n",
            "50000/50000 [==============================] - 30s 591us/step - loss: 0.7981 - acc: 0.7412 - val_loss: 1.4944 - val_acc: 0.4976\n",
            "Epoch 35/50\n",
            "50000/50000 [==============================] - 30s 602us/step - loss: 0.7799 - acc: 0.7496 - val_loss: 1.5159 - val_acc: 0.4917\n",
            "Epoch 36/50\n",
            "50000/50000 [==============================] - 30s 600us/step - loss: 0.7610 - acc: 0.7566 - val_loss: 1.5173 - val_acc: 0.4913\n",
            "Epoch 37/50\n",
            "50000/50000 [==============================] - 30s 592us/step - loss: 0.7417 - acc: 0.7644 - val_loss: 1.5215 - val_acc: 0.4923\n",
            "Epoch 38/50\n",
            "50000/50000 [==============================] - 30s 594us/step - loss: 0.7229 - acc: 0.7718 - val_loss: 1.5363 - val_acc: 0.4938\n",
            "Epoch 39/50\n",
            "50000/50000 [==============================] - 30s 602us/step - loss: 0.7038 - acc: 0.7797 - val_loss: 1.5378 - val_acc: 0.4953\n",
            "Epoch 40/50\n",
            "50000/50000 [==============================] - 30s 598us/step - loss: 0.6863 - acc: 0.7865 - val_loss: 1.5427 - val_acc: 0.4896\n",
            "Epoch 41/50\n",
            "50000/50000 [==============================] - 29s 585us/step - loss: 0.6694 - acc: 0.7934 - val_loss: 1.5470 - val_acc: 0.4999\n",
            "Epoch 42/50\n",
            "50000/50000 [==============================] - 30s 590us/step - loss: 0.6531 - acc: 0.7980 - val_loss: 1.5632 - val_acc: 0.4918\n",
            "Epoch 43/50\n",
            "50000/50000 [==============================] - 30s 593us/step - loss: 0.6339 - acc: 0.8074 - val_loss: 1.5634 - val_acc: 0.4935\n",
            "Epoch 44/50\n",
            "50000/50000 [==============================] - 29s 581us/step - loss: 0.6165 - acc: 0.8138 - val_loss: 1.5815 - val_acc: 0.4921\n",
            "Epoch 45/50\n",
            "50000/50000 [==============================] - 30s 594us/step - loss: 0.5979 - acc: 0.8217 - val_loss: 1.6072 - val_acc: 0.4920\n",
            "Epoch 46/50\n",
            "50000/50000 [==============================] - 30s 593us/step - loss: 0.5811 - acc: 0.8272 - val_loss: 1.5879 - val_acc: 0.4894\n",
            "Epoch 47/50\n",
            "50000/50000 [==============================] - 30s 608us/step - loss: 0.5647 - acc: 0.8328 - val_loss: 1.6136 - val_acc: 0.4907\n",
            "Epoch 48/50\n",
            "50000/50000 [==============================] - 30s 594us/step - loss: 0.5474 - acc: 0.8407 - val_loss: 1.6333 - val_acc: 0.4834\n",
            "Epoch 49/50\n",
            "50000/50000 [==============================] - 29s 590us/step - loss: 0.5325 - acc: 0.8465 - val_loss: 1.6352 - val_acc: 0.4865\n",
            "Epoch 50/50\n",
            "50000/50000 [==============================] - 29s 579us/step - loss: 0.5152 - acc: 0.8538 - val_loss: 1.6372 - val_acc: 0.4885\n"
          ],
          "name": "stdout"
        }
      ]
    },
    {
      "cell_type": "code",
      "metadata": {
        "id": "yxfznP4glCLs",
        "colab_type": "code",
        "outputId": "caaf4c07-17b1-4574-b474-1e06c488a286",
        "colab": {
          "base_uri": "https://localhost:8080/",
          "height": 545
        }
      },
      "source": [
        "import matplotlib.pyplot as plt\n",
        "%matplotlib inline\n",
        "\n",
        "plt.plot(range(len(train_loss)), train_loss, label=\"train loss\")\n",
        "plt.plot(range(len(valid_loss)), valid_loss, label=\"valid loss\")\n",
        "plt.legend()\n",
        "plt.title(\"Loss\")\n",
        "plt.show()\n",
        "\n",
        "plt.plot(range(len(train_acc)), train_acc, label=\"train accuracy\")\n",
        "plt.plot(range(len(valid_acc)), valid_acc, label=\"valid accuracy\")\n",
        "plt.legend()\n",
        "plt.title(\"Accuracy\")\n",
        "plt.show()"
      ],
      "execution_count": 0,
      "outputs": [
        {
          "output_type": "display_data",
          "data": {
            "image/png": "[encoded data removed]",
            "text/plain": [
              "<Figure size 432x288 with 1 Axes>"
            ]
          },
          "metadata": {
            "tags": []
          }
        },
        {
          "output_type": "display_data",
          "data": {
            "image/png": "[encoded data removed]",
            "text/plain": [
              "<Figure size 432x288 with 1 Axes>"
            ]
          },
          "metadata": {
            "tags": []
          }
        }
      ]
    },
    {
      "cell_type": "code",
      "metadata": {
        "id": "o9fLiOsblCGJ",
        "colab_type": "code",
        "colab": {}
      },
      "source": [
        ""
      ],
      "execution_count": 0,
      "outputs": []
    },
    {
      "cell_type": "markdown",
      "metadata": {
        "id": "szn1oF0Nd-Cm",
        "colab_type": "text"
      },
      "source": [
        "參考資料\n",
        "\n",
        "- [為何要使用 Batch Normalization – 莫凡 python](https://morvanzhou.github.io/tutorials/machine-learning/ML-intro/3-08-batch-normalization/)  \n",
        "- [Batch normalization 原理與實戰 – 知乎](https://zhuanlan.zhihu.com/p/34879333)  \n",
        "- [Batch Normalization： Accelerating Deep Network Training by Reducing Internal Covariate Shift](https://arxiv.org/pdf/1502.03167.pdf)"
      ]
    },
    {
      "cell_type": "code",
      "metadata": {
        "id": "BYpj9oS3eIxE",
        "colab_type": "code",
        "colab": {}
      },
      "source": [
        ""
      ],
      "execution_count": 0,
      "outputs": []
    }
  ]
}