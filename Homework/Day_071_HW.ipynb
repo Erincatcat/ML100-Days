{
  "nbformat": 4,
  "nbformat_minor": 0,
  "metadata": {
    "colab": {
      "name": "Day_071_HW.ipynb",
      "version": "0.3.2",
      "provenance": [],
      "collapsed_sections": []
    },
    "kernelspec": {
      "name": "python3",
      "display_name": "Python 3"
    },
    "accelerator": "GPU"
  },
  "cells": [
    {
      "cell_type": "markdown",
      "metadata": {
        "id": "47uvysvadFEf",
        "colab_type": "text"
      },
      "source": [
        "# 作業目標:\n",
        "1. 藉由固定的 dataset, 來驗證不同loss function\n",
        "2. Dataset 的特性跟我們選用的loss function 對accrancy 的影響\n",
        "\n",
        "# 作業重點:\n",
        "請分別選用 \"MSE\", \"binary _crossentropy\"\n",
        "查看Train/test accurancy and loss rate\n",
        "\n",
        "# 導入必要的函數\n"
      ]
    },
    {
      "cell_type": "code",
      "metadata": {
        "id": "5-vrtx9Hcy88",
        "colab_type": "code",
        "colab": {}
      },
      "source": [
        "from keras.datasets import cifar10\n",
        "import numpy as np\n",
        "np.random.seed(10)"
      ],
      "execution_count": 0,
      "outputs": []
    },
    {
      "cell_type": "markdown",
      "metadata": {
        "id": "DCzVAetEdN_k",
        "colab_type": "text"
      },
      "source": [
        "# 資料準備"
      ]
    },
    {
      "cell_type": "code",
      "metadata": {
        "id": "ySzxItpjc_LH",
        "colab_type": "code",
        "colab": {
          "base_uri": "https://localhost:8080/",
          "height": 51
        },
        "outputId": "5b6ef2a8-0cf0-4ef0-a3e1-8599d7ad217e"
      },
      "source": [
        "#取得Keras Dataset\n",
        "(x_img_train,y_label_train),(x_img_test,y_label_test)=cifar10.load_data()\n",
        "\n",
        "#確認 CIFAR10 Dataset 資料維度\n",
        "print(\"train data:\",'images:',x_img_train.shape,\n",
        "      \" labels:\",y_label_train.shape) \n",
        "print(\"test  data:\",'images:',x_img_test.shape ,\n",
        "      \" labels:\",y_label_test.shape) "
      ],
      "execution_count": 20,
      "outputs": [
        {
          "output_type": "stream",
          "text": [
            "train data: images: (50000, 32, 32, 3)  labels: (50000, 1)\n",
            "test  data: images: (10000, 32, 32, 3)  labels: (10000, 1)\n"
          ],
          "name": "stdout"
        }
      ]
    },
    {
      "cell_type": "code",
      "metadata": {
        "id": "H6D25k-rc_R9",
        "colab_type": "code",
        "colab": {
          "base_uri": "https://localhost:8080/",
          "height": 34
        },
        "outputId": "c59f2d31-5370-4b33-f857-b0df6da4d733"
      },
      "source": [
        "#資料正規化\n",
        "x_img_train_normalize = x_img_train.astype('float32') / 255.0\n",
        "x_img_test_normalize = x_img_test.astype('float32') / 255.0\n",
        "\n",
        "#針對Label 做 ONE HOT ENCODE\n",
        "from keras.utils import np_utils\n",
        "y_label_train_OneHot = np_utils.to_categorical(y_label_train)\n",
        "y_label_test_OneHot = np_utils.to_categorical(y_label_test)\n",
        "y_label_test_OneHot.shape"
      ],
      "execution_count": 21,
      "outputs": [
        {
          "output_type": "execute_result",
          "data": {
            "text/plain": [
              "(10000, 10)"
            ]
          },
          "metadata": {
            "tags": []
          },
          "execution_count": 21
        }
      ]
    },
    {
      "cell_type": "markdown",
      "metadata": {
        "id": "A48bKhsSdVax",
        "colab_type": "text"
      },
      "source": [
        "# 建立模型"
      ]
    },
    {
      "cell_type": "code",
      "metadata": {
        "id": "imm3d1_XdUL4",
        "colab_type": "code",
        "colab": {}
      },
      "source": [
        "from keras.models import Sequential\n",
        "from keras.layers import Dense, Dropout, Activation, Flatten\n",
        "from keras.layers import Conv2D, MaxPooling2D, ZeroPadding2D"
      ],
      "execution_count": 0,
      "outputs": []
    },
    {
      "cell_type": "code",
      "metadata": {
        "id": "ZOOpL4DpdZEf",
        "colab_type": "code",
        "colab": {}
      },
      "source": [
        "model = Sequential()"
      ],
      "execution_count": 0,
      "outputs": []
    },
    {
      "cell_type": "code",
      "metadata": {
        "id": "x4osSbzndZHa",
        "colab_type": "code",
        "colab": {}
      },
      "source": [
        "#卷積層1\n",
        "model.add(Conv2D(filters=32,kernel_size=(3,3),\n",
        "                 input_shape=(32, 32,3), \n",
        "                 activation='relu', \n",
        "                 padding='same'))\n",
        "\n",
        "model.add(Dropout(rate=0.25))\n",
        "model.add(MaxPooling2D(pool_size=(2, 2)))\n",
        "\n",
        "\n",
        "#卷積層2與池化層2\n",
        "model.add(Conv2D(filters=64, kernel_size=(3, 3), \n",
        "                 activation='relu', padding='same'))\n",
        "model.add(Dropout(0.25))\n",
        "model.add(MaxPooling2D(pool_size=(2, 2)))\n",
        "\n",
        "#建立神經網路(平坦層、隱藏層、輸出層)\n",
        "model.add(Flatten())\n",
        "model.add(Dropout(rate=0.25))\n",
        "model.add(Dense(1024, activation='relu'))\n",
        "model.add(Dropout(rate=0.25))\n",
        "model.add(Dense(10, activation='softmax'))"
      ],
      "execution_count": 0,
      "outputs": []
    },
    {
      "cell_type": "code",
      "metadata": {
        "id": "TVKAPKHKdZO2",
        "colab_type": "code",
        "colab": {
          "base_uri": "https://localhost:8080/",
          "height": 527
        },
        "outputId": "32bb8362-e9c0-49e1-b5ff-856b1a3ec931"
      },
      "source": [
        "#檢查model 的STACK\n",
        "print(model.summary())"
      ],
      "execution_count": 29,
      "outputs": [
        {
          "output_type": "stream",
          "text": [
            "_________________________________________________________________\n",
            "Layer (type)                 Output Shape              Param #   \n",
            "=================================================================\n",
            "conv2d_12 (Conv2D)           (None, 32, 32, 32)        896       \n",
            "_________________________________________________________________\n",
            "dropout_5 (Dropout)          (None, 32, 32, 32)        0         \n",
            "_________________________________________________________________\n",
            "max_pooling2d_11 (MaxPooling (None, 16, 16, 32)        0         \n",
            "_________________________________________________________________\n",
            "conv2d_13 (Conv2D)           (None, 16, 16, 64)        18496     \n",
            "_________________________________________________________________\n",
            "dropout_6 (Dropout)          (None, 16, 16, 64)        0         \n",
            "_________________________________________________________________\n",
            "max_pooling2d_12 (MaxPooling (None, 8, 8, 64)          0         \n",
            "_________________________________________________________________\n",
            "flatten_3 (Flatten)          (None, 4096)              0         \n",
            "_________________________________________________________________\n",
            "dropout_7 (Dropout)          (None, 4096)              0         \n",
            "_________________________________________________________________\n",
            "dense_6 (Dense)              (None, 1024)              4195328   \n",
            "_________________________________________________________________\n",
            "dropout_8 (Dropout)          (None, 1024)              0         \n",
            "_________________________________________________________________\n",
            "dense_7 (Dense)              (None, 10)                10250     \n",
            "=================================================================\n",
            "Total params: 4,224,970\n",
            "Trainable params: 4,224,970\n",
            "Non-trainable params: 0\n",
            "_________________________________________________________________\n",
            "None\n"
          ],
          "name": "stdout"
        }
      ]
    },
    {
      "cell_type": "markdown",
      "metadata": {
        "id": "1EmCQi8PfQph",
        "colab_type": "text"
      },
      "source": [
        "# 載入之前訓練的模型"
      ]
    },
    {
      "cell_type": "code",
      "metadata": {
        "id": "Bs07XK9jdZSD",
        "colab_type": "code",
        "colab": {}
      },
      "source": [
        "#try:\n",
        "#    model.load_weights(\"SaveModel/cifarCnnModel.h5\")\n",
        "#    print(\"載入模型成功!繼續訓練模型\")\n",
        "#except :    \n",
        "#    print(\"載入模型失敗!開始訓練一個新模型\")"
      ],
      "execution_count": 0,
      "outputs": []
    },
    {
      "cell_type": "markdown",
      "metadata": {
        "id": "eDzUWfZFfYKo",
        "colab_type": "text"
      },
      "source": [
        "# 訓練模型"
      ]
    },
    {
      "cell_type": "markdown",
      "metadata": {
        "id": "hocmibVAfmCO",
        "colab_type": "text"
      },
      "source": [
        "**MSE的部分**"
      ]
    },
    {
      "cell_type": "code",
      "metadata": {
        "id": "ohxdcQfBfZD-",
        "colab_type": "code",
        "colab": {
          "base_uri": "https://localhost:8080/",
          "height": 374
        },
        "outputId": "92de2a73-af10-43b6-b24d-04b40fe535fb"
      },
      "source": [
        "model.compile(loss='mean_squared_error', optimizer='sgd', metrics=['accuracy'])\n",
        "train_history = model.fit(x_img_train_normalize, y_label_train_OneHot,\n",
        "                          validation_split=0.2,\n",
        "                          epochs=10, batch_size=16, verbose=1)"
      ],
      "execution_count": 31,
      "outputs": [
        {
          "output_type": "stream",
          "text": [
            "Train on 40000 samples, validate on 10000 samples\n",
            "Epoch 1/10\n",
            "40000/40000 [==============================] - 13s 334us/step - loss: 0.0898 - acc: 0.1284 - val_loss: 0.0890 - val_acc: 0.2007\n",
            "Epoch 2/10\n",
            "40000/40000 [==============================] - 13s 313us/step - loss: 0.0883 - acc: 0.1770 - val_loss: 0.0879 - val_acc: 0.2379\n",
            "Epoch 3/10\n",
            "40000/40000 [==============================] - 13s 313us/step - loss: 0.0866 - acc: 0.2164 - val_loss: 0.0864 - val_acc: 0.2682\n",
            "Epoch 4/10\n",
            "40000/40000 [==============================] - 13s 315us/step - loss: 0.0846 - acc: 0.2519 - val_loss: 0.0847 - val_acc: 0.2943\n",
            "Epoch 5/10\n",
            "40000/40000 [==============================] - 13s 315us/step - loss: 0.0831 - acc: 0.2784 - val_loss: 0.0834 - val_acc: 0.3161\n",
            "Epoch 6/10\n",
            "40000/40000 [==============================] - 13s 314us/step - loss: 0.0817 - acc: 0.3007 - val_loss: 0.0823 - val_acc: 0.3338\n",
            "Epoch 7/10\n",
            "40000/40000 [==============================] - 13s 313us/step - loss: 0.0807 - acc: 0.3178 - val_loss: 0.0814 - val_acc: 0.3509\n",
            "Epoch 8/10\n",
            "40000/40000 [==============================] - 13s 313us/step - loss: 0.0796 - acc: 0.3347 - val_loss: 0.0805 - val_acc: 0.3670\n",
            "Epoch 9/10\n",
            "40000/40000 [==============================] - 13s 315us/step - loss: 0.0786 - acc: 0.3468 - val_loss: 0.0796 - val_acc: 0.3724\n",
            "Epoch 10/10\n",
            "40000/40000 [==============================] - 13s 316us/step - loss: 0.0776 - acc: 0.3575 - val_loss: 0.0789 - val_acc: 0.3784\n"
          ],
          "name": "stdout"
        }
      ]
    },
    {
      "cell_type": "code",
      "metadata": {
        "id": "79jhciEFfZJT",
        "colab_type": "code",
        "colab": {
          "base_uri": "https://localhost:8080/",
          "height": 295
        },
        "outputId": "ddd4bffa-5512-4688-be37-2a30838b6b12"
      },
      "source": [
        "import matplotlib.pyplot as plt\n",
        "def show_train_history(train_acc,test_acc):\n",
        "    plt.plot(train_history.history[train_acc])\n",
        "    plt.plot(train_history.history[test_acc])\n",
        "    plt.title('Train History')\n",
        "    plt.ylabel('Accuracy')\n",
        "    plt.xlabel('Epoch')\n",
        "    plt.legend(['train', 'test'])\n",
        "    plt.show()\n",
        "show_train_history('acc','val_acc')"
      ],
      "execution_count": 32,
      "outputs": [
        {
          "output_type": "display_data",
          "data": {
            "image/png": "[encoded data removed]",
            "text/plain": [
              "<Figure size 432x288 with 1 Axes>"
            ]
          },
          "metadata": {
            "tags": []
          }
        }
      ]
    },
    {
      "cell_type": "code",
      "metadata": {
        "id": "x4mXjh9jfZHG",
        "colab_type": "code",
        "colab": {
          "base_uri": "https://localhost:8080/",
          "height": 295
        },
        "outputId": "9bbb01ac-df97-4c2f-dc15-a0c553ebaae6"
      },
      "source": [
        "show_train_history('loss','val_loss')"
      ],
      "execution_count": 33,
      "outputs": [
        {
          "output_type": "display_data",
          "data": {
            "image/png": "[encoded data removed]",
            "text/plain": [
              "<Figure size 432x288 with 1 Axes>"
            ]
          },
          "metadata": {
            "tags": []
          }
        }
      ]
    },
    {
      "cell_type": "markdown",
      "metadata": {
        "id": "T4H6vZKTf0sR",
        "colab_type": "text"
      },
      "source": [
        "**binary_crossentropy的部分**"
      ]
    },
    {
      "cell_type": "code",
      "metadata": {
        "id": "G39sUQcZfyBi",
        "colab_type": "code",
        "colab": {
          "base_uri": "https://localhost:8080/",
          "height": 374
        },
        "outputId": "c409950d-a11e-46fe-b2d3-a9e9c3361571"
      },
      "source": [
        "model.compile(loss='binary_crossentropy', optimizer='sgd', metrics=['accuracy'])\n",
        "train_history = model.fit(x_img_train_normalize, y_label_train_OneHot,\n",
        "                          validation_split=0.2,\n",
        "                          epochs=10, batch_size=16, verbose=1)"
      ],
      "execution_count": 34,
      "outputs": [
        {
          "output_type": "stream",
          "text": [
            "Train on 40000 samples, validate on 10000 samples\n",
            "Epoch 1/10\n",
            "40000/40000 [==============================] - 14s 352us/step - loss: 0.2634 - acc: 0.9043 - val_loss: 0.2636 - val_acc: 0.9012\n",
            "Epoch 2/10\n",
            "40000/40000 [==============================] - 14s 339us/step - loss: 0.2513 - acc: 0.9063 - val_loss: 0.2536 - val_acc: 0.9028\n",
            "Epoch 3/10\n",
            "40000/40000 [==============================] - 14s 350us/step - loss: 0.2424 - acc: 0.9083 - val_loss: 0.2480 - val_acc: 0.9036\n",
            "Epoch 4/10\n",
            "40000/40000 [==============================] - 14s 338us/step - loss: 0.2361 - acc: 0.9096 - val_loss: 0.2415 - val_acc: 0.9049\n",
            "Epoch 5/10\n",
            "40000/40000 [==============================] - 13s 337us/step - loss: 0.2301 - acc: 0.9115 - val_loss: 0.2354 - val_acc: 0.9066\n",
            "Epoch 6/10\n",
            "40000/40000 [==============================] - 13s 337us/step - loss: 0.2243 - acc: 0.9131 - val_loss: 0.2310 - val_acc: 0.9085\n",
            "Epoch 7/10\n",
            "40000/40000 [==============================] - 14s 338us/step - loss: 0.2195 - acc: 0.9146 - val_loss: 0.2250 - val_acc: 0.9094\n",
            "Epoch 8/10\n",
            "40000/40000 [==============================] - 13s 335us/step - loss: 0.2154 - acc: 0.9162 - val_loss: 0.2237 - val_acc: 0.9117\n",
            "Epoch 9/10\n",
            "40000/40000 [==============================] - 13s 337us/step - loss: 0.2115 - acc: 0.9175 - val_loss: 0.2181 - val_acc: 0.9119\n",
            "Epoch 10/10\n",
            "40000/40000 [==============================] - 13s 336us/step - loss: 0.2075 - acc: 0.9186 - val_loss: 0.2140 - val_acc: 0.9142\n"
          ],
          "name": "stdout"
        }
      ]
    },
    {
      "cell_type": "code",
      "metadata": {
        "id": "QUDt-vgQfyHn",
        "colab_type": "code",
        "colab": {
          "base_uri": "https://localhost:8080/",
          "height": 295
        },
        "outputId": "88b097ce-17cc-4d02-cf16-0c7e6a60b4ff"
      },
      "source": [
        "show_train_history('acc','val_acc')"
      ],
      "execution_count": 35,
      "outputs": [
        {
          "output_type": "display_data",
          "data": {
            "image/png": "[encoded data removed]",
            "text/plain": [
              "<Figure size 432x288 with 1 Axes>"
            ]
          },
          "metadata": {
            "tags": []
          }
        }
      ]
    },
    {
      "cell_type": "code",
      "metadata": {
        "id": "7fIokk9KfyE-",
        "colab_type": "code",
        "colab": {
          "base_uri": "https://localhost:8080/",
          "height": 295
        },
        "outputId": "d906c476-8247-4833-a71b-db3ab5c61f10"
      },
      "source": [
        "show_train_history('loss','val_loss')"
      ],
      "execution_count": 36,
      "outputs": [
        {
          "output_type": "display_data",
          "data": {
            "image/png": "[encoded data removed]",
            "text/plain": [
              "<Figure size 432x288 with 1 Axes>"
            ]
          },
          "metadata": {
            "tags": []
          }
        }
      ]
    },
    {
      "cell_type": "code",
      "metadata": {
        "id": "WViX1XRdf-s0",
        "colab_type": "code",
        "colab": {}
      },
      "source": [
        ""
      ],
      "execution_count": 0,
      "outputs": []
    },
    {
      "cell_type": "markdown",
      "metadata": {
        "id": "beNut_WUbj8b",
        "colab_type": "text"
      },
      "source": [
        "# 課程目標\n",
        "利用Keras 的 CIFAR10 dataset 來驗證損失函數對於模型精確度的影響\n",
        "\n",
        "# 範例重點:\n",
        "模型架構的層數\n",
        "\n",
        "使用何種LOSS function\n",
        "# 導入必要的libray"
      ]
    },
    {
      "cell_type": "code",
      "metadata": {
        "id": "hJmfW9zDbdG0",
        "colab_type": "code",
        "colab": {
          "base_uri": "https://localhost:8080/",
          "height": 34
        },
        "outputId": "72036883-4878-4026-ced5-326d389c816a"
      },
      "source": [
        "import keras\n",
        "from keras.datasets import cifar10\n",
        "import numpy as np\n",
        "np.random.seed(10)\n",
        "#np.random.seed(10)的作用：使得隨機數據可預測"
      ],
      "execution_count": 3,
      "outputs": [
        {
          "output_type": "stream",
          "text": [
            "Using TensorFlow backend.\n"
          ],
          "name": "stderr"
        }
      ]
    },
    {
      "cell_type": "markdown",
      "metadata": {
        "id": "uxkhMw0Vbtpc",
        "colab_type": "text"
      },
      "source": [
        "# 資料準備"
      ]
    },
    {
      "cell_type": "code",
      "metadata": {
        "id": "U9wV_7vhb0L9",
        "colab_type": "code",
        "colab": {
          "base_uri": "https://localhost:8080/",
          "height": 51
        },
        "outputId": "a8d45d1c-9545-4c67-c234-f1632335d386"
      },
      "source": [
        "#取得Keras CIFAR10 Dataset, 並分成Training 與 Test set\n",
        "(x_img_train,y_label_train),(x_img_test,y_label_test)=cifar10.load_data()"
      ],
      "execution_count": 4,
      "outputs": [
        {
          "output_type": "stream",
          "text": [
            "Downloading data from https://www.cs.toronto.edu/~kriz/cifar-10-python.tar.gz\n",
            "170500096/170498071 [==============================] - 2s 0us/step\n"
          ],
          "name": "stdout"
        }
      ]
    },
    {
      "cell_type": "code",
      "metadata": {
        "id": "-aTg23ogb0cq",
        "colab_type": "code",
        "colab": {
          "base_uri": "https://localhost:8080/",
          "height": 51
        },
        "outputId": "f85305b4-6b5a-4b0a-823a-dc3b3efb5074"
      },
      "source": [
        "#確認 CIFAR10 Dataset 資料維度\n",
        "print(\"train data:\",'images:',x_img_train.shape,\n",
        "      \" labels:\",y_label_train.shape) \n",
        "print(\"test  data:\",'images:',x_img_test.shape ,\n",
        "      \" labels:\",y_label_test.shape) "
      ],
      "execution_count": 5,
      "outputs": [
        {
          "output_type": "stream",
          "text": [
            "train data: images: (50000, 32, 32, 3)  labels: (50000, 1)\n",
            "test  data: images: (10000, 32, 32, 3)  labels: (10000, 1)\n"
          ],
          "name": "stdout"
        }
      ]
    },
    {
      "cell_type": "code",
      "metadata": {
        "id": "IfNPEeIAb0mD",
        "colab_type": "code",
        "colab": {
          "base_uri": "https://localhost:8080/",
          "height": 34
        },
        "outputId": "b0152bbc-4068-4f1f-e0ac-886ba0fe55a6"
      },
      "source": [
        "#資料正規化, 並設定 data array 為浮點數\n",
        "x_img_train_normalize = x_img_train.astype('float32') / 255.0\n",
        "x_img_test_normalize = x_img_test.astype('float32') / 255.0\n",
        "\n",
        "#針對Label 做 ONE HOT ENCODE, 並查看維度資訊\n",
        "from keras.utils import np_utils\n",
        "y_label_train_OneHot = np_utils.to_categorical(y_label_train)\n",
        "y_label_test_OneHot = np_utils.to_categorical(y_label_test)\n",
        "y_label_test_OneHot.shape"
      ],
      "execution_count": 6,
      "outputs": [
        {
          "output_type": "execute_result",
          "data": {
            "text/plain": [
              "(10000, 10)"
            ]
          },
          "metadata": {
            "tags": []
          },
          "execution_count": 6
        }
      ]
    },
    {
      "cell_type": "markdown",
      "metadata": {
        "id": "GBXKyJ50b-EH",
        "colab_type": "text"
      },
      "source": [
        "# 建立模型"
      ]
    },
    {
      "cell_type": "code",
      "metadata": {
        "id": "w6Z9F4DBb-sj",
        "colab_type": "code",
        "colab": {}
      },
      "source": [
        "from keras.models import Sequential\n",
        "from keras.layers import Dense, Dropout, Activation, Flatten\n",
        "from keras.layers import Conv2D, MaxPooling2D, ZeroPadding2D"
      ],
      "execution_count": 0,
      "outputs": []
    },
    {
      "cell_type": "code",
      "metadata": {
        "id": "CuJnUBjYcBMr",
        "colab_type": "code",
        "colab": {}
      },
      "source": [
        "# 宣告採用序列模型\n",
        "model = Sequential()"
      ],
      "execution_count": 0,
      "outputs": []
    },
    {
      "cell_type": "code",
      "metadata": {
        "id": "20j2CNrHcB-T",
        "colab_type": "code",
        "colab": {}
      },
      "source": [
        "#卷積層1與池化層1\n",
        "model.add(Conv2D(filters=32,kernel_size=(3,3),\n",
        "                 input_shape=(32, 32,3), \n",
        "                 activation='relu', \n",
        "                 padding='same'))\n",
        "model.add(MaxPooling2D(pool_size=(2, 2)))\n",
        "\n",
        "#卷積層2與池化層2\n",
        "model.add(Conv2D(filters=64, kernel_size=(3, 3), \n",
        "                 activation='relu', padding='same'))\n",
        "model.add(MaxPooling2D(pool_size=(2, 2)))\n",
        "\n",
        "#卷積層3與池化層3\n",
        "model.add(Conv2D(filters=128, kernel_size=(3, 3), \n",
        "                 activation='relu', padding='same'))\n",
        "model.add(MaxPooling2D(pool_size=(2, 2)))\n",
        "\n",
        "#卷積層4與池化層4\n",
        "model.add(Conv2D(filters=256, kernel_size=(3, 3), \n",
        "                 activation='relu', padding='same'))\n",
        "model.add(MaxPooling2D(pool_size=(2, 2)))"
      ],
      "execution_count": 0,
      "outputs": []
    },
    {
      "cell_type": "code",
      "metadata": {
        "id": "kdE4s_oCcDTF",
        "colab_type": "code",
        "colab": {
          "base_uri": "https://localhost:8080/",
          "height": 561
        },
        "outputId": "b0ec7ae1-207a-40f4-c42c-01648ce4b3b7"
      },
      "source": [
        "#建立神經網路(平坦層、隱藏層、輸出層)\n",
        "model.add(Flatten())\n",
        "\n",
        "#建立全網路連接層\n",
        "model.add(Dense(512, activation='relu'))\n",
        "model.add(Dense(512, activation='relu'))\n",
        "\n",
        "#建立輸出層\n",
        "model.add(Dense(10, activation='softmax'))\n",
        "\n",
        "#檢查model 的STACK\n",
        "print(model.summary())"
      ],
      "execution_count": 12,
      "outputs": [
        {
          "output_type": "stream",
          "text": [
            "_________________________________________________________________\n",
            "Layer (type)                 Output Shape              Param #   \n",
            "=================================================================\n",
            "conv2d_5 (Conv2D)            (None, 32, 32, 32)        896       \n",
            "_________________________________________________________________\n",
            "max_pooling2d_5 (MaxPooling2 (None, 16, 16, 32)        0         \n",
            "_________________________________________________________________\n",
            "conv2d_6 (Conv2D)            (None, 16, 16, 64)        18496     \n",
            "_________________________________________________________________\n",
            "max_pooling2d_6 (MaxPooling2 (None, 8, 8, 64)          0         \n",
            "_________________________________________________________________\n",
            "conv2d_7 (Conv2D)            (None, 8, 8, 128)         73856     \n",
            "_________________________________________________________________\n",
            "max_pooling2d_7 (MaxPooling2 (None, 4, 4, 128)         0         \n",
            "_________________________________________________________________\n",
            "conv2d_8 (Conv2D)            (None, 4, 4, 256)         295168    \n",
            "_________________________________________________________________\n",
            "max_pooling2d_8 (MaxPooling2 (None, 2, 2, 256)         0         \n",
            "_________________________________________________________________\n",
            "flatten_1 (Flatten)          (None, 1024)              0         \n",
            "_________________________________________________________________\n",
            "dense_1 (Dense)              (None, 512)               524800    \n",
            "_________________________________________________________________\n",
            "dense_2 (Dense)              (None, 512)               262656    \n",
            "_________________________________________________________________\n",
            "dense_3 (Dense)              (None, 10)                5130      \n",
            "=================================================================\n",
            "Total params: 1,181,002\n",
            "Trainable params: 1,181,002\n",
            "Non-trainable params: 0\n",
            "_________________________________________________________________\n",
            "None\n"
          ],
          "name": "stdout"
        }
      ]
    },
    {
      "cell_type": "code",
      "metadata": {
        "id": "pzz28FV6cHRb",
        "colab_type": "code",
        "colab": {}
      },
      "source": [
        "# 載入之前訓練的模型\n",
        "#try:\n",
        "#    model.load_weights(\"SaveModel/cifarCnnModel.h5\")\n",
        "#    print(\"載入模型成功!繼續訓練模型\")\n",
        "#except :    \n",
        "#    print(\"載入模型失敗!開始訓練一個新模型\")"
      ],
      "execution_count": 0,
      "outputs": []
    },
    {
      "cell_type": "markdown",
      "metadata": {
        "id": "9OkPvO21cKfR",
        "colab_type": "text"
      },
      "source": [
        "# 訓練模型\n"
      ]
    },
    {
      "cell_type": "code",
      "metadata": {
        "id": "2ZeWVRuzcJSz",
        "colab_type": "code",
        "colab": {}
      },
      "source": [
        "#模型編譯\n",
        "model.compile(loss='categorical_crossentropy', optimizer='Adam', metrics=['accuracy'])"
      ],
      "execution_count": 0,
      "outputs": []
    },
    {
      "cell_type": "code",
      "metadata": {
        "id": "A4XKfb_IcMH8",
        "colab_type": "code",
        "colab": {
          "base_uri": "https://localhost:8080/",
          "height": 442
        },
        "outputId": "f5624c87-d882-4683-dcdc-200931fc4262"
      },
      "source": [
        "#模型訓練, \"Train_History\" 把訓練過程所得到的數值存起來\n",
        "train_history=model.fit(x_img_train_normalize, y_label_train_OneHot,\n",
        "                        validation_split=0.25,\n",
        "                        epochs=12, batch_size=128, verbose=1)         \n",
        "\n",
        "#[validation_split = 0.2] validation_split：在0和1之間浮動。用作驗證數據的訓練數據的分數。\n",
        "#該模型將訓練數據的這一部分分開，不會對其進行訓練，並將在每個時期結束時評估該數據的損失和任何模型指標。\n",
        "#[batch_size]：整數或None。每個梯度更新的樣本數。指定，batch_size為128"
      ],
      "execution_count": 17,
      "outputs": [
        {
          "output_type": "stream",
          "text": [
            "Train on 37500 samples, validate on 12500 samples\n",
            "Epoch 1/12\n",
            "37500/37500 [==============================] - 4s 97us/step - loss: 0.1291 - acc: 0.9546 - val_loss: 1.4387 - val_acc: 0.7050\n",
            "Epoch 2/12\n",
            "37500/37500 [==============================] - 4s 94us/step - loss: 0.1265 - acc: 0.9555 - val_loss: 1.3506 - val_acc: 0.7245\n",
            "Epoch 3/12\n",
            "37500/37500 [==============================] - 4s 95us/step - loss: 0.1127 - acc: 0.9602 - val_loss: 1.4176 - val_acc: 0.7266\n",
            "Epoch 4/12\n",
            "37500/37500 [==============================] - 4s 94us/step - loss: 0.0966 - acc: 0.9660 - val_loss: 1.4943 - val_acc: 0.7068\n",
            "Epoch 5/12\n",
            "37500/37500 [==============================] - 4s 94us/step - loss: 0.0987 - acc: 0.9649 - val_loss: 1.3851 - val_acc: 0.7255\n",
            "Epoch 6/12\n",
            "37500/37500 [==============================] - 4s 94us/step - loss: 0.0746 - acc: 0.9742 - val_loss: 1.5397 - val_acc: 0.7236\n",
            "Epoch 7/12\n",
            "37500/37500 [==============================] - 4s 94us/step - loss: 0.0863 - acc: 0.9702 - val_loss: 1.6406 - val_acc: 0.7130\n",
            "Epoch 8/12\n",
            "37500/37500 [==============================] - 4s 94us/step - loss: 0.0754 - acc: 0.9744 - val_loss: 1.5121 - val_acc: 0.7307\n",
            "Epoch 9/12\n",
            "37500/37500 [==============================] - 4s 94us/step - loss: 0.0785 - acc: 0.9735 - val_loss: 1.5849 - val_acc: 0.7222\n",
            "Epoch 10/12\n",
            "37500/37500 [==============================] - 4s 94us/step - loss: 0.0679 - acc: 0.9770 - val_loss: 1.5630 - val_acc: 0.7194\n",
            "Epoch 11/12\n",
            "37500/37500 [==============================] - 4s 93us/step - loss: 0.0731 - acc: 0.9744 - val_loss: 1.6389 - val_acc: 0.7218\n",
            "Epoch 12/12\n",
            "37500/37500 [==============================] - 4s 94us/step - loss: 0.0653 - acc: 0.9768 - val_loss: 1.6296 - val_acc: 0.7094\n"
          ],
          "name": "stdout"
        }
      ]
    },
    {
      "cell_type": "code",
      "metadata": {
        "id": "hO5xlRQ-cOjj",
        "colab_type": "code",
        "colab": {
          "base_uri": "https://localhost:8080/",
          "height": 295
        },
        "outputId": "eee41ecc-fefe-4ef7-d98d-6509c113b4bc"
      },
      "source": [
        "import matplotlib.pyplot as plt\n",
        "%matplotlib inline\n",
        "\n",
        "#定義一個繪圖函數\n",
        "def show_train_history(train_acc,test_acc):\n",
        "    plt.plot(train_history.history[train_acc])\n",
        "    plt.plot(train_history.history[test_acc])\n",
        "    plt.title('Train History')\n",
        "    plt.ylabel('Accuracy')\n",
        "    plt.xlabel('Epoch')\n",
        "    plt.legend(['train_acc', 'val_acc'], loc='upper left')\n",
        "    plt.show()\n",
        "show_train_history('acc','val_acc')"
      ],
      "execution_count": 18,
      "outputs": [
        {
          "output_type": "display_data",
          "data": {
            "image/png": "[encoded data removed]",
            "text/plain": [
              "<Figure size 432x288 with 1 Axes>"
            ]
          },
          "metadata": {
            "tags": []
          }
        }
      ]
    },
    {
      "cell_type": "markdown",
      "metadata": {
        "id": "tKDBVmWHchF9",
        "colab_type": "text"
      },
      "source": [
        "參考資料\n",
        "\n",
        "[TensorFlow筆記-06-神經網絡優化-損失函數，自定義損失函數，交叉熵](https://blog.csdn.net/qq_40147863/article/details/82015360)  \n",
        "[Hinge_loss](https://en.wikipedia.org/wiki/Hinge_loss)  \n",
        "[使用損失函數](https://keras.io/losses/)"
      ]
    },
    {
      "cell_type": "code",
      "metadata": {
        "id": "YLadm_fXcfDL",
        "colab_type": "code",
        "colab": {}
      },
      "source": [
        ""
      ],
      "execution_count": 0,
      "outputs": []
    }
  ]
}