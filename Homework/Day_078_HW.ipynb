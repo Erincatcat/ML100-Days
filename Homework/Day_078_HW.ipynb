{
  "nbformat": 4,
  "nbformat_minor": 0,
  "metadata": {
    "colab": {
      "name": "Day_078_HW.ipynb",
      "version": "0.3.2",
      "provenance": [],
      "collapsed_sections": []
    },
    "kernelspec": {
      "name": "python3",
      "display_name": "Python 3"
    }
  },
  "cells": [
    {
      "cell_type": "markdown",
      "metadata": {
        "id": "BKHo3lNM2aOd",
        "colab_type": "text"
      },
      "source": [
        "# 作業\n",
        "1. 請嘗試將 preproc_x 替換成以每筆資料的 min/max 進行標準化至 -1 ~ 1 間，再進行訓練  \n",
        "2. 請嘗試將 mlp 疊更深 (e.g 5~10 層)，進行訓練後觀察 learning curve 的走勢  \n",
        "3. (optional) 請改用 GPU 進行訓練 (如果你有 GPU 的話)，比較使用 CPU 與 GPU 的訓練速度  \n",
        "\n",
        "今日百日馬拉松作業 : 注意事項\n",
        "\n",
        "1. 今日作業記憶體需求較大，請同學執行時記得 shutdown 其他執行中的 .ipynb 檔\n",
        "\n",
        "2. 提醒同學們今日執行會比較久(幾分鐘到數小時不等)\n",
        "\n",
        "3. nvidia-smi 指令僅適用於 mac 與 linux 作業系統, windows 無法執行該指令, 但不影響後續程式, 請無法執行的同學忽略即可"
      ]
    },
    {
      "cell_type": "code",
      "metadata": {
        "id": "so3S8Ye22E8K",
        "colab_type": "code",
        "colab": {}
      },
      "source": [
        "import os\n",
        "import keras\n",
        "\n",
        "# 請嘗試設定 GPU：os.environ"
      ],
      "execution_count": 0,
      "outputs": []
    },
    {
      "cell_type": "code",
      "metadata": {
        "id": "NryBntWI2H33",
        "colab_type": "code",
        "colab": {}
      },
      "source": [
        "train, test = keras.datasets.cifar10.load_data()"
      ],
      "execution_count": 0,
      "outputs": []
    },
    {
      "cell_type": "code",
      "metadata": {
        "id": "L-3Zf_5L2H6h",
        "colab_type": "code",
        "colab": {}
      },
      "source": [
        "## 資料前處理\n",
        "#請嘗試將 preproc_x 替換成以每筆資料的 min/max 進行標準化至 -1 ~ 1 間，再進行訓練  \n",
        "def preproc_x(x, flatten=True):\n",
        "    x = x.reshape(len(x), -1)\n",
        "    x = ((x - x.min(axis = 0)) / (x.max(axis = 0) - x.min(axis  = 0))) * 2 - 1\n",
        "    return x\n",
        "\n",
        "def preproc_y(y, num_classes = 10):\n",
        "    if y.shape[-1] == 1:\n",
        "        y = keras.utils.to_categorical(y, num_classes)\n",
        "    return y"
      ],
      "execution_count": 0,
      "outputs": []
    },
    {
      "cell_type": "code",
      "metadata": {
        "id": "deIRRvd24o-j",
        "colab_type": "code",
        "colab": {}
      },
      "source": [
        "x_train, y_train = train\n",
        "x_test, y_test = test\n",
        "\n",
        "# Preproc the inputs\n",
        "x_train = preproc_x(x_train)\n",
        "x_test = preproc_x(x_test)\n",
        "\n",
        "# Preprc the outputs\n",
        "y_train = preproc_y(y_train)\n",
        "y_test = preproc_y(y_test)"
      ],
      "execution_count": 0,
      "outputs": []
    },
    {
      "cell_type": "code",
      "metadata": {
        "id": "VIFHxQ2T4pEK",
        "colab_type": "code",
        "colab": {
          "base_uri": "https://localhost:8080/",
          "height": 374
        },
        "outputId": "56724822-0e1d-4b47-b951-d62b8d189500"
      },
      "source": [
        "#請嘗試將 mlp 疊更深 (e.g 5~10 層)，進行訓練後觀察 learning curve 的走勢  \n",
        "def build_mlp(input_shape, output_units=10, num_neurons=[1024, 512, 256, 128, 32]):\n",
        "    input_layer = keras.layers.Input(input_shape)\n",
        "    \n",
        "    for i, n_units in enumerate(num_neurons):\n",
        "        if i == 0:\n",
        "            x = keras.layers.Dense(units=n_units, activation=\"relu\", name=\"hidden_layer\"+str(i+1))(input_layer)\n",
        "        else:\n",
        "            x = keras.layers.Dense(units=n_units, activation=\"relu\", name=\"hidden_layer\"+str(i+1))(x)\n",
        "    \n",
        "    out = keras.layers.Dense(units=output_units, activation=\"softmax\", name=\"output\")(x)\n",
        "    \n",
        "    model = keras.models.Model(inputs=[input_layer], outputs=[out])\n",
        "    return model\n",
        "\n",
        "model = build_mlp(input_shape=x_train.shape[1:])\n",
        "model.summary()"
      ],
      "execution_count": 17,
      "outputs": [
        {
          "output_type": "stream",
          "text": [
            "_________________________________________________________________\n",
            "Layer (type)                 Output Shape              Param #   \n",
            "=================================================================\n",
            "input_2 (InputLayer)         (None, 3072)              0         \n",
            "_________________________________________________________________\n",
            "hidden_layer1 (Dense)        (None, 1024)              3146752   \n",
            "_________________________________________________________________\n",
            "hidden_layer2 (Dense)        (None, 512)               524800    \n",
            "_________________________________________________________________\n",
            "hidden_layer3 (Dense)        (None, 256)               131328    \n",
            "_________________________________________________________________\n",
            "hidden_layer4 (Dense)        (None, 128)               32896     \n",
            "_________________________________________________________________\n",
            "hidden_layer5 (Dense)        (None, 32)                4128      \n",
            "_________________________________________________________________\n",
            "output (Dense)               (None, 10)                330       \n",
            "=================================================================\n",
            "Total params: 3,840,234\n",
            "Trainable params: 3,840,234\n",
            "Non-trainable params: 0\n",
            "_________________________________________________________________\n"
          ],
          "name": "stdout"
        }
      ]
    },
    {
      "cell_type": "code",
      "metadata": {
        "id": "KJ3Pki884pKW",
        "colab_type": "code",
        "colab": {}
      },
      "source": [
        "## 超參數設定\n",
        "LEARNING_RATE = 0.001\n",
        "EPOCHS = 100\n",
        "BATCH_SIZE = 256"
      ],
      "execution_count": 0,
      "outputs": []
    },
    {
      "cell_type": "code",
      "metadata": {
        "id": "idCBiel34pPs",
        "colab_type": "code",
        "colab": {}
      },
      "source": [
        "optimizer = keras.optimizers.Adam(lr=LEARNING_RATE)\n",
        "model.compile(loss=\"categorical_crossentropy\", metrics=[\"accuracy\"], optimizer=optimizer)"
      ],
      "execution_count": 0,
      "outputs": []
    },
    {
      "cell_type": "code",
      "metadata": {
        "id": "9lrxUebL4pTd",
        "colab_type": "code",
        "colab": {
          "base_uri": "https://localhost:8080/",
          "height": 1000
        },
        "outputId": "84187fde-5402-4a4a-d644-c9f248926e4b"
      },
      "source": [
        "model.fit(x_train, y_train, \n",
        "          epochs=EPOCHS, \n",
        "          batch_size=BATCH_SIZE, \n",
        "          validation_data=(x_test, y_test), \n",
        "          shuffle=True)"
      ],
      "execution_count": 20,
      "outputs": [
        {
          "output_type": "stream",
          "text": [
            "Train on 50000 samples, validate on 10000 samples\n",
            "Epoch 1/100\n",
            "50000/50000 [==============================] - 28s 566us/step - loss: 1.7112 - acc: 0.3915 - val_loss: 1.5670 - val_acc: 0.4459\n",
            "Epoch 2/100\n",
            "50000/50000 [==============================] - 28s 558us/step - loss: 1.4764 - acc: 0.4815 - val_loss: 1.4362 - val_acc: 0.4898\n",
            "Epoch 3/100\n",
            "50000/50000 [==============================] - 28s 556us/step - loss: 1.3531 - acc: 0.5229 - val_loss: 1.4042 - val_acc: 0.5077\n",
            "Epoch 4/100\n",
            "50000/50000 [==============================] - 28s 556us/step - loss: 1.2498 - acc: 0.5579 - val_loss: 1.4218 - val_acc: 0.5111\n",
            "Epoch 5/100\n",
            "50000/50000 [==============================] - 28s 555us/step - loss: 1.1671 - acc: 0.5891 - val_loss: 1.3491 - val_acc: 0.5305\n",
            "Epoch 6/100\n",
            "50000/50000 [==============================] - 28s 556us/step - loss: 1.0688 - acc: 0.6236 - val_loss: 1.3694 - val_acc: 0.5269\n",
            "Epoch 7/100\n",
            "50000/50000 [==============================] - 28s 556us/step - loss: 0.9817 - acc: 0.6516 - val_loss: 1.3859 - val_acc: 0.5439\n",
            "Epoch 8/100\n",
            "50000/50000 [==============================] - 28s 556us/step - loss: 0.8967 - acc: 0.6818 - val_loss: 1.4328 - val_acc: 0.5393\n",
            "Epoch 9/100\n",
            "50000/50000 [==============================] - 28s 551us/step - loss: 0.8147 - acc: 0.7123 - val_loss: 1.4656 - val_acc: 0.5463\n",
            "Epoch 10/100\n",
            "50000/50000 [==============================] - 27s 550us/step - loss: 0.7382 - acc: 0.7374 - val_loss: 1.5114 - val_acc: 0.5483\n",
            "Epoch 11/100\n",
            "50000/50000 [==============================] - 27s 549us/step - loss: 0.6690 - acc: 0.7626 - val_loss: 1.5662 - val_acc: 0.5399\n",
            "Epoch 12/100\n",
            "50000/50000 [==============================] - 28s 553us/step - loss: 0.5929 - acc: 0.7900 - val_loss: 1.6966 - val_acc: 0.5328\n",
            "Epoch 13/100\n",
            "50000/50000 [==============================] - 28s 552us/step - loss: 0.5154 - acc: 0.8170 - val_loss: 1.7578 - val_acc: 0.5360\n",
            "Epoch 14/100\n",
            "50000/50000 [==============================] - 28s 553us/step - loss: 0.4674 - acc: 0.8345 - val_loss: 1.9339 - val_acc: 0.5318\n",
            "Epoch 15/100\n",
            "50000/50000 [==============================] - 28s 554us/step - loss: 0.4162 - acc: 0.8516 - val_loss: 1.9983 - val_acc: 0.5376\n",
            "Epoch 16/100\n",
            "50000/50000 [==============================] - 28s 556us/step - loss: 0.3821 - acc: 0.8649 - val_loss: 2.0535 - val_acc: 0.5376\n",
            "Epoch 17/100\n",
            "50000/50000 [==============================] - 28s 551us/step - loss: 0.3390 - acc: 0.8803 - val_loss: 2.2146 - val_acc: 0.5398\n",
            "Epoch 18/100\n",
            "50000/50000 [==============================] - 27s 550us/step - loss: 0.3136 - acc: 0.8882 - val_loss: 2.3152 - val_acc: 0.5395\n",
            "Epoch 19/100\n",
            "50000/50000 [==============================] - 27s 550us/step - loss: 0.2962 - acc: 0.8978 - val_loss: 2.4762 - val_acc: 0.5382\n",
            "Epoch 20/100\n",
            "50000/50000 [==============================] - 28s 556us/step - loss: 0.2655 - acc: 0.9076 - val_loss: 2.5203 - val_acc: 0.5400\n",
            "Epoch 21/100\n",
            "50000/50000 [==============================] - 28s 558us/step - loss: 0.2394 - acc: 0.9181 - val_loss: 2.6158 - val_acc: 0.5345\n",
            "Epoch 22/100\n",
            "50000/50000 [==============================] - 28s 558us/step - loss: 0.2370 - acc: 0.9176 - val_loss: 2.6770 - val_acc: 0.5328\n",
            "Epoch 23/100\n",
            "50000/50000 [==============================] - 28s 557us/step - loss: 0.2224 - acc: 0.9239 - val_loss: 2.7533 - val_acc: 0.5349\n",
            "Epoch 24/100\n",
            "50000/50000 [==============================] - 28s 556us/step - loss: 0.1945 - acc: 0.9349 - val_loss: 2.8413 - val_acc: 0.5346\n",
            "Epoch 25/100\n",
            "50000/50000 [==============================] - 28s 552us/step - loss: 0.1879 - acc: 0.9357 - val_loss: 2.7984 - val_acc: 0.5315\n",
            "Epoch 26/100\n",
            "50000/50000 [==============================] - 28s 557us/step - loss: 0.2044 - acc: 0.9303 - val_loss: 2.8061 - val_acc: 0.5364\n",
            "Epoch 27/100\n",
            "50000/50000 [==============================] - 28s 561us/step - loss: 0.1832 - acc: 0.9388 - val_loss: 2.9536 - val_acc: 0.5516\n",
            "Epoch 28/100\n",
            "50000/50000 [==============================] - 28s 559us/step - loss: 0.1641 - acc: 0.9434 - val_loss: 3.0387 - val_acc: 0.5417\n",
            "Epoch 29/100\n",
            "50000/50000 [==============================] - 28s 558us/step - loss: 0.1575 - acc: 0.9475 - val_loss: 3.0113 - val_acc: 0.5321\n",
            "Epoch 30/100\n",
            "50000/50000 [==============================] - 28s 558us/step - loss: 0.1550 - acc: 0.9476 - val_loss: 3.0508 - val_acc: 0.5348\n",
            "Epoch 31/100\n",
            "50000/50000 [==============================] - 28s 557us/step - loss: 0.1483 - acc: 0.9498 - val_loss: 3.2093 - val_acc: 0.5341\n",
            "Epoch 32/100\n",
            "50000/50000 [==============================] - 28s 558us/step - loss: 0.1550 - acc: 0.9487 - val_loss: 3.2817 - val_acc: 0.5393\n",
            "Epoch 33/100\n",
            "50000/50000 [==============================] - 28s 552us/step - loss: 0.1340 - acc: 0.9549 - val_loss: 3.2621 - val_acc: 0.5290\n",
            "Epoch 34/100\n",
            "50000/50000 [==============================] - 28s 553us/step - loss: 0.1383 - acc: 0.9542 - val_loss: 3.2917 - val_acc: 0.5339\n",
            "Epoch 35/100\n",
            "50000/50000 [==============================] - 28s 556us/step - loss: 0.1332 - acc: 0.9560 - val_loss: 3.1592 - val_acc: 0.5354\n",
            "Epoch 36/100\n",
            "50000/50000 [==============================] - 28s 555us/step - loss: 0.1355 - acc: 0.9549 - val_loss: 3.1685 - val_acc: 0.5384\n",
            "Epoch 37/100\n",
            "50000/50000 [==============================] - 28s 555us/step - loss: 0.1042 - acc: 0.9653 - val_loss: 3.3227 - val_acc: 0.5400\n",
            "Epoch 38/100\n",
            "50000/50000 [==============================] - 28s 553us/step - loss: 0.1147 - acc: 0.9620 - val_loss: 3.4596 - val_acc: 0.5388\n",
            "Epoch 39/100\n",
            "50000/50000 [==============================] - 28s 554us/step - loss: 0.1265 - acc: 0.9579 - val_loss: 3.3611 - val_acc: 0.5339\n",
            "Epoch 40/100\n",
            "50000/50000 [==============================] - 28s 551us/step - loss: 0.1171 - acc: 0.9620 - val_loss: 3.3489 - val_acc: 0.5407\n",
            "Epoch 41/100\n",
            "50000/50000 [==============================] - 28s 554us/step - loss: 0.1086 - acc: 0.9643 - val_loss: 3.4860 - val_acc: 0.5379\n",
            "Epoch 42/100\n",
            "50000/50000 [==============================] - 27s 539us/step - loss: 0.1266 - acc: 0.9585 - val_loss: 3.3493 - val_acc: 0.5367\n",
            "Epoch 43/100\n",
            "50000/50000 [==============================] - 27s 535us/step - loss: 0.1161 - acc: 0.9624 - val_loss: 3.4071 - val_acc: 0.5402\n",
            "Epoch 44/100\n",
            "50000/50000 [==============================] - 27s 533us/step - loss: 0.1090 - acc: 0.9643 - val_loss: 3.4534 - val_acc: 0.5356\n",
            "Epoch 45/100\n",
            "50000/50000 [==============================] - 27s 538us/step - loss: 0.0878 - acc: 0.9718 - val_loss: 3.4691 - val_acc: 0.5451\n",
            "Epoch 46/100\n",
            "50000/50000 [==============================] - 27s 546us/step - loss: 0.1091 - acc: 0.9647 - val_loss: 3.4513 - val_acc: 0.5383\n",
            "Epoch 47/100\n",
            "50000/50000 [==============================] - 27s 543us/step - loss: 0.1063 - acc: 0.9648 - val_loss: 3.4745 - val_acc: 0.5355\n",
            "Epoch 48/100\n",
            "50000/50000 [==============================] - 27s 541us/step - loss: 0.1022 - acc: 0.9665 - val_loss: 3.5714 - val_acc: 0.5410\n",
            "Epoch 49/100\n",
            "50000/50000 [==============================] - 27s 540us/step - loss: 0.1016 - acc: 0.9677 - val_loss: 3.3931 - val_acc: 0.5418\n",
            "Epoch 50/100\n",
            "50000/50000 [==============================] - 27s 546us/step - loss: 0.0971 - acc: 0.9683 - val_loss: 3.4749 - val_acc: 0.5379\n",
            "Epoch 51/100\n",
            "50000/50000 [==============================] - 27s 543us/step - loss: 0.0800 - acc: 0.9742 - val_loss: 3.6111 - val_acc: 0.5396\n",
            "Epoch 52/100\n",
            "50000/50000 [==============================] - 27s 542us/step - loss: 0.0616 - acc: 0.9800 - val_loss: 3.6198 - val_acc: 0.5432\n",
            "Epoch 53/100\n",
            "50000/50000 [==============================] - 27s 546us/step - loss: 0.0832 - acc: 0.9740 - val_loss: 3.6153 - val_acc: 0.5411\n",
            "Epoch 54/100\n",
            "50000/50000 [==============================] - 27s 544us/step - loss: 0.1046 - acc: 0.9665 - val_loss: 3.5430 - val_acc: 0.5449\n",
            "Epoch 55/100\n",
            "50000/50000 [==============================] - 27s 547us/step - loss: 0.1062 - acc: 0.9667 - val_loss: 3.6280 - val_acc: 0.5319\n",
            "Epoch 56/100\n",
            "50000/50000 [==============================] - 27s 546us/step - loss: 0.0863 - acc: 0.9723 - val_loss: 3.6082 - val_acc: 0.5460\n",
            "Epoch 57/100\n",
            "50000/50000 [==============================] - 27s 543us/step - loss: 0.0688 - acc: 0.9781 - val_loss: 3.7405 - val_acc: 0.5392\n",
            "Epoch 58/100\n",
            "50000/50000 [==============================] - 27s 543us/step - loss: 0.0770 - acc: 0.9743 - val_loss: 3.6767 - val_acc: 0.5305\n",
            "Epoch 59/100\n",
            "50000/50000 [==============================] - 27s 547us/step - loss: 0.1051 - acc: 0.9665 - val_loss: 3.5734 - val_acc: 0.5420\n",
            "Epoch 60/100\n",
            "50000/50000 [==============================] - 27s 544us/step - loss: 0.0581 - acc: 0.9817 - val_loss: 3.5365 - val_acc: 0.5439\n",
            "Epoch 61/100\n",
            "50000/50000 [==============================] - 27s 538us/step - loss: 0.0788 - acc: 0.9747 - val_loss: 3.6162 - val_acc: 0.5456\n",
            "Epoch 62/100\n",
            "50000/50000 [==============================] - 27s 543us/step - loss: 0.0908 - acc: 0.9719 - val_loss: 3.6494 - val_acc: 0.5411\n",
            "Epoch 63/100\n",
            "50000/50000 [==============================] - 27s 538us/step - loss: 0.0873 - acc: 0.9722 - val_loss: 3.6069 - val_acc: 0.5390\n",
            "Epoch 64/100\n",
            "50000/50000 [==============================] - 27s 538us/step - loss: 0.0867 - acc: 0.9721 - val_loss: 3.5134 - val_acc: 0.5416\n",
            "Epoch 65/100\n",
            "50000/50000 [==============================] - 27s 540us/step - loss: 0.0628 - acc: 0.9810 - val_loss: 3.6390 - val_acc: 0.5389\n",
            "Epoch 66/100\n",
            "50000/50000 [==============================] - 27s 540us/step - loss: 0.0758 - acc: 0.9761 - val_loss: 3.7188 - val_acc: 0.5372\n",
            "Epoch 67/100\n",
            "50000/50000 [==============================] - 27s 536us/step - loss: 0.0725 - acc: 0.9776 - val_loss: 3.6739 - val_acc: 0.5388\n",
            "Epoch 68/100\n",
            "50000/50000 [==============================] - 27s 537us/step - loss: 0.0580 - acc: 0.9815 - val_loss: 3.7244 - val_acc: 0.5400\n",
            "Epoch 69/100\n",
            "50000/50000 [==============================] - 27s 539us/step - loss: 0.0841 - acc: 0.9736 - val_loss: 3.6692 - val_acc: 0.5386\n",
            "Epoch 70/100\n",
            "50000/50000 [==============================] - 27s 539us/step - loss: 0.0724 - acc: 0.9780 - val_loss: 3.7400 - val_acc: 0.5430\n",
            "Epoch 71/100\n",
            "50000/50000 [==============================] - 27s 536us/step - loss: 0.0754 - acc: 0.9768 - val_loss: 3.6894 - val_acc: 0.5348\n",
            "Epoch 72/100\n",
            "50000/50000 [==============================] - 27s 538us/step - loss: 0.0565 - acc: 0.9824 - val_loss: 3.7887 - val_acc: 0.5425\n",
            "Epoch 73/100\n",
            "50000/50000 [==============================] - 27s 537us/step - loss: 0.0671 - acc: 0.9794 - val_loss: 3.6432 - val_acc: 0.5359\n",
            "Epoch 74/100\n",
            "50000/50000 [==============================] - 27s 537us/step - loss: 0.0771 - acc: 0.9756 - val_loss: 3.6766 - val_acc: 0.5401\n",
            "Epoch 75/100\n",
            "50000/50000 [==============================] - 27s 536us/step - loss: 0.0641 - acc: 0.9799 - val_loss: 3.8392 - val_acc: 0.5359\n",
            "Epoch 76/100\n",
            "50000/50000 [==============================] - 27s 536us/step - loss: 0.0642 - acc: 0.9797 - val_loss: 3.8200 - val_acc: 0.5343\n",
            "Epoch 77/100\n",
            "50000/50000 [==============================] - 28s 550us/step - loss: 0.0801 - acc: 0.9747 - val_loss: 3.7724 - val_acc: 0.5347\n",
            "Epoch 78/100\n",
            "50000/50000 [==============================] - 27s 542us/step - loss: 0.0630 - acc: 0.9804 - val_loss: 3.8292 - val_acc: 0.5296\n",
            "Epoch 79/100\n",
            "50000/50000 [==============================] - 27s 542us/step - loss: 0.0595 - acc: 0.9810 - val_loss: 3.7523 - val_acc: 0.5408\n",
            "Epoch 80/100\n",
            "50000/50000 [==============================] - 27s 542us/step - loss: 0.0514 - acc: 0.9843 - val_loss: 3.8335 - val_acc: 0.5355\n",
            "Epoch 81/100\n",
            "50000/50000 [==============================] - 27s 541us/step - loss: 0.0603 - acc: 0.9817 - val_loss: 3.9111 - val_acc: 0.5373\n",
            "Epoch 82/100\n",
            "50000/50000 [==============================] - 27s 540us/step - loss: 0.0709 - acc: 0.9782 - val_loss: 3.6499 - val_acc: 0.5390\n",
            "Epoch 83/100\n",
            "50000/50000 [==============================] - 27s 545us/step - loss: 0.0702 - acc: 0.9785 - val_loss: 3.6203 - val_acc: 0.5430\n",
            "Epoch 84/100\n",
            "50000/50000 [==============================] - 27s 534us/step - loss: 0.0506 - acc: 0.9843 - val_loss: 3.8296 - val_acc: 0.5389\n",
            "Epoch 85/100\n",
            "50000/50000 [==============================] - 27s 539us/step - loss: 0.0519 - acc: 0.9838 - val_loss: 3.8707 - val_acc: 0.5388\n",
            "Epoch 86/100\n",
            "50000/50000 [==============================] - 27s 531us/step - loss: 0.0683 - acc: 0.9793 - val_loss: 3.7094 - val_acc: 0.5373\n",
            "Epoch 87/100\n",
            "50000/50000 [==============================] - 26s 530us/step - loss: 0.0621 - acc: 0.9809 - val_loss: 3.6134 - val_acc: 0.5453\n",
            "Epoch 88/100\n",
            "50000/50000 [==============================] - 27s 530us/step - loss: 0.0518 - acc: 0.9838 - val_loss: 3.7150 - val_acc: 0.5398\n",
            "Epoch 89/100\n",
            "50000/50000 [==============================] - 27s 534us/step - loss: 0.0511 - acc: 0.9839 - val_loss: 3.8599 - val_acc: 0.5461\n",
            "Epoch 90/100\n",
            "50000/50000 [==============================] - 27s 532us/step - loss: 0.0545 - acc: 0.9835 - val_loss: 3.8052 - val_acc: 0.5387\n",
            "Epoch 91/100\n",
            "50000/50000 [==============================] - 27s 532us/step - loss: 0.0459 - acc: 0.9864 - val_loss: 3.7561 - val_acc: 0.5375\n",
            "Epoch 92/100\n",
            "50000/50000 [==============================] - 26s 530us/step - loss: 0.0497 - acc: 0.9848 - val_loss: 3.8480 - val_acc: 0.5364\n",
            "Epoch 93/100\n",
            "50000/50000 [==============================] - 27s 538us/step - loss: 0.0657 - acc: 0.9808 - val_loss: 3.7937 - val_acc: 0.5391\n",
            "Epoch 94/100\n",
            "50000/50000 [==============================] - 27s 537us/step - loss: 0.0544 - acc: 0.9836 - val_loss: 3.7820 - val_acc: 0.5448\n",
            "Epoch 95/100\n",
            "50000/50000 [==============================] - 27s 530us/step - loss: 0.0695 - acc: 0.9796 - val_loss: 3.6411 - val_acc: 0.5473\n",
            "Epoch 96/100\n",
            "50000/50000 [==============================] - 27s 533us/step - loss: 0.0390 - acc: 0.9879 - val_loss: 3.8088 - val_acc: 0.5507\n",
            "Epoch 97/100\n",
            "50000/50000 [==============================] - 26s 529us/step - loss: 0.0516 - acc: 0.9848 - val_loss: 3.7246 - val_acc: 0.5438\n",
            "Epoch 98/100\n",
            "50000/50000 [==============================] - 27s 535us/step - loss: 0.0611 - acc: 0.9804 - val_loss: 3.7880 - val_acc: 0.5400\n",
            "Epoch 99/100\n",
            "50000/50000 [==============================] - 27s 531us/step - loss: 0.0500 - acc: 0.9842 - val_loss: 3.8622 - val_acc: 0.5410\n",
            "Epoch 100/100\n",
            "50000/50000 [==============================] - 27s 532us/step - loss: 0.0398 - acc: 0.9880 - val_loss: 3.9705 - val_acc: 0.5486\n"
          ],
          "name": "stdout"
        },
        {
          "output_type": "execute_result",
          "data": {
            "text/plain": [
              "<keras.callbacks.History at 0x7ffb616a2358>"
            ]
          },
          "metadata": {
            "tags": []
          },
          "execution_count": 20
        }
      ]
    },
    {
      "cell_type": "code",
      "metadata": {
        "id": "APbQtRJw4pNi",
        "colab_type": "code",
        "colab": {
          "base_uri": "https://localhost:8080/",
          "height": 545
        },
        "outputId": "7e041a39-db06-481c-9ab5-4721d4b9272f"
      },
      "source": [
        "import matplotlib.pyplot as plt\n",
        "\n",
        "\n",
        "train_loss = model.history.history[\"loss\"]\n",
        "valid_loss = model.history.history[\"val_loss\"]\n",
        "\n",
        "train_acc = model.history.history[\"acc\"]\n",
        "valid_acc = model.history.history[\"val_acc\"]\n",
        "\n",
        "plt.plot(range(len(train_loss)), train_loss, label=\"train loss\")\n",
        "plt.plot(range(len(valid_loss)), valid_loss, label=\"valid loss\")\n",
        "plt.legend()\n",
        "plt.title(\"Loss\")\n",
        "plt.show()\n",
        "\n",
        "plt.plot(range(len(train_acc)), train_acc, label=\"train accuracy\")\n",
        "plt.plot(range(len(valid_acc)), valid_acc, label=\"valid accuracy\")\n",
        "plt.legend()\n",
        "plt.title(\"Accuracy\")\n",
        "plt.show()"
      ],
      "execution_count": 21,
      "outputs": [
        {
          "output_type": "display_data",
          "data": {
            "image/png": "[encoded data removed]",
            "text/plain": [
              "<Figure size 432x288 with 1 Axes>"
            ]
          },
          "metadata": {
            "tags": []
          }
        },
        {
          "output_type": "display_data",
          "data": {
            "image/png": "[encoded data removed]",
            "text/plain": [
              "<Figure size 432x288 with 1 Axes>"
            ]
          },
          "metadata": {
            "tags": []
          }
        }
      ]
    },
    {
      "cell_type": "markdown",
      "metadata": {
        "id": "ekiFJQX7Yqi4",
        "colab_type": "text"
      },
      "source": [
        "經過**將 preproc_x 替換成以每筆資料的 min/max 進行標準化至 -1 ~ 1 間**及**將 mlp 疊更深**，進行訓練後觀察 learning curve 的走勢發現以下：\n",
        "1. 由於learning curve來說，愈好的訓練模型應該有較小的 loss，以圖來看的確是。  \n",
        "    但仍需要測量 validation set 和 training set 的 performance 差距，才能準確的評估模型 generalization 的能力。以圖來看，訓練和試驗的loss差距相當大，表示模型泛化能力差。\n",
        "2. 再加上以accuracy來看，訓練集和試驗集差距太大→overfitting"
      ]
    },
    {
      "cell_type": "code",
      "metadata": {
        "id": "ernUcRRq2H9h",
        "colab_type": "code",
        "colab": {}
      },
      "source": [
        ""
      ],
      "execution_count": 0,
      "outputs": []
    },
    {
      "cell_type": "markdown",
      "metadata": {
        "id": "HcEbkJ572f8D",
        "colab_type": "text"
      },
      "source": [
        "# 範例重點\n",
        "學習在模型開始前檢查各個環節  \n",
        "1. 是否有 GPU 資源\n",
        "2. 將前處理轉為函式，統一處理訓練、驗證與測試集\n",
        "3. 將超參數變數化，易於重複使用函式、模型等"
      ]
    },
    {
      "cell_type": "code",
      "metadata": {
        "id": "DoS2011Y2ICp",
        "colab_type": "code",
        "colab": {}
      },
      "source": [
        "## 確認硬體資源 (如果你是在 Linux, 若是在 Windows, 請參考 https://blog.csdn.net/idwtwt/article/details/78017565)\n",
        "#!nvidia-smi"
      ],
      "execution_count": 0,
      "outputs": []
    },
    {
      "cell_type": "code",
      "metadata": {
        "id": "SYKpT-Nu2IFp",
        "colab_type": "code",
        "colab": {
          "base_uri": "https://localhost:8080/",
          "height": 34
        },
        "outputId": "4b01908d-d810-400c-e8ff-02f85aa851c0"
      },
      "source": [
        "import os\n",
        "import keras\n",
        "\n",
        "# 本範例不需使用 GPU, 將 GPU 設定為 \"無\"\n",
        "os.environ[\"CUDA_VISIBLE_DEVICES\"] = \"\""
      ],
      "execution_count": 3,
      "outputs": [
        {
          "output_type": "stream",
          "text": [
            "Using TensorFlow backend.\n"
          ],
          "name": "stderr"
        }
      ]
    },
    {
      "cell_type": "code",
      "metadata": {
        "id": "ZxgUOiE32IAX",
        "colab_type": "code",
        "colab": {
          "base_uri": "https://localhost:8080/",
          "height": 51
        },
        "outputId": "a56db157-5cd8-4379-eb8f-641e0dc877b4"
      },
      "source": [
        "# 從 Keras 的內建功能中，取得 train 與 test 資料集\n",
        "train, test = keras.datasets.cifar10.load_data()"
      ],
      "execution_count": 4,
      "outputs": [
        {
          "output_type": "stream",
          "text": [
            "Downloading data from https://www.cs.toronto.edu/~kriz/cifar-10-python.tar.gz\n",
            "170500096/170498071 [==============================] - 4s 0us/step\n"
          ],
          "name": "stdout"
        }
      ]
    },
    {
      "cell_type": "code",
      "metadata": {
        "id": "sbePgWey20yA",
        "colab_type": "code",
        "colab": {}
      },
      "source": [
        "## 資料前處理\n",
        "def preproc_x(x, flatten=True):\n",
        "    x = x / 255.\n",
        "    if flatten:\n",
        "        x = x.reshape((len(x), -1))\n",
        "    return x\n",
        "\n",
        "def preproc_y(y, num_classes=10):\n",
        "    if y.shape[-1] == 1:\n",
        "        y = keras.utils.to_categorical(y, num_classes)\n",
        "    return y    "
      ],
      "execution_count": 0,
      "outputs": []
    },
    {
      "cell_type": "code",
      "metadata": {
        "id": "YswnAdEd200z",
        "colab_type": "code",
        "colab": {}
      },
      "source": [
        "x_train, y_train = train\n",
        "x_test, y_test = test\n",
        "\n",
        "# 資料前處理 - X 標準化\n",
        "x_train = preproc_x(x_train)\n",
        "x_test = preproc_x(x_test)\n",
        "\n",
        "# 資料前處理 -Y 轉成 onehot\n",
        "y_train = preproc_y(y_train)\n",
        "y_test = preproc_y(y_test)"
      ],
      "execution_count": 0,
      "outputs": []
    },
    {
      "cell_type": "code",
      "metadata": {
        "id": "DXLKOJZ02039",
        "colab_type": "code",
        "colab": {}
      },
      "source": [
        "def build_mlp(input_shape, output_units=10, num_neurons=[512, 256, 128]):\n",
        "    input_layer = keras.layers.Input(input_shape)\n",
        "    \n",
        "    for i, n_units in enumerate(num_neurons):\n",
        "        if i == 0:\n",
        "            x = keras.layers.Dense(units=n_units, activation=\"relu\", name=\"hidden_layer\"+str(i+1))(input_layer)\n",
        "        else:\n",
        "            x = keras.layers.Dense(units=n_units, activation=\"relu\", name=\"hidden_layer\"+str(i+1))(x)\n",
        "    \n",
        "    out = keras.layers.Dense(units=output_units, activation=\"softmax\", name=\"output\")(x)\n",
        "    \n",
        "    model = keras.models.Model(inputs=[input_layer], outputs=[out])\n",
        "    return model"
      ],
      "execution_count": 0,
      "outputs": []
    },
    {
      "cell_type": "code",
      "metadata": {
        "id": "Bo7BVxek209r",
        "colab_type": "code",
        "colab": {
          "base_uri": "https://localhost:8080/",
          "height": 445
        },
        "outputId": "cefcc0a4-0f58-4c09-e83a-54e7eaa3c99f"
      },
      "source": [
        "model = build_mlp(input_shape=x_train.shape[1:])\n",
        "model.summary()"
      ],
      "execution_count": 8,
      "outputs": [
        {
          "output_type": "stream",
          "text": [
            "WARNING: Logging before flag parsing goes to stderr.\n",
            "W0805 12:58:02.929571 140718708635520 deprecation_wrapper.py:119] From /usr/local/lib/python3.6/dist-packages/keras/backend/tensorflow_backend.py:74: The name tf.get_default_graph is deprecated. Please use tf.compat.v1.get_default_graph instead.\n",
            "\n",
            "W0805 12:58:02.973438 140718708635520 deprecation_wrapper.py:119] From /usr/local/lib/python3.6/dist-packages/keras/backend/tensorflow_backend.py:517: The name tf.placeholder is deprecated. Please use tf.compat.v1.placeholder instead.\n",
            "\n",
            "W0805 12:58:02.983963 140718708635520 deprecation_wrapper.py:119] From /usr/local/lib/python3.6/dist-packages/keras/backend/tensorflow_backend.py:4138: The name tf.random_uniform is deprecated. Please use tf.random.uniform instead.\n",
            "\n"
          ],
          "name": "stderr"
        },
        {
          "output_type": "stream",
          "text": [
            "_________________________________________________________________\n",
            "Layer (type)                 Output Shape              Param #   \n",
            "=================================================================\n",
            "input_1 (InputLayer)         (None, 3072)              0         \n",
            "_________________________________________________________________\n",
            "hidden_layer1 (Dense)        (None, 512)               1573376   \n",
            "_________________________________________________________________\n",
            "hidden_layer2 (Dense)        (None, 256)               131328    \n",
            "_________________________________________________________________\n",
            "hidden_layer3 (Dense)        (None, 128)               32896     \n",
            "_________________________________________________________________\n",
            "output (Dense)               (None, 10)                1290      \n",
            "=================================================================\n",
            "Total params: 1,738,890\n",
            "Trainable params: 1,738,890\n",
            "Non-trainable params: 0\n",
            "_________________________________________________________________\n"
          ],
          "name": "stdout"
        }
      ]
    },
    {
      "cell_type": "code",
      "metadata": {
        "id": "OqrMiFzH21AY",
        "colab_type": "code",
        "colab": {}
      },
      "source": [
        "## 超參數設定\n",
        "LEARNING_RATE = 0.001\n",
        "EPOCHS = 100\n",
        "BATCH_SIZE = 256"
      ],
      "execution_count": 0,
      "outputs": []
    },
    {
      "cell_type": "code",
      "metadata": {
        "id": "H8Cof6Uc28L_",
        "colab_type": "code",
        "colab": {
          "base_uri": "https://localhost:8080/",
          "height": 105
        },
        "outputId": "c1c8345d-6e81-4a4c-c16f-fc2eb047a020"
      },
      "source": [
        "optimizer = keras.optimizers.Adam(lr=LEARNING_RATE)\n",
        "model.compile(loss=\"categorical_crossentropy\", metrics=[\"accuracy\"], optimizer=optimizer)"
      ],
      "execution_count": 10,
      "outputs": [
        {
          "output_type": "stream",
          "text": [
            "W0805 12:58:14.393944 140718708635520 deprecation_wrapper.py:119] From /usr/local/lib/python3.6/dist-packages/keras/optimizers.py:790: The name tf.train.Optimizer is deprecated. Please use tf.compat.v1.train.Optimizer instead.\n",
            "\n",
            "W0805 12:58:14.408891 140718708635520 deprecation_wrapper.py:119] From /usr/local/lib/python3.6/dist-packages/keras/backend/tensorflow_backend.py:3295: The name tf.log is deprecated. Please use tf.math.log instead.\n",
            "\n"
          ],
          "name": "stderr"
        }
      ]
    },
    {
      "cell_type": "code",
      "metadata": {
        "id": "hPA-FpzG28Oy",
        "colab_type": "code",
        "colab": {
          "base_uri": "https://localhost:8080/",
          "height": 1000
        },
        "outputId": "8c8a1fb5-cc9d-4c27-e3ef-af131dc7c1ca"
      },
      "source": [
        "model.fit(x_train, y_train, \n",
        "          epochs=EPOCHS, \n",
        "          batch_size=BATCH_SIZE, \n",
        "          validation_data=(x_test, y_test), \n",
        "          shuffle=True)"
      ],
      "execution_count": 11,
      "outputs": [
        {
          "output_type": "stream",
          "text": [
            "W0805 12:58:18.024839 140718708635520 deprecation.py:323] From /usr/local/lib/python3.6/dist-packages/tensorflow/python/ops/math_grad.py:1250: add_dispatch_support.<locals>.wrapper (from tensorflow.python.ops.array_ops) is deprecated and will be removed in a future version.\n",
            "Instructions for updating:\n",
            "Use tf.where in 2.0, which has the same broadcast rule as np.where\n",
            "W0805 12:58:18.103205 140718708635520 deprecation_wrapper.py:119] From /usr/local/lib/python3.6/dist-packages/keras/backend/tensorflow_backend.py:986: The name tf.assign_add is deprecated. Please use tf.compat.v1.assign_add instead.\n",
            "\n"
          ],
          "name": "stderr"
        },
        {
          "output_type": "stream",
          "text": [
            "Train on 50000 samples, validate on 10000 samples\n",
            "Epoch 1/100\n",
            "50000/50000 [==============================] - 19s 385us/step - loss: 1.9316 - acc: 0.3042 - val_loss: 1.7555 - val_acc: 0.3756\n",
            "Epoch 2/100\n",
            "50000/50000 [==============================] - 13s 266us/step - loss: 1.6991 - acc: 0.3957 - val_loss: 1.6382 - val_acc: 0.4156\n",
            "Epoch 3/100\n",
            "50000/50000 [==============================] - 14s 271us/step - loss: 1.6147 - acc: 0.4228 - val_loss: 1.5741 - val_acc: 0.4475\n",
            "Epoch 4/100\n",
            "50000/50000 [==============================] - 14s 273us/step - loss: 1.5394 - acc: 0.4519 - val_loss: 1.5117 - val_acc: 0.4634\n",
            "Epoch 5/100\n",
            "50000/50000 [==============================] - 14s 272us/step - loss: 1.4999 - acc: 0.4664 - val_loss: 1.5298 - val_acc: 0.4579\n",
            "Epoch 6/100\n",
            "50000/50000 [==============================] - 13s 267us/step - loss: 1.4704 - acc: 0.4747 - val_loss: 1.4619 - val_acc: 0.4801\n",
            "Epoch 7/100\n",
            "50000/50000 [==============================] - 13s 263us/step - loss: 1.4334 - acc: 0.4887 - val_loss: 1.4648 - val_acc: 0.4746\n",
            "Epoch 8/100\n",
            "50000/50000 [==============================] - 13s 267us/step - loss: 1.4021 - acc: 0.4998 - val_loss: 1.4641 - val_acc: 0.4796\n",
            "Epoch 9/100\n",
            "50000/50000 [==============================] - 13s 267us/step - loss: 1.3707 - acc: 0.5116 - val_loss: 1.4469 - val_acc: 0.4892\n",
            "Epoch 10/100\n",
            "50000/50000 [==============================] - 13s 267us/step - loss: 1.3494 - acc: 0.5181 - val_loss: 1.4269 - val_acc: 0.4921\n",
            "Epoch 11/100\n",
            "50000/50000 [==============================] - 13s 269us/step - loss: 1.3206 - acc: 0.5312 - val_loss: 1.3959 - val_acc: 0.5032\n",
            "Epoch 12/100\n",
            "50000/50000 [==============================] - 15s 297us/step - loss: 1.3016 - acc: 0.5367 - val_loss: 1.4095 - val_acc: 0.4975\n",
            "Epoch 13/100\n",
            "50000/50000 [==============================] - 13s 265us/step - loss: 1.2729 - acc: 0.5471 - val_loss: 1.4221 - val_acc: 0.4970\n",
            "Epoch 14/100\n",
            "50000/50000 [==============================] - 13s 265us/step - loss: 1.2618 - acc: 0.5531 - val_loss: 1.3754 - val_acc: 0.5119\n",
            "Epoch 15/100\n",
            "50000/50000 [==============================] - 13s 267us/step - loss: 1.2329 - acc: 0.5612 - val_loss: 1.3817 - val_acc: 0.5169\n",
            "Epoch 16/100\n",
            "50000/50000 [==============================] - 13s 269us/step - loss: 1.2124 - acc: 0.5691 - val_loss: 1.3739 - val_acc: 0.5191\n",
            "Epoch 17/100\n",
            "50000/50000 [==============================] - 13s 266us/step - loss: 1.1940 - acc: 0.5735 - val_loss: 1.3632 - val_acc: 0.5186\n",
            "Epoch 18/100\n",
            "50000/50000 [==============================] - 13s 266us/step - loss: 1.1736 - acc: 0.5810 - val_loss: 1.3837 - val_acc: 0.5154\n",
            "Epoch 19/100\n",
            "50000/50000 [==============================] - 13s 264us/step - loss: 1.1500 - acc: 0.5903 - val_loss: 1.3757 - val_acc: 0.5148\n",
            "Epoch 20/100\n",
            "50000/50000 [==============================] - 13s 264us/step - loss: 1.1327 - acc: 0.5949 - val_loss: 1.4155 - val_acc: 0.5030\n",
            "Epoch 21/100\n",
            "50000/50000 [==============================] - 13s 263us/step - loss: 1.1085 - acc: 0.6043 - val_loss: 1.3919 - val_acc: 0.5140\n",
            "Epoch 22/100\n",
            "50000/50000 [==============================] - 13s 265us/step - loss: 1.0960 - acc: 0.6083 - val_loss: 1.3715 - val_acc: 0.5219\n",
            "Epoch 23/100\n",
            "50000/50000 [==============================] - 13s 266us/step - loss: 1.0774 - acc: 0.6134 - val_loss: 1.3630 - val_acc: 0.5265\n",
            "Epoch 24/100\n",
            "50000/50000 [==============================] - 13s 266us/step - loss: 1.0566 - acc: 0.6199 - val_loss: 1.3767 - val_acc: 0.5259\n",
            "Epoch 25/100\n",
            "50000/50000 [==============================] - 13s 268us/step - loss: 1.0308 - acc: 0.6294 - val_loss: 1.4085 - val_acc: 0.5228\n",
            "Epoch 26/100\n",
            "50000/50000 [==============================] - 13s 265us/step - loss: 1.0213 - acc: 0.6351 - val_loss: 1.3941 - val_acc: 0.5314\n",
            "Epoch 27/100\n",
            "50000/50000 [==============================] - 13s 265us/step - loss: 1.0049 - acc: 0.6415 - val_loss: 1.3988 - val_acc: 0.5274\n",
            "Epoch 28/100\n",
            "50000/50000 [==============================] - 13s 265us/step - loss: 0.9923 - acc: 0.6447 - val_loss: 1.3956 - val_acc: 0.5301\n",
            "Epoch 29/100\n",
            "50000/50000 [==============================] - 13s 265us/step - loss: 0.9780 - acc: 0.6489 - val_loss: 1.3930 - val_acc: 0.5256\n",
            "Epoch 30/100\n",
            "50000/50000 [==============================] - 13s 262us/step - loss: 0.9504 - acc: 0.6587 - val_loss: 1.4173 - val_acc: 0.5276\n",
            "Epoch 31/100\n",
            "50000/50000 [==============================] - 13s 267us/step - loss: 0.9296 - acc: 0.6681 - val_loss: 1.4174 - val_acc: 0.5347\n",
            "Epoch 32/100\n",
            "50000/50000 [==============================] - 13s 264us/step - loss: 0.9220 - acc: 0.6690 - val_loss: 1.4832 - val_acc: 0.5157\n",
            "Epoch 33/100\n",
            "50000/50000 [==============================] - 13s 263us/step - loss: 0.9022 - acc: 0.6780 - val_loss: 1.4344 - val_acc: 0.5261\n",
            "Epoch 34/100\n",
            "50000/50000 [==============================] - 13s 267us/step - loss: 0.8854 - acc: 0.6830 - val_loss: 1.4944 - val_acc: 0.5209\n",
            "Epoch 35/100\n",
            "50000/50000 [==============================] - 13s 262us/step - loss: 0.8774 - acc: 0.6861 - val_loss: 1.4870 - val_acc: 0.5235\n",
            "Epoch 36/100\n",
            "50000/50000 [==============================] - 13s 264us/step - loss: 0.8557 - acc: 0.6933 - val_loss: 1.4997 - val_acc: 0.5214\n",
            "Epoch 37/100\n",
            "50000/50000 [==============================] - 13s 268us/step - loss: 0.8459 - acc: 0.6975 - val_loss: 1.5757 - val_acc: 0.5172\n",
            "Epoch 38/100\n",
            "50000/50000 [==============================] - 13s 264us/step - loss: 0.8386 - acc: 0.6985 - val_loss: 1.5307 - val_acc: 0.5270\n",
            "Epoch 39/100\n",
            "50000/50000 [==============================] - 13s 263us/step - loss: 0.8127 - acc: 0.7071 - val_loss: 1.5414 - val_acc: 0.5199\n",
            "Epoch 40/100\n",
            "50000/50000 [==============================] - 13s 263us/step - loss: 0.7905 - acc: 0.7172 - val_loss: 1.5575 - val_acc: 0.5218\n",
            "Epoch 41/100\n",
            "50000/50000 [==============================] - 13s 264us/step - loss: 0.7800 - acc: 0.7198 - val_loss: 1.5531 - val_acc: 0.5300\n",
            "Epoch 42/100\n",
            "50000/50000 [==============================] - 13s 266us/step - loss: 0.7785 - acc: 0.7220 - val_loss: 1.5600 - val_acc: 0.5235\n",
            "Epoch 43/100\n",
            "50000/50000 [==============================] - 13s 264us/step - loss: 0.7559 - acc: 0.7293 - val_loss: 1.6056 - val_acc: 0.5133\n",
            "Epoch 44/100\n",
            "50000/50000 [==============================] - 13s 267us/step - loss: 0.7378 - acc: 0.7362 - val_loss: 1.5646 - val_acc: 0.5275\n",
            "Epoch 45/100\n",
            "50000/50000 [==============================] - 13s 264us/step - loss: 0.7331 - acc: 0.7361 - val_loss: 1.6174 - val_acc: 0.5176\n",
            "Epoch 46/100\n",
            "50000/50000 [==============================] - 13s 266us/step - loss: 0.7124 - acc: 0.7439 - val_loss: 1.6515 - val_acc: 0.5297\n",
            "Epoch 47/100\n",
            "50000/50000 [==============================] - 13s 268us/step - loss: 0.6936 - acc: 0.7512 - val_loss: 1.6998 - val_acc: 0.5190\n",
            "Epoch 48/100\n",
            "50000/50000 [==============================] - 13s 265us/step - loss: 0.6969 - acc: 0.7511 - val_loss: 1.7246 - val_acc: 0.5224\n",
            "Epoch 49/100\n",
            "50000/50000 [==============================] - 13s 266us/step - loss: 0.6838 - acc: 0.7549 - val_loss: 1.6765 - val_acc: 0.5206\n",
            "Epoch 50/100\n",
            "50000/50000 [==============================] - 13s 261us/step - loss: 0.6705 - acc: 0.7604 - val_loss: 1.7141 - val_acc: 0.5210\n",
            "Epoch 51/100\n",
            "50000/50000 [==============================] - 13s 260us/step - loss: 0.6573 - acc: 0.7621 - val_loss: 1.7638 - val_acc: 0.5138\n",
            "Epoch 52/100\n",
            "50000/50000 [==============================] - 13s 264us/step - loss: 0.6593 - acc: 0.7657 - val_loss: 1.8220 - val_acc: 0.5106\n",
            "Epoch 53/100\n",
            "50000/50000 [==============================] - 13s 266us/step - loss: 0.6322 - acc: 0.7737 - val_loss: 1.8184 - val_acc: 0.5104\n",
            "Epoch 54/100\n",
            "50000/50000 [==============================] - 13s 265us/step - loss: 0.6177 - acc: 0.7790 - val_loss: 1.8808 - val_acc: 0.5079\n",
            "Epoch 55/100\n",
            "50000/50000 [==============================] - 13s 263us/step - loss: 0.6043 - acc: 0.7833 - val_loss: 1.8475 - val_acc: 0.5188\n",
            "Epoch 56/100\n",
            "50000/50000 [==============================] - 13s 262us/step - loss: 0.5836 - acc: 0.7926 - val_loss: 1.8481 - val_acc: 0.5167\n",
            "Epoch 57/100\n",
            "50000/50000 [==============================] - 13s 263us/step - loss: 0.5832 - acc: 0.7908 - val_loss: 1.9141 - val_acc: 0.5113\n",
            "Epoch 58/100\n",
            "50000/50000 [==============================] - 13s 265us/step - loss: 0.5761 - acc: 0.7941 - val_loss: 1.9540 - val_acc: 0.5098\n",
            "Epoch 59/100\n",
            "50000/50000 [==============================] - 13s 266us/step - loss: 0.5680 - acc: 0.7962 - val_loss: 1.9180 - val_acc: 0.5147\n",
            "Epoch 60/100\n",
            "50000/50000 [==============================] - 13s 269us/step - loss: 0.5463 - acc: 0.8015 - val_loss: 1.9705 - val_acc: 0.5154\n",
            "Epoch 61/100\n",
            "50000/50000 [==============================] - 13s 269us/step - loss: 0.5272 - acc: 0.8100 - val_loss: 1.9739 - val_acc: 0.5153\n",
            "Epoch 62/100\n",
            "50000/50000 [==============================] - 13s 265us/step - loss: 0.5355 - acc: 0.8103 - val_loss: 2.0150 - val_acc: 0.5233\n",
            "Epoch 63/100\n",
            "50000/50000 [==============================] - 13s 263us/step - loss: 0.5354 - acc: 0.8088 - val_loss: 2.0582 - val_acc: 0.5068\n",
            "Epoch 64/100\n",
            "50000/50000 [==============================] - 13s 263us/step - loss: 0.5150 - acc: 0.8154 - val_loss: 2.0562 - val_acc: 0.5113\n",
            "Epoch 65/100\n",
            "50000/50000 [==============================] - 13s 266us/step - loss: 0.5075 - acc: 0.8197 - val_loss: 2.0838 - val_acc: 0.5125\n",
            "Epoch 66/100\n",
            "50000/50000 [==============================] - 13s 267us/step - loss: 0.5002 - acc: 0.8236 - val_loss: 2.0918 - val_acc: 0.5135\n",
            "Epoch 67/100\n",
            "50000/50000 [==============================] - 13s 264us/step - loss: 0.4952 - acc: 0.8217 - val_loss: 2.1770 - val_acc: 0.5080\n",
            "Epoch 68/100\n",
            "50000/50000 [==============================] - 13s 264us/step - loss: 0.4756 - acc: 0.8298 - val_loss: 2.1956 - val_acc: 0.5115\n",
            "Epoch 69/100\n",
            "50000/50000 [==============================] - 13s 267us/step - loss: 0.4965 - acc: 0.8215 - val_loss: 2.1594 - val_acc: 0.5139\n",
            "Epoch 70/100\n",
            "50000/50000 [==============================] - 14s 271us/step - loss: 0.4568 - acc: 0.8357 - val_loss: 2.2459 - val_acc: 0.5065\n",
            "Epoch 71/100\n",
            "50000/50000 [==============================] - 13s 269us/step - loss: 0.4545 - acc: 0.8377 - val_loss: 2.2076 - val_acc: 0.5073\n",
            "Epoch 72/100\n",
            "50000/50000 [==============================] - 14s 270us/step - loss: 0.4515 - acc: 0.8386 - val_loss: 2.2787 - val_acc: 0.5013\n",
            "Epoch 73/100\n",
            "50000/50000 [==============================] - 14s 273us/step - loss: 0.4536 - acc: 0.8382 - val_loss: 2.3498 - val_acc: 0.5037\n",
            "Epoch 74/100\n",
            "50000/50000 [==============================] - 14s 275us/step - loss: 0.4444 - acc: 0.8407 - val_loss: 2.2762 - val_acc: 0.5108\n",
            "Epoch 75/100\n",
            "50000/50000 [==============================] - 14s 280us/step - loss: 0.4220 - acc: 0.8513 - val_loss: 2.3446 - val_acc: 0.5063\n",
            "Epoch 76/100\n",
            "50000/50000 [==============================] - 14s 278us/step - loss: 0.4112 - acc: 0.8533 - val_loss: 2.3151 - val_acc: 0.5070\n",
            "Epoch 77/100\n",
            "50000/50000 [==============================] - 14s 277us/step - loss: 0.4288 - acc: 0.8468 - val_loss: 2.3521 - val_acc: 0.5088\n",
            "Epoch 78/100\n",
            "50000/50000 [==============================] - 14s 274us/step - loss: 0.4162 - acc: 0.8509 - val_loss: 2.3971 - val_acc: 0.5078\n",
            "Epoch 79/100\n",
            "50000/50000 [==============================] - 14s 278us/step - loss: 0.4086 - acc: 0.8523 - val_loss: 2.4508 - val_acc: 0.4983\n",
            "Epoch 80/100\n",
            "50000/50000 [==============================] - 14s 274us/step - loss: 0.3873 - acc: 0.8626 - val_loss: 2.5657 - val_acc: 0.4967\n",
            "Epoch 81/100\n",
            "50000/50000 [==============================] - 14s 270us/step - loss: 0.4114 - acc: 0.8506 - val_loss: 2.4737 - val_acc: 0.5060\n",
            "Epoch 82/100\n",
            "50000/50000 [==============================] - 14s 273us/step - loss: 0.3875 - acc: 0.8619 - val_loss: 2.5546 - val_acc: 0.4996\n",
            "Epoch 83/100\n",
            "50000/50000 [==============================] - 14s 281us/step - loss: 0.3711 - acc: 0.8680 - val_loss: 2.4714 - val_acc: 0.5082\n",
            "Epoch 84/100\n",
            "50000/50000 [==============================] - 14s 278us/step - loss: 0.3761 - acc: 0.8648 - val_loss: 2.5241 - val_acc: 0.5035\n",
            "Epoch 85/100\n",
            "50000/50000 [==============================] - 14s 274us/step - loss: 0.3735 - acc: 0.8660 - val_loss: 2.6499 - val_acc: 0.5115\n",
            "Epoch 86/100\n",
            "50000/50000 [==============================] - 14s 274us/step - loss: 0.3629 - acc: 0.8697 - val_loss: 2.5474 - val_acc: 0.5088\n",
            "Epoch 87/100\n",
            "50000/50000 [==============================] - 14s 274us/step - loss: 0.3532 - acc: 0.8727 - val_loss: 2.6741 - val_acc: 0.5042\n",
            "Epoch 88/100\n",
            "50000/50000 [==============================] - 14s 276us/step - loss: 0.3535 - acc: 0.8730 - val_loss: 2.6397 - val_acc: 0.5152\n",
            "Epoch 89/100\n",
            "50000/50000 [==============================] - 14s 273us/step - loss: 0.3663 - acc: 0.8666 - val_loss: 2.6651 - val_acc: 0.5059\n",
            "Epoch 90/100\n",
            "50000/50000 [==============================] - 14s 272us/step - loss: 0.3466 - acc: 0.8757 - val_loss: 2.7631 - val_acc: 0.4984\n",
            "Epoch 91/100\n",
            "50000/50000 [==============================] - 14s 272us/step - loss: 0.3350 - acc: 0.8805 - val_loss: 2.7045 - val_acc: 0.5097\n",
            "Epoch 92/100\n",
            "50000/50000 [==============================] - 14s 275us/step - loss: 0.3126 - acc: 0.8886 - val_loss: 2.7854 - val_acc: 0.4963\n",
            "Epoch 93/100\n",
            "50000/50000 [==============================] - 14s 274us/step - loss: 0.3495 - acc: 0.8756 - val_loss: 2.7594 - val_acc: 0.4978\n",
            "Epoch 94/100\n",
            "50000/50000 [==============================] - 14s 276us/step - loss: 0.3574 - acc: 0.8716 - val_loss: 2.8786 - val_acc: 0.4936\n",
            "Epoch 95/100\n",
            "50000/50000 [==============================] - 14s 277us/step - loss: 0.3246 - acc: 0.8826 - val_loss: 2.7573 - val_acc: 0.5035\n",
            "Epoch 96/100\n",
            "50000/50000 [==============================] - 14s 275us/step - loss: 0.3136 - acc: 0.8872 - val_loss: 2.8673 - val_acc: 0.5109\n",
            "Epoch 97/100\n",
            "50000/50000 [==============================] - 14s 272us/step - loss: 0.3205 - acc: 0.8846 - val_loss: 2.8572 - val_acc: 0.4962\n",
            "Epoch 98/100\n",
            "50000/50000 [==============================] - 14s 274us/step - loss: 0.3074 - acc: 0.8880 - val_loss: 2.9577 - val_acc: 0.5034\n",
            "Epoch 99/100\n",
            "50000/50000 [==============================] - 14s 278us/step - loss: 0.2948 - acc: 0.8965 - val_loss: 2.9296 - val_acc: 0.4963\n",
            "Epoch 100/100\n",
            "50000/50000 [==============================] - 14s 272us/step - loss: 0.3034 - acc: 0.8896 - val_loss: 2.9084 - val_acc: 0.5054\n"
          ],
          "name": "stdout"
        },
        {
          "output_type": "execute_result",
          "data": {
            "text/plain": [
              "<keras.callbacks.History at 0x7ffb662ea160>"
            ]
          },
          "metadata": {
            "tags": []
          },
          "execution_count": 11
        }
      ]
    },
    {
      "cell_type": "code",
      "metadata": {
        "id": "EcN6vvjm28UT",
        "colab_type": "code",
        "colab": {
          "base_uri": "https://localhost:8080/",
          "height": 545
        },
        "outputId": "adfc9b40-fbf1-4417-86ae-a465626d50a7"
      },
      "source": [
        "# 訓練模型並檢視驗證集的結果\n",
        "import matplotlib.pyplot as plt\n",
        "\n",
        "train_loss = model.history.history[\"loss\"]\n",
        "valid_loss = model.history.history[\"val_loss\"]\n",
        "\n",
        "train_acc = model.history.history[\"acc\"]\n",
        "valid_acc = model.history.history[\"val_acc\"]\n",
        "\n",
        "plt.plot(range(len(train_loss)), train_loss, label=\"train loss\")\n",
        "plt.plot(range(len(valid_loss)), valid_loss, label=\"valid loss\")\n",
        "plt.legend()\n",
        "plt.title(\"Loss\")\n",
        "plt.show()\n",
        "\n",
        "plt.plot(range(len(train_acc)), train_acc, label=\"train accuracy\")\n",
        "plt.plot(range(len(valid_acc)), valid_acc, label=\"valid accuracy\")\n",
        "plt.legend()\n",
        "plt.title(\"Accuracy\")\n",
        "plt.show()"
      ],
      "execution_count": 12,
      "outputs": [
        {
          "output_type": "display_data",
          "data": {
            "image/png": "[encoded data removed]",
            "text/plain": [
              "<Figure size 432x288 with 1 Axes>"
            ]
          },
          "metadata": {
            "tags": []
          }
        },
        {
          "output_type": "display_data",
          "data": {
            "image/png": "[encoded data removed]",
            "text/plain": [
              "<Figure size 432x288 with 1 Axes>"
            ]
          },
          "metadata": {
            "tags": []
          }
        }
      ]
    },
    {
      "cell_type": "code",
      "metadata": {
        "id": "PO6t3L3B207o",
        "colab_type": "code",
        "colab": {}
      },
      "source": [
        ""
      ],
      "execution_count": 0,
      "outputs": []
    },
    {
      "cell_type": "markdown",
      "metadata": {
        "id": "lC0AP-hT2IRv",
        "colab_type": "text"
      },
      "source": [
        "參考資料\n",
        "\n",
        "  - [選擇 GPU 裝置與僅使用部分 GPU 的設定方式](https://github.com/vashineyu/slides_and_others/blob/master/tutorial/gpu_usage.pdf)  \n",
        "  - [養成良好 Coding Style: Python Coding Style – PEP8](https://www.python.org/dev/peps/pep-0008/)   \n",
        "  - [Troubleshooting Deep Neural Network – A Field Guide to Fix your Model](http://josh-tobin.com/assets/pdf/troubleshooting-deep-neural-networks-01-19.pdf)"
      ]
    },
    {
      "cell_type": "code",
      "metadata": {
        "id": "VTIv2Un62VAY",
        "colab_type": "code",
        "colab": {}
      },
      "source": [
        ""
      ],
      "execution_count": 0,
      "outputs": []
    }
  ]
}