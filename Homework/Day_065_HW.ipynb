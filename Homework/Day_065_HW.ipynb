{
 "cells": [
  {
   "cell_type": "markdown",
   "metadata": {},
   "source": [
    "# 作業\n",
    "選擇分類資料集(右下)-螺旋雙臂 - 交錯六群，限定特徵只能使用前兩個，隱藏層 2 層滿 (共 8 * 2 =16 個神經元)，\n",
    "遞迴次數只允許跑到500次，但可以自由調整 批次大小、學習速率、啟動函數、正規化選項與參數  \n",
    "在上述限制下，挑戰看看測試誤差 (Test Loss) 最低能到多少? 請回答你的上述幾項參數與 Test Loss 數"
   ]
  },
  {
   "cell_type": "markdown",
   "metadata": {},
   "source": [
    "批次大小 = 3  \n",
    "學習速率 = 0.1  \n",
    "啟動函數 = ReLU  \n",
    "正規化選項 = L2  \n",
    "正規化參數 = 0.001   \n",
    " **→Test Loss = 0.051**\n"
   ]
  },
  {
   "cell_type": "code",
   "execution_count": null,
   "metadata": {},
   "outputs": [],
   "source": []
  },
  {
   "cell_type": "markdown",
   "metadata": {},
   "source": [
    "參考資料\n",
    "\n",
    "**Understanding neural networks with TensorFlow Playground Google Cloud 官方教學**  [網頁連結](https://cloud.google.com/blog/products/gcp/understanding-neural-networks-with-tensorflow-playground)\n",
    "\n",
    "這是 Google 官方出的 PlayGround 教學，除了與作業類似的跑參圖(但是沒有限制 epoch 500)，還有 Google 認為類神經網路初學者需要學習的內容，如果覺得我們的課程有不完整的地方，建議可以直接參考上面的說明\n",
    "\n",
    "但還是老話一句 : 不要強迫自己現在就全部都看懂，細節的部分後面還有其他的課程會說明，先專注享受你最有興趣的部分吧。\n",
    "\n",
    "\n",
    "\n",
    "**深度深度學習網路調參技巧 with TensorFlow Playground 知乎  作者：煉丹實驗室**  [網頁連結](https://zhuanlan.zhihu.com/p/24720954)\n",
    "\n",
    "如果你對於深度學習的參數調整有更多興趣，那麼建議你可以讀一讀這篇的內容\n",
    "\n",
    "提到這篇，主要是讓大家看到「自動調參」的章節 (倒數第二段，總結之前)，可以知道深度學習的調參也不外乎是 GridSearch 與 RandomSearch，但是也與機器學習一樣，調整這些參數前最好能先了解它\n"
   ]
  },
  {
   "cell_type": "code",
   "execution_count": null,
   "metadata": {},
   "outputs": [],
   "source": []
  }
 ],
 "metadata": {
  "kernelspec": {
   "display_name": "Python 3",
   "language": "python",
   "name": "python3"
  },
  "language_info": {
   "codemirror_mode": {
    "name": "ipython",
    "version": 3
   },
   "file_extension": ".py",
   "mimetype": "text/x-python",
   "name": "python",
   "nbconvert_exporter": "python",
   "pygments_lexer": "ipython3",
   "version": "3.7.0"
  },
  "toc": {
   "base_numbering": 1,
   "nav_menu": {},
   "number_sections": true,
   "sideBar": true,
   "skip_h1_title": false,
   "title_cell": "Table of Contents",
   "title_sidebar": "Contents",
   "toc_cell": false,
   "toc_position": {},
   "toc_section_display": true,
   "toc_window_display": false
  },
  "varInspector": {
   "cols": {
    "lenName": 16,
    "lenType": 16,
    "lenVar": 40
   },
   "kernels_config": {
    "python": {
     "delete_cmd_postfix": "",
     "delete_cmd_prefix": "del ",
     "library": "var_list.py",
     "varRefreshCmd": "print(var_dic_list())"
    },
    "r": {
     "delete_cmd_postfix": ") ",
     "delete_cmd_prefix": "rm(",
     "library": "var_list.r",
     "varRefreshCmd": "cat(var_dic_list()) "
    }
   },
   "types_to_exclude": [
    "module",
    "function",
    "builtin_function_or_method",
    "instance",
    "_Feature"
   ],
   "window_display": false
  }
 },
 "nbformat": 4,
 "nbformat_minor": 2
}
