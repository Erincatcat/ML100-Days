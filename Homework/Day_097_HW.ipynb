{
  "nbformat": 4,
  "nbformat_minor": 0,
  "metadata": {
    "colab": {
      "name": "Day_097_HW.ipynb",
      "provenance": [],
      "collapsed_sections": []
    },
    "kernelspec": {
      "name": "python3",
      "display_name": "Python 3"
    }
  },
  "cells": [
    {
      "cell_type": "code",
      "metadata": {
        "id": "WsbhHuFUY5W6",
        "colab_type": "code",
        "colab": {}
      },
      "source": [
        "import keras\n",
        "from keras.datasets import cifar10\n",
        "from keras.preprocessing.image import ImageDataGenerator\n",
        "from keras.models import Sequential\n",
        "from keras.layers import Dense, Dropout, Activation, Flatten\n",
        "from keras.layers import Conv2D, MaxPooling2D\n",
        "from keras.optimizers import RMSprop, Adam\n",
        "import os"
      ],
      "execution_count": 0,
      "outputs": []
    },
    {
      "cell_type": "code",
      "metadata": {
        "id": "z9yqYTmLY7fJ",
        "colab_type": "code",
        "colab": {
          "base_uri": "https://localhost:8080/",
          "height": 68
        },
        "outputId": "9f1a6434-d7e4-491b-97b3-5772155ccea2"
      },
      "source": [
        "batch_size = 128 # batch 的大小，如果出現 OOM error，請降低這個值\n",
        "num_classes = 10 # 類別的數量，Cifar 10 共有 10 個類別\n",
        "epochs = 10 # 訓練的 epochs 數量\n",
        "\n",
        "# 讀取資料並檢視\n",
        "(x_train, y_train), (x_test, y_test) = cifar10.load_data()\n",
        "print('x_train shape:', x_train.shape)\n",
        "print(x_train.shape[0], 'train samples')\n",
        "print(x_test.shape[0], 'test samples')\n",
        "\n",
        "# 對 label 進行 one-hot encoding (y_trian 原本是純數字)\n",
        "y_train = keras.utils.to_categorical(y_train, num_classes)\n",
        "y_test = keras.utils.to_categorical(y_test, num_classes)"
      ],
      "execution_count": 2,
      "outputs": [
        {
          "output_type": "stream",
          "text": [
            "x_train shape: (50000, 32, 32, 3)\n",
            "50000 train samples\n",
            "10000 test samples\n"
          ],
          "name": "stdout"
        }
      ]
    },
    {
      "cell_type": "markdown",
      "metadata": {
        "id": "p7_HkNnkZvuu",
        "colab_type": "text"
      },
      "source": [
        "## 首先我們使用一般的 DNN (MLP) 來訓練\n",
        "由於 DNN 只能輸入一維的資料，我們要先將影像進行攤平，若 (50000, 32, 32, 3) 的影像，攤平後會變成 (50000, 32* 32* 3) = (50000, 3072)"
      ]
    },
    {
      "cell_type": "code",
      "metadata": {
        "id": "sv77wV2BY7jw",
        "colab_type": "code",
        "colab": {
          "base_uri": "https://localhost:8080/",
          "height": 51
        },
        "outputId": "518b3506-6ba9-4930-f4d5-b3850848aa5a"
      },
      "source": [
        "# 將資料攤平成一維資料\n",
        "x_train = x_train.reshape(50000, 3072) \n",
        "x_test = x_test.reshape(10000, 3072)\n",
        "\n",
        "# 將資料變為 float32 並標準化\n",
        "x_train = x_train.astype('float32')\n",
        "x_test = x_test.astype('float32')\n",
        "x_train /= 255\n",
        "x_test /= 255\n",
        "print(x_train.shape[0], 'train samples')\n",
        "print(x_test.shape[0], 'test samples')"
      ],
      "execution_count": 3,
      "outputs": [
        {
          "output_type": "stream",
          "text": [
            "50000 train samples\n",
            "10000 test samples\n"
          ],
          "name": "stdout"
        }
      ]
    },
    {
      "cell_type": "code",
      "metadata": {
        "id": "pNCsxdIfY7nj",
        "colab_type": "code",
        "colab": {
          "base_uri": "https://localhost:8080/",
          "height": 1000
        },
        "outputId": "cea43f5b-abe4-481b-c49d-08f2c1358a0b"
      },
      "source": [
        "model = Sequential()\n",
        "model.add(Dense(512, activation='relu', input_shape=(3072,)))\n",
        "model.add(Dropout(0.2))\n",
        "model.add(Dense(512, activation='relu'))\n",
        "model.add(Dropout(0.2))\n",
        "model.add(Dense(num_classes, activation='softmax'))\n",
        "\n",
        "model.summary()\n",
        "\n",
        "model.compile(loss='categorical_crossentropy',\n",
        "              optimizer=RMSprop(),\n",
        "              metrics=['accuracy'])\n",
        "\n",
        "history = model.fit(x_train, y_train,\n",
        "                    batch_size=batch_size,\n",
        "                    epochs=epochs,\n",
        "                    verbose=1,\n",
        "                    validation_data=(x_test, y_test))\n",
        "score = model.evaluate(x_test, y_test, verbose=0)\n",
        "print('Test loss:', score[0])\n",
        "print('Test accuracy:', score[1])"
      ],
      "execution_count": 4,
      "outputs": [
        {
          "output_type": "stream",
          "text": [
            "WARNING:tensorflow:From /usr/local/lib/python3.6/dist-packages/keras/backend/tensorflow_backend.py:66: The name tf.get_default_graph is deprecated. Please use tf.compat.v1.get_default_graph instead.\n",
            "\n",
            "WARNING:tensorflow:From /usr/local/lib/python3.6/dist-packages/keras/backend/tensorflow_backend.py:541: The name tf.placeholder is deprecated. Please use tf.compat.v1.placeholder instead.\n",
            "\n",
            "WARNING:tensorflow:From /usr/local/lib/python3.6/dist-packages/keras/backend/tensorflow_backend.py:4432: The name tf.random_uniform is deprecated. Please use tf.random.uniform instead.\n",
            "\n",
            "WARNING:tensorflow:From /usr/local/lib/python3.6/dist-packages/keras/backend/tensorflow_backend.py:148: The name tf.placeholder_with_default is deprecated. Please use tf.compat.v1.placeholder_with_default instead.\n",
            "\n",
            "WARNING:tensorflow:From /usr/local/lib/python3.6/dist-packages/keras/backend/tensorflow_backend.py:3733: calling dropout (from tensorflow.python.ops.nn_ops) with keep_prob is deprecated and will be removed in a future version.\n",
            "Instructions for updating:\n",
            "Please use `rate` instead of `keep_prob`. Rate should be set to `rate = 1 - keep_prob`.\n",
            "Model: \"sequential_1\"\n",
            "_________________________________________________________________\n",
            "Layer (type)                 Output Shape              Param #   \n",
            "=================================================================\n",
            "dense_1 (Dense)              (None, 512)               1573376   \n",
            "_________________________________________________________________\n",
            "dropout_1 (Dropout)          (None, 512)               0         \n",
            "_________________________________________________________________\n",
            "dense_2 (Dense)              (None, 512)               262656    \n",
            "_________________________________________________________________\n",
            "dropout_2 (Dropout)          (None, 512)               0         \n",
            "_________________________________________________________________\n",
            "dense_3 (Dense)              (None, 10)                5130      \n",
            "=================================================================\n",
            "Total params: 1,841,162\n",
            "Trainable params: 1,841,162\n",
            "Non-trainable params: 0\n",
            "_________________________________________________________________\n",
            "WARNING:tensorflow:From /usr/local/lib/python3.6/dist-packages/keras/optimizers.py:793: The name tf.train.Optimizer is deprecated. Please use tf.compat.v1.train.Optimizer instead.\n",
            "\n",
            "WARNING:tensorflow:From /usr/local/lib/python3.6/dist-packages/keras/backend/tensorflow_backend.py:3576: The name tf.log is deprecated. Please use tf.math.log instead.\n",
            "\n",
            "WARNING:tensorflow:From /usr/local/lib/python3.6/dist-packages/tensorflow/python/ops/math_grad.py:1250: add_dispatch_support.<locals>.wrapper (from tensorflow.python.ops.array_ops) is deprecated and will be removed in a future version.\n",
            "Instructions for updating:\n",
            "Use tf.where in 2.0, which has the same broadcast rule as np.where\n",
            "Train on 50000 samples, validate on 10000 samples\n",
            "Epoch 1/10\n",
            "50000/50000 [==============================] - 17s 335us/step - loss: 2.1791 - acc: 0.2540 - val_loss: 1.9203 - val_acc: 0.3071\n",
            "Epoch 2/10\n",
            "50000/50000 [==============================] - 16s 328us/step - loss: 1.8536 - acc: 0.3311 - val_loss: 1.7598 - val_acc: 0.3571\n",
            "Epoch 3/10\n",
            "50000/50000 [==============================] - 16s 328us/step - loss: 1.7797 - acc: 0.3594 - val_loss: 1.6858 - val_acc: 0.3930\n",
            "Epoch 4/10\n",
            "50000/50000 [==============================] - 16s 329us/step - loss: 1.7303 - acc: 0.3804 - val_loss: 1.7131 - val_acc: 0.4000\n",
            "Epoch 5/10\n",
            "50000/50000 [==============================] - 16s 328us/step - loss: 1.6921 - acc: 0.3942 - val_loss: 1.5946 - val_acc: 0.4291\n",
            "Epoch 6/10\n",
            "50000/50000 [==============================] - 16s 324us/step - loss: 1.6683 - acc: 0.4047 - val_loss: 1.6315 - val_acc: 0.4332\n",
            "Epoch 7/10\n",
            "50000/50000 [==============================] - 16s 318us/step - loss: 1.6465 - acc: 0.4095 - val_loss: 1.6211 - val_acc: 0.4251\n",
            "Epoch 8/10\n",
            "50000/50000 [==============================] - 16s 319us/step - loss: 1.6299 - acc: 0.4171 - val_loss: 1.5906 - val_acc: 0.4334\n",
            "Epoch 9/10\n",
            "50000/50000 [==============================] - 16s 316us/step - loss: 1.6101 - acc: 0.4200 - val_loss: 1.5613 - val_acc: 0.4502\n",
            "Epoch 10/10\n",
            "50000/50000 [==============================] - 15s 308us/step - loss: 1.5996 - acc: 0.4261 - val_loss: 1.5628 - val_acc: 0.4501\n",
            "Test loss: 1.5627550647735595\n",
            "Test accuracy: 0.4501\n"
          ],
          "name": "stdout"
        }
      ]
    },
    {
      "cell_type": "markdown",
      "metadata": {
        "id": "cDjkaOv_Z2QJ",
        "colab_type": "text"
      },
      "source": [
        "## 接下來我們使用 CNN 來訓練神經網路\n",
        "CNN 的原理非常適合處理影像類的資料，就讓我們來看看，同樣的訓練條件，CNN 是否顯著優於 DNN 呢?"
      ]
    },
    {
      "cell_type": "code",
      "metadata": {
        "id": "wZmAhH6cY7rB",
        "colab_type": "code",
        "colab": {
          "base_uri": "https://localhost:8080/",
          "height": 68
        },
        "outputId": "a9722839-62b6-4800-89a2-f8afb1092e21"
      },
      "source": [
        "(x_train, y_train), (x_test, y_test) = cifar10.load_data()\n",
        "print('x_train shape:', x_train.shape)\n",
        "print(x_train.shape[0], 'train samples')\n",
        "print(x_test.shape[0], 'test samples')\n",
        "x_train = x_train.astype('float32')\n",
        "x_test = x_test.astype('float32')\n",
        "x_train /= 255\n",
        "x_test /= 255\n",
        "\n",
        "# Convert class vectors to binary class matrices.\n",
        "y_train = keras.utils.to_categorical(y_train, num_classes)\n",
        "y_test = keras.utils.to_categorical(y_test, num_classes)"
      ],
      "execution_count": 5,
      "outputs": [
        {
          "output_type": "stream",
          "text": [
            "x_train shape: (50000, 32, 32, 3)\n",
            "50000 train samples\n",
            "10000 test samples\n"
          ],
          "name": "stdout"
        }
      ]
    },
    {
      "cell_type": "code",
      "metadata": {
        "id": "hdz3mj_iY7ug",
        "colab_type": "code",
        "colab": {
          "base_uri": "https://localhost:8080/",
          "height": 1000
        },
        "outputId": "5b0fecac-66b1-44c2-da44-e3e4daf9e728"
      },
      "source": [
        "model = Sequential()\n",
        "model.add(Conv2D(32, (3, 3), padding='same',\n",
        "                 input_shape=x_train.shape[1:]))\n",
        "model.add(Activation('relu'))\n",
        "model.add(Conv2D(32, (3, 3)))\n",
        "model.add(Activation('relu'))\n",
        "model.add(MaxPooling2D(pool_size=(2, 2)))\n",
        "model.add(Dropout(0.25))\n",
        "\n",
        "model.add(Conv2D(64, (3, 3), padding='same'))\n",
        "model.add(Activation('relu'))\n",
        "model.add(Conv2D(64, (3, 3)))\n",
        "model.add(Activation('relu'))\n",
        "model.add(MaxPooling2D(pool_size=(2, 2)))\n",
        "model.add(Dropout(0.25))\n",
        "\n",
        "model.add(Flatten())\n",
        "model.add(Dense(512))\n",
        "model.add(Activation('relu'))\n",
        "model.add(Dropout(0.5))\n",
        "model.add(Dense(num_classes))\n",
        "model.add(Activation('softmax'))\n",
        "model.summary()\n",
        "\n",
        "model.compile(loss='categorical_crossentropy',\n",
        "              optimizer=RMSprop(),\n",
        "              metrics=['accuracy'])\n",
        "\n",
        "history = model.fit(x_train, y_train,\n",
        "                    batch_size=batch_size,\n",
        "                    epochs=epochs,\n",
        "                    verbose=1,\n",
        "                    validation_data=(x_test, y_test))\n",
        "score = model.evaluate(x_test, y_test, verbose=0)\n",
        "print('Test loss:', score[0])\n",
        "print('Test accuracy:', score[1])"
      ],
      "execution_count": 6,
      "outputs": [
        {
          "output_type": "stream",
          "text": [
            "WARNING:tensorflow:From /usr/local/lib/python3.6/dist-packages/keras/backend/tensorflow_backend.py:4267: The name tf.nn.max_pool is deprecated. Please use tf.nn.max_pool2d instead.\n",
            "\n",
            "Model: \"sequential_2\"\n",
            "_________________________________________________________________\n",
            "Layer (type)                 Output Shape              Param #   \n",
            "=================================================================\n",
            "conv2d_1 (Conv2D)            (None, 32, 32, 32)        896       \n",
            "_________________________________________________________________\n",
            "activation_1 (Activation)    (None, 32, 32, 32)        0         \n",
            "_________________________________________________________________\n",
            "conv2d_2 (Conv2D)            (None, 30, 30, 32)        9248      \n",
            "_________________________________________________________________\n",
            "activation_2 (Activation)    (None, 30, 30, 32)        0         \n",
            "_________________________________________________________________\n",
            "max_pooling2d_1 (MaxPooling2 (None, 15, 15, 32)        0         \n",
            "_________________________________________________________________\n",
            "dropout_3 (Dropout)          (None, 15, 15, 32)        0         \n",
            "_________________________________________________________________\n",
            "conv2d_3 (Conv2D)            (None, 15, 15, 64)        18496     \n",
            "_________________________________________________________________\n",
            "activation_3 (Activation)    (None, 15, 15, 64)        0         \n",
            "_________________________________________________________________\n",
            "conv2d_4 (Conv2D)            (None, 13, 13, 64)        36928     \n",
            "_________________________________________________________________\n",
            "activation_4 (Activation)    (None, 13, 13, 64)        0         \n",
            "_________________________________________________________________\n",
            "max_pooling2d_2 (MaxPooling2 (None, 6, 6, 64)          0         \n",
            "_________________________________________________________________\n",
            "dropout_4 (Dropout)          (None, 6, 6, 64)          0         \n",
            "_________________________________________________________________\n",
            "flatten_1 (Flatten)          (None, 2304)              0         \n",
            "_________________________________________________________________\n",
            "dense_4 (Dense)              (None, 512)               1180160   \n",
            "_________________________________________________________________\n",
            "activation_5 (Activation)    (None, 512)               0         \n",
            "_________________________________________________________________\n",
            "dropout_5 (Dropout)          (None, 512)               0         \n",
            "_________________________________________________________________\n",
            "dense_5 (Dense)              (None, 10)                5130      \n",
            "_________________________________________________________________\n",
            "activation_6 (Activation)    (None, 10)                0         \n",
            "=================================================================\n",
            "Total params: 1,250,858\n",
            "Trainable params: 1,250,858\n",
            "Non-trainable params: 0\n",
            "_________________________________________________________________\n",
            "Train on 50000 samples, validate on 10000 samples\n",
            "Epoch 1/10\n",
            "50000/50000 [==============================] - 225s 4ms/step - loss: 1.7859 - acc: 0.3561 - val_loss: 1.6235 - val_acc: 0.4011\n",
            "Epoch 2/10\n",
            "50000/50000 [==============================] - 222s 4ms/step - loss: 1.3471 - acc: 0.5235 - val_loss: 1.1824 - val_acc: 0.5861\n",
            "Epoch 3/10\n",
            "50000/50000 [==============================] - 221s 4ms/step - loss: 1.1572 - acc: 0.5972 - val_loss: 0.9835 - val_acc: 0.6554\n",
            "Epoch 4/10\n",
            "50000/50000 [==============================] - 224s 4ms/step - loss: 1.0369 - acc: 0.6383 - val_loss: 1.0027 - val_acc: 0.6578\n",
            "Epoch 5/10\n",
            "50000/50000 [==============================] - 224s 4ms/step - loss: 0.9537 - acc: 0.6697 - val_loss: 0.9139 - val_acc: 0.6891\n",
            "Epoch 6/10\n",
            "50000/50000 [==============================] - 223s 4ms/step - loss: 0.8837 - acc: 0.6951 - val_loss: 0.8781 - val_acc: 0.7012\n",
            "Epoch 7/10\n",
            "50000/50000 [==============================] - 224s 4ms/step - loss: 0.8364 - acc: 0.7110 - val_loss: 0.8104 - val_acc: 0.7207\n",
            "Epoch 8/10\n",
            "50000/50000 [==============================] - 224s 4ms/step - loss: 0.8025 - acc: 0.7241 - val_loss: 0.8137 - val_acc: 0.7286\n",
            "Epoch 9/10\n",
            "50000/50000 [==============================] - 224s 4ms/step - loss: 0.7785 - acc: 0.7350 - val_loss: 0.7790 - val_acc: 0.7310\n",
            "Epoch 10/10\n",
            "50000/50000 [==============================] - 224s 4ms/step - loss: 0.7546 - acc: 0.7428 - val_loss: 0.7776 - val_acc: 0.7352\n",
            "Test loss: 0.7775800664901733\n",
            "Test accuracy: 0.7352\n"
          ],
          "name": "stdout"
        }
      ]
    },
    {
      "cell_type": "markdown",
      "metadata": {
        "id": "umHmQv6-Z8uM",
        "colab_type": "text"
      },
      "source": [
        "## 同樣運算 10 個 epochs，但 CNN 在 test data 的準確率顯著優於 DNN!"
      ]
    },
    {
      "cell_type": "markdown",
      "metadata": {
        "id": "8GXIGg4EZ_qE",
        "colab_type": "text"
      },
      "source": [
        "# 作業\n",
        "1. 請試著調整各個超參數，並說明那些超參數對於結果有明顯的影響?  \n",
        "2. CNN 與 DNN 哪個模型的參數數量比較多? 造成參數的數量不同的原因在哪?"
      ]
    },
    {
      "cell_type": "markdown",
      "metadata": {
        "id": "4lJyMOo0m9L3",
        "colab_type": "text"
      },
      "source": [
        "1.請試著調整各個超參數，並說明那些超參數對於結果有明顯的影響?"
      ]
    },
    {
      "cell_type": "code",
      "metadata": {
        "id": "oxfV0d4fY7yf",
        "colab_type": "code",
        "colab": {}
      },
      "source": [
        "# 由於範例的 batch_size 給定128， epochs 給定10。\n",
        "# 那就針對batch_size & epochs做調整\n",
        "BATCH = [256, 512] \n",
        "EPOCH = [8, 12] "
      ],
      "execution_count": 0,
      "outputs": []
    },
    {
      "cell_type": "code",
      "metadata": {
        "id": "P7CPgbIUY726",
        "colab_type": "code",
        "colab": {
          "base_uri": "https://localhost:8080/",
          "height": 68
        },
        "outputId": "86b95c6d-d06b-4217-fae1-e00f41e5d90d"
      },
      "source": [
        "num_classes = 10 # 類別的數量，Cifar 10 共有 10 個類別\n",
        "\n",
        "# 讀取資料並檢視\n",
        "(x_train, y_train), (x_test, y_test) = cifar10.load_data()\n",
        "print('x_train shape:', x_train.shape)\n",
        "print(x_train.shape[0], 'train samples')\n",
        "print(x_test.shape[0], 'test samples')\n",
        "\n",
        "# 將資料變為 float32 並標準化\n",
        "x_train = x_train.astype('float32')\n",
        "x_test = x_test.astype('float32')\n",
        "x_train /= 255\n",
        "x_test /= 255\n",
        "\n",
        "# 對 label 進行 one-hot encoding (y_trian 原本是純數字)\n",
        "y_train = keras.utils.to_categorical(y_train, num_classes)\n",
        "y_test = keras.utils.to_categorical(y_test, num_classes)\n"
      ],
      "execution_count": 8,
      "outputs": [
        {
          "output_type": "stream",
          "text": [
            "x_train shape: (50000, 32, 32, 3)\n",
            "50000 train samples\n",
            "10000 test samples\n"
          ],
          "name": "stdout"
        }
      ]
    },
    {
      "cell_type": "code",
      "metadata": {
        "id": "148I_9V4oRaL",
        "colab_type": "code",
        "colab": {
          "base_uri": "https://localhost:8080/",
          "height": 1000
        },
        "outputId": "beb75861-e1e7-42c2-f408-41f70ddc56b1"
      },
      "source": [
        "# 這裡跟範例一樣，僅針對batch_size & epochs做調整\n",
        "\n",
        "model = Sequential()\n",
        "model.add(Conv2D(32, (3, 3), padding='same',\n",
        "                 input_shape=x_train.shape[1:]))\n",
        "model.add(Activation('relu'))\n",
        "model.add(Conv2D(32, (3, 3)))\n",
        "model.add(Activation('relu'))\n",
        "model.add(MaxPooling2D(pool_size=(2, 2)))\n",
        "model.add(Dropout(0.25))\n",
        "\n",
        "model.add(Conv2D(64, (3, 3), padding='same'))\n",
        "model.add(Activation('relu'))\n",
        "model.add(Conv2D(64, (3, 3)))\n",
        "model.add(Activation('relu'))\n",
        "model.add(MaxPooling2D(pool_size=(2, 2)))\n",
        "model.add(Dropout(0.25))\n",
        "\n",
        "model.add(Flatten())\n",
        "model.add(Dense(512))\n",
        "model.add(Activation('relu'))\n",
        "model.add(Dropout(0.5))\n",
        "model.add(Dense(num_classes))\n",
        "model.add(Activation('softmax'))\n",
        "model.summary()\n",
        "\n",
        "model.compile(loss='categorical_crossentropy',\n",
        "              optimizer=RMSprop(),\n",
        "              metrics=['accuracy'])\n",
        "\n",
        "for batchs in BATCH:\n",
        "    for epos in EPOCH:\n",
        "        history = model.fit(x_train, y_train,\n",
        "                            batch_size=batchs,\n",
        "                            epochs=epos,\n",
        "                            verbose=1, \n",
        "                            validation_data=(x_test, y_test))\n",
        "        score = model.evaluate(x_test, y_test, verbose=0)\n",
        "        print('---Now the batchsize & epoch are ---\\nbatch size = ',batchs,', epoch=',epos)\n",
        "        print('Test loss:', score[0])\n",
        "        print('Test accuracy:', score[1])\n",
        "        print('\\n')\n",
        "        \n",
        "       \n"
      ],
      "execution_count": 10,
      "outputs": [
        {
          "output_type": "stream",
          "text": [
            "Model: \"sequential_4\"\n",
            "_________________________________________________________________\n",
            "Layer (type)                 Output Shape              Param #   \n",
            "=================================================================\n",
            "conv2d_9 (Conv2D)            (None, 32, 32, 32)        896       \n",
            "_________________________________________________________________\n",
            "activation_13 (Activation)   (None, 32, 32, 32)        0         \n",
            "_________________________________________________________________\n",
            "conv2d_10 (Conv2D)           (None, 30, 30, 32)        9248      \n",
            "_________________________________________________________________\n",
            "activation_14 (Activation)   (None, 30, 30, 32)        0         \n",
            "_________________________________________________________________\n",
            "max_pooling2d_5 (MaxPooling2 (None, 15, 15, 32)        0         \n",
            "_________________________________________________________________\n",
            "dropout_9 (Dropout)          (None, 15, 15, 32)        0         \n",
            "_________________________________________________________________\n",
            "conv2d_11 (Conv2D)           (None, 15, 15, 64)        18496     \n",
            "_________________________________________________________________\n",
            "activation_15 (Activation)   (None, 15, 15, 64)        0         \n",
            "_________________________________________________________________\n",
            "conv2d_12 (Conv2D)           (None, 13, 13, 64)        36928     \n",
            "_________________________________________________________________\n",
            "activation_16 (Activation)   (None, 13, 13, 64)        0         \n",
            "_________________________________________________________________\n",
            "max_pooling2d_6 (MaxPooling2 (None, 6, 6, 64)          0         \n",
            "_________________________________________________________________\n",
            "dropout_10 (Dropout)         (None, 6, 6, 64)          0         \n",
            "_________________________________________________________________\n",
            "flatten_3 (Flatten)          (None, 2304)              0         \n",
            "_________________________________________________________________\n",
            "dense_8 (Dense)              (None, 512)               1180160   \n",
            "_________________________________________________________________\n",
            "activation_17 (Activation)   (None, 512)               0         \n",
            "_________________________________________________________________\n",
            "dropout_11 (Dropout)         (None, 512)               0         \n",
            "_________________________________________________________________\n",
            "dense_9 (Dense)              (None, 10)                5130      \n",
            "_________________________________________________________________\n",
            "activation_18 (Activation)   (None, 10)                0         \n",
            "=================================================================\n",
            "Total params: 1,250,858\n",
            "Trainable params: 1,250,858\n",
            "Non-trainable params: 0\n",
            "_________________________________________________________________\n",
            "Train on 50000 samples, validate on 10000 samples\n",
            "Epoch 1/8\n",
            "50000/50000 [==============================] - 238s 5ms/step - loss: 1.8941 - acc: 0.3175 - val_loss: 1.5892 - val_acc: 0.4329\n",
            "Epoch 2/8\n",
            "50000/50000 [==============================] - 221s 4ms/step - loss: 1.4999 - acc: 0.4648 - val_loss: 1.3208 - val_acc: 0.5311\n",
            "Epoch 3/8\n",
            "50000/50000 [==============================] - 221s 4ms/step - loss: 1.3155 - acc: 0.5350 - val_loss: 1.2483 - val_acc: 0.5613\n",
            "Epoch 4/8\n",
            "50000/50000 [==============================] - 234s 5ms/step - loss: 1.1763 - acc: 0.5880 - val_loss: 1.1225 - val_acc: 0.5938\n",
            "Epoch 5/8\n",
            "50000/50000 [==============================] - 236s 5ms/step - loss: 1.0711 - acc: 0.6269 - val_loss: 0.9696 - val_acc: 0.6601\n",
            "Epoch 6/8\n",
            "50000/50000 [==============================] - 231s 5ms/step - loss: 0.9930 - acc: 0.6534 - val_loss: 0.9251 - val_acc: 0.6808\n",
            "Epoch 7/8\n",
            "50000/50000 [==============================] - 222s 4ms/step - loss: 0.9188 - acc: 0.6802 - val_loss: 1.3124 - val_acc: 0.5765\n",
            "Epoch 8/8\n",
            "50000/50000 [==============================] - 223s 4ms/step - loss: 0.8719 - acc: 0.6988 - val_loss: 0.8667 - val_acc: 0.6999\n",
            "---Now the batchsize & epoch are ---\n",
            "batch size =  256 , epoch= 8\n",
            "Test loss: 0.8667418353080749\n",
            "Test accuracy: 0.6999\n",
            "\n",
            "\n",
            "Train on 50000 samples, validate on 10000 samples\n",
            "Epoch 1/12\n",
            "50000/50000 [==============================] - 225s 5ms/step - loss: 0.8258 - acc: 0.7137 - val_loss: 1.1208 - val_acc: 0.6202\n",
            "Epoch 2/12\n",
            "50000/50000 [==============================] - 223s 4ms/step - loss: 0.7728 - acc: 0.7320 - val_loss: 0.7961 - val_acc: 0.7290\n",
            "Epoch 3/12\n",
            "50000/50000 [==============================] - 222s 4ms/step - loss: 0.7431 - acc: 0.7432 - val_loss: 0.8933 - val_acc: 0.7040\n",
            "Epoch 4/12\n",
            "50000/50000 [==============================] - 221s 4ms/step - loss: 0.7183 - acc: 0.7517 - val_loss: 0.8204 - val_acc: 0.7350\n",
            "Epoch 5/12\n",
            "50000/50000 [==============================] - 220s 4ms/step - loss: 0.6869 - acc: 0.7618 - val_loss: 0.8045 - val_acc: 0.7391\n",
            "Epoch 6/12\n",
            "50000/50000 [==============================] - 226s 5ms/step - loss: 0.6615 - acc: 0.7704 - val_loss: 0.7433 - val_acc: 0.7525\n",
            "Epoch 7/12\n",
            "50000/50000 [==============================] - 234s 5ms/step - loss: 0.6451 - acc: 0.7766 - val_loss: 0.7240 - val_acc: 0.7565\n",
            "Epoch 8/12\n",
            "50000/50000 [==============================] - 234s 5ms/step - loss: 0.6320 - acc: 0.7824 - val_loss: 0.7433 - val_acc: 0.7629\n",
            "Epoch 9/12\n",
            "50000/50000 [==============================] - 234s 5ms/step - loss: 0.6132 - acc: 0.7901 - val_loss: 0.7411 - val_acc: 0.7598\n",
            "Epoch 10/12\n",
            "50000/50000 [==============================] - 235s 5ms/step - loss: 0.5988 - acc: 0.7948 - val_loss: 0.6987 - val_acc: 0.7668\n",
            "Epoch 11/12\n",
            "50000/50000 [==============================] - 236s 5ms/step - loss: 0.5931 - acc: 0.7990 - val_loss: 0.8423 - val_acc: 0.7398\n",
            "Epoch 12/12\n",
            "50000/50000 [==============================] - 236s 5ms/step - loss: 0.5788 - acc: 0.8014 - val_loss: 0.7032 - val_acc: 0.7675\n",
            "---Now the batchsize & epoch are ---\n",
            "batch size =  256 , epoch= 12\n",
            "Test loss: 0.7031936002731323\n",
            "Test accuracy: 0.7675\n",
            "\n",
            "\n",
            "Train on 50000 samples, validate on 10000 samples\n",
            "Epoch 1/8\n",
            "50000/50000 [==============================] - 235s 5ms/step - loss: 0.5384 - acc: 0.8149 - val_loss: 0.7301 - val_acc: 0.7727\n",
            "Epoch 2/8\n",
            "50000/50000 [==============================] - 235s 5ms/step - loss: 0.5162 - acc: 0.8229 - val_loss: 0.7358 - val_acc: 0.7793\n",
            "Epoch 3/8\n",
            "50000/50000 [==============================] - 234s 5ms/step - loss: 0.5032 - acc: 0.8270 - val_loss: 0.6912 - val_acc: 0.7693\n",
            "Epoch 4/8\n",
            "50000/50000 [==============================] - 234s 5ms/step - loss: 0.4917 - acc: 0.8313 - val_loss: 0.7008 - val_acc: 0.7751\n",
            "Epoch 5/8\n",
            "50000/50000 [==============================] - 233s 5ms/step - loss: 0.4880 - acc: 0.8319 - val_loss: 0.7569 - val_acc: 0.7699\n",
            "Epoch 6/8\n",
            "50000/50000 [==============================] - 232s 5ms/step - loss: 0.4749 - acc: 0.8356 - val_loss: 0.7011 - val_acc: 0.7795\n",
            "Epoch 7/8\n",
            "50000/50000 [==============================] - 233s 5ms/step - loss: 0.4671 - acc: 0.8388 - val_loss: 0.7196 - val_acc: 0.7905\n",
            "Epoch 8/8\n",
            "50000/50000 [==============================] - 233s 5ms/step - loss: 0.4505 - acc: 0.8465 - val_loss: 0.6809 - val_acc: 0.7867\n",
            "---Now the batchsize & epoch are ---\n",
            "batch size =  512 , epoch= 8\n",
            "Test loss: 0.6809330218315125\n",
            "Test accuracy: 0.7867\n",
            "\n",
            "\n",
            "Train on 50000 samples, validate on 10000 samples\n",
            "Epoch 1/12\n",
            "50000/50000 [==============================] - 234s 5ms/step - loss: 0.4507 - acc: 0.8467 - val_loss: 0.7160 - val_acc: 0.7732\n",
            "Epoch 2/12\n",
            "50000/50000 [==============================] - 232s 5ms/step - loss: 0.4438 - acc: 0.8474 - val_loss: 0.7194 - val_acc: 0.7882\n",
            "Epoch 3/12\n",
            "50000/50000 [==============================] - 233s 5ms/step - loss: 0.4308 - acc: 0.8514 - val_loss: 0.7267 - val_acc: 0.7922\n",
            "Epoch 4/12\n",
            "50000/50000 [==============================] - 232s 5ms/step - loss: 0.4281 - acc: 0.8536 - val_loss: 0.7136 - val_acc: 0.7802\n",
            "Epoch 5/12\n",
            "50000/50000 [==============================] - 232s 5ms/step - loss: 0.4186 - acc: 0.8565 - val_loss: 0.6952 - val_acc: 0.7842\n",
            "Epoch 6/12\n",
            "50000/50000 [==============================] - 233s 5ms/step - loss: 0.4203 - acc: 0.8561 - val_loss: 0.7502 - val_acc: 0.7974\n",
            "Epoch 7/12\n",
            "50000/50000 [==============================] - 232s 5ms/step - loss: 0.4073 - acc: 0.8610 - val_loss: 0.7238 - val_acc: 0.7816\n",
            "Epoch 8/12\n",
            "50000/50000 [==============================] - 234s 5ms/step - loss: 0.4181 - acc: 0.8574 - val_loss: 0.6947 - val_acc: 0.7870\n",
            "Epoch 9/12\n",
            "50000/50000 [==============================] - 235s 5ms/step - loss: 0.4107 - acc: 0.8607 - val_loss: 0.7247 - val_acc: 0.7794\n",
            "Epoch 10/12\n",
            "50000/50000 [==============================] - 235s 5ms/step - loss: 0.3955 - acc: 0.8663 - val_loss: 0.8118 - val_acc: 0.7844\n",
            "Epoch 11/12\n",
            "50000/50000 [==============================] - 235s 5ms/step - loss: 0.3946 - acc: 0.8658 - val_loss: 0.6971 - val_acc: 0.7847\n",
            "Epoch 12/12\n",
            "50000/50000 [==============================] - 234s 5ms/step - loss: 0.3988 - acc: 0.8659 - val_loss: 0.7822 - val_acc: 0.7886\n",
            "---Now the batchsize & epoch are ---\n",
            "batch size =  512 , epoch= 12\n",
            "Test loss: 0.7822034643173218\n",
            "Test accuracy: 0.7886\n",
            "\n",
            "\n"
          ],
          "name": "stdout"
        }
      ]
    },
    {
      "cell_type": "markdown",
      "metadata": {
        "id": "d2XAaBc0mVd6",
        "colab_type": "text"
      },
      "source": [
        "從上述結果來看，batch size=512的test accuracy高於batch size=256的；且epochs=12的test accuracy高於epochs=8的。  \n",
        "表示這兩個超參數對結果都有影響性。"
      ]
    },
    {
      "cell_type": "markdown",
      "metadata": {
        "id": "gbP2zw6JmUBQ",
        "colab_type": "text"
      },
      "source": [
        "2. CNN 與 DNN 哪個模型的參數數量比較多? 造成參數的數量不同的原因在哪?  \n",
        "DNN參數較多(CNN: 1,250,858 < DNN: 1,841,162)  \n",
        "CNN 在計算時會藉由max pooling降維，導致參數較少"
      ]
    },
    {
      "cell_type": "code",
      "metadata": {
        "id": "9yVTaGv8Y8BQ",
        "colab_type": "code",
        "colab": {}
      },
      "source": [
        ""
      ],
      "execution_count": 0,
      "outputs": []
    }
  ]
}